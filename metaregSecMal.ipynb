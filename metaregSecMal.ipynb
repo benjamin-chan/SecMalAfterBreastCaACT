{
 "cells": [
  {
   "cell_type": "markdown",
   "metadata": {},
   "source": [
    "# Risks of Long-term Secondary Malignancies in Breast Cancer Patients Treated with Adjuvant Chemotherapy\n",
    "\n",
    "[Benjamin Chan](http://careers.stackoverflow.com/benjaminchan)  "
   ]
  },
  {
   "cell_type": "code",
   "execution_count": 1,
   "metadata": {
    "collapsed": false
   },
   "outputs": [
    {
     "name": "stderr",
     "output_type": "stream",
     "text": [
      "Run date: 2016-06-22 14:54:01\n"
     ]
    }
   ],
   "source": [
    "message(sprintf(\"Run date: %s\", Sys.time()))"
   ]
  },
  {
   "cell_type": "markdown",
   "metadata": {},
   "source": [
    "Load packages."
   ]
  },
  {
   "cell_type": "code",
   "execution_count": 2,
   "metadata": {
    "collapsed": false
   },
   "outputs": [
    {
     "name": "stderr",
     "output_type": "stream",
     "text": [
      "Loading required package: openxlsx\n",
      "Loading required package: data.table\n"
     ]
    }
   ],
   "source": [
    "if (!require(openxlsx)) {install.packages(\"openxlsx\", dependencies=TRUE, repos=\"https://cloud.r-project.org\")}\n",
    "library(openxlsx)\n",
    "if (!require(data.table)) {install.packages(\"data.table\", dependencies=TRUE, repos=\"https://cloud.r-project.org\")}\n",
    "library(data.table)"
   ]
  },
  {
   "cell_type": "markdown",
   "metadata": {},
   "source": [
    "## Load data\n",
    "\n",
    "Load the data from [GitHub](https://github.com/benjamin-chan/SecMalAfterBreastCaACT)."
   ]
  },
  {
   "cell_type": "code",
   "execution_count": 3,
   "metadata": {
    "collapsed": false
   },
   "outputs": [
    {
     "data": {
      "text/plain": [
       "                                  size               mtime\n",
       "/tmp/RtmpXeHD6F/file337f14b6960f 59619 2016-06-22 14:54:02"
      ]
     },
     "metadata": {},
     "output_type": "display_data"
    }
   ],
   "source": [
    "repo <- \"https://github.com/benjamin-chan/SecMalAfterBreastCaACT\"\n",
    "url <- paste0(repo, \"/raw/26115dab1eb2b075d40f545514a03c3b30cde6b4/SecondaryMalignancies_Data_BG_3_4.xlsx\")\n",
    "f <- tempfile()\n",
    "download.file(url, f, mode=\"wb\")\n",
    "file.info(f)[c(\"size\", \"mtime\")]\n",
    "sheets <- getSheetNames(f)\n",
    "# sheets\n",
    "D <- read.xlsx(f, sheet = sheets[1], startRow = 3, colNames = FALSE)\n",
    "D <- data.table(D)\n",
    "oldnames <- names(D)\n",
    "newnames <- c(\"id\",\n",
    "              \"authorYear\",\n",
    "              \"trial\",\n",
    "              \"quality\",\n",
    "              \"arm\",\n",
    "              \"nRandomized\",\n",
    "              \"nITT\",\n",
    "              # \"pctCompletingTx\",\n",
    "              \"medianFU\",\n",
    "              \"regimen\",\n",
    "              \"anthracyclineType\",\n",
    "              \"anthracyclineTotalDose\",\n",
    "              \"anthracyclineDuration\",\n",
    "              \"anthracyclineCourses\",\n",
    "              \"cyclophosphamideDose\",\n",
    "              \"cyclophosphamideDuration\",\n",
    "              \"cyclophosphamideCourses\",\n",
    "              \"taxaneType\",\n",
    "              \"taxaneTotalDose\",\n",
    "              \"taxaneDuration\",\n",
    "              \"taxaneCourses\",\n",
    "              \"fluoroucilTotalDose\",\n",
    "              \"fluoroucilDuration\",\n",
    "              \"fluoroucilCourses\",\n",
    "              \"otherTxDetails\",\n",
    "              \"malAML\",\n",
    "              \"malMDS\",\n",
    "              \"malAMLOrMDS\",\n",
    "              \"malNonBreastSolid\",\n",
    "              \"malNonBreastSolidType\",\n",
    "              \"malOtherBloodCancers\",\n",
    "              \"malSMRelatedDeaths\",\n",
    "              \"malSecondPrimary\",\n",
    "              \"NOTES\")\n",
    "setnames(D, oldnames, newnames[1:33])"
   ]
  },
  {
   "cell_type": "markdown",
   "metadata": {},
   "source": [
    "## Tidy data\n",
    "\n",
    "Create a `rowid` variable.\n",
    "This will be handy later."
   ]
  },
  {
   "cell_type": "code",
   "execution_count": 4,
   "metadata": {
    "collapsed": false
   },
   "outputs": [],
   "source": [
    "D <- D[, rowid := .I]"
   ]
  },
  {
   "cell_type": "markdown",
   "metadata": {},
   "source": [
    "Fix some minor data entry inconsistencies."
   ]
  },
  {
   "cell_type": "code",
   "execution_count": 5,
   "metadata": {
    "collapsed": false
   },
   "outputs": [],
   "source": [
    "D <- D[grep(\"Nitz\", authorYear), authorYear := gsub(\"2014$\", \"2014)\", authorYear)]\n",
    "D <- D[grep(\"Wolmark\", authorYear), authorYear := gsub(\", 2001$\", \" (2001)\", authorYear)]"
   ]
  },
  {
   "cell_type": "markdown",
   "metadata": {},
   "source": [
    "Input missing data for Bergh (2000); row was split."
   ]
  },
  {
   "cell_type": "code",
   "execution_count": 6,
   "metadata": {
    "collapsed": true
   },
   "outputs": [],
   "source": [
    "col <- grep(\"^cyclophosphamide\", names(D), invert = TRUE)\n",
    "D[11, col] <- D[10, col, with = FALSE]\n",
    "# D[11, ]\n",
    "# D[10, ]"
   ]
  },
  {
   "cell_type": "markdown",
   "metadata": {},
   "source": [
    "Fix trial column for Romond (2005)."
   ]
  },
  {
   "cell_type": "code",
   "execution_count": 7,
   "metadata": {
    "collapsed": false
   },
   "outputs": [],
   "source": [
    "D <- D[grep(\"Romond\", authorYear), trial := gsub(\"&N\", \"& N\", trial)]"
   ]
  },
  {
   "cell_type": "markdown",
   "metadata": {},
   "source": [
    "Make `medianFU` numeric."
   ]
  },
  {
   "cell_type": "code",
   "execution_count": 8,
   "metadata": {
    "collapsed": false
   },
   "outputs": [
    {
     "data": {
      "text/html": [
       "<table>\n",
       "<thead><tr><th></th><th scope=col>medianFU</th><th scope=col>medianFUChar</th></tr></thead>\n",
       "<tbody>\n",
       "\t<tr><th scope=row>1</th><td>38.3              </td><td>38.299999999999997</td></tr>\n",
       "\t<tr><th scope=row>2</th><td>73   </td><td>71-75</td></tr>\n",
       "\t<tr><th scope=row>3</th><td>99.6              </td><td>99.600000000000009</td></tr>\n",
       "\t<tr><th scope=row>4</th><td>28.8              </td><td>28.799999999999997</td></tr>\n",
       "</tbody>\n",
       "</table>\n"
      ],
      "text/latex": [
       "\\begin{tabular}{r|ll}\n",
       "  & medianFU & medianFUChar\\\\\n",
       "\\hline\n",
       "\t1 & 38.3               & 38.299999999999997\\\\\n",
       "\t2 & 73    & 71-75\\\\\n",
       "\t3 & 99.6               & 99.600000000000009\\\\\n",
       "\t4 & 28.8               & 28.799999999999997\\\\\n",
       "\\end{tabular}\n"
      ],
      "text/plain": [
       "  medianFU       medianFUChar\n",
       "1     38.3 38.299999999999997\n",
       "2     73.0              71-75\n",
       "3     99.6 99.600000000000009\n",
       "4     28.8 28.799999999999997"
      ]
     },
     "metadata": {},
     "output_type": "display_data"
    }
   ],
   "source": [
    "D <- D[grep(\"-\", medianFU, invert = TRUE), medianFUNum := round(as.numeric(medianFU), digits = 2)]\n",
    "x <- D[grep(\"-\", medianFU), medianFU]\n",
    "x <- as.numeric(unlist(strsplit(x, \"-\")))\n",
    "x1 <- x[seq(1, length(x), 2)]\n",
    "x2 <- x[seq(2, length(x), 2)]\n",
    "xbar <- rowMeans(cbind(x1, x2))\n",
    "D <- D[grep(\"-\", medianFU), medianFUNum := xbar]\n",
    "D <- D[,\n",
    "       `:=` (medianFUChar = medianFU,\n",
    "             medianFU = medianFUNum,\n",
    "             medianFUNum = NULL)]\n",
    "unique(D[as.character(medianFU) != medianFUChar, .(medianFU, medianFUChar)])\n",
    "D <- D[, medianFUChar := NULL]"
   ]
  },
  {
   "cell_type": "markdown",
   "metadata": {},
   "source": [
    "Recode mal* values of `NR` and `-` to `NA`."
   ]
  },
  {
   "cell_type": "code",
   "execution_count": 9,
   "metadata": {
    "collapsed": true
   },
   "outputs": [],
   "source": [
    "recode <- function(x) {\n",
    "    missval <- c(\"-\", \"NR\", \" \")\n",
    "    vec <- D[, get(x)]\n",
    "    vec[vec %in% missval] <- NA\n",
    "    vec\n",
    "}\n",
    "col <- grep(\"^mal\", names(D), value = TRUE)\n",
    "for (i in 1:length(col)) {\n",
    "    D[, col[i]] <- recode(col[i])\n",
    "}"
   ]
  },
  {
   "cell_type": "markdown",
   "metadata": {},
   "source": [
    "Substitute non-numeric text in mal* values."
   ]
  },
  {
   "cell_type": "code",
   "execution_count": 10,
   "metadata": {
    "collapsed": true
   },
   "outputs": [],
   "source": [
    "substitute <- function(x) {\n",
    "    vec <- D[, get(x)]\n",
    "    vec <- gsub(\"[[:alpha:]]\", \"\", vec)\n",
    "    vec\n",
    "}\n",
    "col <- grep(\"^mal\", names(D), value = TRUE)\n",
    "for (i in 1:4) {\n",
    "    # Only substitute a subset of mal* columns\n",
    "    D[, col[i]] <- substitute(col[i])\n",
    "}"
   ]
  },
  {
   "cell_type": "markdown",
   "metadata": {},
   "source": [
    "Convert mal* values to numeric."
   ]
  },
  {
   "cell_type": "code",
   "execution_count": 11,
   "metadata": {
    "collapsed": true
   },
   "outputs": [],
   "source": [
    "for (i in 1:4) {\n",
    "    # Only convert a subset of mal* columns\n",
    "    D <- D[, col[i] := as.numeric(get(col[i]))]\n",
    "}"
   ]
  },
  {
   "cell_type": "markdown",
   "metadata": {},
   "source": [
    "The `malAMLOrMDS` column, as entered, captures number of AML or MDS malignancies if the study reported them grouped as opposed to separately.\n",
    "If the study reported them as separately, then these counts are captures in the `malAML` and `malMDS` columns.\n",
    "I.e., the `malAML`, `malMDS`, and `malAMLOrMDS` columns are mutually exclusive counts.\n",
    "We want to create another column, `malAMLOrMDSTotal`, to be non-mutually exclusive from `malAML`, `malMDS`, and `malAMLOrMDS`.\n",
    "If none of the `malAML`, `malMDS`, and `malAMLOrMDS` values are populated, then set `malAMLOrMDSTotal` to `NA`, also.\n",
    "NOTE: Couldn't get this to work: [http://stackoverflow.com/a/16513949/1427069](http://stackoverflow.com/a/16513949/1427069)."
   ]
  },
  {
   "cell_type": "code",
   "execution_count": 12,
   "metadata": {
    "collapsed": false
   },
   "outputs": [
    {
     "data": {
      "text/html": [
       "<table>\n",
       "<thead><tr><th></th><th scope=col>rowid</th><th scope=col>malAML</th><th scope=col>malMDS</th><th scope=col>malAMLOrMDS</th><th scope=col>malAMLOrMDSTotal</th></tr></thead>\n",
       "<tbody>\n",
       "\t<tr><th scope=row>1</th><td>35</td><td>NA</td><td>NA</td><td> 2</td><td> 2</td></tr>\n",
       "\t<tr><th scope=row>2</th><td>91</td><td>NA</td><td>NA</td><td>NA</td><td>NA</td></tr>\n",
       "\t<tr><th scope=row>3</th><td>81</td><td>NA</td><td>NA</td><td>NA</td><td>NA</td></tr>\n",
       "\t<tr><th scope=row>4</th><td>36</td><td>NA</td><td>NA</td><td> 6</td><td> 6</td></tr>\n",
       "\t<tr><th scope=row>5</th><td>78</td><td>NA</td><td>NA</td><td>NA</td><td>NA</td></tr>\n",
       "\t<tr><th scope=row>6</th><td>34</td><td> 0</td><td> 1</td><td>NA</td><td> 1</td></tr>\n",
       "\t<tr><th scope=row>7</th><td>76</td><td> 1</td><td> 0</td><td>NA</td><td> 1</td></tr>\n",
       "\t<tr><th scope=row>8</th><td>74</td><td>NA</td><td>NA</td><td> 3</td><td> 3</td></tr>\n",
       "\t<tr><th scope=row>9</th><td>27</td><td>NA</td><td>NA</td><td>NA</td><td>NA</td></tr>\n",
       "\t<tr><th scope=row>10</th><td>70</td><td>NA</td><td>NA</td><td>NA</td><td>NA</td></tr>\n",
       "\t<tr><th scope=row>11</th><td>13</td><td> 0</td><td> 0</td><td>NA</td><td> 0</td></tr>\n",
       "\t<tr><th scope=row>12</th><td>52</td><td> 1</td><td> 1</td><td>NA</td><td> 2</td></tr>\n",
       "</tbody>\n",
       "</table>\n"
      ],
      "text/latex": [
       "\\begin{tabular}{r|lllll}\n",
       "  & rowid & malAML & malMDS & malAMLOrMDS & malAMLOrMDSTotal\\\\\n",
       "\\hline\n",
       "\t1 & 35 & NA & NA &  2 &  2\\\\\n",
       "\t2 & 91 & NA & NA & NA & NA\\\\\n",
       "\t3 & 81 & NA & NA & NA & NA\\\\\n",
       "\t4 & 36 & NA & NA &  6 &  6\\\\\n",
       "\t5 & 78 & NA & NA & NA & NA\\\\\n",
       "\t6 & 34 &  0 &  1 & NA &  1\\\\\n",
       "\t7 & 76 &  1 &  0 & NA &  1\\\\\n",
       "\t8 & 74 & NA & NA &  3 &  3\\\\\n",
       "\t9 & 27 & NA & NA & NA & NA\\\\\n",
       "\t10 & 70 & NA & NA & NA & NA\\\\\n",
       "\t11 & 13 &  0 &  0 & NA &  0\\\\\n",
       "\t12 & 52 &  1 &  1 & NA &  2\\\\\n",
       "\\end{tabular}\n"
      ],
      "text/plain": [
       "   rowid malAML malMDS malAMLOrMDS malAMLOrMDSTotal\n",
       "1     35     NA     NA           2                2\n",
       "2     91     NA     NA          NA               NA\n",
       "3     81     NA     NA          NA               NA\n",
       "4     36     NA     NA           6                6\n",
       "5     78     NA     NA          NA               NA\n",
       "6     34      0      1          NA                1\n",
       "7     76      1      0          NA                1\n",
       "8     74     NA     NA           3                3\n",
       "9     27     NA     NA          NA               NA\n",
       "10    70     NA     NA          NA               NA\n",
       "11    13      0      0          NA                0\n",
       "12    52      1      1          NA                2"
      ]
     },
     "metadata": {},
     "output_type": "display_data"
    }
   ],
   "source": [
    "s <- sample(D[, rowid], 12)\n",
    "malAMLOrMDSTotal <- rowSums(D[, .(malAML, malMDS, malAMLOrMDS)], na.rm=TRUE)\n",
    "D <- D[, malAMLOrMDSTotal := malAMLOrMDSTotal]\n",
    "D <- D[is.na(malAML) & is.na(malMDS) & is.na(malAMLOrMDS), malAMLOrMDSTotal := NA]\n",
    "D[s, .(rowid, malAML, malMDS, malAMLOrMDS, malAMLOrMDSTotal)]"
   ]
  },
  {
   "cell_type": "markdown",
   "metadata": {},
   "source": [
    "Remove text from `nITT` column."
   ]
  },
  {
   "cell_type": "code",
   "execution_count": 13,
   "metadata": {
    "collapsed": true
   },
   "outputs": [],
   "source": [
    "D <- D[authorYear == \"Misset (1996)\" & arm == 2, nITT := \"137\"]\n",
    "D <- D[authorYear == \"Fumoleu (2003)\" & arm == 1, nITT := \"210\"]\n",
    "D <- D[authorYear == \"Fumoleu (2003)\" & arm == 2, nITT := \"197\"]\n",
    "D <- D[authorYear == \"Fumoleu (2003)\" & arm == 3, nITT := \"195\"]\n",
    "D <- D[, nITT := as.integer(nITT)]"
   ]
  },
  {
   "cell_type": "markdown",
   "metadata": {},
   "source": [
    "Clean up the `regimen` and `dose` columns.\n",
    "Output to [regimens.md](regimens.md) for checking."
   ]
  },
  {
   "cell_type": "code",
   "execution_count": 14,
   "metadata": {
    "collapsed": false,
    "scrolled": false
   },
   "outputs": [
    {
     "data": {
      "text/plain": [
       "            size isdir mode               mtime               ctime\n",
       "regimens.md 2150 FALSE  664 2016-06-22 14:54:03 2016-06-22 14:54:03\n",
       "                          atime  uid  gid  uname grname\n",
       "regimens.md 2016-06-22 14:32:19 1000 1000 ubuntu ubuntu"
      ]
     },
     "metadata": {},
     "output_type": "display_data"
    }
   ],
   "source": [
    "D <- D[, regimen := gsub(\"\\\\s$\", \"\", regimen)]\n",
    "D <- D[, regimen := gsub(\"\\\\r\\\\n\", \" \", regimen)]\n",
    "doseVar <- grep(\"dose\", names(D), ignore.case = TRUE, value = TRUE)\n",
    "for (i in 1:length(doseVar)) {\n",
    "    D <- D[, doseVar[i] := gsub(\"\\\\r\\\\n\", \" \", get(doseVar[i]))]\n",
    "}\n",
    "write.table(D[, .N, c(\"regimen\", doseVar), with = TRUE][order(regimen)],\n",
    "            file = \"regimens.md\",\n",
    "            sep = \" | \", quote = FALSE,\n",
    "            row.names = FALSE)\n",
    "file.info(\"regimens.md\")"
   ]
  },
  {
   "cell_type": "markdown",
   "metadata": {},
   "source": [
    "Calculate cumulative dose: $\\text{total dose} \\times \\text{number of courses}$."
   ]
  },
  {
   "cell_type": "code",
   "execution_count": 15,
   "metadata": {
    "collapsed": false
   },
   "outputs": [
    {
     "name": "stderr",
     "output_type": "stream",
     "text": [
      "Warning message:\n",
      "In eval(expr, envir, enclos): NAs introduced by coercionWarning message:\n",
      "In eval(expr, envir, enclos): NAs introduced by coercionWarning message:\n",
      "In eval(expr, envir, enclos): NAs introduced by coercionWarning message:\n",
      "In eval(expr, envir, enclos): NAs introduced by coercion"
     ]
    }
   ],
   "source": [
    "D <- D[, anthracyclineTotalDose := as.numeric(anthracyclineTotalDose)]\n",
    "D <- D[authorYear == \"Bergh (2000)\" & regimen == \"FEC\\nTailored\", anthracyclineTotalDose := 75]\n",
    "D <- D[authorYear == \"Henderson (2003)\", anthracyclineTotalDose := 75]\n",
    "D <- D[authorYear == \"Colleoni (2009)\" & regimen == \"AC-CMF\", anthracyclineTotalDose := 75]\n",
    "D <- D[, cyclophosphamideDose := as.numeric(cyclophosphamideDose)]\n",
    "D <- D[authorYear == \"Bergh (2000)\" & regimen == \"FEC\\nTailored\", cyclophosphamideDose := 900]\n",
    "D <- D[authorYear == \"Henderson (2003)\", anthracyclineTotalDose := 75]\n",
    "D <- D[, taxaneCourses := as.numeric(taxaneCourses)]\n",
    "D <- D[authorYear == \"Shulman (2014)\" & regimen == \"T\" & arm == 3, taxaneCourses := 4]\n",
    "D <- D[authorYear == \"Shulman (2014)\" & regimen == \"T\" & arm == 4, taxaneCourses := 6]\n",
    "D <- D[, fluoroucilTotalDose := as.numeric(fluoroucilTotalDose)]\n",
    "D <- D[authorYear == \"Bergh (2000)\" & regimen == \"FEC\\nTailored\", fluoroucilTotalDose := 600]\n",
    "D <- D[authorYear == \"Joensuu (2012)\" & regimen == \"TX-CEX\", fluoroucilTotalDose := NA]\n",
    "D <- D[,\n",
    "       `:=` (anthracyclineCumulDose = anthracyclineTotalDose * anthracyclineCourses,\n",
    "             cyclophosphamideCumulDose = cyclophosphamideDose * cyclophosphamideCourses,\n",
    "             taxaneCumulDose = as.numeric(taxaneTotalDose) * taxaneCourses,\n",
    "             fluoroucilCumulDose = fluoroucilTotalDose * fluoroucilCourses)]"
   ]
  },
  {
   "cell_type": "markdown",
   "metadata": {},
   "source": [
    "Check."
   ]
  },
  {
   "cell_type": "code",
   "execution_count": 16,
   "metadata": {
    "collapsed": false,
    "scrolled": false
   },
   "outputs": [
    {
     "data": {
      "text/html": [
       "<table>\n",
       "<thead><tr><th></th><th scope=col>authorYear</th><th scope=col>regimen</th><th scope=col>anthracyclineCumulDose</th><th scope=col>anthracyclineTotalDose</th><th scope=col>anthracyclineCourses</th></tr></thead>\n",
       "<tbody>\n",
       "\t<tr><th scope=row>1</th><td>Fisher (1990)</td><td>AC           </td><td>240          </td><td>60           </td><td>4            </td></tr>\n",
       "\t<tr><th scope=row>2</th><td>Fisher (1990)</td><td>AC-CMF       </td><td>240          </td><td>60           </td><td>4            </td></tr>\n",
       "\t<tr><th scope=row>3</th><td>Misset (1996)</td><td>AVCF         </td><td>360          </td><td>30           </td><td>12           </td></tr>\n",
       "\t<tr><th scope=row>4</th><td>Fisher (1999)</td><td>AC           </td><td>240          </td><td>60           </td><td>4            </td></tr>\n",
       "\t<tr><th scope=row>5</th><td>Fisher (1999)</td><td>AC           </td><td>240          </td><td>60           </td><td>4            </td></tr>\n",
       "\t<tr><th scope=row>6</th><td>Fisher (1999)</td><td>AC           </td><td>240          </td><td>60           </td><td>4            </td></tr>\n",
       "</tbody>\n",
       "</table>\n"
      ],
      "text/latex": [
       "\\begin{tabular}{r|lllll}\n",
       "  & authorYear & regimen & anthracyclineCumulDose & anthracyclineTotalDose & anthracyclineCourses\\\\\n",
       "\\hline\n",
       "\t1 & Fisher (1990) & AC            & 240           & 60            & 4            \\\\\n",
       "\t2 & Fisher (1990) & AC-CMF        & 240           & 60            & 4            \\\\\n",
       "\t3 & Misset (1996) & AVCF          & 360           & 30            & 12           \\\\\n",
       "\t4 & Fisher (1999) & AC            & 240           & 60            & 4            \\\\\n",
       "\t5 & Fisher (1999) & AC            & 240           & 60            & 4            \\\\\n",
       "\t6 & Fisher (1999) & AC            & 240           & 60            & 4            \\\\\n",
       "\\end{tabular}\n"
      ],
      "text/plain": [
       "     authorYear regimen anthracyclineCumulDose anthracyclineTotalDose\n",
       "1 Fisher (1990)      AC                    240                     60\n",
       "2 Fisher (1990)  AC-CMF                    240                     60\n",
       "3 Misset (1996)    AVCF                    360                     30\n",
       "4 Fisher (1999)      AC                    240                     60\n",
       "5 Fisher (1999)      AC                    240                     60\n",
       "6 Fisher (1999)      AC                    240                     60\n",
       "  anthracyclineCourses\n",
       "1                    4\n",
       "2                    4\n",
       "3                   12\n",
       "4                    4\n",
       "5                    4\n",
       "6                    4"
      ]
     },
     "metadata": {},
     "output_type": "display_data"
    },
    {
     "data": {
      "text/html": [
       "<table>\n",
       "<thead><tr><th></th><th scope=col>authorYear</th><th scope=col>regimen</th><th scope=col>cyclophosphamideCumulDose</th><th scope=col>cyclophosphamideDose</th><th scope=col>cyclophosphamideCourses</th></tr></thead>\n",
       "<tbody>\n",
       "\t<tr><th scope=row>1</th><td>Fisher (1990)</td><td>AC           </td><td>2400         </td><td>600          </td><td>4            </td></tr>\n",
       "\t<tr><th scope=row>2</th><td>Fisher (1990)</td><td>AC-CMF       </td><td>2400         </td><td>600          </td><td>4            </td></tr>\n",
       "\t<tr><th scope=row>3</th><td>Misset (1996)</td><td>AVCF         </td><td>14400        </td><td>1200         </td><td>12           </td></tr>\n",
       "\t<tr><th scope=row>4</th><td>Fisher (1999)</td><td>AC           </td><td>4800         </td><td>1200         </td><td>4            </td></tr>\n",
       "\t<tr><th scope=row>5</th><td>Fisher (1999)</td><td>AC           </td><td>4800         </td><td>2400         </td><td>2            </td></tr>\n",
       "\t<tr><th scope=row>6</th><td>Fisher (1999)</td><td>AC           </td><td>9600         </td><td>2400         </td><td>4            </td></tr>\n",
       "</tbody>\n",
       "</table>\n"
      ],
      "text/latex": [
       "\\begin{tabular}{r|lllll}\n",
       "  & authorYear & regimen & cyclophosphamideCumulDose & cyclophosphamideDose & cyclophosphamideCourses\\\\\n",
       "\\hline\n",
       "\t1 & Fisher (1990) & AC            & 2400          & 600           & 4            \\\\\n",
       "\t2 & Fisher (1990) & AC-CMF        & 2400          & 600           & 4            \\\\\n",
       "\t3 & Misset (1996) & AVCF          & 14400         & 1200          & 12           \\\\\n",
       "\t4 & Fisher (1999) & AC            & 4800          & 1200          & 4            \\\\\n",
       "\t5 & Fisher (1999) & AC            & 4800          & 2400          & 2            \\\\\n",
       "\t6 & Fisher (1999) & AC            & 9600          & 2400          & 4            \\\\\n",
       "\\end{tabular}\n"
      ],
      "text/plain": [
       "     authorYear regimen cyclophosphamideCumulDose cyclophosphamideDose\n",
       "1 Fisher (1990)      AC                      2400                  600\n",
       "2 Fisher (1990)  AC-CMF                      2400                  600\n",
       "3 Misset (1996)    AVCF                     14400                 1200\n",
       "4 Fisher (1999)      AC                      4800                 1200\n",
       "5 Fisher (1999)      AC                      4800                 2400\n",
       "6 Fisher (1999)      AC                      9600                 2400\n",
       "  cyclophosphamideCourses\n",
       "1                       4\n",
       "2                       4\n",
       "3                      12\n",
       "4                       4\n",
       "5                       2\n",
       "6                       4"
      ]
     },
     "metadata": {},
     "output_type": "display_data"
    },
    {
     "data": {
      "text/html": [
       "<table>\n",
       "<thead><tr><th></th><th scope=col>authorYear</th><th scope=col>regimen</th><th scope=col>taxaneCumulDose</th><th scope=col>taxaneTotalDose</th><th scope=col>taxaneCourses</th></tr></thead>\n",
       "<tbody>\n",
       "\t<tr><th scope=row>1</th><td>Citron (2003)</td><td>A-T-C        </td><td>700          </td><td>175          </td><td>4            </td></tr>\n",
       "\t<tr><th scope=row>2</th><td>Citron (2003)</td><td>A-T-C        </td><td>700          </td><td>175          </td><td>4            </td></tr>\n",
       "\t<tr><th scope=row>3</th><td>Citron (2003)</td><td>AC-T         </td><td>700          </td><td>175          </td><td>4            </td></tr>\n",
       "\t<tr><th scope=row>4</th><td>Citron (2003)</td><td>AC-T         </td><td>700          </td><td>175          </td><td>4            </td></tr>\n",
       "\t<tr><th scope=row>5</th><td>Francis (2008)</td><td>A-T-CMF       </td><td>300           </td><td>100           </td><td>3             </td></tr>\n",
       "\t<tr><th scope=row>6</th><td>Francis (2008)</td><td>AT-CMF        </td><td>300           </td><td>75            </td><td>4             </td></tr>\n",
       "</tbody>\n",
       "</table>\n"
      ],
      "text/latex": [
       "\\begin{tabular}{r|lllll}\n",
       "  & authorYear & regimen & taxaneCumulDose & taxaneTotalDose & taxaneCourses\\\\\n",
       "\\hline\n",
       "\t1 & Citron (2003) & A-T-C         & 700           & 175           & 4            \\\\\n",
       "\t2 & Citron (2003) & A-T-C         & 700           & 175           & 4            \\\\\n",
       "\t3 & Citron (2003) & AC-T          & 700           & 175           & 4            \\\\\n",
       "\t4 & Citron (2003) & AC-T          & 700           & 175           & 4            \\\\\n",
       "\t5 & Francis (2008) & A-T-CMF        & 300            & 100            & 3             \\\\\n",
       "\t6 & Francis (2008) & AT-CMF         & 300            & 75             & 4             \\\\\n",
       "\\end{tabular}\n"
      ],
      "text/plain": [
       "      authorYear regimen taxaneCumulDose taxaneTotalDose taxaneCourses\n",
       "1  Citron (2003)   A-T-C             700             175             4\n",
       "2  Citron (2003)   A-T-C             700             175             4\n",
       "3  Citron (2003)    AC-T             700             175             4\n",
       "4  Citron (2003)    AC-T             700             175             4\n",
       "5 Francis (2008) A-T-CMF             300             100             3\n",
       "6 Francis (2008)  AT-CMF             300              75             4"
      ]
     },
     "metadata": {},
     "output_type": "display_data"
    },
    {
     "data": {
      "text/html": [
       "<table>\n",
       "<thead><tr><th></th><th scope=col>authorYear</th><th scope=col>regimen</th><th scope=col>fluoroucilCumulDose</th><th scope=col>fluoroucilTotalDose</th><th scope=col>fluoroucilCourses</th></tr></thead>\n",
       "<tbody>\n",
       "\t<tr><th scope=row>1</th><td>Misset (1996)</td><td>AVCF         </td><td>19200        </td><td>1600         </td><td>12           </td></tr>\n",
       "\t<tr><th scope=row>2</th><td>Venturini (2005)</td><td>FEC             </td><td>3600            </td><td>600             </td><td>6               </td></tr>\n",
       "\t<tr><th scope=row>3</th><td>Venturini (2005)</td><td>FEC             </td><td>3600            </td><td>600             </td><td>6               </td></tr>\n",
       "\t<tr><th scope=row>4</th><td>Martin (2010)</td><td>FAC          </td><td>3000         </td><td>500          </td><td>6            </td></tr>\n",
       "\t<tr><th scope=row>5</th><td>Roche (2006)</td><td>FEC         </td><td>3000        </td><td>500         </td><td>6           </td></tr>\n",
       "\t<tr><th scope=row>6</th><td>Roche (2006)</td><td>FEC-T       </td><td>1500        </td><td>500         </td><td>3           </td></tr>\n",
       "</tbody>\n",
       "</table>\n"
      ],
      "text/latex": [
       "\\begin{tabular}{r|lllll}\n",
       "  & authorYear & regimen & fluoroucilCumulDose & fluoroucilTotalDose & fluoroucilCourses\\\\\n",
       "\\hline\n",
       "\t1 & Misset (1996) & AVCF          & 19200         & 1600          & 12           \\\\\n",
       "\t2 & Venturini (2005) & FEC              & 3600             & 600              & 6               \\\\\n",
       "\t3 & Venturini (2005) & FEC              & 3600             & 600              & 6               \\\\\n",
       "\t4 & Martin (2010) & FAC           & 3000          & 500           & 6            \\\\\n",
       "\t5 & Roche (2006) & FEC          & 3000         & 500          & 6           \\\\\n",
       "\t6 & Roche (2006) & FEC-T        & 1500         & 500          & 3           \\\\\n",
       "\\end{tabular}\n"
      ],
      "text/plain": [
       "        authorYear regimen fluoroucilCumulDose fluoroucilTotalDose\n",
       "1    Misset (1996)    AVCF               19200                1600\n",
       "2 Venturini (2005)     FEC                3600                 600\n",
       "3 Venturini (2005)     FEC                3600                 600\n",
       "4    Martin (2010)     FAC                3000                 500\n",
       "5     Roche (2006)     FEC                3000                 500\n",
       "6     Roche (2006)   FEC-T                1500                 500\n",
       "  fluoroucilCourses\n",
       "1                12\n",
       "2                 6\n",
       "3                 6\n",
       "4                 6\n",
       "5                 6\n",
       "6                 3"
      ]
     },
     "metadata": {},
     "output_type": "display_data"
    }
   ],
   "source": [
    "head(D[!is.na(anthracyclineCumulDose),\n",
    "       .(authorYear, regimen, anthracyclineCumulDose, anthracyclineTotalDose, anthracyclineCourses)])\n",
    "head(D[!is.na(cyclophosphamideCumulDose),\n",
    "       .(authorYear, regimen, cyclophosphamideCumulDose, cyclophosphamideDose, cyclophosphamideCourses)])\n",
    "head(D[!is.na(taxaneCumulDose),\n",
    "       .(authorYear, regimen, taxaneCumulDose, taxaneTotalDose, taxaneCourses)])\n",
    "head(D[!is.na(fluoroucilCumulDose),\n",
    "       .(authorYear, regimen, fluoroucilCumulDose, fluoroucilTotalDose, fluoroucilCourses)])"
   ]
  },
  {
   "cell_type": "markdown",
   "metadata": {},
   "source": [
    "### Manual tidying"
   ]
  },
  {
   "cell_type": "markdown",
   "metadata": {},
   "source": [
    "After an early round of analysis, we realized there were some `nITT` data entry errors in the commit [26115da](https://github.com/benjamin-chan/SecMalAfterBreastCaACT/raw/26115dab1eb2b075d40f545514a03c3b30cde6b4/SecondaryMalignancies_Data_BG_3_4.xlsx) (Jun 1, 2016) spreadsheet."
   ]
  },
  {
   "cell_type": "code",
   "execution_count": 17,
   "metadata": {
    "collapsed": false
   },
   "outputs": [
    {
     "data": {
      "text/html": [
       "<table>\n",
       "<thead><tr><th></th><th scope=col>authorYear</th><th scope=col>regimen</th><th scope=col>nITTOld</th><th scope=col>nITT</th></tr></thead>\n",
       "<tbody>\n",
       "\t<tr><th scope=row>1</th><td>Mamounas (2005)</td><td>AC             </td><td>1528           </td><td>1529           </td></tr>\n",
       "\t<tr><th scope=row>2</th><td>Fumoleu (2003)</td><td>FEC 50        </td><td>210           </td><td>212           </td></tr>\n",
       "\t<tr><th scope=row>3</th><td>Fumoleu (2003)</td><td>3 FEC 50      </td><td>197           </td><td>209           </td></tr>\n",
       "\t<tr><th scope=row>4</th><td>Fumoleu (2003)</td><td>FEC 75        </td><td>195           </td><td>200           </td></tr>\n",
       "\t<tr><th scope=row>5</th><td>Fargeot (2004)</td><td>Tamoxifen     </td><td>155           </td><td>164           </td></tr>\n",
       "\t<tr><th scope=row>6</th><td>Fargeot (2004)</td><td>EPI-Tam       </td><td>163           </td><td>174           </td></tr>\n",
       "\t<tr><th scope=row>7</th><td>Kerbrat (2007)</td><td>FEC           </td><td>235           </td><td>241           </td></tr>\n",
       "\t<tr><th scope=row>8</th><td>Kerbrat (2007)</td><td>E+Vnr         </td><td>236           </td><td>241           </td></tr>\n",
       "\t<tr><th scope=row>9</th><td>Fisher (1997)</td><td>AC           </td><td>763          </td><td>767          </td></tr>\n",
       "\t<tr><th scope=row>10</th><td>Fisher (1997)</td><td>AC           </td><td>771          </td><td>772          </td></tr>\n",
       "\t<tr><th scope=row>11</th><td>Bonneterre (2005)</td><td>FEC 50           </td><td>271              </td><td>289              </td></tr>\n",
       "\t<tr><th scope=row>12</th><td>Bonneterre (2005)</td><td>FEC 100          </td><td>266              </td><td>276              </td></tr>\n",
       "\t<tr><th scope=row>13</th><td>Roche (2006)</td><td>Tamoxifen   </td><td>163         </td><td>164         </td></tr>\n",
       "\t<tr><th scope=row>14</th><td>Roche (2006)</td><td>FEC         </td><td>168         </td><td>169         </td></tr>\n",
       "\t<tr><th scope=row>15</th><td>Shulman (2014)</td><td>AC            </td><td>1107          </td><td>1142          </td></tr>\n",
       "\t<tr><th scope=row>16</th><td>Shulman (2014)</td><td>AC            </td><td>766           </td><td>789           </td></tr>\n",
       "\t<tr><th scope=row>17</th><td>Shulman (2014)</td><td>T             </td><td>1119          </td><td>1151          </td></tr>\n",
       "\t<tr><th scope=row>18</th><td>Shulman (2014)</td><td>T             </td><td>782           </td><td>789           </td></tr>\n",
       "\t<tr><th scope=row>19</th><td>Swain (2013)</td><td>ACT         </td><td>1617        </td><td>1630        </td></tr>\n",
       "\t<tr><th scope=row>20</th><td>Swain (2013)</td><td>AC-T        </td><td>1624        </td><td>1634        </td></tr>\n",
       "\t<tr><th scope=row>21</th><td>Swain (2013)</td><td>AC-TG       </td><td>1618        </td><td>1630        </td></tr>\n",
       "</tbody>\n",
       "</table>\n"
      ],
      "text/latex": [
       "\\begin{tabular}{r|llll}\n",
       "  & authorYear & regimen & nITTOld & nITT\\\\\n",
       "\\hline\n",
       "\t1 & Mamounas (2005) & AC              & 1528            & 1529           \\\\\n",
       "\t2 & Fumoleu (2003) & FEC 50         & 210            & 212           \\\\\n",
       "\t3 & Fumoleu (2003) & 3 FEC 50       & 197            & 209           \\\\\n",
       "\t4 & Fumoleu (2003) & FEC 75         & 195            & 200           \\\\\n",
       "\t5 & Fargeot (2004) & Tamoxifen      & 155            & 164           \\\\\n",
       "\t6 & Fargeot (2004) & EPI-Tam        & 163            & 174           \\\\\n",
       "\t7 & Kerbrat (2007) & FEC            & 235            & 241           \\\\\n",
       "\t8 & Kerbrat (2007) & E+Vnr          & 236            & 241           \\\\\n",
       "\t9 & Fisher (1997) & AC            & 763           & 767          \\\\\n",
       "\t10 & Fisher (1997) & AC            & 771           & 772          \\\\\n",
       "\t11 & Bonneterre (2005) & FEC 50            & 271               & 289              \\\\\n",
       "\t12 & Bonneterre (2005) & FEC 100           & 266               & 276              \\\\\n",
       "\t13 & Roche (2006) & Tamoxifen    & 163          & 164         \\\\\n",
       "\t14 & Roche (2006) & FEC          & 168          & 169         \\\\\n",
       "\t15 & Shulman (2014) & AC             & 1107           & 1142          \\\\\n",
       "\t16 & Shulman (2014) & AC             & 766            & 789           \\\\\n",
       "\t17 & Shulman (2014) & T              & 1119           & 1151          \\\\\n",
       "\t18 & Shulman (2014) & T              & 782            & 789           \\\\\n",
       "\t19 & Swain (2013) & ACT          & 1617         & 1630        \\\\\n",
       "\t20 & Swain (2013) & AC-T         & 1624         & 1634        \\\\\n",
       "\t21 & Swain (2013) & AC-TG        & 1618         & 1630        \\\\\n",
       "\\end{tabular}\n"
      ],
      "text/plain": [
       "          authorYear   regimen nITTOld nITT\n",
       "1    Mamounas (2005)        AC    1528 1529\n",
       "2     Fumoleu (2003)    FEC 50     210  212\n",
       "3     Fumoleu (2003)  3 FEC 50     197  209\n",
       "4     Fumoleu (2003)    FEC 75     195  200\n",
       "5     Fargeot (2004) Tamoxifen     155  164\n",
       "6     Fargeot (2004)   EPI-Tam     163  174\n",
       "7     Kerbrat (2007)       FEC     235  241\n",
       "8     Kerbrat (2007)     E+Vnr     236  241\n",
       "9      Fisher (1997)        AC     763  767\n",
       "10     Fisher (1997)        AC     771  772\n",
       "11 Bonneterre (2005)    FEC 50     271  289\n",
       "12 Bonneterre (2005)   FEC 100     266  276\n",
       "13      Roche (2006) Tamoxifen     163  164\n",
       "14      Roche (2006)       FEC     168  169\n",
       "15    Shulman (2014)        AC    1107 1142\n",
       "16    Shulman (2014)        AC     766  789\n",
       "17    Shulman (2014)         T    1119 1151\n",
       "18    Shulman (2014)         T     782  789\n",
       "19      Swain (2013)       ACT    1617 1630\n",
       "20      Swain (2013)      AC-T    1624 1634\n",
       "21      Swain (2013)     AC-TG    1618 1630"
      ]
     },
     "metadata": {},
     "output_type": "display_data"
    }
   ],
   "source": [
    "D <- D[authorYear == \"Mamounas (2005)\" & nITT == 1528, `:=` (nITTOld = nITT, nITT = 1529, isFixed = TRUE)]\n",
    "D <- D[authorYear == \"Fumoleu (2003)\" & nITT == 210, `:=` (nITTOld = nITT, nITT = 212, isFixed = TRUE)]\n",
    "D <- D[authorYear == \"Fumoleu (2003)\" & nITT == 197, `:=` (nITTOld = nITT, nITT = 209, isFixed = TRUE)]\n",
    "D <- D[authorYear == \"Fumoleu (2003)\" & nITT == 195, `:=` (nITTOld = nITT, nITT = 200, isFixed = TRUE)]\n",
    "D <- D[authorYear == \"Fargeot (2004)\" & nITT == 155, `:=` (nITTOld = nITT, nITT = 164, isFixed = TRUE)]\n",
    "D <- D[authorYear == \"Fargeot (2004)\" & nITT == 163, `:=` (nITTOld = nITT, nITT = 174, isFixed = TRUE)]\n",
    "D <- D[authorYear == \"Kerbrat (2007)\" & nITT == 235, `:=` (nITTOld = nITT, nITT = 241, isFixed = TRUE)]\n",
    "D <- D[authorYear == \"Kerbrat (2007)\" & nITT == 236, `:=` (nITTOld = nITT, nITT = 241, isFixed = TRUE)]\n",
    "D <- D[authorYear == \"Fisher (1997)\" & nITT == 763, `:=` (nITTOld = nITT, nITT = 767, isFixed = TRUE)]\n",
    "D <- D[authorYear == \"Fisher (1997)\" & nITT == 771, `:=` (nITTOld = nITT, nITT = 772, isFixed = TRUE)]\n",
    "D <- D[authorYear == \"Bonneterre (2005)\" & nITT == 271, `:=` (nITTOld = nITT, nITT = 289, isFixed = TRUE)]\n",
    "D <- D[authorYear == \"Bonneterre (2005)\" & nITT == 266, `:=` (nITTOld = nITT, nITT = 276, isFixed = TRUE)]\n",
    "D <- D[authorYear == \"Roche (2006)\" & nITT == 163, `:=` (nITTOld = nITT, nITT = 164, isFixed = TRUE)]\n",
    "D <- D[authorYear == \"Roche (2006)\" & nITT == 168, `:=` (nITTOld = nITT, nITT = 169, isFixed = TRUE)]\n",
    "D <- D[authorYear == \"Shulman (2014)\" & nITT == 1107, `:=` (nITTOld = nITT, nITT = 1142, isFixed = TRUE)]\n",
    "D <- D[authorYear == \"Shulman (2014)\" & nITT ==  766, `:=` (nITTOld = nITT, nITT =  789, isFixed = TRUE)]\n",
    "D <- D[authorYear == \"Shulman (2014)\" & nITT == 1119, `:=` (nITTOld = nITT, nITT = 1151, isFixed = TRUE)]\n",
    "D <- D[authorYear == \"Shulman (2014)\" & nITT ==  782, `:=` (nITTOld = nITT, nITT =  789, isFixed = TRUE)]\n",
    "D <- D[authorYear == \"Swain (2013)\" & nITT == 1617, `:=` (nITTOld = nITT, nITT = 1630, isFixed = TRUE)]\n",
    "D <- D[authorYear == \"Swain (2013)\" & nITT == 1624, `:=` (nITTOld = nITT, nITT = 1634, isFixed = TRUE)]\n",
    "D <- D[authorYear == \"Swain (2013)\" & nITT == 1618, `:=` (nITTOld = nITT, nITT = 1630, isFixed = TRUE)]\n",
    "D[isFixed == TRUE, .(authorYear, regimen, nITTOld, nITT)]\n",
    "D <- D[, `:=` (nITTOld = NULL, isFixed = NULL)]"
   ]
  },
  {
   "cell_type": "markdown",
   "metadata": {},
   "source": [
    "We also made the decision to use the AML/MDS outcomes reported in Perez (2011) as the outcomes for Romond (2005) since they study the same cohort. Other edits to *AML or MDS* malignancy outcome were needed, as well."
   ]
  },
  {
   "cell_type": "code",
   "execution_count": 18,
   "metadata": {
    "collapsed": false
   },
   "outputs": [
    {
     "data": {
      "text/html": [
       "<table>\n",
       "<thead><tr><th></th><th scope=col>authorYear</th><th scope=col>regimen</th><th scope=col>nITT</th><th scope=col>malAMLOrMDSTotalOld</th><th scope=col>malAMLOrMDSTotal</th></tr></thead>\n",
       "<tbody>\n",
       "\t<tr><th scope=row>1</th><td>Martin (2010)</td><td>TAC          </td><td>539          </td><td>NA           </td><td>0            </td></tr>\n",
       "\t<tr><th scope=row>2</th><td>Martin (2010)</td><td>FAC          </td><td>521          </td><td>NA           </td><td>0            </td></tr>\n",
       "\t<tr><th scope=row>3</th><td>Romond (2005)</td><td>AC-T         </td><td>872          </td><td>NA           </td><td>2            </td></tr>\n",
       "\t<tr><th scope=row>4</th><td>Romond (2005)</td><td>ACT-T-Trast  </td><td>864          </td><td>NA           </td><td>1            </td></tr>\n",
       "\t<tr><th scope=row>5</th><td>Del Mastro (2015)</td><td>EC-T             </td><td>545              </td><td>NA               </td><td>0                </td></tr>\n",
       "\t<tr><th scope=row>6</th><td>Del Mastro (2015)</td><td>FEC-T            </td><td>544              </td><td>NA               </td><td>0                </td></tr>\n",
       "\t<tr><th scope=row>7</th><td>Del Mastro (2015)</td><td>EC-T             </td><td>502              </td><td>0                </td><td>2                </td></tr>\n",
       "\t<tr><th scope=row>8</th><td>Del Mastro (2015)</td><td>FEC-T            </td><td>500              </td><td>NA               </td><td>0                </td></tr>\n",
       "</tbody>\n",
       "</table>\n"
      ],
      "text/latex": [
       "\\begin{tabular}{r|lllll}\n",
       "  & authorYear & regimen & nITT & malAMLOrMDSTotalOld & malAMLOrMDSTotal\\\\\n",
       "\\hline\n",
       "\t1 & Martin (2010) & TAC           & 539           & NA            & 0            \\\\\n",
       "\t2 & Martin (2010) & FAC           & 521           & NA            & 0            \\\\\n",
       "\t3 & Romond (2005) & AC-T          & 872           & NA            & 2            \\\\\n",
       "\t4 & Romond (2005) & ACT-T-Trast   & 864           & NA            & 1            \\\\\n",
       "\t5 & Del Mastro (2015) & EC-T              & 545               & NA                & 0                \\\\\n",
       "\t6 & Del Mastro (2015) & FEC-T             & 544               & NA                & 0                \\\\\n",
       "\t7 & Del Mastro (2015) & EC-T              & 502               & 0                 & 2                \\\\\n",
       "\t8 & Del Mastro (2015) & FEC-T             & 500               & NA                & 0                \\\\\n",
       "\\end{tabular}\n"
      ],
      "text/plain": [
       "         authorYear     regimen nITT malAMLOrMDSTotalOld malAMLOrMDSTotal\n",
       "1     Martin (2010)         TAC  539                  NA                0\n",
       "2     Martin (2010)         FAC  521                  NA                0\n",
       "3     Romond (2005)        AC-T  872                  NA                2\n",
       "4     Romond (2005) ACT-T-Trast  864                  NA                1\n",
       "5 Del Mastro (2015)        EC-T  545                  NA                0\n",
       "6 Del Mastro (2015)       FEC-T  544                  NA                0\n",
       "7 Del Mastro (2015)        EC-T  502                   0                2\n",
       "8 Del Mastro (2015)       FEC-T  500                  NA                0"
      ]
     },
     "metadata": {},
     "output_type": "display_data"
    }
   ],
   "source": [
    "D <- D[authorYear == \"Martin (2010)\" & regimen == \"TAC\",\n",
    "      `:=` (malAMLOrMDSTotalOld = malAMLOrMDSTotal, malAMLOrMDSTotal = 0, isFixed = TRUE)]\n",
    "D <- D[authorYear == \"Martin (2010)\" & regimen == \"FAC\",\n",
    "      `:=` (malAMLOrMDSTotalOld = malAMLOrMDSTotal, malAMLOrMDSTotal = 0, isFixed = TRUE)]\n",
    "D <- D[authorYear == \"Romond (2005)\" & regimen == \"AC-T\",\n",
    "      `:=` (malAMLOrMDSTotalOld = malAMLOrMDSTotal, malAMLOrMDSTotal = 2, isFixed = TRUE)]\n",
    "D <- D[authorYear == \"Romond (2005)\" & regimen == \"ACT-T-Trast\",\n",
    "      `:=` (malAMLOrMDSTotalOld = malAMLOrMDSTotal, malAMLOrMDSTotal = 1, isFixed = TRUE)]\n",
    "D <- D[authorYear == \"Del Mastro (2015)\",\n",
    "      `:=` (malAMLOrMDSTotalOld = malAMLOrMDSTotal, malAMLOrMDSTotal = 0, isFixed = TRUE)]\n",
    "D <- D[authorYear == \"Del Mastro (2015)\" & regimen == \"EC-T\" & nITT == 502,\n",
    "      `:=` (malAMLOrMDSTotalOld = malAMLOrMDSTotal, malAMLOrMDSTotal = 2, isFixed = TRUE)]\n",
    "D[isFixed == TRUE, .(authorYear, regimen, nITT, malAMLOrMDSTotalOld, malAMLOrMDSTotal)]\n",
    "D <- D[, `:=` (malAMLOrMDSTotalOld = NULL, isFixed = NULL)]"
   ]
  },
  {
   "cell_type": "markdown",
   "metadata": {},
   "source": [
    "Deduplicate."
   ]
  },
  {
   "cell_type": "code",
   "execution_count": 19,
   "metadata": {
    "collapsed": false
   },
   "outputs": [
    {
     "name": "stderr",
     "output_type": "stream",
     "text": [
      "Removed 1 duplicate row(s) (1.03%)\n"
     ]
    }
   ],
   "source": [
    "n0 <- nrow(D)\n",
    "setkey(D, authorYear, trial, arm)\n",
    "D <- unique(D)\n",
    "message(sprintf(\"Removed %d duplicate row(s) (%.03g%%)\", n0 - nrow(D), (n0 - nrow(D)) / n0 * 100))"
   ]
  },
  {
   "cell_type": "markdown",
   "metadata": {},
   "source": [
    "## Summarize\n",
    "\n",
    "Define some functions."
   ]
  },
  {
   "cell_type": "code",
   "execution_count": 20,
   "metadata": {
    "collapsed": true
   },
   "outputs": [],
   "source": [
    "scale <- 1e4\n",
    "calcPct <- function (x, n) {\n",
    "  prec <- \"%.3g\"\n",
    "  sprintf(paste0(prec, \"%%\"),\n",
    "          median(x / n, na.rm = TRUE) * 100)\n",
    "}\n",
    "calcRate <- function (x, n, y) {\n",
    "  prec <- \"%.3g\"\n",
    "  py <- scale\n",
    "  sprintf(paste(prec, \"per %s p-y\"),\n",
    "          median(x / (n * (y / 12)), na.rm=TRUE) * py,\n",
    "          py)\n",
    "}"
   ]
  },
  {
   "cell_type": "markdown",
   "metadata": {},
   "source": [
    "Summarize the regimens.\n",
    "Output to [summaryRegimens.md](summaryRegimens.md) for checking."
   ]
  },
  {
   "cell_type": "code",
   "execution_count": 21,
   "metadata": {
    "collapsed": false,
    "scrolled": false
   },
   "outputs": [
    {
     "data": {
      "text/plain": [
       "                   size isdir mode               mtime               ctime\n",
       "summaryRegimens.md 2882 FALSE  664 2016-06-22 14:54:03 2016-06-22 14:54:03\n",
       "                                 atime  uid  gid  uname grname\n",
       "summaryRegimens.md 2016-06-22 14:32:19 1000 1000 ubuntu ubuntu"
      ]
     },
     "metadata": {},
     "output_type": "display_data"
    }
   ],
   "source": [
    "D <- D[,\n",
    "       `:=` (isAnthra = !is.na(anthracyclineTotalDose),\n",
    "             isCyclo = !is.na(cyclophosphamideDose),\n",
    "             isTaxane = !is.na(taxaneTotalDose),\n",
    "             isFluoro = !is.na(fluoroucilTotalDose))]\n",
    "D1 <- melt(D,\n",
    "           id.vars=c(\"id\", \"authorYear\", \"arm\",\n",
    "                     \"isAnthra\", \"anthracyclineCumulDose\",\n",
    "                     \"isCyclo\", \"cyclophosphamideCumulDose\",\n",
    "                     \"isTaxane\", \"taxaneCumulDose\",\n",
    "                     \"isFluoro\", \"fluoroucilCumulDose\",\n",
    "                     \"nITT\", \"medianFU\"),\n",
    "           measure.vars=c(\"malAML\", \"malMDS\", \"malAMLOrMDSTotal\", \"malNonBreastSolid\"),\n",
    "           value.name=\"malN\",\n",
    "           variable.name=\"malType\")\n",
    "\n",
    "D1 <- D1[, malType := gsub(\"^mal\", \"\", malType)]\n",
    "D1 <- D1[, malType := factor(malType,\n",
    "                             levels=c(\"AML\", \"MDS\", \"AMLOrMDSTotal\", \"NonBreastSolid\"),\n",
    "                             labels=c(\"AML\", \"MDS\", \"AML or MDS\", \"Non-Breast Solid\"))]\n",
    "D1 <- D1[, py := nITT * (medianFU / 12)]\n",
    "D1 <- D1[, rate := malN / py * scale]\n",
    "summaryRegimens <- D1[,\n",
    "                      .(totalN = sum(nITT, na.rm = TRUE),\n",
    "                        totalPersonYears = round(sum(py, na.rm = TRUE)),\n",
    "                        totalMalignancies = sum(malN, na.rm = TRUE),\n",
    "                        medianPct = calcPct(malN, nITT),\n",
    "                        medianRate = calcRate(malN, nITT, medianFU)),\n",
    "                      .(isAnthra,\n",
    "                        isCyclo,\n",
    "                        isTaxane,\n",
    "                        isFluoro,\n",
    "                        malType)]\n",
    "summaryRegimens <- summaryRegimens[order(-isAnthra, -isCyclo, -isTaxane, -isFluoro, malType)]\n",
    "write.table(summaryRegimens,\n",
    "            file = \"summaryRegimens.md\",\n",
    "            sep = \" | \", quote = FALSE,\n",
    "            row.names = FALSE)\n",
    "file.info(\"summaryRegimens.md\")"
   ]
  },
  {
   "cell_type": "markdown",
   "metadata": {},
   "source": [
    "## Meta-regression\n",
    "\n",
    "Estimate meta-regression models for log transformed incidence rate.\n",
    "Model is\n",
    "\n",
    "$$\\frac{y_i}{\\text{py}_i} = \\beta x_i + \\sigma_\\text{study}$$\n",
    "\n",
    "Or\n",
    "\n",
    "$$\\frac{y_i}{\\text{py}_i} = \\beta x_{\\text{high dose}, i} + \\sigma_\\text{study}$$\n",
    "\n",
    "Models were estimated using the `rma.mv()` function from the metafor` package for R."
   ]
  },
  {
   "cell_type": "code",
   "execution_count": 22,
   "metadata": {
    "collapsed": false
   },
   "outputs": [
    {
     "data": {
      "text/plain": [
       "\n",
       "To cite the metafor package in publications, please use:\n",
       "\n",
       "  Viechtbauer, W. (2010). Conducting meta-analyses in R with the\n",
       "  metafor package. Journal of Statistical Software, 36(3), 1-48. URL:\n",
       "  http://www.jstatsoft.org/v36/i03/\n",
       "\n",
       "A BibTeX entry for LaTeX users is\n",
       "\n",
       "  @Article{,\n",
       "    title = {Conducting meta-analyses in {R} with the {metafor} package},\n",
       "    author = {Wolfgang Viechtbauer},\n",
       "    journal = {Journal of Statistical Software},\n",
       "    year = {2010},\n",
       "    volume = {36},\n",
       "    number = {3},\n",
       "    pages = {1--48},\n",
       "    url = {http://www.jstatsoft.org/v36/i03/},\n",
       "  }\n"
      ]
     },
     "metadata": {},
     "output_type": "display_data"
    }
   ],
   "source": [
    "citation(\"metafor\")"
   ]
  },
  {
   "cell_type": "markdown",
   "metadata": {},
   "source": [
    "Define meta-regression functions."
   ]
  },
  {
   "cell_type": "code",
   "execution_count": 23,
   "metadata": {
    "collapsed": false
   },
   "outputs": [],
   "source": [
    "pvalToChar <- function (p) {\n",
    "  if (p < 0.001) {\n",
    "    pvalue <- \"p < 0.001\"\n",
    "  } else {\n",
    "    pvalue <- sprintf(\"p = %.03f\", p)\n",
    "  }\n",
    "  pvalue\n",
    "}\n",
    "metareg <- function (D) {\n",
    "  require(metafor)\n",
    "  D <- D[!(is.na(x) | is.na(rate) | is.na(nITT) | is.na(malType))]\n",
    "  # MLin <- rma.glmm(xi = malN, ti = py, mods = x, measure=\"IRLN\", data=D)\n",
    "  # MBin <- rma.glmm(xi = malN, ti = py, mods = xHighDose, measure=\"IRLN\", data=D)\n",
    "  # pvalueLin <- MLin$pval[which(row.names(MLin$b) == \"mods\")]\n",
    "  # pvalueBin <- MBin$pval[which(row.names(MBin$b) == \"mods\")]\n",
    "  D <- escalc(\"IRLN\", xi=malN, ti=py, data=D)\n",
    "  randomEffect <- list(~ 1 | id)\n",
    "  MLin <- rma.mv(yi ~ x, vi, random=randomEffect, data=D)\n",
    "  MBin <- rma.mv(yi ~ xHighDose, vi, random=randomEffect, data=D)\n",
    "  pvalueLin <- MLin$pval[which(row.names(MLin$b) == \"x\")]\n",
    "  pvalueBin <- MBin$pval[which(row.names(MBin$b) == \"xHighDoseTRUE\")]\n",
    "  list(rmaLin = MLin,\n",
    "       rmaBin = MBin,\n",
    "       pvalueLin = pvalToChar(pvalueLin),\n",
    "       pvalueBin = pvalToChar(pvalueBin))\n",
    "}\n",
    "plotreg <- function (D, title, xlab, xbreaks, text, yhat1, yhat2) {\n",
    "  require(ggplot2)\n",
    "  require(RColorBrewer)\n",
    "  require(tools)\n",
    "  D <- D[!(is.na(x) | is.na(rate) | is.na(nITT) | is.na(malType))]\n",
    "  D <- D[malType %in% c(\"AML or MDS\")]\n",
    "  D <- D[, malType := droplevels(malType)]\n",
    "  steps <- merge(D[, .(min = min(x), max = max(x)), .(malType, xHighDose)],\n",
    "                 yhat2,\n",
    "                 by=c(\"malType\", \"xHighDose\"))\n",
    "  steps <- melt(steps, id.vars=c(\"malType\", \"xHighDose\", \"yhat\"), measure.vars=c(\"min\", \"max\"), value.name=\"x\")\n",
    "  annoLin <- data.frame(x=Inf, y=1.2, label=text[c(1)], malType=levels(D[, malType]))\n",
    "  annoBin <- data.frame(x=Inf, y=1.4, label=text[c(2)], malType=levels(D[, malType]))\n",
    "  pal <- brewer.pal(4, name=\"RdBu\")\n",
    "  G <- ggplot(D, aes(x=x, y=rate + 1/2, size=nITT / min(nITT, na.rm=TRUE)))\n",
    "  G <- G + geom_point(alpha=1/3)\n",
    "  G <- G + geom_line(data=yhat1, aes(x=x, y=yhat), inherit.aes=FALSE, color=pal[4])\n",
    "  G <- G + geom_step(data=steps, aes(x=x, y=yhat), inherit.aes=FALSE, color=pal[1])\n",
    "  G <- G + geom_text(data=annoLin,\n",
    "                     aes(x, y, label=label), inherit.aes=FALSE, hjust=1, color=pal[4])\n",
    "  G <- G + geom_text(data=annoBin,\n",
    "                     aes(x, y, label=label), inherit.aes=FALSE, hjust=1, color=pal[1])\n",
    "  G <- G + scale_x_log10(xlab, breaks=xbreaks)\n",
    "  G <- G + scale_y_log10(sprintf(\"Rate per %s person-years\", format(scale, big.mark=\",\")))\n",
    "  G <- G + labs(title=title)\n",
    "  G <- G + theme_bw()\n",
    "  G <- G + theme(legend.position=\"none\")\n",
    "  filename <- gsub(\"\\\\s+\", \"\", toTitleCase(xlab))\n",
    "  ggsave(filename=sprintf(\"%s.png\", filename))\n",
    "  write.csv(D, file=sprintf(\"%s.csv\", filename), row.names=FALSE)\n",
    "  show(file.info(c(sprintf(\"%s.png\", filename), sprintf(\"%s.csv\", filename)))[c(\"size\", \"mtime\")])\n",
    "  G\n",
    "}\n",
    "invLogit <- function (x) {\n",
    "  exp(x) / (1 + exp(x))\n",
    "}"
   ]
  },
  {
   "cell_type": "markdown",
   "metadata": {},
   "source": [
    "### Cyclophosphamide\n",
    "\n",
    "Dichotomoize cumulative dose\n",
    "\n",
    "* $\\lt 2400$\n",
    "* $\\ge 2400$"
   ]
  },
  {
   "cell_type": "code",
   "execution_count": 24,
   "metadata": {
    "collapsed": false
   },
   "outputs": [
    {
     "name": "stderr",
     "output_type": "stream",
     "text": [
      "Loading required package: Matrix\n",
      "Loading 'metafor' package (version 1.9-8). For an overview \n",
      "and introduction to the package please type: help(metafor).\n"
     ]
    }
   ],
   "source": [
    "library(metafor)\n",
    "D2 <- D1[isCyclo == TRUE,\n",
    "         .(id = factor(id),\n",
    "           authorYear,\n",
    "           isCyclo,\n",
    "           x = cyclophosphamideCumulDose,\n",
    "           xHighDose = cyclophosphamideCumulDose >= 2400,\n",
    "           isAnthra,\n",
    "           isTaxane,\n",
    "           isFluoro,\n",
    "           nITT,\n",
    "           medianFU,\n",
    "           malType,\n",
    "           malN,\n",
    "           py,\n",
    "           rate)]"
   ]
  },
  {
   "cell_type": "markdown",
   "metadata": {},
   "source": [
    "Fit the models and plot the predicted values."
   ]
  },
  {
   "cell_type": "code",
   "execution_count": 25,
   "metadata": {
    "collapsed": false
   },
   "outputs": [
    {
     "name": "stderr",
     "output_type": "stream",
     "text": [
      "Loading required package: ggplot2\n",
      "Loading required package: RColorBrewer\n",
      "Loading required package: tools\n",
      "Saving 6.67 x 6.67 in image\n"
     ]
    },
    {
     "name": "stdout",
     "output_type": "stream",
     "text": [
      "                                     size               mtime\n",
      "CyclophosphamideCumulativeDose.png 154175 2016-06-22 14:54:05\n",
      "CyclophosphamideCumulativeDose.csv   5843 2016-06-22 14:54:05\n"
     ]
    },
    {
     "data": {
      "text/plain": []
     },
     "metadata": {},
     "output_type": "display_data"
    },
    {
     "data": {
      "image/png": "[encoded data removed]",
      "image/svg+xml": [
       "<?xml version=\"1.0\" encoding=\"UTF-8\"?>\n",
       "<svg xmlns=\"http://www.w3.org/2000/svg\" xmlns:xlink=\"http://www.w3.org/1999/xlink\" width=\"504pt\" height=\"504pt\" viewBox=\"0 0 504 504\" version=\"1.1\">\n",
       "<defs>\n",
       "<g>\n",
       "<symbol overflow=\"visible\" id=\"glyph0-0\">\n",
       "<path style=\"stroke:none;\" d=\"M 0.546875 1.9375 L 0.546875 -7.75 L 6.046875 -7.75 L 6.046875 1.9375 Z M 1.171875 1.328125 L 5.4375 1.328125 L 5.4375 -7.140625 L 1.171875 -7.140625 Z M 1.171875 1.328125 \"/>\n",
       "</symbol>\n",
       "<symbol overflow=\"visible\" id=\"glyph0-1\">\n",
       "<path style=\"stroke:none;\" d=\"M 2 -0.90625 L 2 2.28125 L 1 2.28125 L 1 -6.015625 L 2 -6.015625 L 2 -5.109375 C 2.195312 -5.460938 2.453125 -5.722656 2.765625 -5.890625 C 3.085938 -6.066406 3.472656 -6.15625 3.921875 -6.15625 C 4.648438 -6.15625 5.238281 -5.863281 5.6875 -5.28125 C 6.144531 -4.707031 6.375 -3.945312 6.375 -3 C 6.375 -2.050781 6.144531 -1.285156 5.6875 -0.703125 C 5.238281 -0.128906 4.648438 0.15625 3.921875 0.15625 C 3.472656 0.15625 3.085938 0.0703125 2.765625 -0.09375 C 2.453125 -0.269531 2.195312 -0.539062 2 -0.90625 Z M 5.359375 -3 C 5.359375 -3.726562 5.207031 -4.296875 4.90625 -4.703125 C 4.601562 -5.117188 4.191406 -5.328125 3.671875 -5.328125 C 3.148438 -5.328125 2.738281 -5.117188 2.4375 -4.703125 C 2.144531 -4.296875 2 -3.726562 2 -3 C 2 -2.269531 2.144531 -1.695312 2.4375 -1.28125 C 2.738281 -0.875 3.148438 -0.671875 3.671875 -0.671875 C 4.191406 -0.671875 4.601562 -0.875 4.90625 -1.28125 C 5.207031 -1.695312 5.359375 -2.269531 5.359375 -3 Z M 5.359375 -3 \"/>\n",
       "</symbol>\n",
       "<symbol overflow=\"visible\" id=\"glyph0-2\">\n",
       "<path style=\"stroke:none;\" d=\"\"/>\n",
       "</symbol>\n",
       "<symbol overflow=\"visible\" id=\"glyph0-3\">\n",
       "<path style=\"stroke:none;\" d=\"M 1.171875 -5 L 8.046875 -5 L 8.046875 -4.09375 L 1.171875 -4.09375 Z M 1.171875 -2.796875 L 8.046875 -2.796875 L 8.046875 -1.890625 L 1.171875 -1.890625 Z M 1.171875 -2.796875 \"/>\n",
       "</symbol>\n",
       "<symbol overflow=\"visible\" id=\"glyph0-4\">\n",
       "<path style=\"stroke:none;\" d=\"M 3.5 -7.3125 C 2.9375 -7.3125 2.515625 -7.035156 2.234375 -6.484375 C 1.953125 -5.929688 1.8125 -5.101562 1.8125 -4 C 1.8125 -2.90625 1.953125 -2.082031 2.234375 -1.53125 C 2.515625 -0.976562 2.9375 -0.703125 3.5 -0.703125 C 4.0625 -0.703125 4.484375 -0.976562 4.765625 -1.53125 C 5.046875 -2.082031 5.1875 -2.90625 5.1875 -4 C 5.1875 -5.101562 5.046875 -5.929688 4.765625 -6.484375 C 4.484375 -7.035156 4.0625 -7.3125 3.5 -7.3125 Z M 3.5 -8.171875 C 4.394531 -8.171875 5.078125 -7.8125 5.546875 -7.09375 C 6.023438 -6.382812 6.265625 -5.351562 6.265625 -4 C 6.265625 -2.65625 6.023438 -1.625 5.546875 -0.90625 C 5.078125 -0.195312 4.394531 0.15625 3.5 0.15625 C 2.601562 0.15625 1.914062 -0.195312 1.4375 -0.90625 C 0.957031 -1.625 0.71875 -2.65625 0.71875 -4 C 0.71875 -5.351562 0.957031 -6.382812 1.4375 -7.09375 C 1.914062 -7.8125 2.601562 -8.171875 3.5 -8.171875 Z M 3.5 -8.171875 \"/>\n",
       "</symbol>\n",
       "<symbol overflow=\"visible\" id=\"glyph0-5\">\n",
       "<path style=\"stroke:none;\" d=\"M 1.171875 -1.359375 L 2.3125 -1.359375 L 2.3125 0 L 1.171875 0 Z M 1.171875 -1.359375 \"/>\n",
       "</symbol>\n",
       "<symbol overflow=\"visible\" id=\"glyph0-6\">\n",
       "<path style=\"stroke:none;\" d=\"M 4.46875 -4.328125 C 4.988281 -4.210938 5.394531 -3.976562 5.6875 -3.625 C 5.976562 -3.28125 6.125 -2.847656 6.125 -2.328125 C 6.125 -1.535156 5.847656 -0.921875 5.296875 -0.484375 C 4.753906 -0.0546875 3.984375 0.15625 2.984375 0.15625 C 2.640625 0.15625 2.289062 0.117188 1.9375 0.046875 C 1.582031 -0.015625 1.21875 -0.109375 0.84375 -0.234375 L 0.84375 -1.296875 C 1.144531 -1.117188 1.472656 -0.984375 1.828125 -0.890625 C 2.179688 -0.796875 2.554688 -0.75 2.953125 -0.75 C 3.628906 -0.75 4.144531 -0.882812 4.5 -1.15625 C 4.851562 -1.425781 5.03125 -1.816406 5.03125 -2.328125 C 5.03125 -2.804688 4.863281 -3.175781 4.53125 -3.4375 C 4.207031 -3.707031 3.75 -3.84375 3.15625 -3.84375 L 2.21875 -3.84375 L 2.21875 -4.734375 L 3.203125 -4.734375 C 3.734375 -4.734375 4.140625 -4.835938 4.421875 -5.046875 C 4.703125 -5.265625 4.84375 -5.570312 4.84375 -5.96875 C 4.84375 -6.382812 4.695312 -6.703125 4.40625 -6.921875 C 4.113281 -7.140625 3.695312 -7.25 3.15625 -7.25 C 2.863281 -7.25 2.546875 -7.21875 2.203125 -7.15625 C 1.859375 -7.09375 1.484375 -6.992188 1.078125 -6.859375 L 1.078125 -7.828125 C 1.492188 -7.941406 1.878906 -8.023438 2.234375 -8.078125 C 2.597656 -8.140625 2.9375 -8.171875 3.25 -8.171875 C 4.070312 -8.171875 4.722656 -7.984375 5.203125 -7.609375 C 5.691406 -7.234375 5.9375 -6.722656 5.9375 -6.078125 C 5.9375 -5.640625 5.804688 -5.265625 5.546875 -4.953125 C 5.296875 -4.648438 4.9375 -4.441406 4.46875 -4.328125 Z M 4.46875 -4.328125 \"/>\n",
       "</symbol>\n",
       "<symbol overflow=\"visible\" id=\"glyph0-7\">\n",
       "<path style=\"stroke:none;\" d=\"M 1.1875 -8.015625 L 5.453125 -8.015625 L 5.453125 -7.109375 L 2.1875 -7.109375 L 2.1875 -5.140625 C 2.34375 -5.191406 2.5 -5.226562 2.65625 -5.25 C 2.8125 -5.28125 2.96875 -5.296875 3.125 -5.296875 C 4.019531 -5.296875 4.726562 -5.050781 5.25 -4.5625 C 5.769531 -4.070312 6.03125 -3.410156 6.03125 -2.578125 C 6.03125 -1.710938 5.757812 -1.039062 5.21875 -0.5625 C 4.6875 -0.0820312 3.929688 0.15625 2.953125 0.15625 C 2.617188 0.15625 2.273438 0.125 1.921875 0.0625 C 1.578125 0.0078125 1.21875 -0.0703125 0.84375 -0.1875 L 0.84375 -1.28125 C 1.164062 -1.101562 1.5 -0.96875 1.84375 -0.875 C 2.1875 -0.789062 2.550781 -0.75 2.9375 -0.75 C 3.5625 -0.75 4.050781 -0.910156 4.40625 -1.234375 C 4.769531 -1.566406 4.953125 -2.015625 4.953125 -2.578125 C 4.953125 -3.128906 4.769531 -3.566406 4.40625 -3.890625 C 4.050781 -4.222656 3.5625 -4.390625 2.9375 -4.390625 C 2.644531 -4.390625 2.351562 -4.351562 2.0625 -4.28125 C 1.78125 -4.21875 1.488281 -4.117188 1.1875 -3.984375 Z M 1.1875 -8.015625 \"/>\n",
       "</symbol>\n",
       "<symbol overflow=\"visible\" id=\"glyph0-8\">\n",
       "<path style=\"stroke:none;\" d=\"M 4.15625 -7.078125 L 1.421875 -2.796875 L 4.15625 -2.796875 Z M 3.875 -8.015625 L 5.234375 -8.015625 L 5.234375 -2.796875 L 6.375 -2.796875 L 6.375 -1.890625 L 5.234375 -1.890625 L 5.234375 0 L 4.15625 0 L 4.15625 -1.890625 L 0.53125 -1.890625 L 0.53125 -2.9375 Z M 3.875 -8.015625 \"/>\n",
       "</symbol>\n",
       "<symbol overflow=\"visible\" id=\"glyph0-9\">\n",
       "<path style=\"stroke:none;\" d=\"M 3.5 -3.8125 C 2.976562 -3.8125 2.570312 -3.671875 2.28125 -3.390625 C 1.988281 -3.117188 1.84375 -2.738281 1.84375 -2.25 C 1.84375 -1.769531 1.988281 -1.390625 2.28125 -1.109375 C 2.570312 -0.835938 2.976562 -0.703125 3.5 -0.703125 C 4.007812 -0.703125 4.410156 -0.835938 4.703125 -1.109375 C 5.003906 -1.390625 5.15625 -1.769531 5.15625 -2.25 C 5.15625 -2.738281 5.007812 -3.117188 4.71875 -3.390625 C 4.425781 -3.671875 4.019531 -3.8125 3.5 -3.8125 Z M 2.40625 -4.265625 C 1.945312 -4.378906 1.585938 -4.59375 1.328125 -4.90625 C 1.066406 -5.226562 0.9375 -5.617188 0.9375 -6.078125 C 0.9375 -6.722656 1.160156 -7.234375 1.609375 -7.609375 C 2.066406 -7.984375 2.695312 -8.171875 3.5 -8.171875 C 4.289062 -8.171875 4.914062 -7.984375 5.375 -7.609375 C 5.832031 -7.234375 6.0625 -6.722656 6.0625 -6.078125 C 6.0625 -5.617188 5.929688 -5.226562 5.671875 -4.90625 C 5.410156 -4.59375 5.050781 -4.378906 4.59375 -4.265625 C 5.113281 -4.148438 5.519531 -3.914062 5.8125 -3.5625 C 6.101562 -3.207031 6.25 -2.769531 6.25 -2.25 C 6.25 -1.476562 6.007812 -0.882812 5.53125 -0.46875 C 5.0625 -0.0507812 4.382812 0.15625 3.5 0.15625 C 2.613281 0.15625 1.929688 -0.0507812 1.453125 -0.46875 C 0.984375 -0.882812 0.75 -1.476562 0.75 -2.25 C 0.75 -2.769531 0.894531 -3.207031 1.1875 -3.5625 C 1.476562 -3.914062 1.882812 -4.148438 2.40625 -4.265625 Z M 2.015625 -5.984375 C 2.015625 -5.566406 2.144531 -5.238281 2.40625 -5 C 2.664062 -4.769531 3.03125 -4.65625 3.5 -4.65625 C 3.957031 -4.65625 4.316406 -4.769531 4.578125 -5 C 4.847656 -5.238281 4.984375 -5.566406 4.984375 -5.984375 C 4.984375 -6.398438 4.847656 -6.722656 4.578125 -6.953125 C 4.316406 -7.191406 3.957031 -7.3125 3.5 -7.3125 C 3.03125 -7.3125 2.664062 -7.191406 2.40625 -6.953125 C 2.144531 -6.722656 2.015625 -6.398438 2.015625 -5.984375 Z M 2.015625 -5.984375 \"/>\n",
       "</symbol>\n",
       "<symbol overflow=\"visible\" id=\"glyph1-0\">\n",
       "<path style=\"stroke:none;\" d=\"M 0.5 1.765625 L 0.5 -7.046875 L 5.5 -7.046875 L 5.5 1.765625 Z M 1.0625 1.21875 L 4.9375 1.21875 L 4.9375 -6.484375 L 1.0625 -6.484375 Z M 1.0625 1.21875 \"/>\n",
       "</symbol>\n",
       "<symbol overflow=\"visible\" id=\"glyph1-1\">\n",
       "<path style=\"stroke:none;\" d=\"M 1.234375 -0.828125 L 2.859375 -0.828125 L 2.859375 -6.390625 L 1.09375 -6.046875 L 1.09375 -6.9375 L 2.84375 -7.296875 L 3.828125 -7.296875 L 3.828125 -0.828125 L 5.4375 -0.828125 L 5.4375 0 L 1.234375 0 Z M 1.234375 -0.828125 \"/>\n",
       "</symbol>\n",
       "<symbol overflow=\"visible\" id=\"glyph1-2\">\n",
       "<path style=\"stroke:none;\" d=\"M 3.171875 -6.640625 C 2.671875 -6.640625 2.289062 -6.390625 2.03125 -5.890625 C 1.78125 -5.390625 1.65625 -4.640625 1.65625 -3.640625 C 1.65625 -2.640625 1.78125 -1.890625 2.03125 -1.390625 C 2.289062 -0.890625 2.671875 -0.640625 3.171875 -0.640625 C 3.691406 -0.640625 4.078125 -0.890625 4.328125 -1.390625 C 4.585938 -1.890625 4.71875 -2.640625 4.71875 -3.640625 C 4.71875 -4.640625 4.585938 -5.390625 4.328125 -5.890625 C 4.078125 -6.390625 3.691406 -6.640625 3.171875 -6.640625 Z M 3.171875 -7.421875 C 3.992188 -7.421875 4.617188 -7.097656 5.046875 -6.453125 C 5.484375 -5.804688 5.703125 -4.867188 5.703125 -3.640625 C 5.703125 -2.410156 5.484375 -1.472656 5.046875 -0.828125 C 4.617188 -0.179688 3.992188 0.140625 3.171875 0.140625 C 2.359375 0.140625 1.734375 -0.179688 1.296875 -0.828125 C 0.867188 -1.472656 0.65625 -2.410156 0.65625 -3.640625 C 0.65625 -4.867188 0.867188 -5.804688 1.296875 -6.453125 C 1.734375 -7.097656 2.359375 -7.421875 3.171875 -7.421875 Z M 3.171875 -7.421875 \"/>\n",
       "</symbol>\n",
       "<symbol overflow=\"visible\" id=\"glyph1-3\">\n",
       "<path style=\"stroke:none;\" d=\"M 1.921875 -0.828125 L 5.359375 -0.828125 L 5.359375 0 L 0.734375 0 L 0.734375 -0.828125 C 1.109375 -1.210938 1.617188 -1.734375 2.265625 -2.390625 C 2.910156 -3.046875 3.316406 -3.46875 3.484375 -3.65625 C 3.796875 -4.007812 4.015625 -4.304688 4.140625 -4.546875 C 4.265625 -4.796875 4.328125 -5.039062 4.328125 -5.28125 C 4.328125 -5.664062 4.191406 -5.976562 3.921875 -6.21875 C 3.648438 -6.46875 3.296875 -6.59375 2.859375 -6.59375 C 2.546875 -6.59375 2.21875 -6.535156 1.875 -6.421875 C 1.539062 -6.316406 1.175781 -6.15625 0.78125 -5.9375 L 0.78125 -6.9375 C 1.175781 -7.09375 1.546875 -7.210938 1.890625 -7.296875 C 2.234375 -7.378906 2.550781 -7.421875 2.84375 -7.421875 C 3.59375 -7.421875 4.191406 -7.234375 4.640625 -6.859375 C 5.097656 -6.484375 5.328125 -5.976562 5.328125 -5.34375 C 5.328125 -5.039062 5.269531 -4.753906 5.15625 -4.484375 C 5.039062 -4.222656 4.835938 -3.910156 4.546875 -3.546875 C 4.460938 -3.453125 4.203125 -3.175781 3.765625 -2.71875 C 3.328125 -2.269531 2.710938 -1.640625 1.921875 -0.828125 Z M 1.921875 -0.828125 \"/>\n",
       "</symbol>\n",
       "<symbol overflow=\"visible\" id=\"glyph1-4\">\n",
       "<path style=\"stroke:none;\" d=\"M 3.78125 -6.4375 L 1.296875 -2.546875 L 3.78125 -2.546875 Z M 3.515625 -7.296875 L 4.765625 -7.296875 L 4.765625 -2.546875 L 5.796875 -2.546875 L 5.796875 -1.71875 L 4.765625 -1.71875 L 4.765625 0 L 3.78125 0 L 3.78125 -1.71875 L 0.484375 -1.71875 L 0.484375 -2.671875 Z M 3.515625 -7.296875 \"/>\n",
       "</symbol>\n",
       "<symbol overflow=\"visible\" id=\"glyph1-5\">\n",
       "<path style=\"stroke:none;\" d=\"M 3.171875 -3.46875 C 2.703125 -3.46875 2.332031 -3.335938 2.0625 -3.078125 C 1.800781 -2.828125 1.671875 -2.484375 1.671875 -2.046875 C 1.671875 -1.609375 1.800781 -1.265625 2.0625 -1.015625 C 2.332031 -0.765625 2.703125 -0.640625 3.171875 -0.640625 C 3.640625 -0.640625 4.007812 -0.765625 4.28125 -1.015625 C 4.550781 -1.265625 4.6875 -1.609375 4.6875 -2.046875 C 4.6875 -2.484375 4.550781 -2.828125 4.28125 -3.078125 C 4.019531 -3.335938 3.648438 -3.46875 3.171875 -3.46875 Z M 2.1875 -3.875 C 1.769531 -3.976562 1.441406 -4.175781 1.203125 -4.46875 C 0.960938 -4.757812 0.84375 -5.113281 0.84375 -5.53125 C 0.84375 -6.113281 1.050781 -6.570312 1.46875 -6.90625 C 1.882812 -7.25 2.453125 -7.421875 3.171875 -7.421875 C 3.898438 -7.421875 4.472656 -7.25 4.890625 -6.90625 C 5.304688 -6.570312 5.515625 -6.113281 5.515625 -5.53125 C 5.515625 -5.113281 5.394531 -4.757812 5.15625 -4.46875 C 4.914062 -4.175781 4.585938 -3.976562 4.171875 -3.875 C 4.648438 -3.769531 5.019531 -3.554688 5.28125 -3.234375 C 5.539062 -2.910156 5.671875 -2.515625 5.671875 -2.046875 C 5.671875 -1.335938 5.457031 -0.796875 5.03125 -0.421875 C 4.601562 -0.046875 3.984375 0.140625 3.171875 0.140625 C 2.367188 0.140625 1.75 -0.046875 1.3125 -0.421875 C 0.882812 -0.796875 0.671875 -1.335938 0.671875 -2.046875 C 0.671875 -2.515625 0.804688 -2.910156 1.078125 -3.234375 C 1.347656 -3.554688 1.71875 -3.769531 2.1875 -3.875 Z M 1.828125 -5.4375 C 1.828125 -5.0625 1.945312 -4.765625 2.1875 -4.546875 C 2.425781 -4.335938 2.753906 -4.234375 3.171875 -4.234375 C 3.597656 -4.234375 3.929688 -4.335938 4.171875 -4.546875 C 4.410156 -4.765625 4.53125 -5.0625 4.53125 -5.4375 C 4.53125 -5.8125 4.410156 -6.101562 4.171875 -6.3125 C 3.929688 -6.53125 3.597656 -6.640625 3.171875 -6.640625 C 2.753906 -6.640625 2.425781 -6.53125 2.1875 -6.3125 C 1.945312 -6.101562 1.828125 -5.8125 1.828125 -5.4375 Z M 1.828125 -5.4375 \"/>\n",
       "</symbol>\n",
       "<symbol overflow=\"visible\" id=\"glyph2-0\">\n",
       "<path style=\"stroke:none;\" d=\"M 0.59375 2.125 L 0.59375 -8.46875 L 6.59375 -8.46875 L 6.59375 2.125 Z M 1.265625 1.453125 L 5.9375 1.453125 L 5.9375 -7.78125 L 1.265625 -7.78125 Z M 1.265625 1.453125 \"/>\n",
       "</symbol>\n",
       "<symbol overflow=\"visible\" id=\"glyph2-1\">\n",
       "<path style=\"stroke:none;\" d=\"M 7.734375 -8.078125 L 7.734375 -6.828125 C 7.328125 -7.203125 6.898438 -7.476562 6.453125 -7.65625 C 6.003906 -7.84375 5.523438 -7.9375 5.015625 -7.9375 C 4.015625 -7.9375 3.25 -7.628906 2.71875 -7.015625 C 2.1875 -6.398438 1.921875 -5.515625 1.921875 -4.359375 C 1.921875 -3.210938 2.1875 -2.332031 2.71875 -1.71875 C 3.25 -1.101562 4.015625 -0.796875 5.015625 -0.796875 C 5.523438 -0.796875 6.003906 -0.890625 6.453125 -1.078125 C 6.898438 -1.265625 7.328125 -1.539062 7.734375 -1.90625 L 7.734375 -0.671875 C 7.316406 -0.390625 6.875 -0.175781 6.40625 -0.03125 C 5.945312 0.101562 5.460938 0.171875 4.953125 0.171875 C 3.617188 0.171875 2.570312 -0.234375 1.8125 -1.046875 C 1.050781 -1.859375 0.671875 -2.960938 0.671875 -4.359375 C 0.671875 -5.765625 1.050781 -6.875 1.8125 -7.6875 C 2.570312 -8.5 3.617188 -8.90625 4.953125 -8.90625 C 5.472656 -8.90625 5.960938 -8.832031 6.421875 -8.6875 C 6.890625 -8.550781 7.328125 -8.347656 7.734375 -8.078125 Z M 7.734375 -8.078125 \"/>\n",
       "</symbol>\n",
       "<symbol overflow=\"visible\" id=\"glyph2-2\">\n",
       "<path style=\"stroke:none;\" d=\"M 3.859375 0.609375 C 3.554688 1.390625 3.257812 1.898438 2.96875 2.140625 C 2.675781 2.378906 2.289062 2.5 1.8125 2.5 L 0.953125 2.5 L 0.953125 1.59375 L 1.578125 1.59375 C 1.878906 1.59375 2.109375 1.519531 2.265625 1.375 C 2.429688 1.238281 2.613281 0.910156 2.8125 0.390625 L 3.015625 -0.109375 L 0.359375 -6.5625 L 1.5 -6.5625 L 3.546875 -1.4375 L 5.609375 -6.5625 L 6.75 -6.5625 Z M 3.859375 0.609375 \"/>\n",
       "</symbol>\n",
       "<symbol overflow=\"visible\" id=\"glyph2-3\">\n",
       "<path style=\"stroke:none;\" d=\"M 5.859375 -6.3125 L 5.859375 -5.296875 C 5.546875 -5.472656 5.238281 -5.601562 4.9375 -5.6875 C 4.632812 -5.769531 4.328125 -5.8125 4.015625 -5.8125 C 3.304688 -5.8125 2.757812 -5.585938 2.375 -5.140625 C 1.988281 -4.703125 1.796875 -4.082031 1.796875 -3.28125 C 1.796875 -2.476562 1.988281 -1.851562 2.375 -1.40625 C 2.757812 -0.96875 3.304688 -0.75 4.015625 -0.75 C 4.328125 -0.75 4.632812 -0.789062 4.9375 -0.875 C 5.238281 -0.957031 5.546875 -1.082031 5.859375 -1.25 L 5.859375 -0.25 C 5.554688 -0.113281 5.242188 -0.0078125 4.921875 0.0625 C 4.597656 0.132812 4.253906 0.171875 3.890625 0.171875 C 2.898438 0.171875 2.113281 -0.132812 1.53125 -0.75 C 0.945312 -1.375 0.65625 -2.21875 0.65625 -3.28125 C 0.65625 -4.34375 0.945312 -5.179688 1.53125 -5.796875 C 2.125 -6.410156 2.9375 -6.71875 3.96875 -6.71875 C 4.289062 -6.71875 4.609375 -6.679688 4.921875 -6.609375 C 5.242188 -6.546875 5.554688 -6.445312 5.859375 -6.3125 Z M 5.859375 -6.3125 \"/>\n",
       "</symbol>\n",
       "<symbol overflow=\"visible\" id=\"glyph2-4\">\n",
       "<path style=\"stroke:none;\" d=\"M 1.125 -9.125 L 2.203125 -9.125 L 2.203125 0 L 1.125 0 Z M 1.125 -9.125 \"/>\n",
       "</symbol>\n",
       "<symbol overflow=\"visible\" id=\"glyph2-5\">\n",
       "<path style=\"stroke:none;\" d=\"M 3.671875 -5.8125 C 3.097656 -5.8125 2.640625 -5.582031 2.296875 -5.125 C 1.960938 -4.675781 1.796875 -4.0625 1.796875 -3.28125 C 1.796875 -2.488281 1.960938 -1.867188 2.296875 -1.421875 C 2.628906 -0.972656 3.085938 -0.75 3.671875 -0.75 C 4.242188 -0.75 4.695312 -0.972656 5.03125 -1.421875 C 5.375 -1.878906 5.546875 -2.5 5.546875 -3.28125 C 5.546875 -4.050781 5.375 -4.664062 5.03125 -5.125 C 4.695312 -5.582031 4.242188 -5.8125 3.671875 -5.8125 Z M 3.671875 -6.71875 C 4.609375 -6.71875 5.34375 -6.410156 5.875 -5.796875 C 6.414062 -5.191406 6.6875 -4.351562 6.6875 -3.28125 C 6.6875 -2.207031 6.414062 -1.363281 5.875 -0.75 C 5.34375 -0.132812 4.609375 0.171875 3.671875 0.171875 C 2.734375 0.171875 1.992188 -0.132812 1.453125 -0.75 C 0.921875 -1.363281 0.65625 -2.207031 0.65625 -3.28125 C 0.65625 -4.351562 0.921875 -5.191406 1.453125 -5.796875 C 1.992188 -6.410156 2.734375 -6.71875 3.671875 -6.71875 Z M 3.671875 -6.71875 \"/>\n",
       "</symbol>\n",
       "<symbol overflow=\"visible\" id=\"glyph2-6\">\n",
       "<path style=\"stroke:none;\" d=\"M 2.171875 -0.984375 L 2.171875 2.5 L 1.09375 2.5 L 1.09375 -6.5625 L 2.171875 -6.5625 L 2.171875 -5.5625 C 2.398438 -5.957031 2.6875 -6.25 3.03125 -6.4375 C 3.375 -6.625 3.785156 -6.71875 4.265625 -6.71875 C 5.066406 -6.71875 5.71875 -6.398438 6.21875 -5.765625 C 6.71875 -5.140625 6.96875 -4.3125 6.96875 -3.28125 C 6.96875 -2.25 6.71875 -1.414062 6.21875 -0.78125 C 5.71875 -0.144531 5.066406 0.171875 4.265625 0.171875 C 3.785156 0.171875 3.375 0.078125 3.03125 -0.109375 C 2.6875 -0.304688 2.398438 -0.597656 2.171875 -0.984375 Z M 5.84375 -3.28125 C 5.84375 -4.070312 5.675781 -4.691406 5.34375 -5.140625 C 5.019531 -5.585938 4.578125 -5.8125 4.015625 -5.8125 C 3.441406 -5.8125 2.988281 -5.585938 2.65625 -5.140625 C 2.332031 -4.691406 2.171875 -4.070312 2.171875 -3.28125 C 2.171875 -2.488281 2.332031 -1.863281 2.65625 -1.40625 C 2.988281 -0.957031 3.441406 -0.734375 4.015625 -0.734375 C 4.578125 -0.734375 5.019531 -0.957031 5.34375 -1.40625 C 5.675781 -1.863281 5.84375 -2.488281 5.84375 -3.28125 Z M 5.84375 -3.28125 \"/>\n",
       "</symbol>\n",
       "<symbol overflow=\"visible\" id=\"glyph2-7\">\n",
       "<path style=\"stroke:none;\" d=\"M 6.59375 -3.96875 L 6.59375 0 L 5.515625 0 L 5.515625 -3.921875 C 5.515625 -4.546875 5.390625 -5.007812 5.140625 -5.3125 C 4.898438 -5.625 4.539062 -5.78125 4.0625 -5.78125 C 3.476562 -5.78125 3.015625 -5.59375 2.671875 -5.21875 C 2.335938 -4.851562 2.171875 -4.347656 2.171875 -3.703125 L 2.171875 0 L 1.09375 0 L 1.09375 -9.125 L 2.171875 -9.125 L 2.171875 -5.546875 C 2.429688 -5.941406 2.734375 -6.234375 3.078125 -6.421875 C 3.429688 -6.617188 3.835938 -6.71875 4.296875 -6.71875 C 5.046875 -6.71875 5.613281 -6.484375 6 -6.015625 C 6.394531 -5.554688 6.59375 -4.875 6.59375 -3.96875 Z M 6.59375 -3.96875 \"/>\n",
       "</symbol>\n",
       "<symbol overflow=\"visible\" id=\"glyph2-8\">\n",
       "<path style=\"stroke:none;\" d=\"M 5.3125 -6.375 L 5.3125 -5.34375 C 5.007812 -5.5 4.691406 -5.613281 4.359375 -5.6875 C 4.035156 -5.769531 3.695312 -5.8125 3.34375 -5.8125 C 2.8125 -5.8125 2.410156 -5.726562 2.140625 -5.5625 C 1.867188 -5.40625 1.734375 -5.160156 1.734375 -4.828125 C 1.734375 -4.578125 1.828125 -4.378906 2.015625 -4.234375 C 2.210938 -4.097656 2.601562 -3.96875 3.1875 -3.84375 L 3.546875 -3.75 C 4.316406 -3.59375 4.863281 -3.363281 5.1875 -3.0625 C 5.507812 -2.757812 5.671875 -2.34375 5.671875 -1.8125 C 5.671875 -1.195312 5.425781 -0.710938 4.9375 -0.359375 C 4.457031 -0.00390625 3.796875 0.171875 2.953125 0.171875 C 2.597656 0.171875 2.226562 0.132812 1.84375 0.0625 C 1.46875 0 1.070312 -0.0976562 0.65625 -0.234375 L 0.65625 -1.359375 C 1.050781 -1.148438 1.441406 -0.992188 1.828125 -0.890625 C 2.210938 -0.785156 2.597656 -0.734375 2.984375 -0.734375 C 3.484375 -0.734375 3.867188 -0.816406 4.140625 -0.984375 C 4.421875 -1.160156 4.5625 -1.410156 4.5625 -1.734375 C 4.5625 -2.023438 4.460938 -2.25 4.265625 -2.40625 C 4.066406 -2.5625 3.632812 -2.710938 2.96875 -2.859375 L 2.59375 -2.9375 C 1.925781 -3.082031 1.441406 -3.300781 1.140625 -3.59375 C 0.847656 -3.882812 0.703125 -4.28125 0.703125 -4.78125 C 0.703125 -5.40625 0.921875 -5.882812 1.359375 -6.21875 C 1.796875 -6.550781 2.414062 -6.71875 3.21875 -6.71875 C 3.613281 -6.71875 3.988281 -6.6875 4.34375 -6.625 C 4.695312 -6.570312 5.019531 -6.488281 5.3125 -6.375 Z M 5.3125 -6.375 \"/>\n",
       "</symbol>\n",
       "<symbol overflow=\"visible\" id=\"glyph2-9\">\n",
       "<path style=\"stroke:none;\" d=\"M 4.109375 -3.296875 C 3.242188 -3.296875 2.640625 -3.195312 2.296875 -3 C 1.960938 -2.800781 1.796875 -2.460938 1.796875 -1.984375 C 1.796875 -1.597656 1.921875 -1.289062 2.171875 -1.0625 C 2.429688 -0.84375 2.773438 -0.734375 3.203125 -0.734375 C 3.804688 -0.734375 4.285156 -0.941406 4.640625 -1.359375 C 5.003906 -1.785156 5.1875 -2.351562 5.1875 -3.0625 L 5.1875 -3.296875 Z M 6.265625 -3.75 L 6.265625 0 L 5.1875 0 L 5.1875 -1 C 4.9375 -0.601562 4.628906 -0.304688 4.265625 -0.109375 C 3.898438 0.078125 3.453125 0.171875 2.921875 0.171875 C 2.242188 0.171875 1.707031 -0.015625 1.3125 -0.390625 C 0.914062 -0.773438 0.71875 -1.28125 0.71875 -1.90625 C 0.71875 -2.644531 0.960938 -3.203125 1.453125 -3.578125 C 1.953125 -3.953125 2.691406 -4.140625 3.671875 -4.140625 L 5.1875 -4.140625 L 5.1875 -4.25 C 5.1875 -4.75 5.019531 -5.132812 4.6875 -5.40625 C 4.363281 -5.675781 3.910156 -5.8125 3.328125 -5.8125 C 2.953125 -5.8125 2.582031 -5.765625 2.21875 -5.671875 C 1.863281 -5.578125 1.523438 -5.441406 1.203125 -5.265625 L 1.203125 -6.265625 C 1.597656 -6.421875 1.976562 -6.535156 2.34375 -6.609375 C 2.71875 -6.679688 3.082031 -6.71875 3.4375 -6.71875 C 4.382812 -6.71875 5.09375 -6.472656 5.5625 -5.984375 C 6.03125 -5.492188 6.265625 -4.75 6.265625 -3.75 Z M 6.265625 -3.75 \"/>\n",
       "</symbol>\n",
       "<symbol overflow=\"visible\" id=\"glyph2-10\">\n",
       "<path style=\"stroke:none;\" d=\"M 6.234375 -5.296875 C 6.503906 -5.785156 6.828125 -6.144531 7.203125 -6.375 C 7.578125 -6.601562 8.019531 -6.71875 8.53125 -6.71875 C 9.21875 -6.71875 9.742188 -6.476562 10.109375 -6 C 10.484375 -5.519531 10.671875 -4.84375 10.671875 -3.96875 L 10.671875 0 L 9.59375 0 L 9.59375 -3.921875 C 9.59375 -4.554688 9.476562 -5.023438 9.25 -5.328125 C 9.03125 -5.628906 8.691406 -5.78125 8.234375 -5.78125 C 7.671875 -5.78125 7.226562 -5.59375 6.90625 -5.21875 C 6.582031 -4.851562 6.421875 -4.347656 6.421875 -3.703125 L 6.421875 0 L 5.34375 0 L 5.34375 -3.921875 C 5.34375 -4.554688 5.226562 -5.023438 5 -5.328125 C 4.78125 -5.628906 4.4375 -5.78125 3.96875 -5.78125 C 3.414062 -5.78125 2.976562 -5.59375 2.65625 -5.21875 C 2.332031 -4.851562 2.171875 -4.347656 2.171875 -3.703125 L 2.171875 0 L 1.09375 0 L 1.09375 -6.5625 L 2.171875 -6.5625 L 2.171875 -5.546875 C 2.421875 -5.941406 2.71875 -6.234375 3.0625 -6.421875 C 3.40625 -6.617188 3.8125 -6.71875 4.28125 -6.71875 C 4.757812 -6.71875 5.164062 -6.597656 5.5 -6.359375 C 5.832031 -6.117188 6.078125 -5.765625 6.234375 -5.296875 Z M 6.234375 -5.296875 \"/>\n",
       "</symbol>\n",
       "<symbol overflow=\"visible\" id=\"glyph2-11\">\n",
       "<path style=\"stroke:none;\" d=\"M 1.125 -6.5625 L 2.203125 -6.5625 L 2.203125 0 L 1.125 0 Z M 1.125 -9.125 L 2.203125 -9.125 L 2.203125 -7.75 L 1.125 -7.75 Z M 1.125 -9.125 \"/>\n",
       "</symbol>\n",
       "<symbol overflow=\"visible\" id=\"glyph2-12\">\n",
       "<path style=\"stroke:none;\" d=\"M 5.453125 -5.5625 L 5.453125 -9.125 L 6.53125 -9.125 L 6.53125 0 L 5.453125 0 L 5.453125 -0.984375 C 5.222656 -0.597656 4.9375 -0.304688 4.59375 -0.109375 C 4.25 0.078125 3.832031 0.171875 3.34375 0.171875 C 2.550781 0.171875 1.90625 -0.144531 1.40625 -0.78125 C 0.90625 -1.414062 0.65625 -2.25 0.65625 -3.28125 C 0.65625 -4.3125 0.90625 -5.140625 1.40625 -5.765625 C 1.90625 -6.398438 2.550781 -6.71875 3.34375 -6.71875 C 3.832031 -6.71875 4.25 -6.625 4.59375 -6.4375 C 4.9375 -6.25 5.222656 -5.957031 5.453125 -5.5625 Z M 1.78125 -3.28125 C 1.78125 -2.488281 1.941406 -1.863281 2.265625 -1.40625 C 2.585938 -0.957031 3.035156 -0.734375 3.609375 -0.734375 C 4.179688 -0.734375 4.628906 -0.957031 4.953125 -1.40625 C 5.285156 -1.863281 5.453125 -2.488281 5.453125 -3.28125 C 5.453125 -4.070312 5.285156 -4.691406 4.953125 -5.140625 C 4.628906 -5.585938 4.179688 -5.8125 3.609375 -5.8125 C 3.035156 -5.8125 2.585938 -5.585938 2.265625 -5.140625 C 1.941406 -4.691406 1.78125 -4.070312 1.78125 -3.28125 Z M 1.78125 -3.28125 \"/>\n",
       "</symbol>\n",
       "<symbol overflow=\"visible\" id=\"glyph2-13\">\n",
       "<path style=\"stroke:none;\" d=\"M 6.75 -3.546875 L 6.75 -3.03125 L 1.78125 -3.03125 C 1.832031 -2.28125 2.054688 -1.710938 2.453125 -1.328125 C 2.859375 -0.941406 3.414062 -0.75 4.125 -0.75 C 4.539062 -0.75 4.941406 -0.796875 5.328125 -0.890625 C 5.722656 -0.992188 6.113281 -1.148438 6.5 -1.359375 L 6.5 -0.328125 C 6.101562 -0.171875 5.703125 -0.0507812 5.296875 0.03125 C 4.890625 0.125 4.476562 0.171875 4.0625 0.171875 C 3.019531 0.171875 2.191406 -0.128906 1.578125 -0.734375 C 0.960938 -1.347656 0.65625 -2.175781 0.65625 -3.21875 C 0.65625 -4.289062 0.945312 -5.140625 1.53125 -5.765625 C 2.113281 -6.398438 2.894531 -6.71875 3.875 -6.71875 C 4.757812 -6.71875 5.457031 -6.429688 5.96875 -5.859375 C 6.488281 -5.296875 6.75 -4.523438 6.75 -3.546875 Z M 5.671875 -3.875 C 5.660156 -4.457031 5.492188 -4.925781 5.171875 -5.28125 C 4.847656 -5.632812 4.421875 -5.8125 3.890625 -5.8125 C 3.285156 -5.8125 2.800781 -5.640625 2.4375 -5.296875 C 2.082031 -4.953125 1.878906 -4.472656 1.828125 -3.859375 Z M 5.671875 -3.875 \"/>\n",
       "</symbol>\n",
       "<symbol overflow=\"visible\" id=\"glyph2-14\">\n",
       "<path style=\"stroke:none;\" d=\"\"/>\n",
       "</symbol>\n",
       "<symbol overflow=\"visible\" id=\"glyph2-15\">\n",
       "<path style=\"stroke:none;\" d=\"M 1.015625 -2.59375 L 1.015625 -6.5625 L 2.09375 -6.5625 L 2.09375 -2.625 C 2.09375 -2.007812 2.210938 -1.546875 2.453125 -1.234375 C 2.703125 -0.921875 3.066406 -0.765625 3.546875 -0.765625 C 4.128906 -0.765625 4.585938 -0.945312 4.921875 -1.3125 C 5.265625 -1.6875 5.4375 -2.195312 5.4375 -2.84375 L 5.4375 -6.5625 L 6.515625 -6.5625 L 6.515625 0 L 5.4375 0 L 5.4375 -1.015625 C 5.175781 -0.609375 4.875 -0.304688 4.53125 -0.109375 C 4.1875 0.078125 3.785156 0.171875 3.328125 0.171875 C 2.566406 0.171875 1.988281 -0.0625 1.59375 -0.53125 C 1.207031 -1 1.015625 -1.6875 1.015625 -2.59375 Z M 3.734375 -6.71875 Z M 3.734375 -6.71875 \"/>\n",
       "</symbol>\n",
       "<symbol overflow=\"visible\" id=\"glyph2-16\">\n",
       "<path style=\"stroke:none;\" d=\"M 2.203125 -8.421875 L 2.203125 -6.5625 L 4.421875 -6.5625 L 4.421875 -5.71875 L 2.203125 -5.71875 L 2.203125 -2.15625 C 2.203125 -1.625 2.273438 -1.28125 2.421875 -1.125 C 2.566406 -0.976562 2.863281 -0.90625 3.3125 -0.90625 L 4.421875 -0.90625 L 4.421875 0 L 3.3125 0 C 2.476562 0 1.898438 -0.15625 1.578125 -0.46875 C 1.265625 -0.78125 1.109375 -1.34375 1.109375 -2.15625 L 1.109375 -5.71875 L 0.328125 -5.71875 L 0.328125 -6.5625 L 1.109375 -6.5625 L 1.109375 -8.421875 Z M 2.203125 -8.421875 \"/>\n",
       "</symbol>\n",
       "<symbol overflow=\"visible\" id=\"glyph2-17\">\n",
       "<path style=\"stroke:none;\" d=\"M 0.359375 -6.5625 L 1.5 -6.5625 L 3.546875 -1.0625 L 5.609375 -6.5625 L 6.75 -6.5625 L 4.28125 0 L 2.8125 0 Z M 0.359375 -6.5625 \"/>\n",
       "</symbol>\n",
       "<symbol overflow=\"visible\" id=\"glyph3-0\">\n",
       "<path style=\"stroke:none;\" d=\"M 2.125 -0.59375 L -8.46875 -0.59375 L -8.46875 -6.59375 L 2.125 -6.59375 Z M 1.453125 -1.265625 L 1.453125 -5.9375 L -7.78125 -5.9375 L -7.78125 -1.265625 Z M 1.453125 -1.265625 \"/>\n",
       "</symbol>\n",
       "<symbol overflow=\"visible\" id=\"glyph3-1\">\n",
       "<path style=\"stroke:none;\" d=\"M -4.109375 -5.328125 C -4.015625 -5.578125 -3.828125 -5.820312 -3.546875 -6.0625 C -3.265625 -6.300781 -2.878906 -6.546875 -2.390625 -6.796875 L 0 -8 L 0 -6.71875 L -2.25 -5.609375 C -2.832031 -5.316406 -3.21875 -5.035156 -3.40625 -4.765625 C -3.601562 -4.492188 -3.703125 -4.125 -3.703125 -3.65625 L -3.703125 -2.359375 L 0 -2.359375 L 0 -1.171875 L -8.75 -1.171875 L -8.75 -3.84375 C -8.75 -4.84375 -8.539062 -5.585938 -8.125 -6.078125 C -7.707031 -6.578125 -7.078125 -6.828125 -6.234375 -6.828125 C -5.679688 -6.828125 -5.222656 -6.695312 -4.859375 -6.4375 C -4.492188 -6.1875 -4.242188 -5.816406 -4.109375 -5.328125 Z M -7.78125 -2.359375 L -4.671875 -2.359375 L -4.671875 -3.84375 C -4.671875 -4.414062 -4.800781 -4.847656 -5.0625 -5.140625 C -5.332031 -5.429688 -5.722656 -5.578125 -6.234375 -5.578125 C -6.742188 -5.578125 -7.128906 -5.429688 -7.390625 -5.140625 C -7.648438 -4.847656 -7.78125 -4.414062 -7.78125 -3.84375 Z M -7.78125 -2.359375 \"/>\n",
       "</symbol>\n",
       "<symbol overflow=\"visible\" id=\"glyph3-2\">\n",
       "<path style=\"stroke:none;\" d=\"M -3.296875 -4.109375 C -3.296875 -3.242188 -3.195312 -2.640625 -3 -2.296875 C -2.800781 -1.960938 -2.460938 -1.796875 -1.984375 -1.796875 C -1.597656 -1.796875 -1.289062 -1.921875 -1.0625 -2.171875 C -0.84375 -2.429688 -0.734375 -2.773438 -0.734375 -3.203125 C -0.734375 -3.804688 -0.941406 -4.285156 -1.359375 -4.640625 C -1.785156 -5.003906 -2.351562 -5.1875 -3.0625 -5.1875 L -3.296875 -5.1875 Z M -3.75 -6.265625 L 0 -6.265625 L 0 -5.1875 L -1 -5.1875 C -0.601562 -4.9375 -0.304688 -4.628906 -0.109375 -4.265625 C 0.078125 -3.898438 0.171875 -3.453125 0.171875 -2.921875 C 0.171875 -2.242188 -0.015625 -1.707031 -0.390625 -1.3125 C -0.773438 -0.914062 -1.28125 -0.71875 -1.90625 -0.71875 C -2.644531 -0.71875 -3.203125 -0.960938 -3.578125 -1.453125 C -3.953125 -1.953125 -4.140625 -2.691406 -4.140625 -3.671875 L -4.140625 -5.1875 L -4.25 -5.1875 C -4.75 -5.1875 -5.132812 -5.019531 -5.40625 -4.6875 C -5.675781 -4.363281 -5.8125 -3.910156 -5.8125 -3.328125 C -5.8125 -2.953125 -5.765625 -2.582031 -5.671875 -2.21875 C -5.578125 -1.863281 -5.441406 -1.523438 -5.265625 -1.203125 L -6.265625 -1.203125 C -6.421875 -1.597656 -6.535156 -1.976562 -6.609375 -2.34375 C -6.679688 -2.71875 -6.71875 -3.082031 -6.71875 -3.4375 C -6.71875 -4.382812 -6.472656 -5.09375 -5.984375 -5.5625 C -5.492188 -6.03125 -4.75 -6.265625 -3.75 -6.265625 Z M -3.75 -6.265625 \"/>\n",
       "</symbol>\n",
       "<symbol overflow=\"visible\" id=\"glyph3-3\">\n",
       "<path style=\"stroke:none;\" d=\"M -8.421875 -2.203125 L -6.5625 -2.203125 L -6.5625 -4.421875 L -5.71875 -4.421875 L -5.71875 -2.203125 L -2.15625 -2.203125 C -1.625 -2.203125 -1.28125 -2.273438 -1.125 -2.421875 C -0.976562 -2.566406 -0.90625 -2.863281 -0.90625 -3.3125 L -0.90625 -4.421875 L 0 -4.421875 L 0 -3.3125 C 0 -2.476562 -0.15625 -1.898438 -0.46875 -1.578125 C -0.78125 -1.265625 -1.34375 -1.109375 -2.15625 -1.109375 L -5.71875 -1.109375 L -5.71875 -0.328125 L -6.5625 -0.328125 L -6.5625 -1.109375 L -8.421875 -1.109375 Z M -8.421875 -2.203125 \"/>\n",
       "</symbol>\n",
       "<symbol overflow=\"visible\" id=\"glyph3-4\">\n",
       "<path style=\"stroke:none;\" d=\"M -3.546875 -6.75 L -3.03125 -6.75 L -3.03125 -1.78125 C -2.28125 -1.832031 -1.710938 -2.054688 -1.328125 -2.453125 C -0.941406 -2.859375 -0.75 -3.414062 -0.75 -4.125 C -0.75 -4.539062 -0.796875 -4.941406 -0.890625 -5.328125 C -0.992188 -5.722656 -1.148438 -6.113281 -1.359375 -6.5 L -0.328125 -6.5 C -0.171875 -6.101562 -0.0507812 -5.703125 0.03125 -5.296875 C 0.125 -4.890625 0.171875 -4.476562 0.171875 -4.0625 C 0.171875 -3.019531 -0.128906 -2.191406 -0.734375 -1.578125 C -1.347656 -0.960938 -2.175781 -0.65625 -3.21875 -0.65625 C -4.289062 -0.65625 -5.140625 -0.945312 -5.765625 -1.53125 C -6.398438 -2.113281 -6.71875 -2.894531 -6.71875 -3.875 C -6.71875 -4.757812 -6.429688 -5.457031 -5.859375 -5.96875 C -5.296875 -6.488281 -4.523438 -6.75 -3.546875 -6.75 Z M -3.875 -5.671875 C -4.457031 -5.660156 -4.925781 -5.492188 -5.28125 -5.171875 C -5.632812 -4.847656 -5.8125 -4.421875 -5.8125 -3.890625 C -5.8125 -3.285156 -5.640625 -2.800781 -5.296875 -2.4375 C -4.953125 -2.082031 -4.472656 -1.878906 -3.859375 -1.828125 Z M -3.875 -5.671875 \"/>\n",
       "</symbol>\n",
       "<symbol overflow=\"visible\" id=\"glyph3-5\">\n",
       "<path style=\"stroke:none;\" d=\"\"/>\n",
       "</symbol>\n",
       "<symbol overflow=\"visible\" id=\"glyph3-6\">\n",
       "<path style=\"stroke:none;\" d=\"M -0.984375 -2.171875 L 2.5 -2.171875 L 2.5 -1.09375 L -6.5625 -1.09375 L -6.5625 -2.171875 L -5.5625 -2.171875 C -5.957031 -2.398438 -6.25 -2.6875 -6.4375 -3.03125 C -6.625 -3.375 -6.71875 -3.785156 -6.71875 -4.265625 C -6.71875 -5.066406 -6.398438 -5.71875 -5.765625 -6.21875 C -5.140625 -6.71875 -4.3125 -6.96875 -3.28125 -6.96875 C -2.25 -6.96875 -1.414062 -6.71875 -0.78125 -6.21875 C -0.144531 -5.71875 0.171875 -5.066406 0.171875 -4.265625 C 0.171875 -3.785156 0.078125 -3.375 -0.109375 -3.03125 C -0.304688 -2.6875 -0.597656 -2.398438 -0.984375 -2.171875 Z M -3.28125 -5.84375 C -4.070312 -5.84375 -4.691406 -5.675781 -5.140625 -5.34375 C -5.585938 -5.019531 -5.8125 -4.578125 -5.8125 -4.015625 C -5.8125 -3.441406 -5.585938 -2.988281 -5.140625 -2.65625 C -4.691406 -2.332031 -4.070312 -2.171875 -3.28125 -2.171875 C -2.488281 -2.171875 -1.863281 -2.332031 -1.40625 -2.65625 C -0.957031 -2.988281 -0.734375 -3.441406 -0.734375 -4.015625 C -0.734375 -4.578125 -0.957031 -5.019531 -1.40625 -5.34375 C -1.863281 -5.675781 -2.488281 -5.84375 -3.28125 -5.84375 Z M -3.28125 -5.84375 \"/>\n",
       "</symbol>\n",
       "<symbol overflow=\"visible\" id=\"glyph3-7\">\n",
       "<path style=\"stroke:none;\" d=\"M -5.5625 -4.9375 C -5.625 -4.8125 -5.671875 -4.675781 -5.703125 -4.53125 C -5.742188 -4.394531 -5.765625 -4.238281 -5.765625 -4.0625 C -5.765625 -3.457031 -5.566406 -2.988281 -5.171875 -2.65625 C -4.773438 -2.332031 -4.203125 -2.171875 -3.453125 -2.171875 L 0 -2.171875 L 0 -1.09375 L -6.5625 -1.09375 L -6.5625 -2.171875 L -5.546875 -2.171875 C -5.941406 -2.398438 -6.234375 -2.695312 -6.421875 -3.0625 C -6.617188 -3.425781 -6.71875 -3.867188 -6.71875 -4.390625 C -6.71875 -4.460938 -6.710938 -4.539062 -6.703125 -4.625 C -6.691406 -4.71875 -6.675781 -4.816406 -6.65625 -4.921875 Z M -5.5625 -4.9375 \"/>\n",
       "</symbol>\n",
       "<symbol overflow=\"visible\" id=\"glyph3-8\">\n",
       "<path style=\"stroke:none;\" d=\"M -1 -1.484375 L -1 -3.421875 L -7.671875 -3.421875 L -7.25 -1.3125 L -8.328125 -1.3125 L -8.75 -3.40625 L -8.75 -4.59375 L -1 -4.59375 L -1 -6.53125 L 0 -6.53125 L 0 -1.484375 Z M -1 -1.484375 \"/>\n",
       "</symbol>\n",
       "<symbol overflow=\"visible\" id=\"glyph3-9\">\n",
       "<path style=\"stroke:none;\" d=\"M -7.96875 -3.8125 C -7.96875 -3.207031 -7.664062 -2.75 -7.0625 -2.4375 C -6.46875 -2.132812 -5.566406 -1.984375 -4.359375 -1.984375 C -3.160156 -1.984375 -2.257812 -2.132812 -1.65625 -2.4375 C -1.0625 -2.75 -0.765625 -3.207031 -0.765625 -3.8125 C -0.765625 -4.425781 -1.0625 -4.882812 -1.65625 -5.1875 C -2.257812 -5.5 -3.160156 -5.65625 -4.359375 -5.65625 C -5.566406 -5.65625 -6.46875 -5.5 -7.0625 -5.1875 C -7.664062 -4.882812 -7.96875 -4.425781 -7.96875 -3.8125 Z M -8.90625 -3.8125 C -8.90625 -4.789062 -8.515625 -5.539062 -7.734375 -6.0625 C -6.960938 -6.582031 -5.835938 -6.84375 -4.359375 -6.84375 C -2.890625 -6.84375 -1.765625 -6.582031 -0.984375 -6.0625 C -0.210938 -5.539062 0.171875 -4.789062 0.171875 -3.8125 C 0.171875 -2.832031 -0.210938 -2.082031 -0.984375 -1.5625 C -1.765625 -1.050781 -2.890625 -0.796875 -4.359375 -0.796875 C -5.835938 -0.796875 -6.960938 -1.050781 -7.734375 -1.5625 C -8.515625 -2.082031 -8.90625 -2.832031 -8.90625 -3.8125 Z M -8.90625 -3.8125 \"/>\n",
       "</symbol>\n",
       "<symbol overflow=\"visible\" id=\"glyph3-10\">\n",
       "<path style=\"stroke:none;\" d=\"M -1.484375 -1.40625 L -1.484375 -2.640625 L -0.484375 -2.640625 L 1.390625 -1.6875 L 1.390625 -0.921875 L -0.484375 -1.40625 Z M -1.484375 -1.40625 \"/>\n",
       "</symbol>\n",
       "<symbol overflow=\"visible\" id=\"glyph3-11\">\n",
       "<path style=\"stroke:none;\" d=\"M -6.375 -5.3125 L -5.34375 -5.3125 C -5.5 -5.007812 -5.613281 -4.691406 -5.6875 -4.359375 C -5.769531 -4.035156 -5.8125 -3.695312 -5.8125 -3.34375 C -5.8125 -2.8125 -5.726562 -2.410156 -5.5625 -2.140625 C -5.40625 -1.867188 -5.160156 -1.734375 -4.828125 -1.734375 C -4.578125 -1.734375 -4.378906 -1.828125 -4.234375 -2.015625 C -4.097656 -2.210938 -3.96875 -2.601562 -3.84375 -3.1875 L -3.75 -3.546875 C -3.59375 -4.316406 -3.363281 -4.863281 -3.0625 -5.1875 C -2.757812 -5.507812 -2.34375 -5.671875 -1.8125 -5.671875 C -1.195312 -5.671875 -0.710938 -5.425781 -0.359375 -4.9375 C -0.00390625 -4.457031 0.171875 -3.796875 0.171875 -2.953125 C 0.171875 -2.597656 0.132812 -2.226562 0.0625 -1.84375 C 0 -1.46875 -0.0976562 -1.070312 -0.234375 -0.65625 L -1.359375 -0.65625 C -1.148438 -1.050781 -0.992188 -1.441406 -0.890625 -1.828125 C -0.785156 -2.210938 -0.734375 -2.597656 -0.734375 -2.984375 C -0.734375 -3.484375 -0.816406 -3.867188 -0.984375 -4.140625 C -1.160156 -4.421875 -1.410156 -4.5625 -1.734375 -4.5625 C -2.023438 -4.5625 -2.25 -4.460938 -2.40625 -4.265625 C -2.5625 -4.066406 -2.710938 -3.632812 -2.859375 -2.96875 L -2.9375 -2.59375 C -3.082031 -1.925781 -3.300781 -1.441406 -3.59375 -1.140625 C -3.882812 -0.847656 -4.28125 -0.703125 -4.78125 -0.703125 C -5.40625 -0.703125 -5.882812 -0.921875 -6.21875 -1.359375 C -6.550781 -1.796875 -6.71875 -2.414062 -6.71875 -3.21875 C -6.71875 -3.613281 -6.6875 -3.988281 -6.625 -4.34375 C -6.570312 -4.695312 -6.488281 -5.019531 -6.375 -5.3125 Z M -6.375 -5.3125 \"/>\n",
       "</symbol>\n",
       "<symbol overflow=\"visible\" id=\"glyph3-12\">\n",
       "<path style=\"stroke:none;\" d=\"M -5.8125 -3.671875 C -5.8125 -3.097656 -5.582031 -2.640625 -5.125 -2.296875 C -4.675781 -1.960938 -4.0625 -1.796875 -3.28125 -1.796875 C -2.488281 -1.796875 -1.867188 -1.960938 -1.421875 -2.296875 C -0.972656 -2.628906 -0.75 -3.085938 -0.75 -3.671875 C -0.75 -4.242188 -0.972656 -4.695312 -1.421875 -5.03125 C -1.878906 -5.375 -2.5 -5.546875 -3.28125 -5.546875 C -4.050781 -5.546875 -4.664062 -5.375 -5.125 -5.03125 C -5.582031 -4.695312 -5.8125 -4.242188 -5.8125 -3.671875 Z M -6.71875 -3.671875 C -6.71875 -4.609375 -6.410156 -5.34375 -5.796875 -5.875 C -5.191406 -6.414062 -4.351562 -6.6875 -3.28125 -6.6875 C -2.207031 -6.6875 -1.363281 -6.414062 -0.75 -5.875 C -0.132812 -5.34375 0.171875 -4.609375 0.171875 -3.671875 C 0.171875 -2.734375 -0.132812 -1.992188 -0.75 -1.453125 C -1.363281 -0.921875 -2.207031 -0.65625 -3.28125 -0.65625 C -4.351562 -0.65625 -5.191406 -0.921875 -5.796875 -1.453125 C -6.410156 -1.992188 -6.71875 -2.734375 -6.71875 -3.671875 Z M -6.71875 -3.671875 \"/>\n",
       "</symbol>\n",
       "<symbol overflow=\"visible\" id=\"glyph3-13\">\n",
       "<path style=\"stroke:none;\" d=\"M -3.96875 -6.59375 L 0 -6.59375 L 0 -5.515625 L -3.921875 -5.515625 C -4.546875 -5.515625 -5.007812 -5.390625 -5.3125 -5.140625 C -5.625 -4.898438 -5.78125 -4.539062 -5.78125 -4.0625 C -5.78125 -3.476562 -5.59375 -3.015625 -5.21875 -2.671875 C -4.851562 -2.335938 -4.347656 -2.171875 -3.703125 -2.171875 L 0 -2.171875 L 0 -1.09375 L -6.5625 -1.09375 L -6.5625 -2.171875 L -5.546875 -2.171875 C -5.941406 -2.429688 -6.234375 -2.734375 -6.421875 -3.078125 C -6.617188 -3.429688 -6.71875 -3.835938 -6.71875 -4.296875 C -6.71875 -5.046875 -6.484375 -5.613281 -6.015625 -6 C -5.554688 -6.394531 -4.875 -6.59375 -3.96875 -6.59375 Z M -3.96875 -6.59375 \"/>\n",
       "</symbol>\n",
       "<symbol overflow=\"visible\" id=\"glyph3-14\">\n",
       "<path style=\"stroke:none;\" d=\"M -3.765625 -0.59375 L -3.765625 -3.75 L -2.8125 -3.75 L -2.8125 -0.59375 Z M -3.765625 -0.59375 \"/>\n",
       "</symbol>\n",
       "<symbol overflow=\"visible\" id=\"glyph3-15\">\n",
       "<path style=\"stroke:none;\" d=\"M 0.609375 -3.859375 C 1.390625 -3.554688 1.898438 -3.257812 2.140625 -2.96875 C 2.378906 -2.675781 2.5 -2.289062 2.5 -1.8125 L 2.5 -0.953125 L 1.59375 -0.953125 L 1.59375 -1.578125 C 1.59375 -1.878906 1.519531 -2.109375 1.375 -2.265625 C 1.238281 -2.429688 0.910156 -2.613281 0.390625 -2.8125 L -0.109375 -3.015625 L -6.5625 -0.359375 L -6.5625 -1.5 L -1.4375 -3.546875 L -6.5625 -5.609375 L -6.5625 -6.75 Z M 0.609375 -3.859375 \"/>\n",
       "</symbol>\n",
       "<symbol overflow=\"visible\" id=\"glyph4-0\">\n",
       "<path style=\"stroke:none;\" d=\"M 0.703125 2.46875 L 0.703125 -9.875 L 7.703125 -9.875 L 7.703125 2.46875 Z M 1.484375 1.703125 L 6.921875 1.703125 L 6.921875 -9.078125 L 1.484375 -9.078125 Z M 1.484375 1.703125 \"/>\n",
       "</symbol>\n",
       "<symbol overflow=\"visible\" id=\"glyph4-1\">\n",
       "<path style=\"stroke:none;\" d=\"M 4.78125 -8.84375 L 2.90625 -3.765625 L 6.671875 -3.765625 Z M 4 -10.203125 L 5.578125 -10.203125 L 9.46875 0 L 8.03125 0 L 7.09375 -2.625 L 2.5 -2.625 L 1.5625 0 L 0.109375 0 Z M 4 -10.203125 \"/>\n",
       "</symbol>\n",
       "<symbol overflow=\"visible\" id=\"glyph4-2\">\n",
       "<path style=\"stroke:none;\" d=\"M 1.375 -10.203125 L 3.4375 -10.203125 L 6.03125 -3.265625 L 8.65625 -10.203125 L 10.71875 -10.203125 L 10.71875 0 L 9.359375 0 L 9.359375 -8.96875 L 6.734375 -1.96875 L 5.34375 -1.96875 L 2.71875 -8.96875 L 2.71875 0 L 1.375 0 Z M 1.375 -10.203125 \"/>\n",
       "</symbol>\n",
       "<symbol overflow=\"visible\" id=\"glyph4-3\">\n",
       "<path style=\"stroke:none;\" d=\"M 1.375 -10.203125 L 2.75 -10.203125 L 2.75 -1.15625 L 7.71875 -1.15625 L 7.71875 0 L 1.375 0 Z M 1.375 -10.203125 \"/>\n",
       "</symbol>\n",
       "<symbol overflow=\"visible\" id=\"glyph4-4\">\n",
       "<path style=\"stroke:none;\" d=\"\"/>\n",
       "</symbol>\n",
       "<symbol overflow=\"visible\" id=\"glyph4-5\">\n",
       "<path style=\"stroke:none;\" d=\"M 4.28125 -6.78125 C 3.613281 -6.78125 3.082031 -6.515625 2.6875 -5.984375 C 2.289062 -5.460938 2.09375 -4.742188 2.09375 -3.828125 C 2.09375 -2.910156 2.285156 -2.1875 2.671875 -1.65625 C 3.066406 -1.132812 3.601562 -0.875 4.28125 -0.875 C 4.957031 -0.875 5.488281 -1.132812 5.875 -1.65625 C 6.269531 -2.1875 6.46875 -2.910156 6.46875 -3.828125 C 6.46875 -4.734375 6.269531 -5.453125 5.875 -5.984375 C 5.488281 -6.515625 4.957031 -6.78125 4.28125 -6.78125 Z M 4.28125 -7.84375 C 5.375 -7.84375 6.234375 -7.484375 6.859375 -6.765625 C 7.484375 -6.054688 7.796875 -5.078125 7.796875 -3.828125 C 7.796875 -2.566406 7.484375 -1.578125 6.859375 -0.859375 C 6.234375 -0.148438 5.375 0.203125 4.28125 0.203125 C 3.1875 0.203125 2.328125 -0.148438 1.703125 -0.859375 C 1.078125 -1.578125 0.765625 -2.566406 0.765625 -3.828125 C 0.765625 -5.078125 1.078125 -6.054688 1.703125 -6.765625 C 2.328125 -7.484375 3.1875 -7.84375 4.28125 -7.84375 Z M 4.28125 -7.84375 \"/>\n",
       "</symbol>\n",
       "<symbol overflow=\"visible\" id=\"glyph4-6\">\n",
       "<path style=\"stroke:none;\" d=\"M 5.75 -6.484375 C 5.613281 -6.566406 5.460938 -6.625 5.296875 -6.65625 C 5.128906 -6.695312 4.945312 -6.71875 4.75 -6.71875 C 4.03125 -6.71875 3.476562 -6.484375 3.09375 -6.015625 C 2.71875 -5.554688 2.53125 -4.894531 2.53125 -4.03125 L 2.53125 0 L 1.265625 0 L 1.265625 -7.65625 L 2.53125 -7.65625 L 2.53125 -6.46875 C 2.800781 -6.9375 3.144531 -7.28125 3.5625 -7.5 C 3.988281 -7.726562 4.503906 -7.84375 5.109375 -7.84375 C 5.203125 -7.84375 5.300781 -7.835938 5.40625 -7.828125 C 5.507812 -7.816406 5.625 -7.796875 5.75 -7.765625 Z M 5.75 -6.484375 \"/>\n",
       "</symbol>\n",
       "<symbol overflow=\"visible\" id=\"glyph4-7\">\n",
       "<path style=\"stroke:none;\" d=\"M 2.75 -9.078125 L 2.75 -1.140625 L 4.421875 -1.140625 C 5.828125 -1.140625 6.859375 -1.457031 7.515625 -2.09375 C 8.171875 -2.726562 8.5 -3.734375 8.5 -5.109375 C 8.5 -6.484375 8.171875 -7.488281 7.515625 -8.125 C 6.859375 -8.757812 5.828125 -9.078125 4.421875 -9.078125 Z M 1.375 -10.203125 L 4.21875 -10.203125 C 6.1875 -10.203125 7.632812 -9.789062 8.5625 -8.96875 C 9.488281 -8.144531 9.953125 -6.859375 9.953125 -5.109375 C 9.953125 -3.347656 9.488281 -2.054688 8.5625 -1.234375 C 7.632812 -0.410156 6.1875 0 4.21875 0 L 1.375 0 Z M 1.375 -10.203125 \"/>\n",
       "</symbol>\n",
       "<symbol overflow=\"visible\" id=\"glyph4-8\">\n",
       "<path style=\"stroke:none;\" d=\"M 7.5 -9.875 L 7.5 -8.53125 C 6.96875 -8.78125 6.46875 -8.960938 6 -9.078125 C 5.539062 -9.203125 5.09375 -9.265625 4.65625 -9.265625 C 3.90625 -9.265625 3.328125 -9.117188 2.921875 -8.828125 C 2.515625 -8.535156 2.3125 -8.125 2.3125 -7.59375 C 2.3125 -7.132812 2.445312 -6.789062 2.71875 -6.5625 C 2.988281 -6.332031 3.503906 -6.148438 4.265625 -6.015625 L 5.09375 -5.84375 C 6.125 -5.644531 6.882812 -5.296875 7.375 -4.796875 C 7.863281 -4.304688 8.109375 -3.644531 8.109375 -2.8125 C 8.109375 -1.820312 7.773438 -1.070312 7.109375 -0.5625 C 6.453125 -0.0507812 5.484375 0.203125 4.203125 0.203125 C 3.710938 0.203125 3.195312 0.144531 2.65625 0.03125 C 2.113281 -0.0703125 1.550781 -0.234375 0.96875 -0.453125 L 0.96875 -1.875 C 1.53125 -1.5625 2.078125 -1.320312 2.609375 -1.15625 C 3.148438 -1 3.679688 -0.921875 4.203125 -0.921875 C 4.984375 -0.921875 5.585938 -1.078125 6.015625 -1.390625 C 6.453125 -1.703125 6.671875 -2.144531 6.671875 -2.71875 C 6.671875 -3.21875 6.515625 -3.609375 6.203125 -3.890625 C 5.898438 -4.171875 5.394531 -4.382812 4.6875 -4.53125 L 3.84375 -4.6875 C 2.8125 -4.894531 2.066406 -5.21875 1.609375 -5.65625 C 1.148438 -6.09375 0.921875 -6.703125 0.921875 -7.484375 C 0.921875 -8.378906 1.238281 -9.085938 1.875 -9.609375 C 2.507812 -10.128906 3.382812 -10.390625 4.5 -10.390625 C 4.976562 -10.390625 5.46875 -10.34375 5.96875 -10.25 C 6.46875 -10.164062 6.976562 -10.039062 7.5 -9.875 Z M 7.5 -9.875 \"/>\n",
       "</symbol>\n",
       "</g>\n",
       "<clipPath id=\"clip1\">\n",
       "  <path d=\"M 40.53125 24.152344 L 499 24.152344 L 499 469 L 40.53125 469 Z M 40.53125 24.152344 \"/>\n",
       "</clipPath>\n",
       "<clipPath id=\"clip2\">\n",
       "  <path d=\"M 40.53125 261 L 499 261 L 499 263 L 40.53125 263 Z M 40.53125 261 \"/>\n",
       "</clipPath>\n",
       "<clipPath id=\"clip3\">\n",
       "  <path d=\"M 40.53125 28 L 499 28 L 499 30 L 40.53125 30 Z M 40.53125 28 \"/>\n",
       "</clipPath>\n",
       "<clipPath id=\"clip4\">\n",
       "  <path d=\"M 140 24.152344 L 142 24.152344 L 142 469.472656 L 140 469.472656 Z M 140 24.152344 \"/>\n",
       "</clipPath>\n",
       "<clipPath id=\"clip5\">\n",
       "  <path d=\"M 261 24.152344 L 264 24.152344 L 264 469.472656 L 261 469.472656 Z M 261 24.152344 \"/>\n",
       "</clipPath>\n",
       "<clipPath id=\"clip6\">\n",
       "  <path d=\"M 383 24.152344 L 385 24.152344 L 385 469.472656 L 383 469.472656 Z M 383 24.152344 \"/>\n",
       "</clipPath>\n",
       "<clipPath id=\"clip7\">\n",
       "  <path d=\"M 40.53125 377 L 499 377 L 499 379 L 40.53125 379 Z M 40.53125 377 \"/>\n",
       "</clipPath>\n",
       "<clipPath id=\"clip8\">\n",
       "  <path d=\"M 40.53125 145 L 499 145 L 499 146 L 40.53125 146 Z M 40.53125 145 \"/>\n",
       "</clipPath>\n",
       "<clipPath id=\"clip9\">\n",
       "  <path d=\"M 79 24.152344 L 81 24.152344 L 81 469 L 79 469 Z M 79 24.152344 \"/>\n",
       "</clipPath>\n",
       "<clipPath id=\"clip10\">\n",
       "  <path d=\"M 201 24.152344 L 202 24.152344 L 202 469 L 201 469 Z M 201 24.152344 \"/>\n",
       "</clipPath>\n",
       "<clipPath id=\"clip11\">\n",
       "  <path d=\"M 323 24.152344 L 324 24.152344 L 324 469 L 323 469 Z M 323 24.152344 \"/>\n",
       "</clipPath>\n",
       "<clipPath id=\"clip12\">\n",
       "  <path d=\"M 444 24.152344 L 446 24.152344 L 446 469 L 444 469 Z M 444 24.152344 \"/>\n",
       "</clipPath>\n",
       "<clipPath id=\"clip13\">\n",
       "  <path d=\"M 40.53125 24.152344 L 499 24.152344 L 499 469.472656 L 40.53125 469.472656 Z M 40.53125 24.152344 \"/>\n",
       "</clipPath>\n",
       "</defs>\n",
       "<g id=\"surface248\">\n",
       "<rect x=\"0\" y=\"0\" width=\"504\" height=\"504\" style=\"fill:rgb(100%,100%,100%);fill-opacity:1;stroke:none;\"/>\n",
       "<rect x=\"0\" y=\"0\" width=\"504\" height=\"504\" style=\"fill:rgb(100%,100%,100%);fill-opacity:1;stroke:none;\"/>\n",
       "<path style=\"fill:none;stroke-width:1.066978;stroke-linecap:round;stroke-linejoin:round;stroke:rgb(100%,100%,100%);stroke-opacity:1;stroke-miterlimit:10;\" d=\"M 0 504 L 504 504 L 504 0 L 0 0 Z M 0 504 \"/>\n",
       "<g clip-path=\"url(#clip1)\" clip-rule=\"nonzero\">\n",
       "<path style=\" stroke:none;fill-rule:nonzero;fill:rgb(100%,100%,100%);fill-opacity:1;\" d=\"M 40.53125 468.46875 L 498.023438 468.46875 L 498.023438 24.148438 L 40.53125 24.148438 Z M 40.53125 468.46875 \"/>\n",
       "</g>\n",
       "<g clip-path=\"url(#clip2)\" clip-rule=\"nonzero\">\n",
       "<path style=\"fill:none;stroke-width:1.066978;stroke-linecap:butt;stroke-linejoin:round;stroke:rgb(98.039216%,98.039216%,98.039216%);stroke-opacity:1;stroke-miterlimit:10;\" d=\"M 40.53125 261.699219 L 498.023438 261.699219 \"/>\n",
       "</g>\n",
       "<g clip-path=\"url(#clip3)\" clip-rule=\"nonzero\">\n",
       "<path style=\"fill:none;stroke-width:1.066978;stroke-linecap:butt;stroke-linejoin:round;stroke:rgb(98.039216%,98.039216%,98.039216%);stroke-opacity:1;stroke-miterlimit:10;\" d=\"M 40.53125 28.785156 L 498.023438 28.785156 \"/>\n",
       "</g>\n",
       "<g clip-path=\"url(#clip4)\" clip-rule=\"nonzero\">\n",
       "<path style=\"fill:none;stroke-width:1.066978;stroke-linecap:butt;stroke-linejoin:round;stroke:rgb(98.039216%,98.039216%,98.039216%);stroke-opacity:1;stroke-miterlimit:10;\" d=\"M 140.730469 468.46875 L 140.730469 24.152344 \"/>\n",
       "</g>\n",
       "<g clip-path=\"url(#clip5)\" clip-rule=\"nonzero\">\n",
       "<path style=\"fill:none;stroke-width:1.066978;stroke-linecap:butt;stroke-linejoin:round;stroke:rgb(98.039216%,98.039216%,98.039216%);stroke-opacity:1;stroke-miterlimit:10;\" d=\"M 262.515625 468.46875 L 262.515625 24.152344 \"/>\n",
       "</g>\n",
       "<g clip-path=\"url(#clip6)\" clip-rule=\"nonzero\">\n",
       "<path style=\"fill:none;stroke-width:1.066978;stroke-linecap:butt;stroke-linejoin:round;stroke:rgb(98.039216%,98.039216%,98.039216%);stroke-opacity:1;stroke-miterlimit:10;\" d=\"M 384.300781 468.46875 L 384.300781 24.152344 \"/>\n",
       "</g>\n",
       "<g clip-path=\"url(#clip7)\" clip-rule=\"nonzero\">\n",
       "<path style=\"fill:none;stroke-width:0.426791;stroke-linecap:butt;stroke-linejoin:round;stroke:rgb(89.803922%,89.803922%,89.803922%);stroke-opacity:1;stroke-miterlimit:10;\" d=\"M 40.53125 378.160156 L 498.023438 378.160156 \"/>\n",
       "</g>\n",
       "<g clip-path=\"url(#clip8)\" clip-rule=\"nonzero\">\n",
       "<path style=\"fill:none;stroke-width:0.426791;stroke-linecap:butt;stroke-linejoin:round;stroke:rgb(89.803922%,89.803922%,89.803922%);stroke-opacity:1;stroke-miterlimit:10;\" d=\"M 40.53125 145.242188 L 498.023438 145.242188 \"/>\n",
       "</g>\n",
       "<g clip-path=\"url(#clip9)\" clip-rule=\"nonzero\">\n",
       "<path style=\"fill:none;stroke-width:0.426791;stroke-linecap:butt;stroke-linejoin:round;stroke:rgb(89.803922%,89.803922%,89.803922%);stroke-opacity:1;stroke-miterlimit:10;\" d=\"M 79.835938 468.46875 L 79.835938 24.152344 \"/>\n",
       "</g>\n",
       "<g clip-path=\"url(#clip10)\" clip-rule=\"nonzero\">\n",
       "<path style=\"fill:none;stroke-width:0.426791;stroke-linecap:butt;stroke-linejoin:round;stroke:rgb(89.803922%,89.803922%,89.803922%);stroke-opacity:1;stroke-miterlimit:10;\" d=\"M 201.621094 468.46875 L 201.621094 24.152344 \"/>\n",
       "</g>\n",
       "<g clip-path=\"url(#clip11)\" clip-rule=\"nonzero\">\n",
       "<path style=\"fill:none;stroke-width:0.426791;stroke-linecap:butt;stroke-linejoin:round;stroke:rgb(89.803922%,89.803922%,89.803922%);stroke-opacity:1;stroke-miterlimit:10;\" d=\"M 323.40625 468.46875 L 323.40625 24.152344 \"/>\n",
       "</g>\n",
       "<g clip-path=\"url(#clip12)\" clip-rule=\"nonzero\">\n",
       "<path style=\"fill:none;stroke-width:0.426791;stroke-linecap:butt;stroke-linejoin:round;stroke:rgb(89.803922%,89.803922%,89.803922%);stroke-opacity:1;stroke-miterlimit:10;\" d=\"M 445.195312 468.46875 L 445.195312 24.152344 \"/>\n",
       "</g>\n",
       "<path style=\"fill-rule:nonzero;fill:rgb(0%,0%,0%);fill-opacity:0.333333;stroke-width:0.708661;stroke-linecap:round;stroke-linejoin:round;stroke:rgb(0%,0%,0%);stroke-opacity:0.333333;stroke-miterlimit:10;\" d=\"M 114.714844 448.273438 C 114.714844 452.0625 109.027344 452.0625 109.027344 448.273438 C 109.027344 444.484375 114.714844 444.484375 114.714844 448.273438 \"/>\n",
       "<path style=\"fill-rule:nonzero;fill:rgb(0%,0%,0%);fill-opacity:0.333333;stroke-width:0.708661;stroke-linecap:round;stroke-linejoin:round;stroke:rgb(0%,0%,0%);stroke-opacity:0.333333;stroke-miterlimit:10;\" d=\"M 326.203125 448.273438 C 326.203125 452 320.613281 452 320.613281 448.273438 C 320.613281 444.546875 326.203125 444.546875 326.203125 448.273438 \"/>\n",
       "<path style=\"fill-rule:nonzero;fill:rgb(0%,0%,0%);fill-opacity:0.333333;stroke-width:0.708661;stroke-linecap:round;stroke-linejoin:round;stroke:rgb(0%,0%,0%);stroke-opacity:0.333333;stroke-miterlimit:10;\" d=\"M 415.164062 75.945312 C 415.164062 79.554688 409.75 79.554688 409.75 75.945312 C 409.75 72.335938 415.164062 72.335938 415.164062 75.945312 \"/>\n",
       "<path style=\"fill-rule:nonzero;fill:rgb(0%,0%,0%);fill-opacity:0.333333;stroke-width:0.708661;stroke-linecap:round;stroke-linejoin:round;stroke:rgb(0%,0%,0%);stroke-opacity:0.333333;stroke-miterlimit:10;\" d=\"M 275.804688 231.207031 C 275.804688 235.128906 269.921875 235.128906 269.921875 231.207031 C 269.921875 227.289062 275.804688 227.289062 275.804688 231.207031 \"/>\n",
       "<path style=\"fill-rule:nonzero;fill:rgb(0%,0%,0%);fill-opacity:0.333333;stroke-width:0.708661;stroke-linecap:round;stroke-linejoin:round;stroke:rgb(0%,0%,0%);stroke-opacity:0.333333;stroke-miterlimit:10;\" d=\"M 275.71875 227.085938 C 275.71875 230.894531 270.007812 230.894531 270.007812 227.085938 C 270.007812 223.277344 275.71875 223.277344 275.71875 227.085938 \"/>\n",
       "<path style=\"fill-rule:nonzero;fill:rgb(0%,0%,0%);fill-opacity:0.333333;stroke-width:0.708661;stroke-linecap:round;stroke-linejoin:round;stroke:rgb(0%,0%,0%);stroke-opacity:0.333333;stroke-miterlimit:10;\" d=\"M 237.539062 109.246094 C 237.539062 114.421875 229.773438 114.421875 229.773438 109.246094 C 229.773438 104.070312 237.539062 104.070312 237.539062 109.246094 \"/>\n",
       "<path style=\"fill-rule:nonzero;fill:rgb(0%,0%,0%);fill-opacity:0.333333;stroke-width:0.708661;stroke-linecap:round;stroke-linejoin:round;stroke:rgb(0%,0%,0%);stroke-opacity:0.333333;stroke-miterlimit:10;\" d=\"M 237.574219 71.238281 C 237.574219 76.460938 229.738281 76.460938 229.738281 71.238281 C 229.738281 66.015625 237.574219 66.015625 237.574219 71.238281 \"/>\n",
       "<path style=\"fill-rule:nonzero;fill:rgb(0%,0%,0%);fill-opacity:0.333333;stroke-width:0.708661;stroke-linecap:round;stroke-linejoin:round;stroke:rgb(0%,0%,0%);stroke-opacity:0.333333;stroke-miterlimit:10;\" d=\"M 237.605469 44.347656 C 237.605469 49.609375 229.707031 49.609375 229.707031 44.347656 C 229.707031 39.082031 237.605469 39.082031 237.605469 44.347656 \"/>\n",
       "<path style=\"fill-rule:nonzero;fill:rgb(0%,0%,0%);fill-opacity:0.333333;stroke-width:0.708661;stroke-linecap:round;stroke-linejoin:round;stroke:rgb(0%,0%,0%);stroke-opacity:0.333333;stroke-miterlimit:10;\" d=\"M 237.582031 111.4375 C 237.582031 116.671875 229.730469 116.671875 229.730469 111.4375 C 229.730469 106.203125 237.582031 106.203125 237.582031 111.4375 \"/>\n",
       "<path style=\"fill-rule:nonzero;fill:rgb(0%,0%,0%);fill-opacity:0.333333;stroke-width:0.708661;stroke-linecap:round;stroke-linejoin:round;stroke:rgb(0%,0%,0%);stroke-opacity:0.333333;stroke-miterlimit:10;\" d=\"M 237.765625 448.273438 C 237.765625 453.753906 229.546875 453.753906 229.546875 448.273438 C 229.546875 442.792969 237.765625 442.792969 237.765625 448.273438 \"/>\n",
       "<path style=\"fill-rule:nonzero;fill:rgb(0%,0%,0%);fill-opacity:0.333333;stroke-width:0.708661;stroke-linecap:round;stroke-linejoin:round;stroke:rgb(0%,0%,0%);stroke-opacity:0.333333;stroke-miterlimit:10;\" d=\"M 237.761719 448.273438 C 237.761719 453.75 229.550781 453.75 229.550781 448.273438 C 229.550781 442.796875 237.761719 442.796875 237.761719 448.273438 \"/>\n",
       "<path style=\"fill-rule:nonzero;fill:rgb(0%,0%,0%);fill-opacity:0.333333;stroke-width:0.708661;stroke-linecap:round;stroke-linejoin:round;stroke:rgb(0%,0%,0%);stroke-opacity:0.333333;stroke-miterlimit:10;\" d=\"M 237.609375 193.734375 C 237.609375 199.003906 229.703125 199.003906 229.703125 193.734375 C 229.703125 188.46875 237.609375 188.46875 237.609375 193.734375 \"/>\n",
       "<path style=\"fill-rule:nonzero;fill:rgb(0%,0%,0%);fill-opacity:0.333333;stroke-width:0.708661;stroke-linecap:round;stroke-linejoin:round;stroke:rgb(0%,0%,0%);stroke-opacity:0.333333;stroke-miterlimit:10;\" d=\"M 237.601562 448.273438 C 237.601562 453.53125 229.710938 453.53125 229.710938 448.273438 C 229.710938 443.015625 237.601562 443.015625 237.601562 448.273438 \"/>\n",
       "<path style=\"fill-rule:nonzero;fill:rgb(0%,0%,0%);fill-opacity:0.333333;stroke-width:0.708661;stroke-linecap:round;stroke-linejoin:round;stroke:rgb(0%,0%,0%);stroke-opacity:0.333333;stroke-miterlimit:10;\" d=\"M 240.414062 276.230469 C 240.414062 279.964844 237.386719 282.988281 233.65625 282.988281 C 229.925781 282.988281 226.898438 279.964844 226.898438 276.230469 C 226.898438 272.5 229.925781 269.476562 233.65625 269.476562 C 237.386719 269.476562 240.414062 272.5 240.414062 276.230469 \"/>\n",
       "<path style=\"fill-rule:nonzero;fill:rgb(0%,0%,0%);fill-opacity:0.333333;stroke-width:0.708661;stroke-linecap:round;stroke-linejoin:round;stroke:rgb(0%,0%,0%);stroke-opacity:0.333333;stroke-miterlimit:10;\" d=\"M 279.617188 215.796875 C 279.617188 219.53125 276.59375 222.554688 272.863281 222.554688 C 269.132812 222.554688 266.105469 219.53125 266.105469 215.796875 C 266.105469 212.066406 269.132812 209.042969 272.863281 209.042969 C 276.59375 209.042969 279.617188 212.066406 279.617188 215.796875 \"/>\n",
       "<path style=\"fill-rule:nonzero;fill:rgb(0%,0%,0%);fill-opacity:0.333333;stroke-width:0.708661;stroke-linecap:round;stroke-linejoin:round;stroke:rgb(0%,0%,0%);stroke-opacity:0.333333;stroke-miterlimit:10;\" d=\"M 238.46875 215.050781 C 238.46875 221.464844 228.84375 221.464844 228.84375 215.050781 C 228.84375 208.632812 238.46875 208.632812 238.46875 215.050781 \"/>\n",
       "<path style=\"fill-rule:nonzero;fill:rgb(0%,0%,0%);fill-opacity:0.333333;stroke-width:0.708661;stroke-linecap:round;stroke-linejoin:round;stroke:rgb(0%,0%,0%);stroke-opacity:0.333333;stroke-miterlimit:10;\" d=\"M 238.46875 275.550781 C 238.46875 281.96875 228.84375 281.96875 228.84375 275.550781 C 228.84375 269.132812 238.46875 269.132812 238.46875 275.550781 \"/>\n",
       "<path style=\"fill-rule:nonzero;fill:rgb(0%,0%,0%);fill-opacity:0.333333;stroke-width:0.708661;stroke-linecap:round;stroke-linejoin:round;stroke:rgb(0%,0%,0%);stroke-opacity:0.333333;stroke-miterlimit:10;\" d=\"M 360.269531 178.066406 C 360.269531 184.5 350.617188 184.5 350.617188 178.066406 C 350.617188 171.628906 360.269531 171.628906 360.269531 178.066406 \"/>\n",
       "<path style=\"fill-rule:nonzero;fill:rgb(0%,0%,0%);fill-opacity:0.333333;stroke-width:0.708661;stroke-linecap:round;stroke-linejoin:round;stroke:rgb(0%,0%,0%);stroke-opacity:0.333333;stroke-miterlimit:10;\" d=\"M 360.480469 138 C 360.480469 144.71875 350.40625 144.71875 350.40625 138 C 350.40625 131.285156 360.480469 131.285156 360.480469 138 \"/>\n",
       "<path style=\"fill-rule:nonzero;fill:rgb(0%,0%,0%);fill-opacity:0.333333;stroke-width:0.708661;stroke-linecap:round;stroke-linejoin:round;stroke:rgb(0%,0%,0%);stroke-opacity:0.333333;stroke-miterlimit:10;\" d=\"M 360.472656 47.945312 C 360.472656 54.65625 350.410156 54.65625 350.410156 47.945312 C 350.410156 41.234375 360.472656 41.234375 360.472656 47.945312 \"/>\n",
       "<path style=\"fill-rule:nonzero;fill:rgb(0%,0%,0%);fill-opacity:0.333333;stroke-width:0.708661;stroke-linecap:round;stroke-linejoin:round;stroke:rgb(0%,0%,0%);stroke-opacity:0.333333;stroke-miterlimit:10;\" d=\"M 482.265625 70.265625 C 482.265625 76.984375 472.191406 76.984375 472.191406 70.265625 C 472.191406 63.550781 482.265625 63.550781 482.265625 70.265625 \"/>\n",
       "<path style=\"fill-rule:nonzero;fill:rgb(0%,0%,0%);fill-opacity:0.333333;stroke-width:0.708661;stroke-linecap:round;stroke-linejoin:round;stroke:rgb(0%,0%,0%);stroke-opacity:0.333333;stroke-miterlimit:10;\" d=\"M 275.191406 448.273438 C 275.191406 451.378906 270.53125 451.378906 270.53125 448.273438 C 270.53125 445.164062 275.191406 445.164062 275.191406 448.273438 \"/>\n",
       "<path style=\"fill-rule:nonzero;fill:rgb(0%,0%,0%);fill-opacity:0.333333;stroke-width:0.708661;stroke-linecap:round;stroke-linejoin:round;stroke:rgb(0%,0%,0%);stroke-opacity:0.333333;stroke-miterlimit:10;\" d=\"M 153.375 152.957031 C 153.375 156.019531 148.777344 156.019531 148.777344 152.957031 C 148.777344 149.890625 153.375 149.890625 153.375 152.957031 \"/>\n",
       "<path style=\"fill-rule:nonzero;fill:rgb(0%,0%,0%);fill-opacity:0.333333;stroke-width:0.708661;stroke-linecap:round;stroke-linejoin:round;stroke:rgb(0%,0%,0%);stroke-opacity:0.333333;stroke-miterlimit:10;\" d=\"M 153.269531 213.75 C 153.269531 216.671875 148.882812 216.671875 148.882812 213.75 C 148.882812 210.824219 153.269531 210.824219 153.269531 213.75 \"/>\n",
       "<path style=\"fill-rule:nonzero;fill:rgb(0%,0%,0%);fill-opacity:0.333333;stroke-width:0.708661;stroke-linecap:round;stroke-linejoin:round;stroke:rgb(0%,0%,0%);stroke-opacity:0.333333;stroke-miterlimit:10;\" d=\"M 240.023438 169.957031 C 240.023438 173.472656 237.171875 176.324219 233.65625 176.324219 C 230.140625 176.324219 227.289062 173.472656 227.289062 169.957031 C 227.289062 166.4375 230.140625 163.589844 233.65625 163.589844 C 237.171875 163.589844 240.023438 166.4375 240.023438 169.957031 \"/>\n",
       "<path style=\"fill-rule:nonzero;fill:rgb(0%,0%,0%);fill-opacity:0.333333;stroke-width:0.708661;stroke-linecap:round;stroke-linejoin:round;stroke:rgb(0%,0%,0%);stroke-opacity:0.333333;stroke-miterlimit:10;\" d=\"M 240.234375 150.746094 C 240.234375 154.378906 237.289062 157.324219 233.65625 157.324219 C 230.023438 157.324219 227.078125 154.378906 227.078125 150.746094 C 227.078125 147.113281 230.023438 144.171875 233.65625 144.171875 C 237.289062 144.171875 240.234375 147.113281 240.234375 150.746094 \"/>\n",
       "<path style=\"fill-rule:nonzero;fill:rgb(0%,0%,0%);fill-opacity:0.333333;stroke-width:0.708661;stroke-linecap:round;stroke-linejoin:round;stroke:rgb(0%,0%,0%);stroke-opacity:0.333333;stroke-miterlimit:10;\" d=\"M 240.269531 151.914062 C 240.269531 155.566406 237.308594 158.523438 233.65625 158.523438 C 230.003906 158.523438 227.042969 155.566406 227.042969 151.914062 C 227.042969 148.261719 230.003906 145.300781 233.65625 145.300781 C 237.308594 145.300781 240.269531 148.261719 240.269531 151.914062 \"/>\n",
       "<path style=\"fill-rule:nonzero;fill:rgb(0%,0%,0%);fill-opacity:0.333333;stroke-width:0.708661;stroke-linecap:round;stroke-linejoin:round;stroke:rgb(0%,0%,0%);stroke-opacity:0.333333;stroke-miterlimit:10;\" d=\"M 275.460938 183.015625 C 275.460938 186.480469 270.265625 186.480469 270.265625 183.015625 C 270.265625 179.554688 275.460938 179.554688 275.460938 183.015625 \"/>\n",
       "<path style=\"fill-rule:nonzero;fill:rgb(0%,0%,0%);fill-opacity:0.333333;stroke-width:0.708661;stroke-linecap:round;stroke-linejoin:round;stroke:rgb(0%,0%,0%);stroke-opacity:0.333333;stroke-miterlimit:10;\" d=\"M 433.332031 128.023438 C 433.332031 131.695312 430.355469 134.671875 426.683594 134.671875 C 423.011719 134.671875 420.03125 131.695312 420.03125 128.023438 C 420.03125 124.351562 423.011719 121.375 426.683594 121.375 C 430.355469 121.375 433.332031 124.351562 433.332031 128.023438 \"/>\n",
       "<path style=\"fill-rule:nonzero;fill:rgb(0%,0%,0%);fill-opacity:0.333333;stroke-width:0.708661;stroke-linecap:round;stroke-linejoin:round;stroke:rgb(0%,0%,0%);stroke-opacity:0.333333;stroke-miterlimit:10;\" d=\"M 433.207031 109.984375 C 433.207031 113.589844 430.285156 116.511719 426.683594 116.511719 C 423.078125 116.511719 420.15625 113.589844 420.15625 109.984375 C 420.15625 106.378906 423.078125 103.460938 426.683594 103.460938 C 430.285156 103.460938 433.207031 106.378906 433.207031 109.984375 \"/>\n",
       "<path style=\"fill-rule:nonzero;fill:rgb(0%,0%,0%);fill-opacity:0.333333;stroke-width:0.708661;stroke-linecap:round;stroke-linejoin:round;stroke:rgb(0%,0%,0%);stroke-opacity:0.333333;stroke-miterlimit:10;\" d=\"M 277.613281 164.164062 C 277.613281 170.496094 268.113281 170.496094 268.113281 164.164062 C 268.113281 157.832031 277.613281 157.832031 277.613281 164.164062 \"/>\n",
       "<path style=\"fill-rule:nonzero;fill:rgb(0%,0%,0%);fill-opacity:0.333333;stroke-width:0.708661;stroke-linecap:round;stroke-linejoin:round;stroke:rgb(0%,0%,0%);stroke-opacity:0.333333;stroke-miterlimit:10;\" d=\"M 277.613281 263.894531 C 277.613281 270.230469 268.109375 270.230469 268.109375 263.894531 C 268.109375 257.554688 277.613281 257.554688 277.613281 263.894531 \"/>\n",
       "<path style=\"fill-rule:nonzero;fill:rgb(0%,0%,0%);fill-opacity:0.333333;stroke-width:0.708661;stroke-linecap:round;stroke-linejoin:round;stroke:rgb(0%,0%,0%);stroke-opacity:0.333333;stroke-miterlimit:10;\" d=\"M 240.191406 269.941406 C 240.191406 273.550781 237.265625 276.476562 233.65625 276.476562 C 230.046875 276.476562 227.121094 273.550781 227.121094 269.941406 C 227.121094 266.332031 230.046875 263.40625 233.65625 263.40625 C 237.265625 263.40625 240.191406 266.332031 240.191406 269.941406 \"/>\n",
       "<path style=\"fill-rule:nonzero;fill:rgb(0%,0%,0%);fill-opacity:0.333333;stroke-width:0.708661;stroke-linecap:round;stroke-linejoin:round;stroke:rgb(0%,0%,0%);stroke-opacity:0.333333;stroke-miterlimit:10;\" d=\"M 240.195312 171.222656 C 240.195312 174.832031 237.269531 177.761719 233.65625 177.761719 C 230.046875 177.761719 227.117188 174.832031 227.117188 171.222656 C 227.117188 167.609375 230.046875 164.683594 233.65625 164.683594 C 237.269531 164.683594 240.195312 167.609375 240.195312 171.222656 \"/>\n",
       "<path style=\"fill-rule:nonzero;fill:rgb(0%,0%,0%);fill-opacity:0.333333;stroke-width:0.708661;stroke-linecap:round;stroke-linejoin:round;stroke:rgb(0%,0%,0%);stroke-opacity:0.333333;stroke-miterlimit:10;\" d=\"M 276.953125 448.273438 C 276.953125 453.726562 268.773438 453.726562 268.773438 448.273438 C 268.773438 442.820312 276.953125 442.820312 276.953125 448.273438 \"/>\n",
       "<path style=\"fill-rule:nonzero;fill:rgb(0%,0%,0%);fill-opacity:0.333333;stroke-width:0.708661;stroke-linecap:round;stroke-linejoin:round;stroke:rgb(0%,0%,0%);stroke-opacity:0.333333;stroke-miterlimit:10;\" d=\"M 276.886719 448.273438 C 276.886719 453.636719 268.839844 453.636719 268.839844 448.273438 C 268.839844 442.910156 276.886719 442.910156 276.886719 448.273438 \"/>\n",
       "<path style=\"fill-rule:nonzero;fill:rgb(0%,0%,0%);fill-opacity:0.333333;stroke-width:0.708661;stroke-linecap:round;stroke-linejoin:round;stroke:rgb(0%,0%,0%);stroke-opacity:0.333333;stroke-miterlimit:10;\" d=\"M 206.921875 285.738281 C 206.921875 292.804688 196.324219 292.804688 196.324219 285.738281 C 196.324219 278.671875 206.921875 278.671875 206.921875 285.738281 \"/>\n",
       "<path style=\"fill-rule:nonzero;fill:rgb(0%,0%,0%);fill-opacity:0.333333;stroke-width:0.708661;stroke-linecap:round;stroke-linejoin:round;stroke:rgb(0%,0%,0%);stroke-opacity:0.333333;stroke-miterlimit:10;\" d=\"M 278.21875 228.457031 C 278.21875 235.597656 267.507812 235.597656 267.507812 228.457031 C 267.507812 221.316406 278.21875 221.316406 278.21875 228.457031 \"/>\n",
       "<path style=\"fill-rule:nonzero;fill:rgb(0%,0%,0%);fill-opacity:0.333333;stroke-width:0.708661;stroke-linecap:round;stroke-linejoin:round;stroke:rgb(0%,0%,0%);stroke-opacity:0.333333;stroke-miterlimit:10;\" d=\"M 64.148438 117.53125 C 64.148438 121.292969 58.503906 121.292969 58.503906 117.53125 C 58.503906 113.769531 64.148438 113.769531 64.148438 117.53125 \"/>\n",
       "<path style=\"fill-rule:nonzero;fill:rgb(0%,0%,0%);fill-opacity:0.333333;stroke-width:0.708661;stroke-linecap:round;stroke-linejoin:round;stroke:rgb(0%,0%,0%);stroke-opacity:0.333333;stroke-miterlimit:10;\" d=\"M 236.4375 75.597656 C 236.4375 79.304688 230.875 79.304688 230.875 75.597656 C 230.875 71.894531 236.4375 71.894531 236.4375 75.597656 \"/>\n",
       "<path style=\"fill-rule:nonzero;fill:rgb(0%,0%,0%);fill-opacity:0.333333;stroke-width:0.708661;stroke-linecap:round;stroke-linejoin:round;stroke:rgb(0%,0%,0%);stroke-opacity:0.333333;stroke-miterlimit:10;\" d=\"M 239.023438 222.496094 C 239.023438 229.648438 228.289062 229.648438 228.289062 222.496094 C 228.289062 215.34375 239.023438 215.34375 239.023438 222.496094 \"/>\n",
       "<path style=\"fill-rule:nonzero;fill:rgb(0%,0%,0%);fill-opacity:0.333333;stroke-width:0.708661;stroke-linecap:round;stroke-linejoin:round;stroke:rgb(0%,0%,0%);stroke-opacity:0.333333;stroke-miterlimit:10;\" d=\"M 277.753906 448.273438 C 277.753906 454.792969 267.972656 454.792969 267.972656 448.273438 C 267.972656 441.75 277.753906 441.75 277.753906 448.273438 \"/>\n",
       "<path style=\"fill-rule:nonzero;fill:rgb(0%,0%,0%);fill-opacity:0.333333;stroke-width:0.708661;stroke-linecap:round;stroke-linejoin:round;stroke:rgb(0%,0%,0%);stroke-opacity:0.333333;stroke-miterlimit:10;\" d=\"M 274.285156 155.285156 C 274.285156 157.179688 271.441406 157.179688 271.441406 155.285156 C 271.441406 153.390625 274.285156 153.390625 274.285156 155.285156 \"/>\n",
       "<path style=\"fill-rule:nonzero;fill:rgb(0%,0%,0%);fill-opacity:0.333333;stroke-width:0.708661;stroke-linecap:round;stroke-linejoin:round;stroke:rgb(0%,0%,0%);stroke-opacity:0.333333;stroke-miterlimit:10;\" d=\"M 278.273438 188.445312 C 278.273438 191.429688 275.851562 193.851562 272.863281 193.851562 C 269.875 193.851562 267.453125 191.429688 267.453125 188.445312 C 267.453125 185.457031 269.875 183.035156 272.863281 183.035156 C 275.851562 183.035156 278.273438 185.457031 278.273438 188.445312 \"/>\n",
       "<path style=\"fill-rule:nonzero;fill:rgb(0%,0%,0%);fill-opacity:0.333333;stroke-width:0.708661;stroke-linecap:round;stroke-linejoin:round;stroke:rgb(0%,0%,0%);stroke-opacity:0.333333;stroke-miterlimit:10;\" d=\"M 156.503906 285.714844 C 156.503906 288.710938 154.074219 291.140625 151.078125 291.140625 C 148.082031 291.140625 145.652344 288.710938 145.652344 285.714844 C 145.652344 282.71875 148.082031 280.289062 151.078125 280.289062 C 154.074219 280.289062 156.503906 282.71875 156.503906 285.714844 \"/>\n",
       "<path style=\"fill-rule:nonzero;fill:rgb(0%,0%,0%);fill-opacity:0.333333;stroke-width:0.708661;stroke-linecap:round;stroke-linejoin:round;stroke:rgb(0%,0%,0%);stroke-opacity:0.333333;stroke-miterlimit:10;\" d=\"M 238.753906 144.671875 C 238.753906 151.46875 228.558594 151.46875 228.558594 144.671875 C 228.558594 137.875 238.753906 137.875 238.753906 144.671875 \"/>\n",
       "<path style=\"fill-rule:nonzero;fill:rgb(0%,0%,0%);fill-opacity:0.333333;stroke-width:0.708661;stroke-linecap:round;stroke-linejoin:round;stroke:rgb(0%,0%,0%);stroke-opacity:0.333333;stroke-miterlimit:10;\" d=\"M 238.734375 209.035156 C 238.734375 215.804688 228.578125 215.804688 228.578125 209.035156 C 228.578125 202.265625 238.734375 202.265625 238.734375 209.035156 \"/>\n",
       "<path style=\"fill-rule:nonzero;fill:rgb(0%,0%,0%);fill-opacity:0.333333;stroke-width:0.708661;stroke-linecap:round;stroke-linejoin:round;stroke:rgb(0%,0%,0%);stroke-opacity:0.333333;stroke-miterlimit:10;\" d=\"M 239.402344 311.359375 C 239.402344 314.535156 236.832031 317.105469 233.65625 317.105469 C 230.484375 317.105469 227.910156 314.535156 227.910156 311.359375 C 227.910156 308.1875 230.484375 305.613281 233.65625 305.613281 C 236.832031 305.613281 239.402344 308.1875 239.402344 311.359375 \"/>\n",
       "<path style=\"fill-rule:nonzero;fill:rgb(0%,0%,0%);fill-opacity:0.333333;stroke-width:0.708661;stroke-linecap:round;stroke-linejoin:round;stroke:rgb(0%,0%,0%);stroke-opacity:0.333333;stroke-miterlimit:10;\" d=\"M 309.769531 136.628906 C 309.769531 143.128906 300.023438 143.128906 300.023438 136.628906 C 300.023438 130.128906 309.769531 130.128906 309.769531 136.628906 \"/>\n",
       "<path style=\"fill-rule:nonzero;fill:rgb(0%,0%,0%);fill-opacity:0.333333;stroke-width:0.708661;stroke-linecap:round;stroke-linejoin:round;stroke:rgb(0%,0%,0%);stroke-opacity:0.333333;stroke-miterlimit:10;\" d=\"M 279.585938 192.761719 C 279.585938 196.472656 276.574219 199.480469 272.863281 199.480469 C 269.148438 199.480469 266.140625 196.472656 266.140625 192.761719 C 266.140625 189.046875 269.148438 186.039062 272.863281 186.039062 C 276.574219 186.039062 279.585938 189.046875 279.585938 192.761719 \"/>\n",
       "<path style=\"fill-rule:nonzero;fill:rgb(0%,0%,0%);fill-opacity:0.333333;stroke-width:0.708661;stroke-linecap:round;stroke-linejoin:round;stroke:rgb(0%,0%,0%);stroke-opacity:0.333333;stroke-miterlimit:10;\" d=\"M 240.386719 148.535156 C 240.386719 152.25 237.371094 155.261719 233.65625 155.261719 C 229.941406 155.261719 226.925781 152.25 226.925781 148.535156 C 226.925781 144.816406 229.941406 141.804688 233.65625 141.804688 C 237.371094 141.804688 240.386719 144.816406 240.386719 148.535156 \"/>\n",
       "<path style=\"fill-rule:nonzero;fill:rgb(0%,0%,0%);fill-opacity:0.333333;stroke-width:0.708661;stroke-linecap:round;stroke-linejoin:round;stroke:rgb(0%,0%,0%);stroke-opacity:0.333333;stroke-miterlimit:10;\" d=\"M 240.378906 117.515625 C 240.378906 121.230469 237.367188 124.238281 233.65625 124.238281 C 229.945312 124.238281 226.933594 121.230469 226.933594 117.515625 C 226.933594 113.804688 229.945312 110.796875 233.65625 110.796875 C 237.367188 110.796875 240.378906 113.804688 240.378906 117.515625 \"/>\n",
       "<path style=\"fill-rule:nonzero;fill:rgb(0%,0%,0%);fill-opacity:0.333333;stroke-width:0.708661;stroke-linecap:round;stroke-linejoin:round;stroke:rgb(0%,0%,0%);stroke-opacity:0.333333;stroke-miterlimit:10;\" d=\"M 309.210938 448.273438 C 309.210938 454.023438 300.582031 454.023438 300.582031 448.273438 C 300.582031 442.523438 309.210938 442.523438 309.210938 448.273438 \"/>\n",
       "<path style=\"fill-rule:nonzero;fill:rgb(0%,0%,0%);fill-opacity:0.333333;stroke-width:0.708661;stroke-linecap:round;stroke-linejoin:round;stroke:rgb(0%,0%,0%);stroke-opacity:0.333333;stroke-miterlimit:10;\" d=\"M 309.230469 448.273438 C 309.230469 454.050781 300.5625 454.050781 300.5625 448.273438 C 300.5625 442.496094 309.230469 442.496094 309.230469 448.273438 \"/>\n",
       "<path style=\"fill-rule:nonzero;fill:rgb(0%,0%,0%);fill-opacity:0.333333;stroke-width:0.708661;stroke-linecap:round;stroke-linejoin:round;stroke:rgb(0%,0%,0%);stroke-opacity:0.333333;stroke-miterlimit:10;\" d=\"M 236.996094 448.273438 C 236.996094 452.722656 230.320312 452.722656 230.320312 448.273438 C 230.320312 443.824219 236.996094 443.824219 236.996094 448.273438 \"/>\n",
       "<path style=\"fill-rule:nonzero;fill:rgb(0%,0%,0%);fill-opacity:0.333333;stroke-width:0.708661;stroke-linecap:round;stroke-linejoin:round;stroke:rgb(0%,0%,0%);stroke-opacity:0.333333;stroke-miterlimit:10;\" d=\"M 237.035156 448.273438 C 237.035156 452.777344 230.277344 452.777344 230.277344 448.273438 C 230.277344 443.769531 237.035156 443.769531 237.035156 448.273438 \"/>\n",
       "<path style=\"fill:none;stroke-width:1.066978;stroke-linecap:butt;stroke-linejoin:round;stroke:rgb(1.960784%,44.313725%,69.019608%);stroke-opacity:1;stroke-miterlimit:1;\" d=\"M 61.324219 205.925781 L 77.695312 204.878906 L 92.667969 203.828125 L 106.464844 202.777344 L 119.257812 201.726562 L 131.179688 200.675781 L 142.34375 199.628906 L 152.84375 198.578125 L 162.75 197.527344 L 172.125 196.476562 L 181.027344 195.425781 L 189.5 194.378906 L 197.582031 193.328125 L 205.3125 192.277344 L 212.710938 191.226562 L 219.816406 190.175781 L 226.640625 189.128906 L 233.210938 188.078125 L 239.546875 187.027344 L 245.660156 185.976562 L 251.566406 184.929688 L 257.285156 183.878906 L 262.820312 182.828125 L 268.1875 181.777344 L 273.394531 180.730469 L 278.453125 179.679688 L 283.367188 178.628906 L 288.152344 177.578125 L 292.804688 176.527344 L 297.339844 175.480469 L 301.761719 174.429688 L 306.074219 173.378906 L 310.285156 172.328125 L 314.394531 171.28125 L 318.414062 170.230469 L 322.339844 169.179688 L 326.179688 168.132812 L 329.941406 167.082031 L 333.621094 166.03125 L 337.226562 164.980469 L 340.757812 163.933594 L 344.222656 162.882812 L 347.617188 161.832031 L 350.949219 160.78125 L 354.21875 159.734375 L 357.425781 158.683594 L 360.578125 157.632812 L 363.675781 156.585938 L 366.71875 155.535156 L 369.710938 154.484375 L 372.652344 153.433594 L 375.542969 152.386719 L 378.390625 151.335938 L 381.191406 150.285156 L 383.945312 149.238281 L 386.660156 148.1875 L 389.332031 147.136719 L 391.964844 146.089844 L 394.558594 145.039062 L 397.117188 143.988281 L 399.632812 142.941406 L 402.117188 141.890625 L 404.566406 140.839844 L 406.984375 139.789062 L 409.367188 138.742188 L 411.714844 137.691406 L 414.035156 136.640625 L 416.324219 135.59375 L 418.585938 134.542969 L 420.816406 133.496094 L 423.019531 132.445312 L 425.195312 131.394531 L 427.347656 130.347656 L 429.46875 129.296875 L 431.566406 128.246094 L 433.640625 127.199219 L 435.691406 126.148438 L 437.714844 125.097656 L 439.71875 124.050781 L 441.699219 123 L 443.65625 121.953125 L 445.59375 120.902344 L 447.507812 119.851562 L 449.402344 118.804688 L 451.277344 117.753906 L 453.132812 116.707031 L 454.964844 115.65625 L 456.78125 114.605469 L 458.578125 113.558594 L 460.359375 112.507812 L 462.121094 111.460938 L 463.863281 110.410156 L 465.59375 109.359375 L 467.300781 108.3125 L 468.996094 107.261719 L 470.671875 106.214844 L 472.335938 105.164062 L 473.980469 104.117188 L 475.613281 103.066406 L 477.226562 102.019531 \"/>\n",
       "<path style=\"fill:none;stroke-width:1.066978;stroke-linecap:butt;stroke-linejoin:round;stroke:rgb(79.215686%,0%,12.54902%);stroke-opacity:1;stroke-miterlimit:1;\" d=\"M 61.324219 208.503906 L 233.65625 208.503906 L 233.65625 177.328125 L 477.226562 177.328125 \"/>\n",
       "<g style=\"fill:rgb(1.960784%,44.313725%,69.019608%);fill-opacity:1;\">\n",
       "  <use xlink:href=\"#glyph0-1\" x=\"443.023438\" y=\"363.461914\"/>\n",
       "  <use xlink:href=\"#glyph0-2\" x=\"450.035156\" y=\"363.461914\"/>\n",
       "  <use xlink:href=\"#glyph0-3\" x=\"453.546875\" y=\"363.461914\"/>\n",
       "  <use xlink:href=\"#glyph0-2\" x=\"462.802734\" y=\"363.461914\"/>\n",
       "  <use xlink:href=\"#glyph0-4\" x=\"466.314453\" y=\"363.461914\"/>\n",
       "  <use xlink:href=\"#glyph0-5\" x=\"473.342773\" y=\"363.461914\"/>\n",
       "  <use xlink:href=\"#glyph0-4\" x=\"476.854492\" y=\"363.461914\"/>\n",
       "  <use xlink:href=\"#glyph0-6\" x=\"483.882812\" y=\"363.461914\"/>\n",
       "  <use xlink:href=\"#glyph0-7\" x=\"490.911133\" y=\"363.461914\"/>\n",
       "</g>\n",
       "<g style=\"fill:rgb(79.215686%,0%,12.54902%);fill-opacity:1;\">\n",
       "  <use xlink:href=\"#glyph0-1\" x=\"443.023438\" y=\"347.868164\"/>\n",
       "  <use xlink:href=\"#glyph0-2\" x=\"450.035156\" y=\"347.868164\"/>\n",
       "  <use xlink:href=\"#glyph0-3\" x=\"453.546875\" y=\"347.868164\"/>\n",
       "  <use xlink:href=\"#glyph0-2\" x=\"462.802734\" y=\"347.868164\"/>\n",
       "  <use xlink:href=\"#glyph0-4\" x=\"466.314453\" y=\"347.868164\"/>\n",
       "  <use xlink:href=\"#glyph0-5\" x=\"473.342773\" y=\"347.868164\"/>\n",
       "  <use xlink:href=\"#glyph0-8\" x=\"476.854492\" y=\"347.868164\"/>\n",
       "  <use xlink:href=\"#glyph0-9\" x=\"483.882812\" y=\"347.868164\"/>\n",
       "  <use xlink:href=\"#glyph0-4\" x=\"490.911133\" y=\"347.868164\"/>\n",
       "</g>\n",
       "<g clip-path=\"url(#clip13)\" clip-rule=\"nonzero\">\n",
       "<path style=\"fill:none;stroke-width:1.066978;stroke-linecap:round;stroke-linejoin:round;stroke:rgb(49.803922%,49.803922%,49.803922%);stroke-opacity:1;stroke-miterlimit:10;\" d=\"M 40.53125 468.46875 L 498.023438 468.46875 L 498.023438 24.148438 L 40.53125 24.148438 Z M 40.53125 468.46875 \"/>\n",
       "</g>\n",
       "<g style=\"fill:rgb(0%,0%,0%);fill-opacity:1;\">\n",
       "  <use xlink:href=\"#glyph1-1\" x=\"28.152344\" y=\"382.070312\"/>\n",
       "</g>\n",
       "<g style=\"fill:rgb(0%,0%,0%);fill-opacity:1;\">\n",
       "  <use xlink:href=\"#glyph1-1\" x=\"22.152344\" y=\"149.152344\"/>\n",
       "  <use xlink:href=\"#glyph1-2\" x=\"28.255859\" y=\"149.152344\"/>\n",
       "</g>\n",
       "<path style=\"fill:none;stroke-width:1.066978;stroke-linecap:butt;stroke-linejoin:round;stroke:rgb(0%,0%,0%);stroke-opacity:1;stroke-miterlimit:10;\" d=\"M 37.542969 378.160156 L 40.53125 378.160156 \"/>\n",
       "<path style=\"fill:none;stroke-width:1.066978;stroke-linecap:butt;stroke-linejoin:round;stroke:rgb(0%,0%,0%);stroke-opacity:1;stroke-miterlimit:10;\" d=\"M 37.542969 145.242188 L 40.53125 145.242188 \"/>\n",
       "<path style=\"fill:none;stroke-width:1.066978;stroke-linecap:butt;stroke-linejoin:round;stroke:rgb(0%,0%,0%);stroke-opacity:1;stroke-miterlimit:10;\" d=\"M 79.835938 471.457031 L 79.835938 468.46875 \"/>\n",
       "<path style=\"fill:none;stroke-width:1.066978;stroke-linecap:butt;stroke-linejoin:round;stroke:rgb(0%,0%,0%);stroke-opacity:1;stroke-miterlimit:10;\" d=\"M 201.621094 471.457031 L 201.621094 468.46875 \"/>\n",
       "<path style=\"fill:none;stroke-width:1.066978;stroke-linecap:butt;stroke-linejoin:round;stroke:rgb(0%,0%,0%);stroke-opacity:1;stroke-miterlimit:10;\" d=\"M 323.40625 471.457031 L 323.40625 468.46875 \"/>\n",
       "<path style=\"fill:none;stroke-width:1.066978;stroke-linecap:butt;stroke-linejoin:round;stroke:rgb(0%,0%,0%);stroke-opacity:1;stroke-miterlimit:10;\" d=\"M 445.195312 471.457031 L 445.195312 468.46875 \"/>\n",
       "<g style=\"fill:rgb(0%,0%,0%);fill-opacity:1;\">\n",
       "  <use xlink:href=\"#glyph1-1\" x=\"67.335938\" y=\"481.757812\"/>\n",
       "  <use xlink:href=\"#glyph1-2\" x=\"73.439453\" y=\"481.757812\"/>\n",
       "  <use xlink:href=\"#glyph1-2\" x=\"79.542969\" y=\"481.757812\"/>\n",
       "  <use xlink:href=\"#glyph1-2\" x=\"85.646484\" y=\"481.757812\"/>\n",
       "</g>\n",
       "<g style=\"fill:rgb(0%,0%,0%);fill-opacity:1;\">\n",
       "  <use xlink:href=\"#glyph1-3\" x=\"189.121094\" y=\"481.757812\"/>\n",
       "  <use xlink:href=\"#glyph1-2\" x=\"195.224609\" y=\"481.757812\"/>\n",
       "  <use xlink:href=\"#glyph1-2\" x=\"201.328125\" y=\"481.757812\"/>\n",
       "  <use xlink:href=\"#glyph1-2\" x=\"207.431641\" y=\"481.757812\"/>\n",
       "</g>\n",
       "<g style=\"fill:rgb(0%,0%,0%);fill-opacity:1;\">\n",
       "  <use xlink:href=\"#glyph1-4\" x=\"310.90625\" y=\"481.757812\"/>\n",
       "  <use xlink:href=\"#glyph1-2\" x=\"317.009766\" y=\"481.757812\"/>\n",
       "  <use xlink:href=\"#glyph1-2\" x=\"323.113281\" y=\"481.757812\"/>\n",
       "  <use xlink:href=\"#glyph1-2\" x=\"329.216797\" y=\"481.757812\"/>\n",
       "</g>\n",
       "<g style=\"fill:rgb(0%,0%,0%);fill-opacity:1;\">\n",
       "  <use xlink:href=\"#glyph1-5\" x=\"432.695312\" y=\"481.757812\"/>\n",
       "  <use xlink:href=\"#glyph1-2\" x=\"438.798828\" y=\"481.757812\"/>\n",
       "  <use xlink:href=\"#glyph1-2\" x=\"444.902344\" y=\"481.757812\"/>\n",
       "  <use xlink:href=\"#glyph1-2\" x=\"451.005859\" y=\"481.757812\"/>\n",
       "</g>\n",
       "<g style=\"fill:rgb(0%,0%,0%);fill-opacity:1;\">\n",
       "  <use xlink:href=\"#glyph2-1\" x=\"160.277344\" y=\"494.771484\"/>\n",
       "  <use xlink:href=\"#glyph2-2\" x=\"168.65625\" y=\"494.771484\"/>\n",
       "  <use xlink:href=\"#glyph2-3\" x=\"175.757812\" y=\"494.771484\"/>\n",
       "  <use xlink:href=\"#glyph2-4\" x=\"182.355469\" y=\"494.771484\"/>\n",
       "  <use xlink:href=\"#glyph2-5\" x=\"185.689453\" y=\"494.771484\"/>\n",
       "  <use xlink:href=\"#glyph2-6\" x=\"193.03125\" y=\"494.771484\"/>\n",
       "  <use xlink:href=\"#glyph2-7\" x=\"200.648438\" y=\"494.771484\"/>\n",
       "  <use xlink:href=\"#glyph2-5\" x=\"208.253906\" y=\"494.771484\"/>\n",
       "  <use xlink:href=\"#glyph2-8\" x=\"215.595703\" y=\"494.771484\"/>\n",
       "  <use xlink:href=\"#glyph2-6\" x=\"221.847656\" y=\"494.771484\"/>\n",
       "  <use xlink:href=\"#glyph2-7\" x=\"229.464844\" y=\"494.771484\"/>\n",
       "  <use xlink:href=\"#glyph2-9\" x=\"237.070312\" y=\"494.771484\"/>\n",
       "  <use xlink:href=\"#glyph2-10\" x=\"244.423828\" y=\"494.771484\"/>\n",
       "  <use xlink:href=\"#glyph2-11\" x=\"256.113281\" y=\"494.771484\"/>\n",
       "  <use xlink:href=\"#glyph2-12\" x=\"259.447266\" y=\"494.771484\"/>\n",
       "  <use xlink:href=\"#glyph2-13\" x=\"267.064453\" y=\"494.771484\"/>\n",
       "  <use xlink:href=\"#glyph2-14\" x=\"274.447266\" y=\"494.771484\"/>\n",
       "  <use xlink:href=\"#glyph2-3\" x=\"278.261719\" y=\"494.771484\"/>\n",
       "  <use xlink:href=\"#glyph2-15\" x=\"284.859375\" y=\"494.771484\"/>\n",
       "  <use xlink:href=\"#glyph2-10\" x=\"292.464844\" y=\"494.771484\"/>\n",
       "  <use xlink:href=\"#glyph2-15\" x=\"304.154297\" y=\"494.771484\"/>\n",
       "  <use xlink:href=\"#glyph2-4\" x=\"311.759766\" y=\"494.771484\"/>\n",
       "  <use xlink:href=\"#glyph2-9\" x=\"315.09375\" y=\"494.771484\"/>\n",
       "  <use xlink:href=\"#glyph2-16\" x=\"322.447266\" y=\"494.771484\"/>\n",
       "  <use xlink:href=\"#glyph2-11\" x=\"327.152344\" y=\"494.771484\"/>\n",
       "  <use xlink:href=\"#glyph2-17\" x=\"330.486328\" y=\"494.771484\"/>\n",
       "  <use xlink:href=\"#glyph2-13\" x=\"337.587891\" y=\"494.771484\"/>\n",
       "  <use xlink:href=\"#glyph2-14\" x=\"344.970703\" y=\"494.771484\"/>\n",
       "  <use xlink:href=\"#glyph2-12\" x=\"348.785156\" y=\"494.771484\"/>\n",
       "  <use xlink:href=\"#glyph2-5\" x=\"356.402344\" y=\"494.771484\"/>\n",
       "  <use xlink:href=\"#glyph2-8\" x=\"363.744141\" y=\"494.771484\"/>\n",
       "  <use xlink:href=\"#glyph2-13\" x=\"369.996094\" y=\"494.771484\"/>\n",
       "</g>\n",
       "<g style=\"fill:rgb(0%,0%,0%);fill-opacity:1;\">\n",
       "  <use xlink:href=\"#glyph3-1\" x=\"16.505859\" y=\"336.308594\"/>\n",
       "  <use xlink:href=\"#glyph3-2\" x=\"16.505859\" y=\"328.234375\"/>\n",
       "  <use xlink:href=\"#glyph3-3\" x=\"16.505859\" y=\"320.880859\"/>\n",
       "  <use xlink:href=\"#glyph3-4\" x=\"16.505859\" y=\"316.175781\"/>\n",
       "  <use xlink:href=\"#glyph3-5\" x=\"16.505859\" y=\"308.792969\"/>\n",
       "  <use xlink:href=\"#glyph3-6\" x=\"16.505859\" y=\"304.978516\"/>\n",
       "  <use xlink:href=\"#glyph3-4\" x=\"16.505859\" y=\"297.361328\"/>\n",
       "  <use xlink:href=\"#glyph3-7\" x=\"16.505859\" y=\"289.978516\"/>\n",
       "  <use xlink:href=\"#glyph3-5\" x=\"16.505859\" y=\"285.044922\"/>\n",
       "  <use xlink:href=\"#glyph3-8\" x=\"16.505859\" y=\"281.230469\"/>\n",
       "  <use xlink:href=\"#glyph3-9\" x=\"16.505859\" y=\"273.595703\"/>\n",
       "  <use xlink:href=\"#glyph3-10\" x=\"16.505859\" y=\"265.960938\"/>\n",
       "  <use xlink:href=\"#glyph3-9\" x=\"16.505859\" y=\"262.146484\"/>\n",
       "  <use xlink:href=\"#glyph3-9\" x=\"16.505859\" y=\"254.511719\"/>\n",
       "  <use xlink:href=\"#glyph3-9\" x=\"16.505859\" y=\"246.876953\"/>\n",
       "  <use xlink:href=\"#glyph3-5\" x=\"16.505859\" y=\"239.242188\"/>\n",
       "  <use xlink:href=\"#glyph3-6\" x=\"16.505859\" y=\"235.427734\"/>\n",
       "  <use xlink:href=\"#glyph3-4\" x=\"16.505859\" y=\"227.810547\"/>\n",
       "  <use xlink:href=\"#glyph3-7\" x=\"16.505859\" y=\"220.427734\"/>\n",
       "  <use xlink:href=\"#glyph3-11\" x=\"16.505859\" y=\"215.494141\"/>\n",
       "  <use xlink:href=\"#glyph3-12\" x=\"16.505859\" y=\"209.242188\"/>\n",
       "  <use xlink:href=\"#glyph3-13\" x=\"16.505859\" y=\"201.900391\"/>\n",
       "  <use xlink:href=\"#glyph3-14\" x=\"16.505859\" y=\"194.294922\"/>\n",
       "  <use xlink:href=\"#glyph3-15\" x=\"16.505859\" y=\"190.175781\"/>\n",
       "  <use xlink:href=\"#glyph3-4\" x=\"16.505859\" y=\"183.074219\"/>\n",
       "  <use xlink:href=\"#glyph3-2\" x=\"16.505859\" y=\"175.691406\"/>\n",
       "  <use xlink:href=\"#glyph3-7\" x=\"16.505859\" y=\"168.337891\"/>\n",
       "  <use xlink:href=\"#glyph3-11\" x=\"16.505859\" y=\"163.404297\"/>\n",
       "</g>\n",
       "<g style=\"fill:rgb(0%,0%,0%);fill-opacity:1;\">\n",
       "  <use xlink:href=\"#glyph4-1\" x=\"225.777344\" y=\"16.342773\"/>\n",
       "  <use xlink:href=\"#glyph4-2\" x=\"235.632812\" y=\"16.342773\"/>\n",
       "  <use xlink:href=\"#glyph4-3\" x=\"248.0625\" y=\"16.342773\"/>\n",
       "  <use xlink:href=\"#glyph4-4\" x=\"256.088867\" y=\"16.342773\"/>\n",
       "  <use xlink:href=\"#glyph4-5\" x=\"260.667969\" y=\"16.342773\"/>\n",
       "  <use xlink:href=\"#glyph4-6\" x=\"269.482422\" y=\"16.342773\"/>\n",
       "  <use xlink:href=\"#glyph4-4\" x=\"275.405273\" y=\"16.342773\"/>\n",
       "  <use xlink:href=\"#glyph4-2\" x=\"279.984375\" y=\"16.342773\"/>\n",
       "  <use xlink:href=\"#glyph4-7\" x=\"292.414062\" y=\"16.342773\"/>\n",
       "  <use xlink:href=\"#glyph4-8\" x=\"303.506836\" y=\"16.342773\"/>\n",
       "</g>\n",
       "</g>\n",
       "</svg>\n"
      ],
      "text/plain": [
       "plot without title"
      ]
     },
     "metadata": {
      "image/svg+xml": {
       "isolated": true
      }
     },
     "output_type": "display_data"
    }
   ],
   "source": [
    "mal <- \"AML or MDS\"\n",
    "M <- metareg(D2[malType == mal])\n",
    "pvalues <- c(M$pvalueLin, M$pvalueBin)\n",
    "x <- seq(min(M$rmaLin$X[, \"x\"]), max(M$rmaLin$X[, \"x\"]), length.out=100)\n",
    "yhat1 <- unique(data.table(malType = mal,\n",
    "                           # xHighDose = as.logical(M1$rmaBin$X[, \"mods\"]),\n",
    "                           x,\n",
    "                           yhat = invLogit(predict(M$rmaLin, x)[[\"pred\"]]) * scale))\n",
    "xHighDose <- as.logical(M$rmaBin$X[, \"xHighDoseTRUE\"])\n",
    "yhat2 <- unique(data.table(malType = mal,\n",
    "                           # xHighDose = as.logical(M1$rmaBin$X[, \"mods\"]),\n",
    "                           xHighDose,\n",
    "                           yhat = invLogit(predict(M$rmaBin, xHighDose)[[\"pred\"]]) * scale))\n",
    "plotreg(D2,\n",
    "        mal,\n",
    "        \"Cyclophosphamide cumulative dose\",\n",
    "        1000 * c(0.5, 1, 2, 4, 8, 16),\n",
    "        pvalues,\n",
    "        yhat1,\n",
    "        yhat2)"
   ]
  },
  {
   "cell_type": "markdown",
   "metadata": {},
   "source": [
    "Show the model summary for **AML or MDS**."
   ]
  },
  {
   "cell_type": "code",
   "execution_count": 26,
   "metadata": {
    "collapsed": false,
    "scrolled": false
   },
   "outputs": [
    {
     "data": {
      "text/plain": [
       "$rmaLin\n",
       "\n",
       "Multivariate Meta-Analysis Model (k = 56; method: REML)\n",
       "\n",
       "Variance Components: \n",
       "\n",
       "            estim    sqrt  nlvls  fixed  factor\n",
       "sigma^2    0.1693  0.4115     26     no      id\n",
       "\n",
       "Test for Residual Heterogeneity: \n",
       "QE(df = 54) = 67.8113, p-val = 0.0980\n",
       "\n",
       "Test of Moderators (coefficient(s) 2): \n",
       "QM(df = 1) = 4.4383, p-val = 0.0351\n",
       "\n",
       "Model Results:\n",
       "\n",
       "         estimate      se      zval    pval    ci.lb    ci.ub     \n",
       "intrcpt   -7.6135  0.2258  -33.7187  <.0001  -8.0560  -7.1709  ***\n",
       "x          0.0001  0.0001    2.1067  0.0351   0.0000   0.0002    *\n",
       "\n",
       "---\n",
       "Signif. codes:  0 ‘***’ 0.001 ‘**’ 0.01 ‘*’ 0.05 ‘.’ 0.1 ‘ ’ 1 \n",
       "\n",
       "\n",
       "$rmaBin\n",
       "\n",
       "Multivariate Meta-Analysis Model (k = 56; method: REML)\n",
       "\n",
       "Variance Components: \n",
       "\n",
       "            estim    sqrt  nlvls  fixed  factor\n",
       "sigma^2    0.2447  0.4946     26     no      id\n",
       "\n",
       "Test for Residual Heterogeneity: \n",
       "QE(df = 54) = 81.5431, p-val = 0.0091\n",
       "\n",
       "Test of Moderators (coefficient(s) 2): \n",
       "QM(df = 1) = 0.4988, p-val = 0.4800\n",
       "\n",
       "Model Results:\n",
       "\n",
       "               estimate      se      zval    pval    ci.lb    ci.ub     \n",
       "intrcpt         -7.5326  0.4261  -17.6799  <.0001  -8.3676  -6.6975  ***\n",
       "xHighDoseTRUE    0.3084  0.4367    0.7062  0.4800  -0.5475   1.1642     \n",
       "\n",
       "---\n",
       "Signif. codes:  0 ‘***’ 0.001 ‘**’ 0.01 ‘*’ 0.05 ‘.’ 0.1 ‘ ’ 1 \n",
       "\n",
       "\n",
       "$pvalueLin\n",
       "[1] \"p = 0.035\"\n",
       "\n",
       "$pvalueBin\n",
       "[1] \"p = 0.480\"\n"
      ]
     },
     "metadata": {},
     "output_type": "display_data"
    }
   ],
   "source": [
    "M"
   ]
  },
  {
   "cell_type": "markdown",
   "metadata": {},
   "source": [
    "## Study Characteristics and Outcomes\n",
    "\n",
    "Populate Appendix Table 1.\n",
    "Need columns for\n",
    "\n",
    "* Study\n",
    "* Country\n",
    "* Median follow-up (months)\n",
    "* Regimen name\n",
    "* Cumulative dose\n",
    "    * Anthracyclines\n",
    "    * Cyclophosphamide\n",
    "    * Taxanes\n",
    "* N\n",
    "* AML/MDS count (the numerator for the incidence rate)\n",
    "* Person-years (the denominator for the incidence rate)\n",
    "* AML/MDS incidence, per 10,000 person-years\n",
    "\n",
    "Output to an Excel workbook, [appendixTableStudyCharacteristicsAndOutcomes.xlsx](appendixTableStudyCharacteristicsAndOutcomes.xlsx)."
   ]
  },
  {
   "cell_type": "code",
   "execution_count": 27,
   "metadata": {
    "collapsed": false,
    "scrolled": false
   },
   "outputs": [
    {
     "name": "stderr",
     "output_type": "stream",
     "text": [
      "Loading required package: rJava\n",
      "Loading required package: xlsxjars\n",
      "\n",
      "Attaching package: ‘xlsx’\n",
      "\n",
      "The following objects are masked from ‘package:openxlsx’:\n",
      "\n",
      "    createWorkbook, loadWorkbook, read.xlsx, saveWorkbook, write.xlsx\n",
      "\n",
      "\n",
      "Attaching package: ‘xtable’\n",
      "\n",
      "The following object is masked from ‘package:IRdisplay’:\n",
      "\n",
      "    display\n",
      "\n"
     ]
    },
    {
     "data": {
      "text/plain": [
       "                                                  size isdir mode\n",
       "appendixTableStudyCharacteristicsAndOutcomes.xlsx 8749 FALSE  664\n",
       "                                                                mtime\n",
       "appendixTableStudyCharacteristicsAndOutcomes.xlsx 2016-06-22 14:54:07\n",
       "                                                                ctime\n",
       "appendixTableStudyCharacteristicsAndOutcomes.xlsx 2016-06-22 14:54:07\n",
       "                                                                atime  uid  gid\n",
       "appendixTableStudyCharacteristicsAndOutcomes.xlsx 2016-06-22 14:32:19 1000 1000\n",
       "                                                   uname grname\n",
       "appendixTableStudyCharacteristicsAndOutcomes.xlsx ubuntu ubuntu"
      ]
     },
     "metadata": {},
     "output_type": "display_data"
    },
    {
     "data": {
      "text/html": [
       "<!-- html table generated in R 3.3.0 by xtable 1.8-2 package --><!-- Wed Jun 22 14:54:08 2016 --><table border=1><tr> <th>  </th> <th> study </th> <th> country </th> <th> medianFU </th> <th> regimen </th> <th> anthrCumulDose </th> <th> cycloCumulaDose </th> <th> taxaneCumulDose </th> <th> nITT </th> <th> nAMLOrMDS </th> <th> py </th> <th> incidenceAMLOrMDS </th>  </tr>  <tr> <td align=\"right\"> 1 </td> <td> Bergh (2000) SBG 9401 </td> <td>  </td> <td align=\"right\"> 38 </td> <td> FEC Tailored </td> <td align=\"right\">  </td> <td align=\"right\">  </td> <td align=\"right\">  </td> <td align=\"right\"> 251 </td> <td align=\"right\"> 9 </td> <td align=\"right\"> 801 </td> <td align=\"right\"> 112.00 </td> </tr>  <tr> <td align=\"right\"> 2 </td> <td> Bergh (2000) SBG 9401 </td> <td>  </td> <td align=\"right\"> 38 </td> <td> FEC CTCb </td> <td align=\"right\"> 180 </td> <td align=\"right\"> 1200 </td> <td align=\"right\">  </td> <td align=\"right\"> 274 </td> <td align=\"right\"> 0 </td> <td align=\"right\"> 875 </td> <td align=\"right\"> 0.00 </td> </tr>  <tr> <td align=\"right\"> 3 </td> <td> Bernard-Marty (2003) </td> <td>  </td> <td align=\"right\"> 73 </td> <td> CMF </td> <td align=\"right\">  </td> <td align=\"right\">  </td> <td align=\"right\">  </td> <td align=\"right\"> 255 </td> <td align=\"right\"> 0 </td> <td align=\"right\"> 1551 </td> <td align=\"right\"> 0.00 </td> </tr>  <tr> <td align=\"right\"> 4 </td> <td> Bernard-Marty (2003) </td> <td>  </td> <td align=\"right\"> 73 </td> <td> EC </td> <td align=\"right\"> 480 </td> <td align=\"right\"> 4000 </td> <td align=\"right\">  </td> <td align=\"right\"> 267 </td> <td align=\"right\"> 0 </td> <td align=\"right\"> 1624 </td> <td align=\"right\"> 0.00 </td> </tr>  <tr> <td align=\"right\"> 5 </td> <td> Bernard-Marty (2003) </td> <td>  </td> <td align=\"right\"> 73 </td> <td> EC </td> <td align=\"right\"> 800 </td> <td align=\"right\"> 6640 </td> <td align=\"right\">  </td> <td align=\"right\"> 255 </td> <td align=\"right\"> 3 </td> <td align=\"right\"> 1551 </td> <td align=\"right\"> 19.30 </td> </tr>  <tr> <td align=\"right\"> 6 </td> <td> Bonneterre (2005) FASG 05 </td> <td>  </td> <td align=\"right\"> 110 </td> <td> FEC 50 </td> <td align=\"right\"> 300 </td> <td align=\"right\"> 3000 </td> <td align=\"right\">  </td> <td align=\"right\"> 289 </td> <td align=\"right\"> 1 </td> <td align=\"right\"> 2649 </td> <td align=\"right\"> 3.77 </td> </tr>  <tr> <td align=\"right\"> 7 </td> <td> Bonneterre (2005) FASG 05 </td> <td>  </td> <td align=\"right\"> 110 </td> <td> FEC 100 </td> <td align=\"right\"> 600 </td> <td align=\"right\"> 3000 </td> <td align=\"right\">  </td> <td align=\"right\"> 276 </td> <td align=\"right\"> 1 </td> <td align=\"right\"> 2530 </td> <td align=\"right\"> 3.95 </td> </tr>  <tr> <td align=\"right\"> 8 </td> <td> Citron (2003) Intergroup C9741 </td> <td>  </td> <td align=\"right\"> 36 </td> <td> A-T-C </td> <td align=\"right\"> 240 </td> <td align=\"right\"> 2400 </td> <td align=\"right\"> 700 </td> <td align=\"right\"> 484 </td> <td align=\"right\"> 2 </td> <td align=\"right\"> 1452 </td> <td align=\"right\"> 13.80 </td> </tr>  <tr> <td align=\"right\"> 9 </td> <td> Citron (2003) Intergroup C9741 </td> <td>  </td> <td align=\"right\"> 36 </td> <td> A-T-C </td> <td align=\"right\"> 240 </td> <td align=\"right\"> 2400 </td> <td align=\"right\"> 700 </td> <td align=\"right\"> 493 </td> <td align=\"right\"> 3 </td> <td align=\"right\"> 1479 </td> <td align=\"right\"> 20.30 </td> </tr>  <tr> <td align=\"right\"> 10 </td> <td> Citron (2003) Intergroup C9741 </td> <td>  </td> <td align=\"right\"> 36 </td> <td> AC-T </td> <td align=\"right\"> 240 </td> <td align=\"right\"> 2400 </td> <td align=\"right\"> 700 </td> <td align=\"right\"> 501 </td> <td align=\"right\"> 4 </td> <td align=\"right\"> 1503 </td> <td align=\"right\"> 26.60 </td> </tr>  <tr> <td align=\"right\"> 11 </td> <td> Citron (2003) Intergroup C9741 </td> <td>  </td> <td align=\"right\"> 36 </td> <td> AC-T </td> <td align=\"right\"> 240 </td> <td align=\"right\"> 2400 </td> <td align=\"right\"> 700 </td> <td align=\"right\"> 495 </td> <td align=\"right\"> 2 </td> <td align=\"right\"> 1485 </td> <td align=\"right\"> 13.50 </td> </tr>  <tr> <td align=\"right\"> 12 </td> <td> Colleoni (2009) IBCSG 15-95 </td> <td>  </td> <td align=\"right\"> 100 </td> <td> AC-CMF </td> <td align=\"right\"> 300 </td> <td align=\"right\"> 2400 </td> <td align=\"right\">  </td> <td align=\"right\"> 171 </td> <td align=\"right\">  </td> <td align=\"right\"> 1419 </td> <td align=\"right\">  </td> </tr>  <tr> <td align=\"right\"> 13 </td> <td> Colleoni (2009) IBCSG 15-95 </td> <td>  </td> <td align=\"right\"> 100 </td> <td> EC </td> <td align=\"right\"> 600 </td> <td align=\"right\">  </td> <td align=\"right\">  </td> <td align=\"right\"> 173 </td> <td align=\"right\">  </td> <td align=\"right\"> 1436 </td> <td align=\"right\">  </td> </tr>  <tr> <td align=\"right\"> 14 </td> <td> Coombes (1996) ICCG 6-89/2-84 </td> <td>  </td> <td align=\"right\"> 58 </td> <td> CMF </td> <td align=\"right\">  </td> <td align=\"right\">  </td> <td align=\"right\">  </td> <td align=\"right\"> 180 </td> <td align=\"right\">  </td> <td align=\"right\"> 870 </td> <td align=\"right\">  </td> </tr>  <tr> <td align=\"right\"> 15 </td> <td> Coombes (1996) ICCG 6-89/2-84 </td> <td>  </td> <td align=\"right\"> 58 </td> <td> CMF </td> <td align=\"right\">  </td> <td align=\"right\">  </td> <td align=\"right\">  </td> <td align=\"right\"> 199 </td> <td align=\"right\">  </td> <td align=\"right\"> 962 </td> <td align=\"right\">  </td> </tr>  <tr> <td align=\"right\"> 16 </td> <td> Coombes (1996) ICCG 6-89/2-84 </td> <td>  </td> <td align=\"right\"> 58 </td> <td> FEC </td> <td align=\"right\"> 400 </td> <td align=\"right\"> 4800 </td> <td align=\"right\">  </td> <td align=\"right\"> 180 </td> <td align=\"right\">  </td> <td align=\"right\"> 870 </td> <td align=\"right\">  </td> </tr>  <tr> <td align=\"right\"> 17 </td> <td> Coombes (1996) ICCG 6-89/2-84 </td> <td>  </td> <td align=\"right\"> 58 </td> <td> FEC </td> <td align=\"right\"> 300 </td> <td align=\"right\"> 7200 </td> <td align=\"right\">  </td> <td align=\"right\"> 200 </td> <td align=\"right\">  </td> <td align=\"right\"> 967 </td> <td align=\"right\">  </td> </tr>  <tr> <td align=\"right\"> 18 </td> <td> Del Mastro (2015) </td> <td>  </td> <td align=\"right\"> 84 </td> <td> EC-T </td> <td align=\"right\"> 360 </td> <td align=\"right\"> 2400 </td> <td align=\"right\"> 700 </td> <td align=\"right\"> 545 </td> <td align=\"right\"> 0 </td> <td align=\"right\"> 3815 </td> <td align=\"right\"> 0.00 </td> </tr>  <tr> <td align=\"right\"> 19 </td> <td> Del Mastro (2015) </td> <td>  </td> <td align=\"right\"> 84 </td> <td> FEC-T </td> <td align=\"right\"> 360 </td> <td align=\"right\"> 2400 </td> <td align=\"right\"> 700 </td> <td align=\"right\"> 544 </td> <td align=\"right\"> 0 </td> <td align=\"right\"> 3808 </td> <td align=\"right\"> 0.00 </td> </tr>  <tr> <td align=\"right\"> 20 </td> <td> Del Mastro (2015) </td> <td>  </td> <td align=\"right\"> 84 </td> <td> EC-T </td> <td align=\"right\"> 360 </td> <td align=\"right\"> 2400 </td> <td align=\"right\"> 700 </td> <td align=\"right\"> 502 </td> <td align=\"right\"> 2 </td> <td align=\"right\"> 3514 </td> <td align=\"right\"> 5.69 </td> </tr>  <tr> <td align=\"right\"> 21 </td> <td> Del Mastro (2015) </td> <td>  </td> <td align=\"right\"> 84 </td> <td> FEC-T </td> <td align=\"right\"> 360 </td> <td align=\"right\"> 2400 </td> <td align=\"right\"> 700 </td> <td align=\"right\"> 500 </td> <td align=\"right\"> 0 </td> <td align=\"right\"> 3500 </td> <td align=\"right\"> 0.00 </td> </tr>  <tr> <td align=\"right\"> 22 </td> <td> Eiermann (2011) BCIRG 005 </td> <td>  </td> <td align=\"right\"> 65 </td> <td> AC-T </td> <td align=\"right\"> 240 </td> <td align=\"right\"> 2400 </td> <td align=\"right\"> 400 </td> <td align=\"right\"> 1649 </td> <td align=\"right\"> 2 </td> <td align=\"right\"> 8932 </td> <td align=\"right\"> 2.24 </td> </tr>  <tr> <td align=\"right\"> 23 </td> <td> Eiermann (2011) BCIRG 005 </td> <td>  </td> <td align=\"right\"> 65 </td> <td> TAC </td> <td align=\"right\"> 300 </td> <td align=\"right\"> 3000 </td> <td align=\"right\"> 450 </td> <td align=\"right\"> 1649 </td> <td align=\"right\"> 4 </td> <td align=\"right\"> 8932 </td> <td align=\"right\"> 4.48 </td> </tr>  <tr> <td align=\"right\"> 24 </td> <td> Fargeot (2004) FASG 08 </td> <td>  </td> <td align=\"right\"> 72 </td> <td> Tamoxifen </td> <td align=\"right\">  </td> <td align=\"right\">  </td> <td align=\"right\">  </td> <td align=\"right\"> 164 </td> <td align=\"right\"> 0 </td> <td align=\"right\"> 984 </td> <td align=\"right\"> 0.00 </td> </tr>  <tr> <td align=\"right\"> 25 </td> <td> Fargeot (2004) FASG 08 </td> <td>  </td> <td align=\"right\"> 72 </td> <td> EPI-Tam </td> <td align=\"right\"> 540 </td> <td align=\"right\">  </td> <td align=\"right\">  </td> <td align=\"right\"> 174 </td> <td align=\"right\"> 0 </td> <td align=\"right\"> 1044 </td> <td align=\"right\"> 0.00 </td> </tr>  <tr> <td align=\"right\"> 26 </td> <td> Fisher (1990) NSABP B-15 </td> <td>  </td> <td align=\"right\"> 26 </td> <td> AC </td> <td align=\"right\"> 240 </td> <td align=\"right\"> 2400 </td> <td align=\"right\">  </td> <td align=\"right\"> 734 </td> <td align=\"right\">  </td> <td align=\"right\"> 1603 </td> <td align=\"right\">  </td> </tr>  <tr> <td align=\"right\"> 27 </td> <td> Fisher (1990) NSABP B-15 </td> <td>  </td> <td align=\"right\"> 26 </td> <td> AC-CMF </td> <td align=\"right\"> 240 </td> <td align=\"right\"> 2400 </td> <td align=\"right\">  </td> <td align=\"right\"> 728 </td> <td align=\"right\">  </td> <td align=\"right\"> 1589 </td> <td align=\"right\">  </td> </tr>  <tr> <td align=\"right\"> 28 </td> <td> Fisher (1990) NSABP B-15 </td> <td>  </td> <td align=\"right\"> 26 </td> <td> CMF </td> <td align=\"right\">  </td> <td align=\"right\">  </td> <td align=\"right\">  </td> <td align=\"right\"> 732 </td> <td align=\"right\">  </td> <td align=\"right\"> 1598 </td> <td align=\"right\">  </td> </tr>  <tr> <td align=\"right\"> 29 </td> <td> Fisher (1997) NSABP B-22 </td> <td>  </td> <td align=\"right\"> 69 </td> <td> AC </td> <td align=\"right\"> 240 </td> <td align=\"right\"> 2400 </td> <td align=\"right\">  </td> <td align=\"right\"> 767 </td> <td align=\"right\"> 2 </td> <td align=\"right\"> 4429 </td> <td align=\"right\"> 4.52 </td> </tr>  <tr> <td align=\"right\"> 30 </td> <td> Fisher (1997) NSABP B-22 </td> <td>  </td> <td align=\"right\"> 69 </td> <td> AC </td> <td align=\"right\"> 240 </td> <td align=\"right\"> 2400 </td> <td align=\"right\">  </td> <td align=\"right\"> 767 </td> <td align=\"right\"> 1 </td> <td align=\"right\"> 4429 </td> <td align=\"right\"> 2.26 </td> </tr>  <tr> <td align=\"right\"> 31 </td> <td> Fisher (1997) NSABP B-22 </td> <td>  </td> <td align=\"right\"> 69 </td> <td> AC </td> <td align=\"right\"> 240 </td> <td align=\"right\"> 4800 </td> <td align=\"right\">  </td> <td align=\"right\"> 772 </td> <td align=\"right\"> 3 </td> <td align=\"right\"> 4458 </td> <td align=\"right\"> 6.73 </td> </tr>  <tr> <td align=\"right\"> 32 </td> <td> Fisher (1999) NSABP B-25 </td> <td>  </td> <td align=\"right\"> 55 </td> <td> AC </td> <td align=\"right\"> 240 </td> <td align=\"right\"> 4800 </td> <td align=\"right\">  </td> <td align=\"right\"> 849 </td> <td align=\"right\"> 4 </td> <td align=\"right\"> 3905 </td> <td align=\"right\"> 10.20 </td> </tr>  <tr> <td align=\"right\"> 33 </td> <td> Fisher (1999) NSABP B-25 </td> <td>  </td> <td align=\"right\"> 55 </td> <td> AC </td> <td align=\"right\"> 240 </td> <td align=\"right\"> 4800 </td> <td align=\"right\">  </td> <td align=\"right\"> 847 </td> <td align=\"right\"> 10 </td> <td align=\"right\"> 3896 </td> <td align=\"right\"> 25.70 </td> </tr>  <tr> <td align=\"right\"> 34 </td> <td> Fisher (1999) NSABP B-25 </td> <td>  </td> <td align=\"right\"> 55 </td> <td> AC </td> <td align=\"right\"> 240 </td> <td align=\"right\"> 9600 </td> <td align=\"right\">  </td> <td align=\"right\"> 849 </td> <td align=\"right\"> 8 </td> <td align=\"right\"> 3905 </td> <td align=\"right\"> 20.50 </td> </tr>  <tr> <td align=\"right\"> 35 </td> <td> Fisher (2001) NSABP B-23 </td> <td>  </td> <td align=\"right\"> 60 </td> <td> CMF </td> <td align=\"right\">  </td> <td align=\"right\">  </td> <td align=\"right\">  </td> <td align=\"right\"> 498 </td> <td align=\"right\">  </td> <td align=\"right\"> 2490 </td> <td align=\"right\">  </td> </tr>  <tr> <td align=\"right\"> 36 </td> <td> Fisher (2001) NSABP B-23 </td> <td>  </td> <td align=\"right\"> 60 </td> <td> CMF-Tam </td> <td align=\"right\">  </td> <td align=\"right\">  </td> <td align=\"right\">  </td> <td align=\"right\"> 496 </td> <td align=\"right\">  </td> <td align=\"right\"> 2480 </td> <td align=\"right\">  </td> </tr>  <tr> <td align=\"right\"> 37 </td> <td> Fisher (2001) NSABP B-23 </td> <td>  </td> <td align=\"right\"> 60 </td> <td> AC </td> <td align=\"right\"> 240 </td> <td align=\"right\"> 2400 </td> <td align=\"right\">  </td> <td align=\"right\"> 494 </td> <td align=\"right\">  </td> <td align=\"right\"> 2470 </td> <td align=\"right\">  </td> </tr>  <tr> <td align=\"right\"> 38 </td> <td> Fisher (2001) NSABP B-23 </td> <td>  </td> <td align=\"right\"> 60 </td> <td> AC-Tam </td> <td align=\"right\"> 240 </td> <td align=\"right\"> 2400 </td> <td align=\"right\">  </td> <td align=\"right\"> 494 </td> <td align=\"right\">  </td> <td align=\"right\"> 2470 </td> <td align=\"right\">  </td> </tr>  <tr> <td align=\"right\"> 39 </td> <td> Fountzilas (2005) </td> <td>  </td> <td align=\"right\"> 62 </td> <td> E-T-CMF </td> <td align=\"right\"> 330 </td> <td align=\"right\">  </td> <td align=\"right\"> 750 </td> <td align=\"right\"> 297 </td> <td align=\"right\"> 0 </td> <td align=\"right\"> 1534 </td> <td align=\"right\"> 0.00 </td> </tr>  <tr> <td align=\"right\"> 40 </td> <td> Fountzilas (2005) </td> <td>  </td> <td align=\"right\"> 62 </td> <td> E-CMF </td> <td align=\"right\"> 440 </td> <td align=\"right\">  </td> <td align=\"right\">  </td> <td align=\"right\"> 290 </td> <td align=\"right\"> 1 </td> <td align=\"right\"> 1498 </td> <td align=\"right\"> 6.67 </td> </tr>  <tr> <td align=\"right\"> 41 </td> <td> Francis (2008) BIG 02-98 </td> <td>  </td> <td align=\"right\"> 62 </td> <td> A-CMF </td> <td align=\"right\"> 300 </td> <td align=\"right\">  </td> <td align=\"right\">  </td> <td align=\"right\"> 481 </td> <td align=\"right\">  </td> <td align=\"right\"> 2505 </td> <td align=\"right\">  </td> </tr>  <tr> <td align=\"right\"> 42 </td> <td> Francis (2008) BIG 02-98 </td> <td>  </td> <td align=\"right\"> 62 </td> <td> AC-CMF </td> <td align=\"right\"> 240 </td> <td align=\"right\"> 2400 </td> <td align=\"right\">  </td> <td align=\"right\"> 847 </td> <td align=\"right\">  </td> <td align=\"right\"> 4411 </td> <td align=\"right\">  </td> </tr>  <tr> <td align=\"right\"> 43 </td> <td> Francis (2008) BIG 02-98 </td> <td>  </td> <td align=\"right\"> 62 </td> <td> A-T-CMF </td> <td align=\"right\"> 225 </td> <td align=\"right\">  </td> <td align=\"right\"> 300 </td> <td align=\"right\"> 960 </td> <td align=\"right\">  </td> <td align=\"right\"> 5000 </td> <td align=\"right\">  </td> </tr>  <tr> <td align=\"right\"> 44 </td> <td> Francis (2008) BIG 02-98 </td> <td>  </td> <td align=\"right\"> 62 </td> <td> AT-CMF </td> <td align=\"right\"> 200 </td> <td align=\"right\">  </td> <td align=\"right\"> 300 </td> <td align=\"right\"> 959 </td> <td align=\"right\">  </td> <td align=\"right\"> 4995 </td> <td align=\"right\">  </td> </tr>  <tr> <td align=\"right\"> 45 </td> <td> Fumoleu (2003) FASG 01 </td> <td>  </td> <td align=\"right\"> 131 </td> <td> FEC 50 </td> <td align=\"right\"> 300 </td> <td align=\"right\"> 3000 </td> <td align=\"right\">  </td> <td align=\"right\"> 212 </td> <td align=\"right\"> 0 </td> <td align=\"right\"> 2314 </td> <td align=\"right\"> 0.00 </td> </tr>  <tr> <td align=\"right\"> 46 </td> <td> Fumoleu (2003) FASG 01 </td> <td>  </td> <td align=\"right\"> 131 </td> <td> 3 FEC 50 </td> <td align=\"right\"> 150 </td> <td align=\"right\"> 1500 </td> <td align=\"right\">  </td> <td align=\"right\"> 209 </td> <td align=\"right\"> 2 </td> <td align=\"right\"> 2282 </td> <td align=\"right\"> 8.77 </td> </tr>  <tr> <td align=\"right\"> 47 </td> <td> Fumoleu (2003) FASG 01 </td> <td>  </td> <td align=\"right\"> 131 </td> <td> FEC 75 </td> <td align=\"right\"> 225 </td> <td align=\"right\"> 1500 </td> <td align=\"right\">  </td> <td align=\"right\"> 200 </td> <td align=\"right\"> 1 </td> <td align=\"right\"> 2183 </td> <td align=\"right\"> 4.58 </td> </tr>  <tr> <td align=\"right\"> 48 </td> <td> Goldstein (2008) Intergroup E2197 </td> <td>  </td> <td align=\"right\"> 80 </td> <td> AT </td> <td align=\"right\"> 240 </td> <td align=\"right\">  </td> <td align=\"right\"> 240 </td> <td align=\"right\"> 1441 </td> <td align=\"right\"> 7 </td> <td align=\"right\"> 9547 </td> <td align=\"right\"> 7.33 </td> </tr>  <tr> <td align=\"right\"> 49 </td> <td> Goldstein (2008) Intergroup E2197 </td> <td>  </td> <td align=\"right\"> 80 </td> <td> AC </td> <td align=\"right\"> 240 </td> <td align=\"right\"> 2400 </td> <td align=\"right\">  </td> <td align=\"right\"> 1441 </td> <td align=\"right\"> 7 </td> <td align=\"right\"> 9547 </td> <td align=\"right\"> 7.33 </td> </tr>  <tr> <td align=\"right\"> 50 </td> <td> Henderson (2003) </td> <td>  </td> <td align=\"right\"> 69 </td> <td> AC </td> <td align=\"right\"> 300 </td> <td align=\"right\"> 2400 </td> <td align=\"right\">  </td> <td align=\"right\"> 1551 </td> <td align=\"right\"> 8 </td> <td align=\"right\"> 8918 </td> <td align=\"right\"> 8.97 </td> </tr>  <tr> <td align=\"right\"> 51 </td> <td> Henderson (2003) </td> <td>  </td> <td align=\"right\"> 69 </td> <td> AC-T </td> <td align=\"right\"> 300 </td> <td align=\"right\"> 2400 </td> <td align=\"right\">  </td> <td align=\"right\"> 1570 </td> <td align=\"right\"> 8 </td> <td align=\"right\"> 9028 </td> <td align=\"right\"> 8.86 </td> </tr>  <tr> <td align=\"right\"> 52 </td> <td> Joensuu (2012) FinXX </td> <td>  </td> <td align=\"right\"> 59 </td> <td> TX-CEX </td> <td align=\"right\"> 225 </td> <td align=\"right\"> 1800 </td> <td align=\"right\"> 180 </td> <td align=\"right\"> 751 </td> <td align=\"right\">  </td> <td align=\"right\"> 3692 </td> <td align=\"right\">  </td> </tr>  <tr> <td align=\"right\"> 53 </td> <td> Joensuu (2012) FinXX </td> <td>  </td> <td align=\"right\"> 59 </td> <td> T-FEC </td> <td align=\"right\"> 225 </td> <td align=\"right\"> 1800 </td> <td align=\"right\"> 240 </td> <td align=\"right\"> 745 </td> <td align=\"right\">  </td> <td align=\"right\"> 3663 </td> <td align=\"right\">  </td> </tr>  <tr> <td align=\"right\"> 54 </td> <td> Kerbrat (2007) FASG 09 </td> <td>  </td> <td align=\"right\"> 78 </td> <td> FEC </td> <td align=\"right\"> 600 </td> <td align=\"right\"> 3000 </td> <td align=\"right\">  </td> <td align=\"right\"> 241 </td> <td align=\"right\"> 1 </td> <td align=\"right\"> 1566 </td> <td align=\"right\"> 6.38 </td> </tr>  <tr> <td align=\"right\"> 55 </td> <td> Kerbrat (2007) FASG 09 </td> <td>  </td> <td align=\"right\"> 78 </td> <td> E+Vnr </td> <td align=\"right\"> 300 </td> <td align=\"right\">  </td> <td align=\"right\">  </td> <td align=\"right\"> 241 </td> <td align=\"right\"> 0 </td> <td align=\"right\"> 1566 </td> <td align=\"right\"> 0.00 </td> </tr>  <tr> <td align=\"right\"> 56 </td> <td> Linden (2007) INT-0137 </td> <td>  </td> <td align=\"right\"> 86 </td> <td> AC </td> <td align=\"right\"> 324 </td> <td align=\"right\"> 7200 </td> <td align=\"right\">  </td> <td align=\"right\"> 1590 </td> <td align=\"right\"> 13 </td> <td align=\"right\"> 11448 </td> <td align=\"right\"> 11.40 </td> </tr>  <tr> <td align=\"right\"> 57 </td> <td> Linden (2007) INT-0137 </td> <td>  </td> <td align=\"right\"> 86 </td> <td> A-C </td> <td align=\"right\"> 324 </td> <td align=\"right\"> 7200 </td> <td align=\"right\">  </td> <td align=\"right\"> 1524 </td> <td align=\"right\"> 15 </td> <td align=\"right\"> 10973 </td> <td align=\"right\"> 13.70 </td> </tr>  <tr> <td align=\"right\"> 58 </td> <td> Mackey (2013) BCIRG 001 </td> <td>  </td> <td align=\"right\"> 124 </td> <td> TAC </td> <td align=\"right\"> 300 </td> <td align=\"right\"> 3000 </td> <td align=\"right\"> 450 </td> <td align=\"right\"> 745 </td> <td align=\"right\"> 6 </td> <td align=\"right\"> 7698 </td> <td align=\"right\"> 7.79 </td> </tr>  <tr> <td align=\"right\"> 59 </td> <td> Mackey (2013) BCIRG 001 </td> <td>  </td> <td align=\"right\"> 124 </td> <td> FAC </td> <td align=\"right\"> 300 </td> <td align=\"right\"> 3000 </td> <td align=\"right\">  </td> <td align=\"right\"> 746 </td> <td align=\"right\"> 2 </td> <td align=\"right\"> 7709 </td> <td align=\"right\"> 2.59 </td> </tr>  <tr> <td align=\"right\"> 60 </td> <td> Mamounas (2005) NSABP B-28 </td> <td>  </td> <td align=\"right\"> 65 </td> <td> AC </td> <td align=\"right\"> 240 </td> <td align=\"right\"> 2400 </td> <td align=\"right\">  </td> <td align=\"right\"> 1529 </td> <td align=\"right\"> 2 </td> <td align=\"right\"> 8282 </td> <td align=\"right\"> 2.41 </td> </tr>  <tr> <td align=\"right\"> 61 </td> <td> Mamounas (2005) NSABP B-28 </td> <td>  </td> <td align=\"right\"> 65 </td> <td> AC-T </td> <td align=\"right\"> 240 </td> <td align=\"right\"> 2400 </td> <td align=\"right\"> 900 </td> <td align=\"right\"> 1531 </td> <td align=\"right\"> 6 </td> <td align=\"right\"> 8293 </td> <td align=\"right\"> 7.24 </td> </tr>  <tr> <td align=\"right\"> 62 </td> <td> Martin (2010) GEICAM 9805 </td> <td>  </td> <td align=\"right\"> 77 </td> <td> TAC </td> <td align=\"right\"> 300 </td> <td align=\"right\"> 3000 </td> <td align=\"right\"> 450 </td> <td align=\"right\"> 539 </td> <td align=\"right\"> 0 </td> <td align=\"right\"> 3459 </td> <td align=\"right\"> 0.00 </td> </tr>  <tr> <td align=\"right\"> 63 </td> <td> Martin (2010) GEICAM 9805 </td> <td>  </td> <td align=\"right\"> 77 </td> <td> FAC </td> <td align=\"right\"> 300 </td> <td align=\"right\"> 3000 </td> <td align=\"right\">  </td> <td align=\"right\"> 521 </td> <td align=\"right\"> 0 </td> <td align=\"right\"> 3343 </td> <td align=\"right\"> 0.00 </td> </tr>  <tr> <td align=\"right\"> 64 </td> <td> Martin (2013) GEICAM 2003-02 </td> <td>  </td> <td align=\"right\"> 63 </td> <td> FAC-T </td> <td align=\"right\"> 200 </td> <td align=\"right\"> 2000 </td> <td align=\"right\"> 800 </td> <td align=\"right\"> 951 </td> <td align=\"right\"> 1 </td> <td align=\"right\"> 5017 </td> <td align=\"right\"> 1.99 </td> </tr>  <tr> <td align=\"right\"> 65 </td> <td> Martin (2013) GEICAM 2003-02 </td> <td>  </td> <td align=\"right\"> 63 </td> <td> FAC </td> <td align=\"right\"> 300 </td> <td align=\"right\"> 3000 </td> <td align=\"right\">  </td> <td align=\"right\"> 974 </td> <td align=\"right\"> 2 </td> <td align=\"right\"> 5138 </td> <td align=\"right\"> 3.89 </td> </tr>  <tr> <td align=\"right\"> 66 </td> <td> Misset (1996) </td> <td>  </td> <td align=\"right\"> 191 </td> <td> CMF </td> <td align=\"right\">  </td> <td align=\"right\">  </td> <td align=\"right\">  </td> <td align=\"right\"> 112 </td> <td align=\"right\">  </td> <td align=\"right\"> 1781 </td> <td align=\"right\">  </td> </tr>  <tr> <td align=\"right\"> 67 </td> <td> Misset (1996) </td> <td>  </td> <td align=\"right\"> 191 </td> <td> AVCF </td> <td align=\"right\"> 360 </td> <td align=\"right\"> 14400 </td> <td align=\"right\">  </td> <td align=\"right\"> 137 </td> <td align=\"right\">  </td> <td align=\"right\"> 2178 </td> <td align=\"right\">  </td> </tr>  <tr> <td align=\"right\"> 68 </td> <td> Moore (2007) SWOG 9623 </td> <td>  </td> <td align=\"right\"> 70 </td> <td> ACT </td> <td align=\"right\"> 240 </td> <td align=\"right\"> 900 </td> <td align=\"right\"> 600 </td> <td align=\"right\"> 271 </td> <td align=\"right\"> 2 </td> <td align=\"right\"> 1581 </td> <td align=\"right\"> 12.70 </td> </tr>  <tr> <td align=\"right\"> 69 </td> <td> Moore (2007) SWOG 9623 </td> <td>  </td> <td align=\"right\"> 70 </td> <td> AC </td> <td align=\"right\"> 320 </td> <td align=\"right\"> 2400 </td> <td align=\"right\">  </td> <td align=\"right\"> 265 </td> <td align=\"right\"> 3 </td> <td align=\"right\"> 1546 </td> <td align=\"right\"> 19.40 </td> </tr>  <tr> <td align=\"right\"> 70 </td> <td> Nitz (2014) </td> <td>  </td> <td align=\"right\"> 59 </td> <td> EC-T </td> <td align=\"right\"> 360 </td> <td align=\"right\"> 2400 </td> <td align=\"right\"> 400 </td> <td align=\"right\"> 978 </td> <td align=\"right\"> 2 </td> <td align=\"right\"> 4808 </td> <td align=\"right\"> 4.16 </td> </tr>  <tr> <td align=\"right\"> 71 </td> <td> Nitz (2014) </td> <td>  </td> <td align=\"right\"> 59 </td> <td> FEC </td> <td align=\"right\"> 600 </td> <td align=\"right\"> 3000 </td> <td align=\"right\">  </td> <td align=\"right\"> 795 </td> <td align=\"right\"> 0 </td> <td align=\"right\"> 3909 </td> <td align=\"right\"> 0.00 </td> </tr>  <tr> <td align=\"right\"> 72 </td> <td> Nitz (2014) </td> <td>  </td> <td align=\"right\"> 59 </td> <td> CMF </td> <td align=\"right\">  </td> <td align=\"right\">  </td> <td align=\"right\">  </td> <td align=\"right\"> 177 </td> <td align=\"right\"> 0 </td> <td align=\"right\"> 870 </td> <td align=\"right\"> 0.00 </td> </tr>  <tr> <td align=\"right\"> 73 </td> <td> Perez (2011) NCCTG N9831 </td> <td>  </td> <td align=\"right\">  </td> <td> AC-T </td> <td align=\"right\">  </td> <td align=\"right\">  </td> <td align=\"right\">  </td> <td align=\"right\">  </td> <td align=\"right\">  </td> <td align=\"right\">  </td> <td align=\"right\">  </td> </tr>  <tr> <td align=\"right\"> 74 </td> <td> Perez (2011) NCCTG N9831 </td> <td>  </td> <td align=\"right\">  </td> <td> AC-T+Trast </td> <td align=\"right\">  </td> <td align=\"right\">  </td> <td align=\"right\">  </td> <td align=\"right\">  </td> <td align=\"right\">  </td> <td align=\"right\">  </td> <td align=\"right\">  </td> </tr>  <tr> <td align=\"right\"> 75 </td> <td> Perez (2011) NCCTG N9831 </td> <td>  </td> <td align=\"right\">  </td> <td> AC-T-Trast </td> <td align=\"right\">  </td> <td align=\"right\">  </td> <td align=\"right\">  </td> <td align=\"right\">  </td> <td align=\"right\">  </td> <td align=\"right\">  </td> <td align=\"right\">  </td> </tr>  <tr> <td align=\"right\"> 76 </td> <td> Roche (2006) FASG 06 </td> <td>  </td> <td align=\"right\"> 83 </td> <td> Tamoxifen </td> <td align=\"right\">  </td> <td align=\"right\">  </td> <td align=\"right\">  </td> <td align=\"right\"> 164 </td> <td align=\"right\"> 0 </td> <td align=\"right\"> 1134 </td> <td align=\"right\"> 0.00 </td> </tr>  <tr> <td align=\"right\"> 77 </td> <td> Roche (2006) FASG 06 </td> <td>  </td> <td align=\"right\"> 83 </td> <td> FEC </td> <td align=\"right\"> 300 </td> <td align=\"right\"> 3000 </td> <td align=\"right\">  </td> <td align=\"right\"> 169 </td> <td align=\"right\"> 1 </td> <td align=\"right\"> 1169 </td> <td align=\"right\"> 8.55 </td> </tr>  <tr> <td align=\"right\"> 78 </td> <td> Roche (2006) PACS 01 </td> <td>  </td> <td align=\"right\"> 60 </td> <td> FEC </td> <td align=\"right\"> 600 </td> <td align=\"right\"> 3000 </td> <td align=\"right\">  </td> <td align=\"right\"> 996 </td> <td align=\"right\"> 3 </td> <td align=\"right\"> 4980 </td> <td align=\"right\"> 6.02 </td> </tr>  <tr> <td align=\"right\"> 79 </td> <td> Roche (2006) PACS 01 </td> <td>  </td> <td align=\"right\"> 60 </td> <td> FEC-T </td> <td align=\"right\"> 300 </td> <td align=\"right\"> 1500 </td> <td align=\"right\"> 300 </td> <td align=\"right\"> 1003 </td> <td align=\"right\"> 1 </td> <td align=\"right\"> 5015 </td> <td align=\"right\"> 1.99 </td> </tr>  <tr> <td align=\"right\"> 80 </td> <td> Romond (2005) NSABP B-31 &amp; N9831 </td> <td>  </td> <td align=\"right\"> 29 </td> <td> AC-T </td> <td align=\"right\"> 240 </td> <td align=\"right\"> 2400 </td> <td align=\"right\"> 700 </td> <td align=\"right\"> 872 </td> <td align=\"right\"> 2 </td> <td align=\"right\"> 2093 </td> <td align=\"right\"> 9.56 </td> </tr>  <tr> <td align=\"right\"> 81 </td> <td> Romond (2005) NSABP B-31 &amp; N9831 </td> <td>  </td> <td align=\"right\"> 29 </td> <td> ACT-T-Trast </td> <td align=\"right\"> 240 </td> <td align=\"right\"> 2400 </td> <td align=\"right\"> 700 </td> <td align=\"right\"> 864 </td> <td align=\"right\"> 1 </td> <td align=\"right\"> 2074 </td> <td align=\"right\"> 4.82 </td> </tr>  <tr> <td align=\"right\"> 82 </td> <td> Shulman (2014) CALGB 40101 </td> <td>  </td> <td align=\"right\"> 73 </td> <td> AC </td> <td align=\"right\"> 240 </td> <td align=\"right\"> 2400 </td> <td align=\"right\">  </td> <td align=\"right\"> 1142 </td> <td align=\"right\"> 1 </td> <td align=\"right\"> 6966 </td> <td align=\"right\"> 1.44 </td> </tr>  <tr> <td align=\"right\"> 83 </td> <td> Shulman (2014) CALGB 40101 </td> <td>  </td> <td align=\"right\"> 73 </td> <td> AC </td> <td align=\"right\"> 360 </td> <td align=\"right\"> 3600 </td> <td align=\"right\">  </td> <td align=\"right\"> 789 </td> <td align=\"right\"> 5 </td> <td align=\"right\"> 4813 </td> <td align=\"right\"> 10.40 </td> </tr>  <tr> <td align=\"right\"> 84 </td> <td> Shulman (2014) CALGB 40101 </td> <td>  </td> <td align=\"right\"> 73 </td> <td> T </td> <td align=\"right\">  </td> <td align=\"right\">  </td> <td align=\"right\"> 320 </td> <td align=\"right\"> 1151 </td> <td align=\"right\"> 0 </td> <td align=\"right\"> 7021 </td> <td align=\"right\"> 0.00 </td> </tr>  <tr> <td align=\"right\"> 85 </td> <td> Shulman (2014) CALGB 40101 </td> <td>  </td> <td align=\"right\"> 73 </td> <td> T </td> <td align=\"right\">  </td> <td align=\"right\">  </td> <td align=\"right\"> 480 </td> <td align=\"right\"> 789 </td> <td align=\"right\"> 0 </td> <td align=\"right\"> 4813 </td> <td align=\"right\"> 0.00 </td> </tr>  <tr> <td align=\"right\"> 86 </td> <td> Swain (2013) NSABP B-38 </td> <td>  </td> <td align=\"right\"> 64 </td> <td> ACT </td> <td align=\"right\"> 300 </td> <td align=\"right\"> 3000 </td> <td align=\"right\"> 450 </td> <td align=\"right\"> 1630 </td> <td align=\"right\"> 5 </td> <td align=\"right\"> 8693 </td> <td align=\"right\"> 5.75 </td> </tr>  <tr> <td align=\"right\"> 87 </td> <td> Swain (2013) NSABP B-38 </td> <td>  </td> <td align=\"right\"> 64 </td> <td> AC-T </td> <td align=\"right\"> 240 </td> <td align=\"right\"> 2400 </td> <td align=\"right\"> 700 </td> <td align=\"right\"> 1634 </td> <td align=\"right\"> 8 </td> <td align=\"right\"> 8715 </td> <td align=\"right\"> 9.18 </td> </tr>  <tr> <td align=\"right\"> 88 </td> <td> Swain (2013) NSABP B-38 </td> <td>  </td> <td align=\"right\"> 64 </td> <td> AC-TG </td> <td align=\"right\"> 240 </td> <td align=\"right\"> 2400 </td> <td align=\"right\"> 700 </td> <td align=\"right\"> 1630 </td> <td align=\"right\"> 11 </td> <td align=\"right\"> 8693 </td> <td align=\"right\"> 12.70 </td> </tr>  <tr> <td align=\"right\"> 89 </td> <td> Venturini (2005) </td> <td>  </td> <td align=\"right\"> 125 </td> <td> FEC </td> <td align=\"right\"> 360 </td> <td align=\"right\"> 3600 </td> <td align=\"right\">  </td> <td align=\"right\"> 604 </td> <td align=\"right\"> 0 </td> <td align=\"right\"> 6282 </td> <td align=\"right\"> 0.00 </td> </tr>  <tr> <td align=\"right\"> 90 </td> <td> Venturini (2005) </td> <td>  </td> <td align=\"right\"> 125 </td> <td> FEC </td> <td align=\"right\"> 360 </td> <td align=\"right\"> 3600 </td> <td align=\"right\">  </td> <td align=\"right\"> 610 </td> <td align=\"right\"> 0 </td> <td align=\"right\"> 6344 </td> <td align=\"right\"> 0.00 </td> </tr>  <tr> <td align=\"right\"> 91 </td> <td> Vici (2012) GIOM 9902 </td> <td>  </td> <td align=\"right\"> 64 </td> <td> EC </td> <td align=\"right\"> 480 </td> <td align=\"right\"> 2400 </td> <td align=\"right\">  </td> <td align=\"right\"> 360 </td> <td align=\"right\"> 0 </td> <td align=\"right\"> 1920 </td> <td align=\"right\"> 0.00 </td> </tr>  <tr> <td align=\"right\"> 92 </td> <td> Vici (2012) GIOM 9902 </td> <td>  </td> <td align=\"right\"> 64 </td> <td> T-EC </td> <td align=\"right\"> 480 </td> <td align=\"right\"> 2400 </td> <td align=\"right\"> 400 </td> <td align=\"right\"> 368 </td> <td align=\"right\"> 0 </td> <td align=\"right\"> 1963 </td> <td align=\"right\"> 0.00 </td> </tr>  <tr> <td align=\"right\"> 93 </td> <td> Wils (1999) ICCG 4-87 </td> <td>  </td> <td align=\"right\"> 58 </td> <td> EPI-Tam </td> <td align=\"right\"> 600 </td> <td align=\"right\">  </td> <td align=\"right\">  </td> <td align=\"right\"> 303 </td> <td align=\"right\"> 2 </td> <td align=\"right\"> 1454 </td> <td align=\"right\"> 13.80 </td> </tr>  <tr> <td align=\"right\"> 94 </td> <td> Wils (1999) ICCG 4-87 </td> <td>  </td> <td align=\"right\"> 58 </td> <td> Tamoxifen </td> <td align=\"right\">  </td> <td align=\"right\">  </td> <td align=\"right\">  </td> <td align=\"right\"> 301 </td> <td align=\"right\"> 0 </td> <td align=\"right\"> 1445 </td> <td align=\"right\"> 0.00 </td> </tr>  <tr> <td align=\"right\"> 95 </td> <td> Wolmark (2001) NSABP B-18 </td> <td>  </td> <td align=\"right\"> 108 </td> <td> AC </td> <td align=\"right\"> 240 </td> <td align=\"right\"> 2400 </td> <td align=\"right\">  </td> <td align=\"right\"> 751 </td> <td align=\"right\">  </td> <td align=\"right\"> 6759 </td> <td align=\"right\">  </td> </tr>  <tr> <td align=\"right\"> 96 </td> <td> Wolmark (2001) NSABP B-18 </td> <td>  </td> <td align=\"right\"> 108 </td> <td> Neo-AC </td> <td align=\"right\"> 240 </td> <td align=\"right\"> 2400 </td> <td align=\"right\">  </td> <td align=\"right\"> 742 </td> <td align=\"right\">  </td> <td align=\"right\"> 6678 </td> <td align=\"right\">  </td> </tr>   </table>"
      ]
     },
     "metadata": {},
     "output_type": "display_data"
    }
   ],
   "source": [
    "library(xlsx)\n",
    "library(IRdisplay)\n",
    "library(xtable)\n",
    "T <- D[,\n",
    "       .(study = ifelse(!is.na(trial), paste(authorYear, trial), authorYear),\n",
    "         country = NA,\n",
    "         medianFU = round(medianFU),\n",
    "         regimen,\n",
    "         anthrCumulDose = round(anthracyclineCumulDose),\n",
    "         cycloCumulaDose = round(cyclophosphamideCumulDose),\n",
    "         taxaneCumulDose = round(taxaneCumulDose),\n",
    "         nITT,\n",
    "         nAMLOrMDS = malAMLOrMDSTotal,\n",
    "         py = nITT * (medianFU / 12),\n",
    "         incidenceAMLOrMDS = signif(malAMLOrMDSTotal / (nITT * (medianFU / 12)) * scale, digits=3))]\n",
    "write.xlsx(T,\n",
    "           \"appendixTableStudyCharacteristicsAndOutcomes.xlsx\",\n",
    "           row.names=FALSE,\n",
    "           showNA=FALSE)\n",
    "file.info(\"appendixTableStudyCharacteristicsAndOutcomes.xlsx\")\n",
    "T <- xtable(T, digits=c(rep(0, ncol(T)), 2))\n",
    "display_html(paste(capture.output(print(T, type = 'html')), collapse=\"\", sep=\"\"))"
   ]
  },
  {
   "cell_type": "markdown",
   "metadata": {},
   "source": [
    "## Session information"
   ]
  },
  {
   "cell_type": "code",
   "execution_count": 28,
   "metadata": {
    "collapsed": false
   },
   "outputs": [
    {
     "data": {
      "text/plain": [
       "R version 3.3.0 (2016-05-03)\n",
       "Platform: x86_64-pc-linux-gnu (64-bit)\n",
       "Running under: Ubuntu 14.04.4 LTS\n",
       "\n",
       "locale:\n",
       " [1] LC_CTYPE=en_US.UTF-8          LC_NUMERIC=C                 \n",
       " [3] LC_TIME=en_US.UTF-8           LC_COLLATE=en_US.UTF-8       \n",
       " [5] LC_MONETARY=en_US.UTF-8       LC_MESSAGES=en_US.UTF-8      \n",
       " [7] LC_PAPER=en_US.UTF-8          LC_NAME=en_US.UTF-8          \n",
       " [9] LC_ADDRESS=en_US.UTF-8        LC_TELEPHONE=en_US.UTF-8     \n",
       "[11] LC_MEASUREMENT=en_US.UTF-8    LC_IDENTIFICATION=en_US.UTF-8\n",
       "\n",
       "attached base packages:\n",
       "[1] tools     stats     graphics  grDevices utils     datasets  methods  \n",
       "[8] base     \n",
       "\n",
       "other attached packages:\n",
       " [1] xtable_1.8-2         IRdisplay_0.3.0.9000 xlsx_0.5.7          \n",
       " [4] xlsxjars_0.6.1       rJava_0.9-6          RColorBrewer_1.1-2  \n",
       " [7] ggplot2_2.1.0        metafor_1.9-8        Matrix_1.2-6        \n",
       "[10] data.table_1.9.6     openxlsx_3.0.0      \n",
       "\n",
       "loaded via a namespace (and not attached):\n",
       " [1] Rcpp_0.12.5      magrittr_1.5     munsell_0.4.3    uuid_0.1-2      \n",
       " [5] colorspace_1.2-6 lattice_0.20-33  R6_2.1.2         stringr_1.0.0   \n",
       " [9] plyr_1.8.3       grid_3.3.0       gtable_0.2.0     digest_0.6.9    \n",
       "[13] repr_0.7         base64enc_0.1-3  IRkernel_0.6     evaluate_0.9    \n",
       "[17] pbdZMQ_0.2-3     stringi_1.1.1    scales_0.4.0     jsonlite_0.9.20 \n",
       "[21] chron_2.3-47    "
      ]
     },
     "metadata": {},
     "output_type": "display_data"
    }
   ],
   "source": [
    "sessionInfo()"
   ]
  },
  {
   "cell_type": "code",
   "execution_count": null,
   "metadata": {
    "collapsed": true
   },
   "outputs": [],
   "source": []
  }
 ],
 "metadata": {
  "kernelspec": {
   "display_name": "R",
   "language": "R",
   "name": "ir"
  },
  "language_info": {
   "codemirror_mode": "r",
   "file_extension": ".r",
   "mimetype": "text/x-r-source",
   "name": "R",
   "pygments_lexer": "r",
   "version": "3.3.0"
  }
 },
 "nbformat": 4,
 "nbformat_minor": 0
}
