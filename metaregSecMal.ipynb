{
 "cells": [
  {
   "cell_type": "markdown",
   "metadata": {},
   "source": [
    "# Risks of Long-term Secondary Malignancies in Breast Cancer Patients Treated with Adjuvant Chemotherapy\n",
    "\n",
    "[Benjamin Chan](http://careers.stackoverflow.com/benjaminchan)  "
   ]
  },
  {
   "cell_type": "code",
   "execution_count": null,
   "metadata": {
    "collapsed": false
   },
   "outputs": [],
   "source": [
    "message(sprintf(\"Run date: %s\", Sys.time()))"
   ]
  },
  {
   "cell_type": "markdown",
   "metadata": {},
   "source": [
    "Load packages."
   ]
  },
  {
   "cell_type": "code",
   "execution_count": null,
   "metadata": {
    "collapsed": false
   },
   "outputs": [],
   "source": [
    "if (!require(openxlsx)) {install.packages(\"openxlsx\", dependencies=TRUE, repos=\"https://cloud.r-project.org\")}\n",
    "library(openxlsx)\n",
    "if (!require(data.table)) {install.packages(\"data.table\", dependencies=TRUE, repos=\"https://cloud.r-project.org\")}\n",
    "library(data.table)"
   ]
  },
  {
   "cell_type": "markdown",
   "metadata": {},
   "source": [
    "## Load data\n",
    "\n",
    "Load the data from [GitHub](https://github.com/benjamin-chan/SecMalAfterBreastCaACT)."
   ]
  },
  {
   "cell_type": "code",
   "execution_count": null,
   "metadata": {
    "collapsed": false
   },
   "outputs": [],
   "source": [
    "repo <- \"https://github.com/benjamin-chan/SecMalAfterBreastCaACT\"\n",
    "url <- paste0(repo, \"/raw/26115dab1eb2b075d40f545514a03c3b30cde6b4/SecondaryMalignancies_Data_BG_3_4.xlsx\")\n",
    "f <- tempfile()\n",
    "download.file(url, f, mode=\"wb\")\n",
    "file.info(f)[c(\"size\", \"mtime\")]\n",
    "sheets <- getSheetNames(f)\n",
    "# sheets\n",
    "D <- read.xlsx(f, sheet = sheets[1], startRow = 3, colNames = FALSE)\n",
    "D <- data.table(D)\n",
    "oldnames <- names(D)\n",
    "newnames <- c(\"id\",\n",
    "              \"authorYear\",\n",
    "              \"trial\",\n",
    "              \"quality\",\n",
    "              \"arm\",\n",
    "              \"nRandomized\",\n",
    "              \"nITT\",\n",
    "              # \"pctCompletingTx\",\n",
    "              \"medianFU\",\n",
    "              \"regimen\",\n",
    "              \"anthracyclineType\",\n",
    "              \"anthracyclineTotalDose\",\n",
    "              \"anthracyclineDuration\",\n",
    "              \"anthracyclineCourses\",\n",
    "              \"cyclophosphamideDose\",\n",
    "              \"cyclophosphamideDuration\",\n",
    "              \"cyclophosphamideCourses\",\n",
    "              \"taxaneType\",\n",
    "              \"taxaneTotalDose\",\n",
    "              \"taxaneDuration\",\n",
    "              \"taxaneCourses\",\n",
    "              \"fluoroucilTotalDose\",\n",
    "              \"fluoroucilDuration\",\n",
    "              \"fluoroucilCourses\",\n",
    "              \"otherTxDetails\",\n",
    "              \"malAML\",\n",
    "              \"malMDS\",\n",
    "              \"malAMLOrMDS\",\n",
    "              \"malNonBreastSolid\",\n",
    "              \"malNonBreastSolidType\",\n",
    "              \"malOtherBloodCancers\",\n",
    "              \"malSMRelatedDeaths\",\n",
    "              \"malSecondPrimary\",\n",
    "              \"NOTES\")\n",
    "setnames(D, oldnames, newnames[1:33])"
   ]
  },
  {
   "cell_type": "markdown",
   "metadata": {},
   "source": [
    "## Tidy data\n",
    "\n",
    "Create a `rowid` variable.\n",
    "This will be handy later."
   ]
  },
  {
   "cell_type": "code",
   "execution_count": null,
   "metadata": {
    "collapsed": false
   },
   "outputs": [],
   "source": [
    "D <- D[, rowid := .I]"
   ]
  },
  {
   "cell_type": "markdown",
   "metadata": {},
   "source": [
    "Fix some minor data entry inconsistencies."
   ]
  },
  {
   "cell_type": "code",
   "execution_count": null,
   "metadata": {
    "collapsed": false
   },
   "outputs": [],
   "source": [
    "D <- D[grep(\"Nitz\", authorYear), authorYear := gsub(\"2014$\", \"2014)\", authorYear)]\n",
    "D <- D[grep(\"Wolmark\", authorYear), authorYear := gsub(\", 2001$\", \" (2001)\", authorYear)]"
   ]
  },
  {
   "cell_type": "markdown",
   "metadata": {},
   "source": [
    "Input missing data for Bergh (2000); row was split."
   ]
  },
  {
   "cell_type": "code",
   "execution_count": null,
   "metadata": {
    "collapsed": true
   },
   "outputs": [],
   "source": [
    "col <- grep(\"^cyclophosphamide\", names(D), invert = TRUE)\n",
    "D[11, col] <- D[10, col, with = FALSE]\n",
    "# D[11, ]\n",
    "# D[10, ]"
   ]
  },
  {
   "cell_type": "markdown",
   "metadata": {},
   "source": [
    "Fix trial column for Romond (2005)."
   ]
  },
  {
   "cell_type": "code",
   "execution_count": null,
   "metadata": {
    "collapsed": false
   },
   "outputs": [],
   "source": [
    "D <- D[grep(\"Romond\", authorYear), trial := gsub(\"&N\", \"& N\", trial)]"
   ]
  },
  {
   "cell_type": "markdown",
   "metadata": {},
   "source": [
    "Make `medianFU` numeric."
   ]
  },
  {
   "cell_type": "code",
   "execution_count": null,
   "metadata": {
    "collapsed": false
   },
   "outputs": [],
   "source": [
    "D <- D[grep(\"-\", medianFU, invert = TRUE), medianFUNum := round(as.numeric(medianFU), digits = 2)]\n",
    "x <- D[grep(\"-\", medianFU), medianFU]\n",
    "x <- as.numeric(unlist(strsplit(x, \"-\")))\n",
    "x1 <- x[seq(1, length(x), 2)]\n",
    "x2 <- x[seq(2, length(x), 2)]\n",
    "xbar <- rowMeans(cbind(x1, x2))\n",
    "D <- D[grep(\"-\", medianFU), medianFUNum := xbar]\n",
    "D <- D[,\n",
    "       `:=` (medianFUChar = medianFU,\n",
    "             medianFU = medianFUNum,\n",
    "             medianFUNum = NULL)]\n",
    "unique(D[as.character(medianFU) != medianFUChar, .(medianFU, medianFUChar)])\n",
    "D <- D[, medianFUChar := NULL]"
   ]
  },
  {
   "cell_type": "markdown",
   "metadata": {},
   "source": [
    "Recode mal* values of `NR` and `-` to `NA`."
   ]
  },
  {
   "cell_type": "code",
   "execution_count": null,
   "metadata": {
    "collapsed": true
   },
   "outputs": [],
   "source": [
    "recode <- function(x) {\n",
    "    missval <- c(\"-\", \"NR\", \" \")\n",
    "    vec <- D[, get(x)]\n",
    "    vec[vec %in% missval] <- NA\n",
    "    vec\n",
    "}\n",
    "col <- grep(\"^mal\", names(D), value = TRUE)\n",
    "for (i in 1:length(col)) {\n",
    "    D[, col[i]] <- recode(col[i])\n",
    "}"
   ]
  },
  {
   "cell_type": "markdown",
   "metadata": {},
   "source": [
    "Substitute non-numeric text in mal* values."
   ]
  },
  {
   "cell_type": "code",
   "execution_count": null,
   "metadata": {
    "collapsed": true
   },
   "outputs": [],
   "source": [
    "substitute <- function(x) {\n",
    "    vec <- D[, get(x)]\n",
    "    vec <- gsub(\"[[:alpha:]]\", \"\", vec)\n",
    "    vec\n",
    "}\n",
    "col <- grep(\"^mal\", names(D), value = TRUE)\n",
    "for (i in 1:4) {\n",
    "    # Only substitute a subset of mal* columns\n",
    "    D[, col[i]] <- substitute(col[i])\n",
    "}"
   ]
  },
  {
   "cell_type": "markdown",
   "metadata": {},
   "source": [
    "Convert mal* values to numeric."
   ]
  },
  {
   "cell_type": "code",
   "execution_count": null,
   "metadata": {
    "collapsed": true
   },
   "outputs": [],
   "source": [
    "for (i in 1:4) {\n",
    "    # Only convert a subset of mal* columns\n",
    "    D <- D[, col[i] := as.numeric(get(col[i]))]\n",
    "}"
   ]
  },
  {
   "cell_type": "markdown",
   "metadata": {},
   "source": [
    "The `malAMLOrMDS` column, as entered, captures number of AML or MDS malignancies if the study reported them grouped as opposed to separately.\n",
    "If the study reported them as separately, then these counts are captures in the `malAML` and `malMDS` columns.\n",
    "I.e., the `malAML`, `malMDS`, and `malAMLOrMDS` columns are mutually exclusive counts.\n",
    "We want to create another column, `malAMLOrMDSTotal`, to be non-mutually exclusive from `malAML`, `malMDS`, and `malAMLOrMDS`.\n",
    "If none of the `malAML`, `malMDS`, and `malAMLOrMDS` values are populated, then set `malAMLOrMDSTotal` to `NA`, also.\n",
    "NOTE: Couldn't get this to work: [http://stackoverflow.com/a/16513949/1427069](http://stackoverflow.com/a/16513949/1427069)."
   ]
  },
  {
   "cell_type": "code",
   "execution_count": null,
   "metadata": {
    "collapsed": false
   },
   "outputs": [],
   "source": [
    "s <- sample(D[, rowid], 12)\n",
    "malAMLOrMDSTotal <- rowSums(D[, .(malAML, malMDS, malAMLOrMDS)], na.rm=TRUE)\n",
    "D <- D[, malAMLOrMDSTotal := malAMLOrMDSTotal]\n",
    "D <- D[is.na(malAML) & is.na(malMDS) & is.na(malAMLOrMDS), malAMLOrMDSTotal := NA]\n",
    "D[s, .(rowid, malAML, malMDS, malAMLOrMDS, malAMLOrMDSTotal)]"
   ]
  },
  {
   "cell_type": "markdown",
   "metadata": {},
   "source": [
    "Remove text from `nITT` column."
   ]
  },
  {
   "cell_type": "code",
   "execution_count": null,
   "metadata": {
    "collapsed": true
   },
   "outputs": [],
   "source": [
    "D <- D[authorYear == \"Misset (1996)\" & arm == 2, nITT := \"137\"]\n",
    "D <- D[authorYear == \"Fumoleu (2003)\" & arm == 1, nITT := \"210\"]\n",
    "D <- D[authorYear == \"Fumoleu (2003)\" & arm == 2, nITT := \"197\"]\n",
    "D <- D[authorYear == \"Fumoleu (2003)\" & arm == 3, nITT := \"195\"]\n",
    "D <- D[, nITT := as.integer(nITT)]"
   ]
  },
  {
   "cell_type": "markdown",
   "metadata": {},
   "source": [
    "Clean up the `regimen` and `dose` columns.\n",
    "Output to [regimens.md](regimens.md) for checking."
   ]
  },
  {
   "cell_type": "code",
   "execution_count": null,
   "metadata": {
    "collapsed": false,
    "scrolled": false
   },
   "outputs": [],
   "source": [
    "D <- D[, regimen := gsub(\"\\\\s$\", \"\", regimen)]\n",
    "D <- D[, regimen := gsub(\"\\\\r\\\\n\", \" \", regimen)]\n",
    "doseVar <- grep(\"dose\", names(D), ignore.case = TRUE, value = TRUE)\n",
    "for (i in 1:length(doseVar)) {\n",
    "    D <- D[, doseVar[i] := gsub(\"\\\\r\\\\n\", \" \", get(doseVar[i]))]\n",
    "}\n",
    "write.table(D[, .N, c(\"regimen\", doseVar), with = TRUE][order(regimen)],\n",
    "            file = \"regimens.md\",\n",
    "            sep = \" | \", quote = FALSE,\n",
    "            row.names = FALSE)\n",
    "file.info(\"regimens.md\")"
   ]
  },
  {
   "cell_type": "markdown",
   "metadata": {},
   "source": [
    "Calculate cumulative dose: $\\text{total dose} \\times \\text{number of courses}$."
   ]
  },
  {
   "cell_type": "code",
   "execution_count": null,
   "metadata": {
    "collapsed": false
   },
   "outputs": [],
   "source": [
    "D <- D[, anthracyclineTotalDose := as.numeric(anthracyclineTotalDose)]\n",
    "D <- D[authorYear == \"Bergh (2000)\" & regimen == \"FEC\\nTailored\", anthracyclineTotalDose := 75]\n",
    "D <- D[authorYear == \"Henderson (2003)\", anthracyclineTotalDose := 75]\n",
    "D <- D[authorYear == \"Colleoni (2009)\" & regimen == \"AC-CMF\", anthracyclineTotalDose := 75]\n",
    "D <- D[, cyclophosphamideDose := as.numeric(cyclophosphamideDose)]\n",
    "D <- D[authorYear == \"Colleoni (2009)\" & regimen == \"EC\", cyclophosphamideDose := 600]\n",
    "D <- D[authorYear == \"Bergh (2000)\" & regimen == \"FEC\\nTailored\", cyclophosphamideDose := 900]\n",
    "D <- D[authorYear == \"Henderson (2003)\", anthracyclineTotalDose := 75]\n",
    "D <- D[, taxaneCourses := as.numeric(taxaneCourses)]\n",
    "D <- D[authorYear == \"Shulman (2014)\" & regimen == \"T\" & arm == 3, taxaneCourses := 4]\n",
    "D <- D[authorYear == \"Shulman (2014)\" & regimen == \"T\" & arm == 4, taxaneCourses := 6]\n",
    "D <- D[, fluoroucilTotalDose := as.numeric(fluoroucilTotalDose)]\n",
    "D <- D[authorYear == \"Bergh (2000)\" & regimen == \"FEC\\nTailored\", fluoroucilTotalDose := 600]\n",
    "D <- D[authorYear == \"Joensuu (2012)\" & regimen == \"TX-CEX\", fluoroucilTotalDose := NA]\n",
    "D <- D[!is.na(anthracyclineTotalDose) & !is.na(anthracyclineTotalDose),\n",
    "       anthracyclineCumulDose := anthracyclineTotalDose * anthracyclineCourses]\n",
    "D <- D[!is.na(cyclophosphamideDose) & !is.na(cyclophosphamideCourses),\n",
    "       cyclophosphamideCumulDose := cyclophosphamideDose * cyclophosphamideCourses]\n",
    "D <- D[!is.na(as.numeric(taxaneTotalDose)) & !is.na(taxaneCourses),\n",
    "       taxaneCumulDose := as.numeric(taxaneTotalDose) * taxaneCourses]\n",
    "D <- D[!is.na(fluoroucilTotalDose) & !is.na(fluoroucilCourses),\n",
    "       fluoroucilCumulDose := fluoroucilTotalDose * fluoroucilCourses]\n",
    "# D <- D[is.na(anthracyclineCumulDose), anthracyclineCumulDose := 0]\n",
    "# D <- D[is.na(cyclophosphamideCumulDose), cyclophosphamideCumulDose := 0]\n",
    "# D <- D[is.na(taxaneCumulDose), taxaneCumulDose := 0]\n",
    "# D <- D[is.na(fluoroucilCumulDose), fluoroucilCumulDose := 0]"
   ]
  },
  {
   "cell_type": "markdown",
   "metadata": {},
   "source": [
    "Check."
   ]
  },
  {
   "cell_type": "code",
   "execution_count": null,
   "metadata": {
    "collapsed": false,
    "scrolled": false
   },
   "outputs": [],
   "source": [
    "head(D[!is.na(anthracyclineCumulDose),\n",
    "       .(authorYear, regimen, anthracyclineCumulDose, anthracyclineTotalDose, anthracyclineCourses)])\n",
    "head(D[!is.na(cyclophosphamideCumulDose),\n",
    "       .(authorYear, regimen, cyclophosphamideCumulDose, cyclophosphamideDose, cyclophosphamideCourses)])\n",
    "head(D[!is.na(taxaneCumulDose),\n",
    "       .(authorYear, regimen, taxaneCumulDose, taxaneTotalDose, taxaneCourses)])\n",
    "head(D[!is.na(fluoroucilCumulDose),\n",
    "       .(authorYear, regimen, fluoroucilCumulDose, fluoroucilTotalDose, fluoroucilCourses)])"
   ]
  },
  {
   "cell_type": "markdown",
   "metadata": {},
   "source": [
    "### Manual tidying"
   ]
  },
  {
   "cell_type": "markdown",
   "metadata": {},
   "source": [
    "After an early round of analysis, we realized there were some `nITT` data entry errors in the commit [26115da](https://github.com/benjamin-chan/SecMalAfterBreastCaACT/raw/26115dab1eb2b075d40f545514a03c3b30cde6b4/SecondaryMalignancies_Data_BG_3_4.xlsx) (Jun 1, 2016) spreadsheet."
   ]
  },
  {
   "cell_type": "code",
   "execution_count": null,
   "metadata": {
    "collapsed": false
   },
   "outputs": [],
   "source": [
    "D <- D[authorYear == \"Mamounas (2005)\" & nITT == 1528, `:=` (nITTOld = nITT, nITT = 1529, isFixed = TRUE)]\n",
    "D <- D[authorYear == \"Fumoleu (2003)\" & nITT == 210, `:=` (nITTOld = nITT, nITT = 212, isFixed = TRUE)]\n",
    "D <- D[authorYear == \"Fumoleu (2003)\" & nITT == 197, `:=` (nITTOld = nITT, nITT = 209, isFixed = TRUE)]\n",
    "D <- D[authorYear == \"Fumoleu (2003)\" & nITT == 195, `:=` (nITTOld = nITT, nITT = 200, isFixed = TRUE)]\n",
    "D <- D[authorYear == \"Fargeot (2004)\" & nITT == 155, `:=` (nITTOld = nITT, nITT = 164, isFixed = TRUE)]\n",
    "D <- D[authorYear == \"Fargeot (2004)\" & nITT == 163, `:=` (nITTOld = nITT, nITT = 174, isFixed = TRUE)]\n",
    "D <- D[authorYear == \"Kerbrat (2007)\" & nITT == 235, `:=` (nITTOld = nITT, nITT = 241, isFixed = TRUE)]\n",
    "D <- D[authorYear == \"Kerbrat (2007)\" & nITT == 236, `:=` (nITTOld = nITT, nITT = 241, isFixed = TRUE)]\n",
    "D <- D[authorYear == \"Fisher (1997)\" & nITT == 763, `:=` (nITTOld = nITT, nITT = 767, isFixed = TRUE)]\n",
    "D <- D[authorYear == \"Fisher (1997)\" & nITT == 771, `:=` (nITTOld = nITT, nITT = 772, isFixed = TRUE)]\n",
    "D <- D[authorYear == \"Bonneterre (2005)\" & nITT == 271, `:=` (nITTOld = nITT, nITT = 289, isFixed = TRUE)]\n",
    "D <- D[authorYear == \"Bonneterre (2005)\" & nITT == 266, `:=` (nITTOld = nITT, nITT = 276, isFixed = TRUE)]\n",
    "D <- D[authorYear == \"Roche (2006)\" & nITT == 163, `:=` (nITTOld = nITT, nITT = 164, isFixed = TRUE)]\n",
    "D <- D[authorYear == \"Roche (2006)\" & nITT == 168, `:=` (nITTOld = nITT, nITT = 169, isFixed = TRUE)]\n",
    "D <- D[authorYear == \"Shulman (2014)\" & nITT == 1107, `:=` (nITTOld = nITT, nITT = 1142, isFixed = TRUE)]\n",
    "D <- D[authorYear == \"Shulman (2014)\" & nITT ==  766, `:=` (nITTOld = nITT, nITT =  789, isFixed = TRUE)]\n",
    "D <- D[authorYear == \"Shulman (2014)\" & nITT == 1119, `:=` (nITTOld = nITT, nITT = 1151, isFixed = TRUE)]\n",
    "D <- D[authorYear == \"Shulman (2014)\" & nITT ==  782, `:=` (nITTOld = nITT, nITT =  789, isFixed = TRUE)]\n",
    "D <- D[authorYear == \"Swain (2013)\" & nITT == 1617, `:=` (nITTOld = nITT, nITT = 1630, isFixed = TRUE)]\n",
    "D <- D[authorYear == \"Swain (2013)\" & nITT == 1624, `:=` (nITTOld = nITT, nITT = 1634, isFixed = TRUE)]\n",
    "D <- D[authorYear == \"Swain (2013)\" & nITT == 1618, `:=` (nITTOld = nITT, nITT = 1630, isFixed = TRUE)]\n",
    "D[isFixed == TRUE, .(authorYear, regimen, nITTOld, nITT)]\n",
    "D <- D[, `:=` (nITTOld = NULL, isFixed = NULL)]"
   ]
  },
  {
   "cell_type": "markdown",
   "metadata": {},
   "source": [
    "We also made the decision to use the AML/MDS outcomes reported in Perez (2011) as the outcomes for Romond (2005) since they study the same cohort. Other edits to *AML or MDS* and *non-breast solid* malignancy outcome were needed, as well."
   ]
  },
  {
   "cell_type": "code",
   "execution_count": null,
   "metadata": {
    "collapsed": false
   },
   "outputs": [],
   "source": [
    "D <- D[authorYear == \"Martin (2010)\" & regimen == \"TAC\",\n",
    "      `:=` (malAMLOrMDSTotalOld = malAMLOrMDSTotal, malAMLOrMDSTotal = 0, isFixed = TRUE)]\n",
    "D <- D[authorYear == \"Martin (2010)\" & regimen == \"FAC\",\n",
    "      `:=` (malAMLOrMDSTotalOld = malAMLOrMDSTotal, malAMLOrMDSTotal = 0, isFixed = TRUE)]\n",
    "D <- D[authorYear == \"Romond (2005)\" & regimen == \"AC-T\",\n",
    "      `:=` (malAMLOrMDSTotalOld = malAMLOrMDSTotal, malAMLOrMDSTotal = 2, isFixed = TRUE)]\n",
    "D <- D[authorYear == \"Romond (2005)\" & regimen == \"ACT-T-Trast\",\n",
    "      `:=` (malAMLOrMDSTotalOld = malAMLOrMDSTotal, malAMLOrMDSTotal = 1, isFixed = TRUE)]\n",
    "D <- D[authorYear == \"Del Mastro (2015)\",\n",
    "      `:=` (malAMLOrMDSTotalOld = malAMLOrMDSTotal, malAMLOrMDSTotal = 0, isFixed = TRUE)]\n",
    "D <- D[authorYear == \"Del Mastro (2015)\" & regimen == \"EC-T\" & nITT == 502,\n",
    "      `:=` (malAMLOrMDSTotalOld = malAMLOrMDSTotal, malAMLOrMDSTotal = 2, isFixed = TRUE)]\n",
    "\n",
    "D <- D[authorYear == \"Bernard-Marty (2003)\" & regimen == \"EC\" & nITT == 267,\n",
    "      `:=` (malNonBreastSolidOld = malNonBreastSolid, malNonBreastSolid = 4, isFixed = TRUE)]\n",
    "D <- D[authorYear == \"Bonneterre (2005)\" & regimen == \"FEC 50\",\n",
    "      `:=` (malNonBreastSolidOld = malNonBreastSolid, malNonBreastSolid = 11, isFixed = TRUE)]\n",
    "D <- D[authorYear == \"Bonneterre (2005)\" & regimen == \"FEC 100\",\n",
    "      `:=` (malNonBreastSolidOld = malNonBreastSolid, malNonBreastSolid = 15, isFixed = TRUE)]\n",
    "D <- D[authorYear == \"Citron (2003)\" & regimen == \"A-T-C\" & nITT == 493,\n",
    "      `:=` (malNonBreastSolidOld = malNonBreastSolid, malNonBreastSolid = 11, isFixed = TRUE)]\n",
    "D <- D[authorYear == \"Citron (2003)\" & regimen == \"AC-T\" & nITT == 495,\n",
    "      `:=` (malNonBreastSolidOld = malNonBreastSolid, malNonBreastSolid = 11, isFixed = TRUE)]\n",
    "D <- D[authorYear == \"Eiermann (2011)\" & regimen == \"AC-T\",\n",
    "      `:=` (malNonBreastSolidOld = malNonBreastSolid, malNonBreastSolid = 34, isFixed = TRUE)]\n",
    "D <- D[authorYear == \"Eiermann (2011)\" & regimen == \"TAC\",\n",
    "      `:=` (malNonBreastSolidOld = malNonBreastSolid, malNonBreastSolid = 31, isFixed = TRUE)]\n",
    "D <- D[authorYear == \"Romond (2005)\" & regimen == \"AC-T\",\n",
    "      `:=` (malNonBreastSolidOld = malNonBreastSolid, malNonBreastSolid = 13, isFixed = TRUE)]\n",
    "D <- D[authorYear == \"Romond (2005)\" & regimen == \"ACT-T-Trast\",\n",
    "      `:=` (malNonBreastSolidOld = malNonBreastSolid, malNonBreastSolid = 4, isFixed = TRUE)]\n",
    "\n",
    "D[isFixed == TRUE,\n",
    "  .(authorYear, regimen, nITT, malAMLOrMDSTotalOld, malAMLOrMDSTotal, malNonBreastSolidOld, malNonBreastSolid)]\n",
    "D <- D[, `:=` (malAMLOrMDSTotalOld = NULL, malNonBreastSolidOld = NULL, isFixed = NULL)]"
   ]
  },
  {
   "cell_type": "markdown",
   "metadata": {},
   "source": [
    "Deduplicate."
   ]
  },
  {
   "cell_type": "code",
   "execution_count": null,
   "metadata": {
    "collapsed": false
   },
   "outputs": [],
   "source": [
    "n0 <- nrow(D)\n",
    "setkey(D, authorYear, trial, arm)\n",
    "D <- unique(D)\n",
    "message(sprintf(\"Removed %d duplicate row(s) (%.03g%%)\", n0 - nrow(D), (n0 - nrow(D)) / n0 * 100))"
   ]
  },
  {
   "cell_type": "markdown",
   "metadata": {},
   "source": [
    "## Summarize\n",
    "\n",
    "Define some functions."
   ]
  },
  {
   "cell_type": "code",
   "execution_count": null,
   "metadata": {
    "collapsed": true
   },
   "outputs": [],
   "source": [
    "scale <- 1e4\n",
    "calcPct <- function (x, n) {\n",
    "  prec <- \"%.3g\"\n",
    "  sprintf(paste0(prec, \"%%\"),\n",
    "          median(x / n, na.rm = TRUE) * 100)\n",
    "}\n",
    "calcRate <- function (x, n, y) {\n",
    "  prec <- \"%.3g\"\n",
    "  py <- scale\n",
    "  sprintf(paste(prec, \"per %s p-y\"),\n",
    "          median(x / (n * (y / 12)), na.rm=TRUE) * py,\n",
    "          py)\n",
    "}"
   ]
  },
  {
   "cell_type": "markdown",
   "metadata": {},
   "source": [
    "Summarize the regimens.\n",
    "Output to [summaryRegimens.md](summaryRegimens.md) for checking."
   ]
  },
  {
   "cell_type": "code",
   "execution_count": null,
   "metadata": {
    "collapsed": false,
    "scrolled": false
   },
   "outputs": [],
   "source": [
    "D <- D[,\n",
    "       `:=` (isAnthra = !is.na(anthracyclineTotalDose),\n",
    "             isCyclo = !is.na(cyclophosphamideDose),\n",
    "             isTaxane = !is.na(taxaneTotalDose),\n",
    "             isFluoro = !is.na(fluoroucilTotalDose))]\n",
    "D1 <- melt(D,\n",
    "           id.vars=c(\"id\", \"authorYear\", \"arm\",\n",
    "                     \"isAnthra\", \"anthracyclineCumulDose\",\n",
    "                     \"isCyclo\", \"cyclophosphamideCumulDose\",\n",
    "                     \"isTaxane\", \"taxaneCumulDose\",\n",
    "                     \"isFluoro\", \"fluoroucilCumulDose\",\n",
    "                     \"nITT\", \"medianFU\"),\n",
    "           measure.vars=c(\"malAML\", \"malMDS\", \"malAMLOrMDSTotal\", \"malNonBreastSolid\"),\n",
    "           value.name=\"malN\",\n",
    "           variable.name=\"malType\")\n",
    "\n",
    "D1 <- D1[, malType := gsub(\"^mal\", \"\", malType)]\n",
    "D1 <- D1[, malType := factor(malType,\n",
    "                             levels=c(\"AML\", \"MDS\", \"AMLOrMDSTotal\", \"NonBreastSolid\"),\n",
    "                             labels=c(\"AML\", \"MDS\", \"AML or MDS\", \"Non-Breast Solid\"))]\n",
    "D1 <- D1[, py := nITT * (medianFU / 12)]\n",
    "D1 <- D1[, rate := malN / py * scale]\n",
    "summaryRegimens <- D1[,\n",
    "                      .(totalN = sum(nITT, na.rm = TRUE),\n",
    "                        totalPersonYears = round(sum(py, na.rm = TRUE)),\n",
    "                        totalMalignancies = sum(malN, na.rm = TRUE),\n",
    "                        medianPct = calcPct(malN, nITT),\n",
    "                        medianRate = calcRate(malN, nITT, medianFU)),\n",
    "                      .(isAnthra,\n",
    "                        isCyclo,\n",
    "                        isTaxane,\n",
    "                        isFluoro,\n",
    "                        malType)]\n",
    "summaryRegimens <- summaryRegimens[order(-isAnthra, -isCyclo, -isTaxane, -isFluoro, malType)]\n",
    "write.table(summaryRegimens,\n",
    "            file = \"summaryRegimens.md\",\n",
    "            sep = \" | \", quote = FALSE,\n",
    "            row.names = FALSE)\n",
    "file.info(\"summaryRegimens.md\")"
   ]
  },
  {
   "cell_type": "markdown",
   "metadata": {},
   "source": [
    "## Meta-regression\n",
    "\n",
    "Estimate meta-regression models for log transformed incidence rate.\n",
    "Model is\n",
    "\n",
    "$$\\frac{y_i}{\\text{py}_i} = \\beta x_i + \\sigma_\\text{study}$$\n",
    "\n",
    "Or\n",
    "\n",
    "$$\\frac{y_i}{\\text{py}_i} = \\beta I_{\\text{high dose}, i} + \\sigma_\\text{study}$$\n",
    "\n",
    "Models were estimated using the `rma.mv()` function from the metafor` package for R."
   ]
  },
  {
   "cell_type": "code",
   "execution_count": null,
   "metadata": {
    "collapsed": false,
    "scrolled": true
   },
   "outputs": [],
   "source": [
    "library(metafor)\n",
    "citation(\"metafor\")"
   ]
  },
  {
   "cell_type": "markdown",
   "metadata": {},
   "source": [
    "Define meta-regression functions."
   ]
  },
  {
   "cell_type": "code",
   "execution_count": null,
   "metadata": {
    "collapsed": false
   },
   "outputs": [],
   "source": [
    "pvalToChar <- function (p) {\n",
    "  if (p < 0.001) {\n",
    "    pvalue <- \"p < 0.001\"\n",
    "  } else {\n",
    "    pvalue <- sprintf(\"p = %.03f\", p)\n",
    "  }\n",
    "  pvalue\n",
    "}\n",
    "metareg <- function (D) {\n",
    "  require(metafor)\n",
    "  D <- D[!(is.na(x) | is.na(rate) | is.na(nITT) | is.na(malType))]\n",
    "  xData <- unique(D[, .(drug, x, xHighDose, malType)])\n",
    "  D <- escalc(\"IRLN\", xi=malN, ti=py, data=D)\n",
    "  randomEffect <- list(~ 1 | id)\n",
    "  MLin <- rma.mv(yi ~ x, vi, random=randomEffect, data=D)\n",
    "  MBin <- rma.mv(yi ~ xHighDose, vi, random=randomEffect, data=D)\n",
    "  pvalueLin <- MLin$pval[which(row.names(MLin$b) == \"x\")]\n",
    "  pvalueBin <- MBin$pval[which(row.names(MBin$b) == \"xHighDoseTRUE\")]\n",
    "  predLin <- predict(MLin, xData[, x], transf = exp)[[\"pred\"]] * scale\n",
    "  confLowerLin <- predict(MLin, xData[, x], transf = exp)[[\"cr.lb\"]] * scale\n",
    "  confUpperLin <- predict(MLin, xData[, x], transf = exp)[[\"cr.ub\"]] * scale\n",
    "  predBin <- predict(MBin, xData[, xHighDose], transf = exp)[[\"pred\"]] * scale\n",
    "  confLowerBin <- predict(MBin, xData[, xHighDose], transf = exp)[[\"cr.lb\"]] * scale\n",
    "  confUpperBin <- predict(MBin, xData[, xHighDose], transf = exp)[[\"cr.ub\"]] * scale\n",
    "  pred <- data.table(xData, predLin, confLowerLin, confUpperLin, predBin, confLowerBin, confUpperBin, scale)\n",
    "  setorder(pred, x)\n",
    "  list(rmaLin = MLin,\n",
    "       rmaBin = MBin,\n",
    "       pvalueLin = pvalToChar(pvalueLin),\n",
    "       pvalueBin = pvalToChar(pvalueBin),\n",
    "       pred = pred)\n",
    "}\n",
    "plotreg <- function (M, D, title, xlab, xbreaks, xscale) {\n",
    "  require(ggplot2)\n",
    "  require(RColorBrewer)\n",
    "  require(tools)\n",
    "  pvalues <- c(M$pvalueLin, M$pvalueBin)\n",
    "  x <- seq(min(M$rmaLin$X[, \"x\"]), max(M$rmaLin$X[, \"x\"]), length.out=100)\n",
    "  yhat1 <- unique(data.table(malType = mal,\n",
    "                             x,\n",
    "                             yhat = predict(M$rmaLin, x, transf = exp)[[\"pred\"]] * scale))\n",
    "  xHighDose <- as.logical(M$rmaBin$X[, \"xHighDoseTRUE\"])\n",
    "  yhat2 <- unique(data.table(malType = mal,\n",
    "                             xHighDose,\n",
    "                             yhat = predict(M$rmaBin, xHighDose, transf = exp)[[\"pred\"]] * scale))\n",
    "  D <- D[!(is.na(x) | is.na(rate) | is.na(nITT) | is.na(malType))]\n",
    "  D <- D[, malType := droplevels(malType)]\n",
    "  steps <- merge(D[, .(min = min(x), max = max(x)), .(malType, xHighDose)],\n",
    "                 yhat2,\n",
    "                 by=c(\"malType\", \"xHighDose\"))\n",
    "  steps <- melt(steps, id.vars=c(\"malType\", \"xHighDose\", \"yhat\"), measure.vars=c(\"min\", \"max\"), value.name=\"x\")\n",
    "  annoLin <- data.frame(x=Inf, y=1.2, label=pvalues[c(1)], malType=levels(D[, malType]))\n",
    "  annoBin <- data.frame(x=Inf, y=1.4, label=pvalues[c(2)], malType=levels(D[, malType]))\n",
    "  pal <- brewer.pal(4, name=\"RdBu\")\n",
    "  G <- ggplot(D, aes(x=x * xscale, y=rate + 1/2, size=nITT / min(nITT, na.rm=TRUE)))\n",
    "  G <- G + geom_point(alpha=1/3, position=\"jitter\")\n",
    "  G <- G + geom_line(data=yhat1, aes(x=x * xscale, y=yhat), inherit.aes=FALSE, color=pal[4])\n",
    "  G <- G + geom_step(data=steps, aes(x=x * xscale, y=yhat), inherit.aes=FALSE, color=pal[1])\n",
    "  G <- G + geom_text(data=annoLin,\n",
    "                     aes(x, y, label=label), inherit.aes=FALSE, hjust=1, color=pal[4])\n",
    "  G <- G + geom_text(data=annoBin,\n",
    "                     aes(x, y, label=label), inherit.aes=FALSE, hjust=1, color=pal[1])\n",
    "  G <- G + scale_x_log10(xlab, breaks=xbreaks)\n",
    "  G <- G + scale_y_log10(sprintf(\"Rate per %s person-years\", format(scale, big.mark=\",\")))\n",
    "  G <- G + labs(title=title)\n",
    "  G <- G + theme_bw()\n",
    "  G <- G + theme(legend.position=\"none\")\n",
    "  filename <- gsub(\"\\\\s+\",\n",
    "                   \"\",\n",
    "                   toTitleCase(paste(gsub(\"[[:punct:]]\", \"\", title),\n",
    "                                     gsub(\"cumulative dose\", \"\", xlab),\n",
    "                                     sep=\"_\")))\n",
    "  ggsave(filename=sprintf(\"%s.png\", filename))\n",
    "  write.csv(D, file=sprintf(\"%s.csv\", filename), row.names=FALSE, quote=FALSE)\n",
    "  M$pred[, x := x * xscale]\n",
    "  write.csv(M$pred, file=sprintf(\"%s_Pred.csv\", filename), row.names=FALSE, quote=FALSE)\n",
    "  show(file.info(c(sprintf(\"%s.png\", filename), sprintf(\"%s.csv\", filename)))[c(\"size\", \"mtime\")])\n",
    "  G\n",
    "}"
   ]
  },
  {
   "cell_type": "markdown",
   "metadata": {},
   "source": [
    "Dichotomize cumulative doses\n",
    "\n",
    "* Cyclophosphamide\n",
    "    * $\\lt 2400$\n",
    "    * $\\ge 2400$\n",
    "* Taxane\n",
    "    * $\\lt 500$\n",
    "    * $\\ge 500$"
   ]
  },
  {
   "cell_type": "code",
   "execution_count": null,
   "metadata": {
    "collapsed": false
   },
   "outputs": [],
   "source": [
    "D2 <- D1[,\n",
    "         .(id = factor(id),\n",
    "           authorYear,\n",
    "           isCyclo,\n",
    "           xCyc = cyclophosphamideCumulDose / 1e3,\n",
    "           xCycHighDose = cyclophosphamideCumulDose >= 2400,\n",
    "           xTax = taxaneCumulDose / 1e2,\n",
    "           xTaxHighDose = taxaneCumulDose >= 500,\n",
    "           isAnthra,\n",
    "           isTaxane,\n",
    "           isFluoro,\n",
    "           nITT,\n",
    "           medianFU,\n",
    "           malType,\n",
    "           malN,\n",
    "           py,\n",
    "           rate)]"
   ]
  },
  {
   "cell_type": "markdown",
   "metadata": {},
   "source": [
    "### AML/MDS\n",
    "\n",
    "* Fit the models\n",
    "* Show model summaries\n",
    "* Plot the predicted values"
   ]
  },
  {
   "cell_type": "code",
   "execution_count": null,
   "metadata": {
    "collapsed": true
   },
   "outputs": [],
   "source": [
    "mal <- \"AML or MDS\"\n",
    "D3 <- D2[malType == mal]"
   ]
  },
  {
   "cell_type": "code",
   "execution_count": null,
   "metadata": {
    "collapsed": false,
    "scrolled": false
   },
   "outputs": [],
   "source": [
    "D3 <- D3[, `:=` (drug = \"Cyclophosphamide\", x = xCyc, xHighDose = xCycHighDose)]\n",
    "M <- metareg(D3)\n",
    "M\n",
    "plotreg(M,\n",
    "        D3,\n",
    "        mal,\n",
    "        \"Cyclophosphamide cumulative dose\",\n",
    "        1e3 * c(0.5, 1, 2, 4, 8, 16),\n",
    "        1e3)"
   ]
  },
  {
   "cell_type": "code",
   "execution_count": null,
   "metadata": {
    "collapsed": false,
    "scrolled": false
   },
   "outputs": [],
   "source": [
    "D3 <- D3[, `:=` (drug = \"Taxane\", x = xTax, xHighDose = xTaxHighDose)]\n",
    "M <- metareg(D3)\n",
    "M\n",
    "plotreg(M,\n",
    "        D3,\n",
    "        mal,\n",
    "        \"Taxane cumulative dose\",\n",
    "        1e2 * c(0.5, 1, 2, 4, 8, 16),\n",
    "        1e2)"
   ]
  },
  {
   "cell_type": "markdown",
   "metadata": {},
   "source": [
    "#### Cyclophosphamide + Taxanes\n",
    "\n",
    "The effect of cyclophosphamide could be due to taxanes in the regimen.\n",
    "\n",
    "Fit the meta-regression model\n",
    "\n",
    "$$\\frac{y_i}{\\text{py}_i} = \\beta_0 + \\beta_1 x_{\\text{cyclophosphamide dose}, i} + \\beta_2 I_{\\text{taxane}, i} + \\beta_3 x_{\\text{cyclophosphamide dose}, i} I_{\\text{taxane}, i} + \\sigma_\\text{study}$$\n",
    "\n",
    "where $I_{\\text{taxane}, i}$ is an 0/1 indicator for whether study $i$ has taxane in the regimen. The interpretation of $\\beta_1$ is the effect of cyclophosphamide dose among the studies with no taxane in the regimen.\n",
    "\n",
    "Next, the model is reparameterized as \n",
    "\n",
    "$$\\frac{y_i}{\\text{py}_i} = \\beta_0 + \\beta_1^\\prime x_{\\text{cyclophosphamide dose}, i} + \\beta_2^\\prime I_{\\text{no taxane}, i} + \\beta_3^\\prime x_{\\text{cyclophosphamide dose}, i} I_{\\text{no taxane}, i} + \\sigma_\\text{study}$$\n",
    "\n",
    "so the interpretation of $\\beta_1^\\prime$ is the effect of cyclophosphamide dose among the studies with taxane in the regimen."
   ]
  },
  {
   "cell_type": "code",
   "execution_count": null,
   "metadata": {
    "collapsed": true
   },
   "outputs": [],
   "source": [
    "mal <- \"AML or MDS\"\n",
    "D3 <- D2[malType == mal]\n",
    "D3 <- D3[, drug := \"Cyclophosphamide\"]\n",
    "D3 <- D3[, isNoTax := !isTaxane]\n",
    "D3 <- D3[, isNoCyc := !isCyclo]\n",
    "# D3 <- D3[isTaxane == FALSE, xTax := 0]\n",
    "# D3 <- D3[isCyclo == FALSE, xCyc := 0]\n",
    "D3 <- D3[isTaxane == FALSE, xTaxHighDose := FALSE]\n",
    "D3 <- D3[isCyclo == FALSE, xCycHighDose := FALSE]\n",
    "D3 <- D3[!(is.na(xCyc) | is.na(xCycHighDose) | is.na(rate) | is.na(nITT) | is.na(malType))]\n",
    "xData <- unique(D3[, .(drug, xCyc, xCycHighDose, isTaxane, malType)])\n",
    "D3 <- escalc(\"IRLN\", xi=malN, ti=py, data=D3)\n",
    "randomEffect <- list(~ 1 | id)\n",
    "MLin <- rma.mv(yi ~ xCyc + isTaxane + xCyc * isTaxane,\n",
    "               vi,\n",
    "               random=randomEffect,\n",
    "               data=D3)\n",
    "MBin <- rma.mv(yi ~ xCycHighDose + isTaxane + xCycHighDose * isTaxane,\n",
    "               vi,\n",
    "               random=randomEffect,\n",
    "               data=D3)\n",
    "M <- list(rmaLin = MLin,\n",
    "          rmaBin = MBin)\n",
    "M"
   ]
  },
  {
   "cell_type": "markdown",
   "metadata": {},
   "source": [
    "---"
   ]
  },
  {
   "cell_type": "code",
   "execution_count": null,
   "metadata": {
    "collapsed": false
   },
   "outputs": [],
   "source": [
    "pvalueLinWithoutTax <- MLin$pval[which(row.names(MLin$b) == \"xCyc\")]\n",
    "pvalueLinWithTax <- MLin$pval[which(row.names(MLin$b) == \"xCyc:isTaxaneTRUE\")]\n",
    "pvalueBinWithoutTax <- MBin$pval[which(row.names(MBin$b) == \"xCycHighDoseTRUE\")]\n",
    "pvalueBinWithTax <- MBin$pval[which(row.names(MBin$b) == \"xCycHighDoseTRUE:isTaxaneTRUE\")]\n",
    "D3 <- data.table(D3)\n",
    "pred <- cbind(D3[, .(drug, malType, xCyc, xCycHighDose, isTaxane)],\n",
    "              predLin = predict(MLin, transf = exp)[[\"pred\"]] * scale, \n",
    "              confLowerLin = predict(MLin, transf = exp)[[\"cr.lb\"]] * scale, \n",
    "              confUpperLin = predict(MLin, transf = exp)[[\"cr.ub\"]] * scale, \n",
    "              predBin = predict(MBin, transf = exp)[[\"pred\"]] * scale, \n",
    "              confLowerBin = predict(MBin, transf = exp)[[\"cr.lb\"]] * scale, \n",
    "              confUpperBin = predict(MBin, transf = exp)[[\"cr.ub\"]] * scale, \n",
    "              scale)\n",
    "pred <- unique(pred)\n",
    "setorder(pred, xCyc)\n",
    "M <- list(rmaLin = MLin,\n",
    "          rmaBin = MBin,\n",
    "          pvalueLinWithTax = pvalToChar(pvalueLinWithTax),\n",
    "          pvalueLinWithoutTax = pvalToChar(pvalueLinWithoutTax),\n",
    "          pvalueBinWithTax = pvalToChar(pvalueBinWithTax),\n",
    "          pvalueBinWithoutTax = pvalToChar(pvalueBinWithoutTax),\n",
    "          pred = pred)\n",
    "M"
   ]
  },
  {
   "cell_type": "markdown",
   "metadata": {},
   "source": [
    "#### Taxanes + Cyclophosphamide\n",
    "\n",
    "The effect of taxanes could be due to cyclophosphamide in the regimen.\n",
    "\n",
    "Fit the meta-regression model\n",
    "\n",
    "$$\\frac{y_i}{\\text{py}_i} = \\beta_0 + \\beta_1 I_{\\text{no cyclophosphamide}, i} + \\beta_2 x_{\\text{taxane dose}, i} + \\beta_3 x_{\\text{taxane dose}, i} I_{\\text{no cyclophosphamide}, i} + \\sigma_\\text{study}$$"
   ]
  },
  {
   "cell_type": "code",
   "execution_count": null,
   "metadata": {
    "collapsed": false
   },
   "outputs": [],
   "source": [
    "mal <- \"AML or MDS\"\n",
    "D3 <- D2[malType == mal]\n",
    "D3 <- D3[, drug := \"Taxane\"]\n",
    "D3 <- D3[, isNoTax := !isTaxane]\n",
    "D3 <- D3[, isNoCyc := !isCyclo]\n",
    "# D3 <- D3[isTaxane == FALSE, xTax := 0]\n",
    "# D3 <- D3[isCyclo == FALSE, xCyc := 0]\n",
    "D3 <- D3[isTaxane == FALSE, xTaxHighDose := FALSE]\n",
    "D3 <- D3[isCyclo == FALSE, xCycHighDose := FALSE]\n",
    "D3 <- D3[!(is.na(xTax) | is.na(xTaxHighDose) | is.na(rate) | is.na(nITT) | is.na(malType))]\n",
    "xData <- unique(D3[, .(drug, xTax, xTaxHighDose, isNoCyc, malType)])\n",
    "D3 <- escalc(\"IRLN\", xi=malN, ti=py, data=D3)\n",
    "randomEffect <- list(~ 1 | id)\n",
    "MLin <- rma.mv(yi ~ isNoCyc + xTax + xTax * isNoCyc,\n",
    "               vi,\n",
    "               random=randomEffect,\n",
    "               data=D3)\n",
    "MBin <- rma.mv(yi ~ isNoCyc + xTaxHighDose + xTaxHighDose * isNoCyc,\n",
    "               vi,\n",
    "               random=randomEffect,\n",
    "               data=D3)\n",
    "pvalueLinWithCyc <- MLin$pval[which(row.names(MLin$b) == \"xTax\")]\n",
    "pvalueLinWithoutCyc <- MLin$pval[which(row.names(MLin$b) == \"isNoCycTRUE:xTax\")]\n",
    "pvalueBinWithCyc <- MBin$pval[which(row.names(MBin$b) == \"xTaxHighDoseTRUE\")]\n",
    "pvalueBinWithoutCyc <- MBin$pval[which(row.names(MBin$b) == \"isNoCycTRUE:xTaxHighDoseTRUE\")]\n",
    "D3 <- data.table(D3)\n",
    "pred <- cbind(D3[, .(drug, malType, isNoCyc, xTax, xTaxHighDose)],\n",
    "              predLin = predict(MLin, transf = exp)[[\"pred\"]] * scale, \n",
    "              confLowerLin = predict(MLin, transf = exp)[[\"cr.lb\"]] * scale, \n",
    "              confUpperLin = predict(MLin, transf = exp)[[\"cr.ub\"]] * scale, \n",
    "              predBin = predict(MBin, transf = exp)[[\"pred\"]] * scale, \n",
    "              confLowerBin = predict(MBin, transf = exp)[[\"cr.lb\"]] * scale, \n",
    "              confUpperBin = predict(MBin, transf = exp)[[\"cr.ub\"]] * scale, \n",
    "              scale)\n",
    "pred <- unique(pred)\n",
    "setorder(pred, xTax)\n",
    "M <- list(rmaLin = MLin,\n",
    "          rmaBin = MBin,\n",
    "          pvalueLinWithCyc = pvalToChar(pvalueLinWithCyc),\n",
    "          pvalueLinWithoutCyc = pvalToChar(pvalueLinWithoutCyc),\n",
    "          pvalueBinWithCyc = pvalToChar(pvalueBinWithCyc),\n",
    "          pvalueBinWithoutCyc = pvalToChar(pvalueBinWithoutCyc),\n",
    "          pred = pred)\n",
    "M"
   ]
  },
  {
   "cell_type": "code",
   "execution_count": null,
   "metadata": {
    "collapsed": false
   },
   "outputs": [],
   "source": [
    "require(ggplot2)\n",
    "require(RColorBrewer)\n",
    "require(tools)\n",
    "xscale <- 1e2\n",
    "title <- mal\n",
    "xbreaks <- 1e2 * c(0.5, 1, 2, 4, 8, 16)\n",
    "xlab <- \"Taxane cumulative dose\"\n",
    "G <- ggplot(D3, aes(x=xTax * xscale, y=rate + 1/2, size=nITT / min(nITT, na.rm=TRUE)))\n",
    "G <- G + geom_point(alpha=1/3, position=\"jitter\", aes(shape=isNoCyc))\n",
    "G <- G + scale_x_log10(xlab, breaks=xbreaks)\n",
    "G <- G + scale_y_log10(sprintf(\"Rate per %s person-years\", format(scale, big.mark=\",\")))\n",
    "G <- G + labs(title=title)\n",
    "G <- G + theme_bw()\n",
    "G <- G + theme(legend.position=\"none\")\n",
    "G\n",
    "D3[, .(id, authorYear, isNoCyc, xTax, malType, malN, py, rate)][order(isNoCyc, xTax)]"
   ]
  },
  {
   "cell_type": "code",
   "execution_count": null,
   "metadata": {
    "collapsed": false,
    "scrolled": false
   },
   "outputs": [],
   "source": [
    "pvalues <- c(M$pvalueLinWithCyc, M$pvalueLinWithoutCyc, M$pvalueBinWithCyc, M$pvalueBinWithoutCyc)\n",
    "x <- data.table(1,\n",
    "                rep(c(TRUE, FALSE), each = 10),\n",
    "                seq(min(M$rmaLin$X[, \"xTax\"]), max(M$rmaLin$X[, \"xTax\"]), length.out=10))\n",
    "x <- as.matrix(x, ncol=3)\n",
    "x <- cbind(x, V4 = x[, 2] * x[, 3])\n",
    "rownames(x) <- 1:nrow(x)\n",
    "colnames(x) <- colnames(M$rmaLin$X)\n",
    "str(x)\n",
    "str(M$rmaLin$X)\n",
    "predict(M$rmaLin, matrix(x), transf = exp, addx=TRUE)\n",
    "# predict(M$rmaLin, transf = exp, addx=TRUE)\n"
   ]
  },
  {
   "cell_type": "code",
   "execution_count": null,
   "metadata": {
    "collapsed": false
   },
   "outputs": [],
   "source": [
    "yhat1 <- unique(data.table(malType = mal,\n",
    "                           x,\n",
    "                           yhat = predict(M$rmaLin, x, transf = exp)[[\"pred\"]] * scale))"
   ]
  },
  {
   "cell_type": "code",
   "execution_count": null,
   "metadata": {
    "collapsed": false
   },
   "outputs": [],
   "source": [
    "xHighDose <- as.logical(M$rmaBin$X[, \"xHighDoseTRUE\"])\n",
    "yhat2 <- unique(data.table(malType = mal,\n",
    "                           xHighDose,\n",
    "                           yhat = predict(M$rmaBin, xHighDose, transf = exp)[[\"pred\"]] * scale))\n",
    "D <- D[!(is.na(x) | is.na(rate) | is.na(nITT) | is.na(malType))]\n",
    "D <- D[, malType := droplevels(malType)]\n",
    "steps <- merge(D[, .(min = min(x), max = max(x)), .(malType, xHighDose)],\n",
    "               yhat2,\n",
    "               by=c(\"malType\", \"xHighDose\"))\n",
    "steps <- melt(steps, id.vars=c(\"malType\", \"xHighDose\", \"yhat\"), measure.vars=c(\"min\", \"max\"), value.name=\"x\")\n",
    "annoLin <- data.frame(x=Inf, y=1.2, label=pvalues[c(1)], malType=levels(D[, malType]))\n",
    "annoBin <- data.frame(x=Inf, y=1.4, label=pvalues[c(2)], malType=levels(D[, malType]))\n",
    "pal <- brewer.pal(4, name=\"RdBu\")\n",
    "G <- ggplot(D, aes(x=x * xscale, y=rate + 1/2, size=nITT / min(nITT, na.rm=TRUE)))\n",
    "G <- G + geom_point(alpha=1/3, position=\"jitter\")\n",
    "G <- G + geom_line(data=yhat1, aes(x=x * xscale, y=yhat), inherit.aes=FALSE, color=pal[4])\n",
    "G <- G + geom_step(data=steps, aes(x=x * xscale, y=yhat), inherit.aes=FALSE, color=pal[1])\n",
    "G <- G + geom_text(data=annoLin,\n",
    "                   aes(x, y, label=label), inherit.aes=FALSE, hjust=1, color=pal[4])\n",
    "G <- G + geom_text(data=annoBin,\n",
    "                   aes(x, y, label=label), inherit.aes=FALSE, hjust=1, color=pal[1])\n",
    "G <- G + scale_x_log10(xlab, breaks=xbreaks)\n",
    "G <- G + scale_y_log10(sprintf(\"Rate per %s person-years\", format(scale, big.mark=\",\")))\n",
    "G <- G + labs(title=title)\n",
    "G <- G + theme_bw()\n",
    "G <- G + theme(legend.position=\"none\")\n",
    "filename <- gsub(\"\\\\s+\",\n",
    "                 \"\",\n",
    "                 toTitleCase(paste(gsub(\"[[:punct:]]\", \"\", title),\n",
    "                                   gsub(\"cumulative dose\", \"\", xlab),\n",
    "                                   sep=\"_\")))\n",
    "ggsave(filename=sprintf(\"%s.png\", filename))\n",
    "write.csv(D, file=sprintf(\"%s.csv\", filename), row.names=FALSE, quote=FALSE)\n",
    "M$pred[, x := x * xscale]\n",
    "write.csv(M$pred, file=sprintf(\"%s_Pred.csv\", filename), row.names=FALSE, quote=FALSE)\n",
    "show(file.info(c(sprintf(\"%s.png\", filename), sprintf(\"%s.csv\", filename)))[c(\"size\", \"mtime\")])\n",
    "G"
   ]
  },
  {
   "cell_type": "markdown",
   "metadata": {},
   "source": [
    "### AML only\n",
    "\n",
    "Run models for AML malignancies alone for compatibility with the SEER incidence statistics.\n",
    "\n",
    "> From: Rivera, Donna (NIH/NCI) [F] [mailto:donna.rivera@nih.gov]   \n",
    "> Sent: Monday, June 27, 2016 6:37 AM  \n",
    "> To: Benjamin Chan; Barbara M. Galligan  \n",
    "> Subject: RE: SEER Data for NCI secondary malignancies  \n",
    "> \n",
    "> I just wanted to make sure you saw the **SEER statistics are only for AML and do not include MDS**. MDS is categorized separately and we could get that as well for reference if you would like.  There are other types such as AMoL and more rare versions ,if  you would like to look at those. Let me know if there are other types needed for your reference."
   ]
  },
  {
   "cell_type": "code",
   "execution_count": null,
   "metadata": {
    "collapsed": true
   },
   "outputs": [],
   "source": [
    "mal <- \"AML\"\n",
    "D3 <- D2[malType == mal]"
   ]
  },
  {
   "cell_type": "code",
   "execution_count": null,
   "metadata": {
    "collapsed": false,
    "scrolled": false
   },
   "outputs": [],
   "source": [
    "D3 <- D3[, `:=` (drug = \"Cyclophosphamide\", x = xCyc, xHighDose = xCycHighDose)]\n",
    "M <- metareg(D3)\n",
    "M\n",
    "plotreg(M,\n",
    "        D3,\n",
    "        mal,\n",
    "        \"Cyclophosphamide cumulative dose\",\n",
    "        1e3 * c(0.5, 1, 2, 4, 8, 16),\n",
    "        1e3)"
   ]
  },
  {
   "cell_type": "code",
   "execution_count": null,
   "metadata": {
    "collapsed": false
   },
   "outputs": [],
   "source": [
    "D3 <- D3[, `:=` (drug = \"Taxane\", x = xTax, xHighDose = xTaxHighDose)]\n",
    "M <- metareg(D3)\n",
    "M\n",
    "plotreg(M,\n",
    "        D3,\n",
    "        mal,\n",
    "        \"Taxane cumulative dose\",\n",
    "        1e2 * c(0.5, 1, 2, 4, 8, 16),\n",
    "        1e2)"
   ]
  },
  {
   "cell_type": "markdown",
   "metadata": {},
   "source": [
    "### Non-Breast Solid\n",
    "\n",
    "* Fit the models\n",
    "* Show model summaries\n",
    "* Plot the predicted values"
   ]
  },
  {
   "cell_type": "code",
   "execution_count": null,
   "metadata": {
    "collapsed": true
   },
   "outputs": [],
   "source": [
    "mal <- \"Non-Breast Solid\"\n",
    "D3 <- D2[malType == mal]"
   ]
  },
  {
   "cell_type": "code",
   "execution_count": null,
   "metadata": {
    "collapsed": false,
    "scrolled": false
   },
   "outputs": [],
   "source": [
    "D3 <- D3[, `:=` (drug = \"Cyclophosphamide\", x = xCyc, xHighDose = xCycHighDose)]\n",
    "M <- metareg(D3)\n",
    "M\n",
    "plotreg(M,\n",
    "        D3,\n",
    "        mal,\n",
    "        \"Cyclophosphamide cumulative dose\",\n",
    "        1e3 * c(0.5, 1, 2, 4, 8, 16),\n",
    "        1e3)"
   ]
  },
  {
   "cell_type": "code",
   "execution_count": null,
   "metadata": {
    "collapsed": false
   },
   "outputs": [],
   "source": [
    "D3 <- D3[, `:=` (drug = \"Taxane\", x = xTax, xHighDose = xTaxHighDose)]\n",
    "M <- metareg(D3)\n",
    "M\n",
    "plotreg(M,\n",
    "        D3,\n",
    "        mal,\n",
    "        \"Taxane cumulative dose\",\n",
    "        1e2 * c(0.5, 1, 2, 4, 8, 16),\n",
    "        1e2)"
   ]
  },
  {
   "cell_type": "markdown",
   "metadata": {},
   "source": [
    "## Study Characteristics and Outcomes\n",
    "\n",
    "Populate Appendix Table 1.\n",
    "Need columns for\n",
    "\n",
    "* Study\n",
    "* Country\n",
    "* Median follow-up (months)\n",
    "* Regimen name\n",
    "* Cumulative dose\n",
    "    * Anthracyclines\n",
    "    * Cyclophosphamide\n",
    "    * Taxanes\n",
    "* N\n",
    "* Person-years (the denominator for the incidence rate)\n",
    "* AML/MDS count (the numerator for the incidence rate)\n",
    "* AML/MDS incidence, per 10,000 person-years\n",
    "* Non-breast solid count (the numerator for the incidence rate)\n",
    "* Non-breast solid incidence, per 10,000 person-years\n",
    "\n",
    "Output to an \n",
    "\n",
    "* Excel workbook, [appendixTableStudyCharacteristicsAndOutcomes.xlsx](appendixTableStudyCharacteristicsAndOutcomes.xlsx)\n",
    "* CSV file, [appendixTableStudyCharacteristicsAndOutcomes.csv](appendixTableStudyCharacteristicsAndOutcomes.csv)"
   ]
  },
  {
   "cell_type": "code",
   "execution_count": null,
   "metadata": {
    "collapsed": false,
    "scrolled": false
   },
   "outputs": [],
   "source": [
    "library(xlsx)\n",
    "library(IRdisplay)\n",
    "library(xtable)\n",
    "T <- D[,\n",
    "       .(study = ifelse(!is.na(trial), paste(authorYear, trial), authorYear),\n",
    "         country = NA,\n",
    "         medianFU = round(medianFU),\n",
    "         regimen,\n",
    "         anthrCumulDose = round(anthracyclineCumulDose),\n",
    "         cycloCumulaDose = round(cyclophosphamideCumulDose),\n",
    "         taxaneCumulDose = round(taxaneCumulDose),\n",
    "         nITT,\n",
    "         py = nITT * (medianFU / 12),\n",
    "         nAMLOrMDS = malAMLOrMDSTotal,\n",
    "         incidenceAMLOrMDS = signif(malAMLOrMDSTotal / (nITT * (medianFU / 12)) * scale, digits=3),\n",
    "         nNonBreastSolid = malNonBreastSolid,\n",
    "         incidenceNonBreastSolid = signif(malNonBreastSolid / (nITT * (medianFU / 12)) * scale, digits=3))]\n",
    "write.xlsx(T,\n",
    "           \"appendixTableStudyCharacteristicsAndOutcomes.xlsx\",\n",
    "           row.names=FALSE,\n",
    "           showNA=FALSE)\n",
    "write.csv(T,\n",
    "          \"appendixTableStudyCharacteristicsAndOutcomes.csv\",\n",
    "          quote=FALSE,\n",
    "          row.names=FALSE)\n",
    "file.info(grep(\"appendixTableStudyCharacteristicsAndOutcomes\", list.files(), value=TRUE))[c(\"size\", \"mtime\")]\n",
    "T <- xtable(T, digits=c(rep(0, ncol(T) - 3), 0, 2, 0, 2))\n",
    "# display_html(paste(capture.output(print(T, type = 'html')), collapse=\"\", sep=\"\"))"
   ]
  },
  {
   "cell_type": "markdown",
   "metadata": {},
   "source": [
    "## Zip up assets\n",
    "\n",
    "Zip up assets created by this notebook for transfer off of EC2."
   ]
  },
  {
   "cell_type": "code",
   "execution_count": null,
   "metadata": {
    "collapsed": false
   },
   "outputs": [],
   "source": [
    "f <- \"assets.zip\"\n",
    "assets <- grep(\"(csv)|(png)|(xlsx)|(md)$\", list.files(), value=TRUE)\n",
    "zip(f, assets)\n",
    "file.info(f)[c(\"size\", \"mtime\")]\n",
    "unzip(f, list=TRUE)"
   ]
  },
  {
   "cell_type": "markdown",
   "metadata": {},
   "source": [
    "## Session information"
   ]
  },
  {
   "cell_type": "code",
   "execution_count": null,
   "metadata": {
    "collapsed": false
   },
   "outputs": [],
   "source": [
    "sessionInfo()"
   ]
  }
 ],
 "metadata": {
  "kernelspec": {
   "display_name": "R",
   "language": "R",
   "name": "ir"
  },
  "language_info": {
   "codemirror_mode": "r",
   "file_extension": ".r",
   "mimetype": "text/x-r-source",
   "name": "R",
   "pygments_lexer": "r",
   "version": "3.3.1"
  }
 },
 "nbformat": 4,
 "nbformat_minor": 0
}
