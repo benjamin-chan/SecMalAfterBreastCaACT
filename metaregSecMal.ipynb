{
 "cells": [
  {
   "cell_type": "markdown",
   "metadata": {},
   "source": [
    "# Secondary Malignancies\n",
    "\n",
    "[Benjamin Chan](http://careers.stackoverflow.com/benjaminchan)  \n",
    "\n",
    "## Load data\n",
    "\n",
    "Load the data from [GitHub](https://github.com/benjamin-chan/AEAfterBreastCaACT/tree/master/SecondaryMalignancies)."
   ]
  },
  {
   "cell_type": "code",
   "execution_count": 1,
   "metadata": {
    "collapsed": false
   },
   "outputs": [
    {
     "name": "stderr",
     "output_type": "stream",
     "text": [
      "Loading required package: openxlsx\n",
      "Loading required package: data.table\n"
     ]
    }
   ],
   "source": [
    "if (!require(openxlsx)) {install.packages(\"openxlsx\", dependencies=TRUE, repos=\"https://cloud.r-project.org\")}\n",
    "library(openxlsx)\n",
    "if (!require(data.table)) {install.packages(\"data.table\", dependencies=TRUE, repos=\"https://cloud.r-project.org\")}\n",
    "library(data.table)\n",
    "url <- \"https://github.com/benjamin-chan/AEAfterBreastCaACT/raw/master/SecondaryMalignancies/SecondaryMalignancies_Data_BG_3_4.xlsx\"\n",
    "f <- tempfile()\n",
    "download.file(url, f, mode=\"wb\")\n",
    "sheets <- getSheetNames(f)\n",
    "# sheets\n",
    "D <- read.xlsx(f, sheet = sheets[1], startRow = 3, colNames = FALSE)\n",
    "D <- data.table(D)\n",
    "oldnames <- names(D)\n",
    "newnames <- c(\"id\",\n",
    "              \"authorYear\",\n",
    "              \"trial\",\n",
    "              \"quality\",\n",
    "              \"arm\",\n",
    "              \"nRandomized\",\n",
    "              \"nITT\",\n",
    "              # \"pctCompletingTx\",\n",
    "              \"medianFU\",\n",
    "              \"regimen\",\n",
    "              \"anthracyclineType\",\n",
    "              \"anthracyclineTotalDose\",\n",
    "              \"anthracyclineDuration\",\n",
    "              \"anthracyclineCourses\",\n",
    "              \"cyclophosphamideDose\",\n",
    "              \"cyclophosphamideDuration\",\n",
    "              \"cyclophosphamideCourses\",\n",
    "              \"taxaneType\",\n",
    "              \"taxaneTotalDose\",\n",
    "              \"taxaneDuration\",\n",
    "              \"taxaneCourses\",\n",
    "              \"fluoroucilTotalDose\",\n",
    "              \"fluoroucilDuration\",\n",
    "              \"fluoroucilCourses\",\n",
    "              \"otherTxDetails\",\n",
    "              \"malAML\",\n",
    "              \"malMDS\",\n",
    "              \"malAMLOrMDS\",\n",
    "              \"malNonBreastSolid\",\n",
    "              \"malNonBreastSolidType\",\n",
    "              \"malOtherBloodCancers\",\n",
    "              \"malSMRelatedDeaths\",\n",
    "              \"malSecondPrimary\",\n",
    "              \"NOTES\")\n",
    "setnames(D, oldnames, newnames[1:33])"
   ]
  },
  {
   "cell_type": "markdown",
   "metadata": {},
   "source": [
    "## Tidy data\n",
    "\n",
    "Create a `rowid` variable.\n",
    "This will be handy later."
   ]
  },
  {
   "cell_type": "code",
   "execution_count": 2,
   "metadata": {
    "collapsed": false
   },
   "outputs": [],
   "source": [
    "D <- D[, rowid := .I]"
   ]
  },
  {
   "cell_type": "markdown",
   "metadata": {},
   "source": [
    "Input missing data for Bergh (2000); row was split."
   ]
  },
  {
   "cell_type": "code",
   "execution_count": 3,
   "metadata": {
    "collapsed": true
   },
   "outputs": [],
   "source": [
    "col <- grep(\"^cyclophosphamide\", names(D), invert = TRUE)\n",
    "D[11, col] <- D[10, col, with = FALSE]\n",
    "# D[11, ]\n",
    "# D[10, ]"
   ]
  },
  {
   "cell_type": "markdown",
   "metadata": {},
   "source": [
    "Fix trial column for Romond (2005)."
   ]
  },
  {
   "cell_type": "code",
   "execution_count": 4,
   "metadata": {
    "collapsed": false
   },
   "outputs": [],
   "source": [
    "D <- D[grep(\"Romond\", authorYear), trial := gsub(\"&N\", \"& N\", trial)]"
   ]
  },
  {
   "cell_type": "markdown",
   "metadata": {},
   "source": [
    "Make `medianFU` numeric."
   ]
  },
  {
   "cell_type": "code",
   "execution_count": 5,
   "metadata": {
    "collapsed": false
   },
   "outputs": [
    {
     "data": {
      "text/html": [
       "<table>\n",
       "<thead><tr><th></th><th scope=col>medianFU</th><th scope=col>medianFUChar</th></tr></thead>\n",
       "<tbody>\n",
       "\t<tr><th scope=row>1</th><td>38.3</td><td>38.299999999999997</td></tr>\n",
       "\t<tr><th scope=row>2</th><td>73</td><td>71-75</td></tr>\n",
       "\t<tr><th scope=row>3</th><td>99.6</td><td>99.600000000000009</td></tr>\n",
       "\t<tr><th scope=row>4</th><td>28.8</td><td>28.799999999999997</td></tr>\n",
       "</tbody>\n",
       "</table>\n"
      ],
      "text/latex": [
       "\\begin{tabular}{r|ll}\n",
       "  & medianFU & medianFUChar\\\\\n",
       "\\hline\n",
       "\t1 & 38.3 & 38.299999999999997\\\\\n",
       "\t2 & 73 & 71-75\\\\\n",
       "\t3 & 99.6 & 99.600000000000009\\\\\n",
       "\t4 & 28.8 & 28.799999999999997\\\\\n",
       "\\end{tabular}\n"
      ],
      "text/plain": [
       "   medianFU       medianFUChar\n",
       "1:     38.3 38.299999999999997\n",
       "2:     73.0              71-75\n",
       "3:     99.6 99.600000000000009\n",
       "4:     28.8 28.799999999999997"
      ]
     },
     "execution_count": 5,
     "metadata": {},
     "output_type": "execute_result"
    }
   ],
   "source": [
    "D <- D[grep(\"-\", medianFU, invert = TRUE), medianFUNum := round(as.numeric(medianFU), digits = 2)]\n",
    "x <- D[grep(\"-\", medianFU), medianFU]\n",
    "x <- as.numeric(unlist(strsplit(x, \"-\")))\n",
    "x1 <- x[seq(1, length(x), 2)]\n",
    "x2 <- x[seq(2, length(x), 2)]\n",
    "xbar <- rowMeans(cbind(x1, x2))\n",
    "D <- D[grep(\"-\", medianFU), medianFUNum := xbar]\n",
    "D <- D[,\n",
    "       `:=` (medianFUChar = medianFU,\n",
    "             medianFU = medianFUNum,\n",
    "             medianFUNum = NULL)]\n",
    "unique(D[as.character(medianFU) != medianFUChar, .(medianFU, medianFUChar)])\n",
    "D <- D[, medianFUChar := NULL]"
   ]
  },
  {
   "cell_type": "markdown",
   "metadata": {},
   "source": [
    "Recode mal* values of `NR` and `-` to `NA`."
   ]
  },
  {
   "cell_type": "code",
   "execution_count": 6,
   "metadata": {
    "collapsed": true
   },
   "outputs": [],
   "source": [
    "recode <- function(x) {\n",
    "    missval <- c(\"-\", \"NR\", \" \")\n",
    "    vec <- D[, get(x)]\n",
    "    vec[vec %in% missval] <- NA\n",
    "    vec\n",
    "}\n",
    "col <- grep(\"^mal\", names(D), value = TRUE)\n",
    "for (i in 1:length(col)) {\n",
    "    D[, col[i]] <- recode(col[i])\n",
    "}"
   ]
  },
  {
   "cell_type": "markdown",
   "metadata": {},
   "source": [
    "Substitute non-numeric text in mal* values."
   ]
  },
  {
   "cell_type": "code",
   "execution_count": 7,
   "metadata": {
    "collapsed": true
   },
   "outputs": [],
   "source": [
    "substitute <- function(x) {\n",
    "    vec <- D[, get(x)]\n",
    "    vec <- gsub(\"[[:alpha:]]\", \"\", vec)\n",
    "    vec\n",
    "}\n",
    "col <- grep(\"^mal\", names(D), value = TRUE)\n",
    "for (i in 1:4) {\n",
    "    # Only substitute a subset of mal* columns\n",
    "    D[, col[i]] <- substitute(col[i])\n",
    "}"
   ]
  },
  {
   "cell_type": "markdown",
   "metadata": {},
   "source": [
    "Convert mal* values to numeric."
   ]
  },
  {
   "cell_type": "code",
   "execution_count": 8,
   "metadata": {
    "collapsed": true
   },
   "outputs": [],
   "source": [
    "for (i in 1:4) {\n",
    "    # Only convert a subset of mal* columns\n",
    "    D <- D[, col[i] := as.numeric(get(col[i]))]\n",
    "}"
   ]
  },
  {
   "cell_type": "markdown",
   "metadata": {},
   "source": [
    "The `malAMLOrMDS` column, as entered, captures number of AML or MDS malignancies if the study reported them grouped as opposed to separately.\n",
    "If the study reported them as separately, then these counts are captures in the `malAML` and `malMDS` columns.\n",
    "I.e., the `malAML`, `malMDS`, and `malAMLOrMDS` columns are mutually exclusive counts.\n",
    "We want to create another column, `malAMLOrMDSTotal`, to be non-mutually exclusive from `malAML`, `malMDS`, and `malAMLOrMDS`.\n",
    "If none of the `malAML`, `malMDS`, and `malAMLOrMDS` values are populated, then set `malAMLOrMDSTotal` to `NA`, also.\n",
    "NOTE: Couldn't get this to work: [http://stackoverflow.com/a/16513949/1427069](http://stackoverflow.com/a/16513949/1427069)."
   ]
  },
  {
   "cell_type": "code",
   "execution_count": 9,
   "metadata": {
    "collapsed": false
   },
   "outputs": [
    {
     "data": {
      "text/html": [
       "<table>\n",
       "<thead><tr><th></th><th scope=col>rowid</th><th scope=col>malAML</th><th scope=col>malMDS</th><th scope=col>malAMLOrMDS</th><th scope=col>malAMLOrMDSTotal</th></tr></thead>\n",
       "<tbody>\n",
       "\t<tr><th scope=row>1</th><td>66</td><td>4</td><td>NA</td><td>NA</td><td>4</td></tr>\n",
       "\t<tr><th scope=row>2</th><td>60</td><td>11</td><td>4</td><td>NA</td><td>15</td></tr>\n",
       "\t<tr><th scope=row>3</th><td>27</td><td>NA</td><td>NA</td><td>NA</td><td>NA</td></tr>\n",
       "\t<tr><th scope=row>4</th><td>67</td><td>NA</td><td>NA</td><td>NA</td><td>NA</td></tr>\n",
       "\t<tr><th scope=row>5</th><td>70</td><td>NA</td><td>NA</td><td>NA</td><td>NA</td></tr>\n",
       "\t<tr><th scope=row>6</th><td>22</td><td>NA</td><td>NA</td><td>NA</td><td>NA</td></tr>\n",
       "\t<tr><th scope=row>7</th><td>26</td><td>NA</td><td>NA</td><td>7</td><td>7</td></tr>\n",
       "\t<tr><th scope=row>8</th><td>36</td><td>NA</td><td>NA</td><td>6</td><td>6</td></tr>\n",
       "\t<tr><th scope=row>9</th><td>71</td><td>1</td><td>NA</td><td>NA</td><td>1</td></tr>\n",
       "\t<tr><th scope=row>10</th><td>48</td><td>NA</td><td>NA</td><td>NA</td><td>NA</td></tr>\n",
       "\t<tr><th scope=row>11</th><td>43</td><td>0</td><td>NA</td><td>NA</td><td>0</td></tr>\n",
       "\t<tr><th scope=row>12</th><td>50</td><td>NA</td><td>NA</td><td>NA</td><td>NA</td></tr>\n",
       "</tbody>\n",
       "</table>\n"
      ],
      "text/latex": [
       "\\begin{tabular}{r|lllll}\n",
       "  & rowid & malAML & malMDS & malAMLOrMDS & malAMLOrMDSTotal\\\\\n",
       "\\hline\n",
       "\t1 & 66 & 4 & NA & NA & 4\\\\\n",
       "\t2 & 60 & 11 & 4 & NA & 15\\\\\n",
       "\t3 & 27 & NA & NA & NA & NA\\\\\n",
       "\t4 & 67 & NA & NA & NA & NA\\\\\n",
       "\t5 & 70 & NA & NA & NA & NA\\\\\n",
       "\t6 & 22 & NA & NA & NA & NA\\\\\n",
       "\t7 & 26 & NA & NA & 7 & 7\\\\\n",
       "\t8 & 36 & NA & NA & 6 & 6\\\\\n",
       "\t9 & 71 & 1 & NA & NA & 1\\\\\n",
       "\t10 & 48 & NA & NA & NA & NA\\\\\n",
       "\t11 & 43 & 0 & NA & NA & 0\\\\\n",
       "\t12 & 50 & NA & NA & NA & NA\\\\\n",
       "\\end{tabular}\n"
      ],
      "text/plain": [
       "    rowid malAML malMDS malAMLOrMDS malAMLOrMDSTotal\n",
       " 1:    66      4     NA          NA                4\n",
       " 2:    60     11      4          NA               15\n",
       " 3:    27     NA     NA          NA               NA\n",
       " 4:    67     NA     NA          NA               NA\n",
       " 5:    70     NA     NA          NA               NA\n",
       " 6:    22     NA     NA          NA               NA\n",
       " 7:    26     NA     NA           7                7\n",
       " 8:    36     NA     NA           6                6\n",
       " 9:    71      1     NA          NA                1\n",
       "10:    48     NA     NA          NA               NA\n",
       "11:    43      0     NA          NA                0\n",
       "12:    50     NA     NA          NA               NA"
      ]
     },
     "execution_count": 9,
     "metadata": {},
     "output_type": "execute_result"
    }
   ],
   "source": [
    "s <- sample(D[, rowid], 12)\n",
    "malAMLOrMDSTotal <- rowSums(D[, .(malAML, malMDS, malAMLOrMDS)], na.rm=TRUE)\n",
    "D <- D[, malAMLOrMDSTotal := malAMLOrMDSTotal]\n",
    "D <- D[is.na(malAML) & is.na(malMDS) & is.na(malAMLOrMDS), malAMLOrMDSTotal := NA]\n",
    "D[s, .(rowid, malAML, malMDS, malAMLOrMDS, malAMLOrMDSTotal)]"
   ]
  },
  {
   "cell_type": "markdown",
   "metadata": {},
   "source": [
    "Remove text from `nITT` column."
   ]
  },
  {
   "cell_type": "code",
   "execution_count": 10,
   "metadata": {
    "collapsed": true
   },
   "outputs": [],
   "source": [
    "D <- D[authorYear == \"Misset (1996)\" & arm == 2, nITT := \"137\"]\n",
    "D <- D[authorYear == \"Fumoleu (2003)\" & arm == 1, nITT := \"210\"]\n",
    "D <- D[authorYear == \"Fumoleu (2003)\" & arm == 2, nITT := \"197\"]\n",
    "D <- D[authorYear == \"Fumoleu (2003)\" & arm == 3, nITT := \"195\"]\n",
    "D <- D[, nITT := as.integer(nITT)]"
   ]
  },
  {
   "cell_type": "markdown",
   "metadata": {},
   "source": [
    "Clean up the `regimen` and `dose` columns.\n",
    "Output to [regimens.md](regimens.md) for checking."
   ]
  },
  {
   "cell_type": "code",
   "execution_count": 11,
   "metadata": {
    "collapsed": false,
    "scrolled": false
   },
   "outputs": [
    {
     "data": {
      "text/html": [
       "<table>\n",
       "<thead><tr><th></th><th scope=col>size</th><th scope=col>isdir</th><th scope=col>mode</th><th scope=col>mtime</th><th scope=col>ctime</th><th scope=col>atime</th><th scope=col>exe</th></tr></thead>\n",
       "<tbody>\n",
       "\t<tr><th scope=row>regimens.md</th><td>2221</td><td>FALSE</td><td>666</td><td>2016-06-08 13:08:44</td><td>2016-04-22 12:50:02</td><td>2016-06-03 09:03:42</td><td>no</td></tr>\n",
       "</tbody>\n",
       "</table>\n"
      ],
      "text/latex": [
       "\\begin{tabular}{r|lllllll}\n",
       "  & size & isdir & mode & mtime & ctime & atime & exe\\\\\n",
       "\\hline\n",
       "\tregimens.md & 2221 & FALSE & 666 & 2016-06-08 13:08:44 & 2016-04-22 12:50:02 & 2016-06-03 09:03:42 & no\\\\\n",
       "\\end{tabular}\n"
      ],
      "text/plain": [
       "            size isdir mode               mtime               ctime\n",
       "regimens.md 2221 FALSE  666 2016-06-08 13:08:44 2016-04-22 12:50:02\n",
       "                          atime exe\n",
       "regimens.md 2016-06-03 09:03:42  no"
      ]
     },
     "execution_count": 11,
     "metadata": {},
     "output_type": "execute_result"
    }
   ],
   "source": [
    "D <- D[, regimen := gsub(\"\\\\s$\", \"\", regimen)]\n",
    "D <- D[, regimen := gsub(\"\\\\r\\\\n\", \" \", regimen)]\n",
    "doseVar <- grep(\"dose\", names(D), ignore.case = TRUE, value = TRUE)\n",
    "for (i in 1:length(doseVar)) {\n",
    "    D <- D[, doseVar[i] := gsub(\"\\\\r\\\\n\", \" \", get(doseVar[i]))]\n",
    "}\n",
    "write.table(D[, .N, c(\"regimen\", doseVar), with = TRUE][order(regimen)],\n",
    "            file = \"regimens.md\",\n",
    "            sep = \" | \", quote = FALSE,\n",
    "            row.names = FALSE)\n",
    "file.info(\"regimens.md\")"
   ]
  },
  {
   "cell_type": "markdown",
   "metadata": {},
   "source": [
    "Calculate cumulative dose: $\\text{total dose} \\times \\text{number of courses}$."
   ]
  },
  {
   "cell_type": "code",
   "execution_count": 12,
   "metadata": {
    "collapsed": false
   },
   "outputs": [
    {
     "name": "stderr",
     "output_type": "stream",
     "text": [
      "Warning message:\n",
      "In eval(expr, envir, enclos): NAs introduced by coercionWarning message:\n",
      "In eval(expr, envir, enclos): NAs introduced by coercionWarning message:\n",
      "In eval(expr, envir, enclos): NAs introduced by coercionWarning message:\n",
      "In eval(expr, envir, enclos): NAs introduced by coercion"
     ]
    }
   ],
   "source": [
    "D <- D[, anthracyclineTotalDose := as.numeric(anthracyclineTotalDose)]\n",
    "D <- D[authorYear == \"Bergh (2000)\" & regimen == \"FEC\\nTailored\", anthracyclineTotalDose := 75]\n",
    "D <- D[authorYear == \"Henderson (2003)\", anthracyclineTotalDose := 75]\n",
    "D <- D[authorYear == \"Colleoni (2009)\" & regimen == \"AC-CMF\", anthracyclineTotalDose := 75]\n",
    "D <- D[, cyclophosphamideDose := as.numeric(cyclophosphamideDose)]\n",
    "D <- D[authorYear == \"Bergh (2000)\" & regimen == \"FEC\\nTailored\", cyclophosphamideDose := 900]\n",
    "D <- D[authorYear == \"Henderson (2003)\", anthracyclineTotalDose := 75]\n",
    "D <- D[, taxaneCourses := as.numeric(taxaneCourses)]\n",
    "D <- D[authorYear == \"Shulman (2014)\" & regimen == \"T\" & arm == 3, taxaneCourses := 4]\n",
    "D <- D[authorYear == \"Shulman (2014)\" & regimen == \"T\" & arm == 4, taxaneCourses := 6]\n",
    "D <- D[, fluoroucilTotalDose := as.numeric(fluoroucilTotalDose)]\n",
    "D <- D[authorYear == \"Bergh (2000)\" & regimen == \"FEC\\nTailored\", fluoroucilTotalDose := 600]\n",
    "D <- D[authorYear == \"Joensuu (2012)\" & regimen == \"TX-CEX\", fluoroucilTotalDose := NA]\n",
    "D <- D[,\n",
    "       `:=` (anthracyclineCumulDose = anthracyclineTotalDose * anthracyclineCourses,\n",
    "             cyclophosphamideCumulDose = cyclophosphamideDose * cyclophosphamideCourses,\n",
    "             taxaneCumulDose = as.numeric(taxaneTotalDose) * taxaneCourses,\n",
    "             fluoroucilCumulDose = fluoroucilTotalDose * fluoroucilCourses)]"
   ]
  },
  {
   "cell_type": "markdown",
   "metadata": {},
   "source": [
    "Check."
   ]
  },
  {
   "cell_type": "code",
   "execution_count": 13,
   "metadata": {
    "collapsed": false,
    "scrolled": false
   },
   "outputs": [
    {
     "data": {
      "text/html": [
       "<table>\n",
       "<thead><tr><th></th><th scope=col>authorYear</th><th scope=col>regimen</th><th scope=col>anthracyclineCumulDose</th><th scope=col>anthracyclineTotalDose</th><th scope=col>anthracyclineCourses</th></tr></thead>\n",
       "<tbody>\n",
       "\t<tr><th scope=row>1</th><td>Fisher (1990)</td><td>AC</td><td>240</td><td>60</td><td>4</td></tr>\n",
       "\t<tr><th scope=row>2</th><td>Fisher (1990)</td><td>AC-CMF</td><td>240</td><td>60</td><td>4</td></tr>\n",
       "\t<tr><th scope=row>3</th><td>Misset (1996)</td><td>AVCF</td><td>360</td><td>30</td><td>12</td></tr>\n",
       "\t<tr><th scope=row>4</th><td>Fisher (1999)</td><td>AC</td><td>240</td><td>60</td><td>4</td></tr>\n",
       "\t<tr><th scope=row>5</th><td>Fisher (1999)</td><td>AC</td><td>240</td><td>60</td><td>4</td></tr>\n",
       "\t<tr><th scope=row>6</th><td>Fisher (1999)</td><td>AC</td><td>240</td><td>60</td><td>4</td></tr>\n",
       "</tbody>\n",
       "</table>\n"
      ],
      "text/latex": [
       "\\begin{tabular}{r|lllll}\n",
       "  & authorYear & regimen & anthracyclineCumulDose & anthracyclineTotalDose & anthracyclineCourses\\\\\n",
       "\\hline\n",
       "\t1 & Fisher (1990) & AC & 240 & 60 & 4\\\\\n",
       "\t2 & Fisher (1990) & AC-CMF & 240 & 60 & 4\\\\\n",
       "\t3 & Misset (1996) & AVCF & 360 & 30 & 12\\\\\n",
       "\t4 & Fisher (1999) & AC & 240 & 60 & 4\\\\\n",
       "\t5 & Fisher (1999) & AC & 240 & 60 & 4\\\\\n",
       "\t6 & Fisher (1999) & AC & 240 & 60 & 4\\\\\n",
       "\\end{tabular}\n"
      ],
      "text/plain": [
       "      authorYear regimen anthracyclineCumulDose anthracyclineTotalDose\n",
       "1: Fisher (1990)      AC                    240                     60\n",
       "2: Fisher (1990)  AC-CMF                    240                     60\n",
       "3: Misset (1996)    AVCF                    360                     30\n",
       "4: Fisher (1999)      AC                    240                     60\n",
       "5: Fisher (1999)      AC                    240                     60\n",
       "6: Fisher (1999)      AC                    240                     60\n",
       "   anthracyclineCourses\n",
       "1:                    4\n",
       "2:                    4\n",
       "3:                   12\n",
       "4:                    4\n",
       "5:                    4\n",
       "6:                    4"
      ]
     },
     "execution_count": 13,
     "metadata": {},
     "output_type": "execute_result"
    },
    {
     "data": {
      "text/html": [
       "<table>\n",
       "<thead><tr><th></th><th scope=col>authorYear</th><th scope=col>regimen</th><th scope=col>cyclophosphamideCumulDose</th><th scope=col>cyclophosphamideDose</th><th scope=col>cyclophosphamideCourses</th></tr></thead>\n",
       "<tbody>\n",
       "\t<tr><th scope=row>1</th><td>Fisher (1990)</td><td>AC</td><td>2400</td><td>600</td><td>4</td></tr>\n",
       "\t<tr><th scope=row>2</th><td>Fisher (1990)</td><td>AC-CMF</td><td>2400</td><td>600</td><td>4</td></tr>\n",
       "\t<tr><th scope=row>3</th><td>Misset (1996)</td><td>AVCF</td><td>14400</td><td>1200</td><td>12</td></tr>\n",
       "\t<tr><th scope=row>4</th><td>Fisher (1999)</td><td>AC</td><td>4800</td><td>1200</td><td>4</td></tr>\n",
       "\t<tr><th scope=row>5</th><td>Fisher (1999)</td><td>AC</td><td>4800</td><td>2400</td><td>2</td></tr>\n",
       "\t<tr><th scope=row>6</th><td>Fisher (1999)</td><td>AC</td><td>9600</td><td>2400</td><td>4</td></tr>\n",
       "</tbody>\n",
       "</table>\n"
      ],
      "text/latex": [
       "\\begin{tabular}{r|lllll}\n",
       "  & authorYear & regimen & cyclophosphamideCumulDose & cyclophosphamideDose & cyclophosphamideCourses\\\\\n",
       "\\hline\n",
       "\t1 & Fisher (1990) & AC & 2400 & 600 & 4\\\\\n",
       "\t2 & Fisher (1990) & AC-CMF & 2400 & 600 & 4\\\\\n",
       "\t3 & Misset (1996) & AVCF & 14400 & 1200 & 12\\\\\n",
       "\t4 & Fisher (1999) & AC & 4800 & 1200 & 4\\\\\n",
       "\t5 & Fisher (1999) & AC & 4800 & 2400 & 2\\\\\n",
       "\t6 & Fisher (1999) & AC & 9600 & 2400 & 4\\\\\n",
       "\\end{tabular}\n"
      ],
      "text/plain": [
       "      authorYear regimen cyclophosphamideCumulDose cyclophosphamideDose\n",
       "1: Fisher (1990)      AC                      2400                  600\n",
       "2: Fisher (1990)  AC-CMF                      2400                  600\n",
       "3: Misset (1996)    AVCF                     14400                 1200\n",
       "4: Fisher (1999)      AC                      4800                 1200\n",
       "5: Fisher (1999)      AC                      4800                 2400\n",
       "6: Fisher (1999)      AC                      9600                 2400\n",
       "   cyclophosphamideCourses\n",
       "1:                       4\n",
       "2:                       4\n",
       "3:                      12\n",
       "4:                       4\n",
       "5:                       2\n",
       "6:                       4"
      ]
     },
     "execution_count": 13,
     "metadata": {},
     "output_type": "execute_result"
    },
    {
     "data": {
      "text/html": [
       "<table>\n",
       "<thead><tr><th></th><th scope=col>authorYear</th><th scope=col>regimen</th><th scope=col>taxaneCumulDose</th><th scope=col>taxaneTotalDose</th><th scope=col>taxaneCourses</th></tr></thead>\n",
       "<tbody>\n",
       "\t<tr><th scope=row>1</th><td>Citron (2003)</td><td>A-T-C</td><td>700</td><td>175</td><td>4</td></tr>\n",
       "\t<tr><th scope=row>2</th><td>Citron (2003)</td><td>A-T-C</td><td>700</td><td>175</td><td>4</td></tr>\n",
       "\t<tr><th scope=row>3</th><td>Citron (2003)</td><td>AC-T</td><td>700</td><td>175</td><td>4</td></tr>\n",
       "\t<tr><th scope=row>4</th><td>Citron (2003)</td><td>AC-T</td><td>700</td><td>175</td><td>4</td></tr>\n",
       "\t<tr><th scope=row>5</th><td>Francis (2008)</td><td>A-T-CMF</td><td>300</td><td>100</td><td>3</td></tr>\n",
       "\t<tr><th scope=row>6</th><td>Francis (2008)</td><td>AT-CMF</td><td>300</td><td>75</td><td>4</td></tr>\n",
       "</tbody>\n",
       "</table>\n"
      ],
      "text/latex": [
       "\\begin{tabular}{r|lllll}\n",
       "  & authorYear & regimen & taxaneCumulDose & taxaneTotalDose & taxaneCourses\\\\\n",
       "\\hline\n",
       "\t1 & Citron (2003) & A-T-C & 700 & 175 & 4\\\\\n",
       "\t2 & Citron (2003) & A-T-C & 700 & 175 & 4\\\\\n",
       "\t3 & Citron (2003) & AC-T & 700 & 175 & 4\\\\\n",
       "\t4 & Citron (2003) & AC-T & 700 & 175 & 4\\\\\n",
       "\t5 & Francis (2008) & A-T-CMF & 300 & 100 & 3\\\\\n",
       "\t6 & Francis (2008) & AT-CMF & 300 & 75 & 4\\\\\n",
       "\\end{tabular}\n"
      ],
      "text/plain": [
       "       authorYear regimen taxaneCumulDose taxaneTotalDose taxaneCourses\n",
       "1:  Citron (2003)   A-T-C             700             175             4\n",
       "2:  Citron (2003)   A-T-C             700             175             4\n",
       "3:  Citron (2003)    AC-T             700             175             4\n",
       "4:  Citron (2003)    AC-T             700             175             4\n",
       "5: Francis (2008) A-T-CMF             300             100             3\n",
       "6: Francis (2008)  AT-CMF             300              75             4"
      ]
     },
     "execution_count": 13,
     "metadata": {},
     "output_type": "execute_result"
    },
    {
     "data": {
      "text/html": [
       "<table>\n",
       "<thead><tr><th></th><th scope=col>authorYear</th><th scope=col>regimen</th><th scope=col>fluoroucilCumulDose</th><th scope=col>fluoroucilTotalDose</th><th scope=col>fluoroucilCourses</th></tr></thead>\n",
       "<tbody>\n",
       "\t<tr><th scope=row>1</th><td>Misset (1996)</td><td>AVCF</td><td>19200</td><td>1600</td><td>12</td></tr>\n",
       "\t<tr><th scope=row>2</th><td>Bergh (2000)</td><td>FEC\n",
       "Tailored</td><td>5400</td><td>600</td><td>9</td></tr>\n",
       "\t<tr><th scope=row>3</th><td>Venturini (2005)</td><td>FEC</td><td>3600</td><td>600</td><td>6</td></tr>\n",
       "\t<tr><th scope=row>4</th><td>Venturini (2005)</td><td>FEC</td><td>3600</td><td>600</td><td>6</td></tr>\n",
       "\t<tr><th scope=row>5</th><td>Martin (2010)</td><td>FAC</td><td>3000</td><td>500</td><td>6</td></tr>\n",
       "\t<tr><th scope=row>6</th><td>Roche (2006)</td><td>FEC</td><td>3000</td><td>500</td><td>6</td></tr>\n",
       "</tbody>\n",
       "</table>\n"
      ],
      "text/latex": [
       "\\begin{tabular}{r|lllll}\n",
       "  & authorYear & regimen & fluoroucilCumulDose & fluoroucilTotalDose & fluoroucilCourses\\\\\n",
       "\\hline\n",
       "\t1 & Misset (1996) & AVCF & 19200 & 1600 & 12\\\\\n",
       "\t2 & Bergh (2000) & FEC\n",
       "Tailored & 5400 & 600 & 9\\\\\n",
       "\t3 & Venturini (2005) & FEC & 3600 & 600 & 6\\\\\n",
       "\t4 & Venturini (2005) & FEC & 3600 & 600 & 6\\\\\n",
       "\t5 & Martin (2010) & FAC & 3000 & 500 & 6\\\\\n",
       "\t6 & Roche (2006) & FEC & 3000 & 500 & 6\\\\\n",
       "\\end{tabular}\n"
      ],
      "text/plain": [
       "         authorYear       regimen fluoroucilCumulDose fluoroucilTotalDose\n",
       "1:    Misset (1996)          AVCF               19200                1600\n",
       "2:     Bergh (2000) FEC\\nTailored                5400                 600\n",
       "3: Venturini (2005)           FEC                3600                 600\n",
       "4: Venturini (2005)           FEC                3600                 600\n",
       "5:    Martin (2010)           FAC                3000                 500\n",
       "6:     Roche (2006)           FEC                3000                 500\n",
       "   fluoroucilCourses\n",
       "1:                12\n",
       "2:                 9\n",
       "3:                 6\n",
       "4:                 6\n",
       "5:                 6\n",
       "6:                 6"
      ]
     },
     "execution_count": 13,
     "metadata": {},
     "output_type": "execute_result"
    }
   ],
   "source": [
    "head(D[!is.na(anthracyclineCumulDose),\n",
    "       .(authorYear, regimen, anthracyclineCumulDose, anthracyclineTotalDose, anthracyclineCourses)])\n",
    "head(D[!is.na(cyclophosphamideCumulDose),\n",
    "       .(authorYear, regimen, cyclophosphamideCumulDose, cyclophosphamideDose, cyclophosphamideCourses)])\n",
    "head(D[!is.na(taxaneCumulDose),\n",
    "       .(authorYear, regimen, taxaneCumulDose, taxaneTotalDose, taxaneCourses)])\n",
    "head(D[!is.na(fluoroucilCumulDose),\n",
    "       .(authorYear, regimen, fluoroucilCumulDose, fluoroucilTotalDose, fluoroucilCourses)])"
   ]
  },
  {
   "cell_type": "markdown",
   "metadata": {},
   "source": [
    "## Summarize\n",
    "\n",
    "Define some functions."
   ]
  },
  {
   "cell_type": "code",
   "execution_count": 14,
   "metadata": {
    "collapsed": true
   },
   "outputs": [],
   "source": [
    "calcPct <- function (x, n) {\n",
    "  prec <- \"%.3g\"\n",
    "  sprintf(paste0(prec, \"%%\"),\n",
    "          median(x / n, na.rm = TRUE) * 100)\n",
    "}\n",
    "calcRate <- function (x, n, y) {\n",
    "  prec <- \"%.3g\"\n",
    "  py <- 10000\n",
    "  sprintf(paste(prec, \"per %s p-y\"),\n",
    "          median(x / (n * (y / 12)), na.rm=TRUE) * py,\n",
    "          py)\n",
    "}"
   ]
  },
  {
   "cell_type": "markdown",
   "metadata": {},
   "source": [
    "Summarize the regimens.\n",
    "Output to [summaryRegimens.md](summaryRegimens.md) for checking."
   ]
  },
  {
   "cell_type": "code",
   "execution_count": 15,
   "metadata": {
    "collapsed": false,
    "scrolled": false
   },
   "outputs": [
    {
     "data": {
      "text/html": [
       "<table>\n",
       "<thead><tr><th></th><th scope=col>size</th><th scope=col>isdir</th><th scope=col>mode</th><th scope=col>mtime</th><th scope=col>ctime</th><th scope=col>atime</th><th scope=col>exe</th></tr></thead>\n",
       "<tbody>\n",
       "\t<tr><th scope=row>summaryRegimens.md</th><td>2912</td><td>FALSE</td><td>666</td><td>2016-06-08 13:08:44</td><td>2016-04-22 12:50:03</td><td>2016-06-03 09:03:42</td><td>no</td></tr>\n",
       "</tbody>\n",
       "</table>\n"
      ],
      "text/latex": [
       "\\begin{tabular}{r|lllllll}\n",
       "  & size & isdir & mode & mtime & ctime & atime & exe\\\\\n",
       "\\hline\n",
       "\tsummaryRegimens.md & 2912 & FALSE & 666 & 2016-06-08 13:08:44 & 2016-04-22 12:50:03 & 2016-06-03 09:03:42 & no\\\\\n",
       "\\end{tabular}\n"
      ],
      "text/plain": [
       "                   size isdir mode               mtime               ctime\n",
       "summaryRegimens.md 2912 FALSE  666 2016-06-08 13:08:44 2016-04-22 12:50:03\n",
       "                                 atime exe\n",
       "summaryRegimens.md 2016-06-03 09:03:42  no"
      ]
     },
     "execution_count": 15,
     "metadata": {},
     "output_type": "execute_result"
    }
   ],
   "source": [
    "D <- D[,\n",
    "       `:=` (isAnthra = !is.na(anthracyclineTotalDose),\n",
    "             isCyclo = !is.na(cyclophosphamideDose),\n",
    "             isTaxane = !is.na(taxaneTotalDose),\n",
    "             isFluoro = !is.na(fluoroucilTotalDose))]\n",
    "D1 <- melt(D,\n",
    "           id.vars=c(\"id\", \"authorYear\", \"arm\",\n",
    "                     \"isAnthra\", \"anthracyclineCumulDose\",\n",
    "                     \"isCyclo\", \"cyclophosphamideCumulDose\",\n",
    "                     \"isTaxane\", \"taxaneCumulDose\",\n",
    "                     \"isFluoro\", \"fluoroucilCumulDose\",\n",
    "                     \"nITT\", \"medianFU\"),\n",
    "           measure.vars=c(\"malAML\", \"malMDS\", \"malAMLOrMDSTotal\", \"malNonBreastSolid\"),\n",
    "           value.name=\"malN\",\n",
    "           variable.name=\"malType\")\n",
    "\n",
    "D1 <- D1[, malType := gsub(\"^mal\", \"\", malType)]\n",
    "D1 <- D1[, malType := factor(malType,\n",
    "                             levels=c(\"AML\", \"MDS\", \"AMLOrMDSTotal\", \"NonBreastSolid\"),\n",
    "                             labels=c(\"AML\", \"MDS\", \"AML or MDS\", \"Non-Breast Solid\"))]\n",
    "D1 <- D1[, py := nITT * (medianFU / 12)]\n",
    "D1 <- D1[, rate := malN / py * 10000]\n",
    "summaryRegimens <- D1[,\n",
    "                      .(totalN = sum(nITT, na.rm = TRUE),\n",
    "                        totalPersonYears = round(sum(py, na.rm = TRUE)),\n",
    "                        totalMalignancies = sum(malN, na.rm = TRUE),\n",
    "                        medianPct = calcPct(malN, nITT),\n",
    "                        medianRate = calcRate(malN, nITT, medianFU)),\n",
    "                      .(isAnthra,\n",
    "                        isCyclo,\n",
    "                        isTaxane,\n",
    "                        isFluoro,\n",
    "                        malType)]\n",
    "summaryRegimens <- summaryRegimens[order(-isAnthra, -isCyclo, -isTaxane, -isFluoro, malType)]\n",
    "write.table(summaryRegimens,\n",
    "            file = \"summaryRegimens.md\",\n",
    "            sep = \" | \", quote = FALSE,\n",
    "            row.names = FALSE)\n",
    "file.info(\"summaryRegimens.md\")"
   ]
  },
  {
   "cell_type": "markdown",
   "metadata": {},
   "source": [
    "## Meta-regression\n",
    "\n",
    "Estimate meta-regression models for log transformed incidence rate.\n",
    "\n",
    "Define meta-regression functions."
   ]
  },
  {
   "cell_type": "code",
   "execution_count": 16,
   "metadata": {
    "collapsed": true
   },
   "outputs": [],
   "source": [
    "pvalToChar <- function (p) {\n",
    "  if (p < 0.001) {\n",
    "    pvalue <- \"p < 0.001\"\n",
    "  } else {\n",
    "    pvalue <- sprintf(\"p = %.03f\", p)\n",
    "  }\n",
    "  pvalue\n",
    "}\n",
    "metareg <- function (D) {\n",
    "  require(metafor)\n",
    "  D <- D[!(is.na(x) | is.na(rate) | is.na(nITT) | is.na(malType))]\n",
    "  MLin <- rma.glmm(xi = malN, ti = py, mods = x, measure=\"IRLN\", data=D)\n",
    "  MBin <- rma.glmm(xi = malN, ti = py, mods = xHighDose, measure=\"IRLN\", data=D)\n",
    "  pvalueLin <- MLin$pval[which(row.names(MLin$b) == \"mods\")]\n",
    "  pvalueBin <- MBin$pval[which(row.names(MBin$b) == \"mods\")]\n",
    "  list(rma.glmmLin = MLin,\n",
    "       rma.glmmBin = MBin,\n",
    "       pvalueLin = pvalToChar(pvalueLin),\n",
    "       pvalueBin = pvalToChar(pvalueBin))\n",
    "}\n",
    "plotreg <- function (D, xlab, xbreaks, text, yhat) {\n",
    "  require(ggplot2)\n",
    "  require(tools)\n",
    "  D <- D[!(is.na(x) | is.na(rate) | is.na(nITT) | is.na(malType))]\n",
    "  D <- D[malType %in% c(\"AML or MDS\", \"Non-Breast Solid\")]\n",
    "  D <- D[, malType := droplevels(malType)]\n",
    "  steps <- merge(D[, .(min = min(x), max = max(x)), .(malType, xHighDose)],\n",
    "                 yhat,\n",
    "                 by=c(\"malType\", \"xHighDose\"))\n",
    "  steps <- melt(steps, id.vars=c(\"malType\", \"xHighDose\", \"yhat\"), measure.vars=c(\"min\", \"max\"), value.name=\"x\")\n",
    "  annoLin <- data.frame(x=Inf, y=1.0, label=text[c(1,3)], malType=levels(D[, malType]))\n",
    "  annoBin <- data.frame(x=Inf, y=1.5, label=text[c(2,4)], malType=levels(D[, malType]))\n",
    "  G <- ggplot(D, aes(x=x, y=rate + 1/2, size=nITT / min(nITT, na.rm=TRUE), group=malType))\n",
    "  G <- G + geom_point(alpha=1/2)\n",
    "  G <- G + geom_smooth(method=\"lm\", se=FALSE, linetype=\"dotted\")\n",
    "  G <- G + geom_step(data=steps, aes(x=x, y=yhat, group=malType), inherit.aes=FALSE, color=\"red\")\n",
    "  G <- G + geom_text(data=annoLin,\n",
    "                     aes(x, y, label=label, group=malType), inherit.aes=FALSE, hjust=1, color=\"blue\")\n",
    "  G <- G + geom_text(data=annoBin,\n",
    "                     aes(x, y, label=label, group=malType), inherit.aes=FALSE, hjust=1, color=\"red\")\n",
    "  G <- G + scale_x_log10(xlab, breaks=xbreaks)\n",
    "  G <- G + scale_y_log10(\"Rate per 10,000 person-years\")\n",
    "  G <- G + facet_wrap(~ malType, nrow=2, ncol=1)\n",
    "  G <- G + theme_bw()\n",
    "  G <- G + theme(legend.position=\"none\")\n",
    "  filename <- gsub(\"\\\\s+\", \"\", toTitleCase(xlab))\n",
    "  ggsave(filename=sprintf(\"%s.png\", filename))\n",
    "  write.csv(D, file=sprintf(\"%s.csv\", filename), row.names=FALSE)\n",
    "  show(file.info(c(sprintf(\"%s.png\", filename), sprintf(\"%s.csv\", filename)))[c(\"size\", \"mtime\")])\n",
    "  G\n",
    "}\n",
    "invLogit <- function (x) {\n",
    "  exp(x) / (1 + exp(x))\n",
    "}"
   ]
  },
  {
   "cell_type": "markdown",
   "metadata": {},
   "source": [
    "### Cyclophosphamide\n",
    "\n",
    "Dichotomoize cumulative dose\n",
    "\n",
    "* $\\lt 2400$\n",
    "* $\\ge 2400$"
   ]
  },
  {
   "cell_type": "code",
   "execution_count": 17,
   "metadata": {
    "collapsed": false
   },
   "outputs": [
    {
     "name": "stderr",
     "output_type": "stream",
     "text": [
      "Loading required package: Matrix\n",
      "Loading 'metafor' package (version 1.9-8). For an overview \n",
      "and introduction to the package please type: help(metafor).\n",
      "Loading required package: ggplot2\n",
      "Loading required package: tools\n",
      "Saving 7 x 7 in image\n"
     ]
    },
    {
     "name": "stdout",
     "output_type": "stream",
     "text": [
      "                                    size               mtime\n",
      "CyclophosphamideCumulativeDose.png 57857 2016-06-08 13:08:48\n",
      "CyclophosphamideCumulativeDose.csv  7241 2016-06-08 13:08:48\n"
     ]
    },
    {
     "data": {
      "image/png": "[encoded data removed]",
      "image/svg+xml": [
       "<?xml version=\"1.0\" encoding=\"UTF-8\"?>\n",
       "<svg xmlns=\"http://www.w3.org/2000/svg\" xmlns:xlink=\"http://www.w3.org/1999/xlink\" width=\"504pt\" height=\"504pt\" viewBox=\"0 0 504 504\" version=\"1.1\">\n",
       "<defs>\n",
       "<g>\n",
       "<symbol overflow=\"visible\" id=\"glyph0-0\">\n",
       "<path style=\"stroke:none;\" d=\"M 0.933594 2.816406 L 0.933594 -7.347656 L 2.070313 -7.347656 L 2.070313 -6.394531 C 2.332031 -6.765625 2.632813 -7.046875 2.972656 -7.234375 C 3.308594 -7.417969 3.71875 -7.511719 4.199219 -7.515625 C 4.824219 -7.511719 5.378906 -7.351563 5.859375 -7.03125 C 6.339844 -6.707031 6.703125 -6.25 6.949219 -5.664063 C 7.191406 -5.074219 7.3125 -4.429688 7.316406 -3.730469 C 7.3125 -2.976563 7.175781 -2.300781 6.910156 -1.699219 C 6.636719 -1.097656 6.246094 -0.632813 5.730469 -0.3125 C 5.214844 0.0078125 4.671875 0.164063 4.109375 0.167969 C 3.691406 0.164063 3.320313 0.078125 2.992188 -0.09375 C 2.660156 -0.269531 2.390625 -0.492188 2.179688 -0.761719 L 2.179688 2.816406 Z M 2.0625 -3.632813 C 2.0625 -2.6875 2.253906 -1.988281 2.636719 -1.535156 C 3.019531 -1.082031 3.480469 -0.855469 4.027344 -0.859375 C 4.578125 -0.855469 5.054688 -1.089844 5.449219 -1.558594 C 5.84375 -2.027344 6.039063 -2.753906 6.042969 -3.738281 C 6.039063 -4.671875 5.847656 -5.371094 5.464844 -5.839844 C 5.078125 -6.304688 4.617188 -6.539063 4.082031 -6.539063 C 3.550781 -6.539063 3.082031 -6.289063 2.675781 -5.792969 C 2.265625 -5.296875 2.0625 -4.578125 2.0625 -3.632813 Z M 2.0625 -3.632813 \"/>\n",
       "</symbol>\n",
       "<symbol overflow=\"visible\" id=\"glyph0-1\">\n",
       "<path style=\"stroke:none;\" d=\"\"/>\n",
       "</symbol>\n",
       "<symbol overflow=\"visible\" id=\"glyph0-2\">\n",
       "<path style=\"stroke:none;\" d=\"M 0.773438 -4.4375 L 0.773438 -5.597656 L 7.496094 -8.4375 L 7.496094 -7.199219 L 2.167969 -5.011719 L 7.496094 -2.804688 L 7.496094 -1.5625 Z M 0.773438 -4.4375 \"/>\n",
       "</symbol>\n",
       "<symbol overflow=\"visible\" id=\"glyph0-3\">\n",
       "<path style=\"stroke:none;\" d=\"M 0.589844 -5.003906 C 0.585938 -6.203125 0.707031 -7.167969 0.957031 -7.898438 C 1.199219 -8.628906 1.566406 -9.191406 2.058594 -9.589844 C 2.542969 -9.984375 3.15625 -10.183594 3.894531 -10.1875 C 4.4375 -10.183594 4.914063 -10.074219 5.328125 -9.859375 C 5.734375 -9.636719 6.074219 -9.320313 6.34375 -8.910156 C 6.609375 -8.492188 6.820313 -7.988281 6.972656 -7.398438 C 7.125 -6.804688 7.199219 -6.007813 7.203125 -5.003906 C 7.199219 -3.8125 7.078125 -2.851563 6.835938 -2.121094 C 6.589844 -1.386719 6.222656 -0.820313 5.738281 -0.425781 C 5.25 -0.0273438 4.636719 0.167969 3.894531 0.171875 C 2.914063 0.167969 2.144531 -0.179688 1.589844 -0.878906 C 0.917969 -1.722656 0.585938 -3.097656 0.589844 -5.003906 Z M 1.867188 -5.003906 C 1.863281 -3.335938 2.058594 -2.226563 2.453125 -1.675781 C 2.839844 -1.125 3.320313 -0.847656 3.894531 -0.851563 C 4.464844 -0.847656 4.945313 -1.125 5.339844 -1.679688 C 5.726563 -2.230469 5.921875 -3.339844 5.925781 -5.003906 C 5.921875 -6.671875 5.726563 -7.78125 5.339844 -8.332031 C 4.945313 -8.878906 4.460938 -9.152344 3.882813 -9.15625 C 3.308594 -9.152344 2.851563 -8.910156 2.511719 -8.429688 C 2.078125 -7.808594 1.863281 -6.667969 1.867188 -5.003906 Z M 1.867188 -5.003906 \"/>\n",
       "</symbol>\n",
       "<symbol overflow=\"visible\" id=\"glyph0-4\">\n",
       "<path style=\"stroke:none;\" d=\"M 1.289063 0 L 1.289063 -1.417969 L 2.707031 -1.417969 L 2.707031 0 Z M 1.289063 0 \"/>\n",
       "</symbol>\n",
       "<symbol overflow=\"visible\" id=\"glyph0-5\">\n",
       "<path style=\"stroke:none;\" d=\"M 5.28125 0 L 4.035156 0 L 4.035156 -7.9375 C 3.734375 -7.648438 3.339844 -7.363281 2.855469 -7.078125 C 2.363281 -6.792969 1.925781 -6.578125 1.542969 -6.4375 L 1.542969 -7.640625 C 2.238281 -7.96875 2.847656 -8.363281 3.371094 -8.832031 C 3.886719 -9.292969 4.257813 -9.746094 4.476563 -10.1875 L 5.28125 -10.1875 Z M 5.28125 0 \"/>\n",
       "</symbol>\n",
       "<symbol overflow=\"visible\" id=\"glyph0-6\">\n",
       "<path style=\"stroke:none;\" d=\"M 7.488281 -5.964844 L 0.789063 -5.964844 L 0.789063 -7.128906 L 7.488281 -7.128906 Z M 7.488281 -2.886719 L 0.789063 -2.886719 L 0.789063 -4.046875 L 7.488281 -4.046875 Z M 7.488281 -2.886719 \"/>\n",
       "</symbol>\n",
       "<symbol overflow=\"visible\" id=\"glyph0-7\">\n",
       "<path style=\"stroke:none;\" d=\"M 7.136719 -1.195313 L 7.136719 0 L 0.429688 0 C 0.414063 -0.296875 0.464844 -0.582031 0.574219 -0.863281 C 0.746094 -1.316406 1.019531 -1.769531 1.394531 -2.214844 C 1.769531 -2.65625 2.3125 -3.167969 3.023438 -3.75 C 4.125 -4.652344 4.867188 -5.367188 5.257813 -5.898438 C 5.640625 -6.425781 5.835938 -6.925781 5.839844 -7.398438 C 5.835938 -7.886719 5.660156 -8.300781 5.308594 -8.644531 C 4.957031 -8.980469 4.496094 -9.152344 3.929688 -9.15625 C 3.328125 -9.152344 2.847656 -8.972656 2.492188 -8.617188 C 2.128906 -8.253906 1.949219 -7.753906 1.945313 -7.121094 L 0.664063 -7.253906 C 0.75 -8.207031 1.082031 -8.933594 1.652344 -9.433594 C 2.222656 -9.933594 2.988281 -10.183594 3.957031 -10.1875 C 4.925781 -10.183594 5.699219 -9.914063 6.269531 -9.375 C 6.835938 -8.835938 7.117188 -8.167969 7.121094 -7.371094 C 7.117188 -6.964844 7.035156 -6.5625 6.871094 -6.171875 C 6.703125 -5.777344 6.425781 -5.367188 6.042969 -4.933594 C 5.65625 -4.5 5.019531 -3.902344 4.125 -3.148438 C 3.375 -2.515625 2.894531 -2.089844 2.683594 -1.871094 C 2.472656 -1.644531 2.296875 -1.421875 2.160156 -1.195313 Z M 7.136719 -1.195313 \"/>\n",
       "</symbol>\n",
       "<symbol overflow=\"visible\" id=\"glyph0-8\">\n",
       "<path style=\"stroke:none;\" d=\"M 0.59375 -2.679688 L 1.839844 -2.84375 C 1.980469 -2.132813 2.222656 -1.625 2.570313 -1.316406 C 2.910156 -1.003906 3.328125 -0.847656 3.828125 -0.851563 C 4.410156 -0.847656 4.90625 -1.050781 5.3125 -1.460938 C 5.714844 -1.863281 5.917969 -2.367188 5.917969 -2.96875 C 5.917969 -3.539063 5.730469 -4.011719 5.355469 -4.382813 C 4.980469 -4.753906 4.503906 -4.9375 3.929688 -4.941406 C 3.691406 -4.9375 3.398438 -4.894531 3.050781 -4.804688 L 3.191406 -5.894531 C 3.273438 -5.886719 3.339844 -5.882813 3.390625 -5.882813 C 3.917969 -5.882813 4.394531 -6.019531 4.824219 -6.296875 C 5.246094 -6.574219 5.460938 -7 5.460938 -7.578125 C 5.460938 -8.03125 5.304688 -8.410156 4.996094 -8.710938 C 4.683594 -9.011719 4.285156 -9.164063 3.800781 -9.164063 C 3.3125 -9.164063 2.910156 -9.011719 2.589844 -8.707031 C 2.265625 -8.402344 2.054688 -7.945313 1.964844 -7.335938 L 0.71875 -7.558594 C 0.871094 -8.390625 1.21875 -9.035156 1.757813 -9.496094 C 2.296875 -9.953125 2.96875 -10.183594 3.773438 -10.1875 C 4.324219 -10.183594 4.832031 -10.0625 5.300781 -9.828125 C 5.765625 -9.585938 6.121094 -9.261719 6.371094 -8.855469 C 6.613281 -8.441406 6.738281 -8.007813 6.742188 -7.550781 C 6.738281 -7.109375 6.621094 -6.710938 6.386719 -6.351563 C 6.152344 -5.992188 5.804688 -5.707031 5.34375 -5.496094 C 5.941406 -5.355469 6.40625 -5.066406 6.738281 -4.632813 C 7.070313 -4.195313 7.234375 -3.648438 7.238281 -2.996094 C 7.234375 -2.105469 6.914063 -1.355469 6.269531 -0.742188 C 5.621094 -0.128906 4.804688 0.175781 3.820313 0.179688 C 2.929688 0.175781 2.1875 -0.0859375 1.601563 -0.613281 C 1.007813 -1.140625 0.671875 -1.828125 0.59375 -2.679688 Z M 0.59375 -2.679688 \"/>\n",
       "</symbol>\n",
       "<symbol overflow=\"visible\" id=\"glyph0-9\">\n",
       "<path style=\"stroke:none;\" d=\"M 4.582031 0 L 4.582031 -2.429688 L 0.179688 -2.429688 L 0.179688 -3.570313 L 4.808594 -10.144531 L 5.828125 -10.144531 L 5.828125 -3.570313 L 7.199219 -3.570313 L 7.199219 -2.429688 L 5.828125 -2.429688 L 5.828125 0 Z M 4.582031 -3.570313 L 4.582031 -8.144531 L 1.40625 -3.570313 Z M 4.582031 -3.570313 \"/>\n",
       "</symbol>\n",
       "<symbol overflow=\"visible\" id=\"glyph0-10\">\n",
       "<path style=\"stroke:none;\" d=\"M 0.589844 -2.65625 L 1.894531 -2.769531 C 1.988281 -2.128906 2.214844 -1.648438 2.570313 -1.332031 C 2.921875 -1.007813 3.347656 -0.847656 3.847656 -0.851563 C 4.445313 -0.847656 4.953125 -1.074219 5.367188 -1.527344 C 5.78125 -1.976563 5.988281 -2.578125 5.992188 -3.328125 C 5.988281 -4.039063 5.789063 -4.597656 5.394531 -5.007813 C 4.992188 -5.417969 4.46875 -5.625 3.828125 -5.625 C 3.421875 -5.625 3.0625 -5.53125 2.742188 -5.351563 C 2.417969 -5.164063 2.164063 -4.929688 1.980469 -4.644531 L 0.808594 -4.796875 L 1.792969 -10.007813 L 6.835938 -10.007813 L 6.835938 -8.816406 L 2.789063 -8.816406 L 2.242188 -6.089844 C 2.847656 -6.511719 3.488281 -6.726563 4.160156 -6.726563 C 5.042969 -6.726563 5.789063 -6.417969 6.402344 -5.804688 C 7.007813 -5.191406 7.3125 -4.402344 7.316406 -3.441406 C 7.3125 -2.519531 7.042969 -1.726563 6.511719 -1.058594 C 5.855469 -0.238281 4.96875 0.167969 3.847656 0.171875 C 2.921875 0.167969 2.167969 -0.0859375 1.585938 -0.601563 C 1 -1.117188 0.667969 -1.800781 0.589844 -2.65625 Z M 0.589844 -2.65625 \"/>\n",
       "</symbol>\n",
       "<symbol overflow=\"visible\" id=\"glyph1-0\">\n",
       "<path style=\"stroke:none;\" d=\"M -0.015625 0 L 2.625 -6.871094 L 3.605469 -6.871094 L 6.417969 0 L 5.382813 0 L 4.578125 -2.082031 L 1.707031 -2.082031 L 0.953125 0 Z M 1.96875 -2.820313 L 4.296875 -2.820313 L 3.582031 -4.726563 C 3.359375 -5.300781 3.199219 -5.773438 3.09375 -6.148438 C 3.003906 -5.703125 2.878906 -5.265625 2.722656 -4.835938 Z M 1.96875 -2.820313 \"/>\n",
       "</symbol>\n",
       "<symbol overflow=\"visible\" id=\"glyph1-1\">\n",
       "<path style=\"stroke:none;\" d=\"M 0.710938 0 L 0.710938 -6.871094 L 2.082031 -6.871094 L 3.707031 -2.007813 C 3.855469 -1.550781 3.964844 -1.210938 4.035156 -0.988281 C 4.109375 -1.234375 4.230469 -1.601563 4.402344 -2.089844 L 6.046875 -6.871094 L 7.269531 -6.871094 L 7.269531 0 L 6.394531 0 L 6.394531 -5.75 L 4.398438 0 L 3.578125 0 L 1.589844 -5.851563 L 1.589844 0 Z M 0.710938 0 \"/>\n",
       "</symbol>\n",
       "<symbol overflow=\"visible\" id=\"glyph1-2\">\n",
       "<path style=\"stroke:none;\" d=\"M 0.703125 0 L 0.703125 -6.871094 L 1.613281 -6.871094 L 1.613281 -0.8125 L 4.996094 -0.8125 L 4.996094 0 Z M 0.703125 0 \"/>\n",
       "</symbol>\n",
       "<symbol overflow=\"visible\" id=\"glyph1-3\">\n",
       "<path style=\"stroke:none;\" d=\"\"/>\n",
       "</symbol>\n",
       "<symbol overflow=\"visible\" id=\"glyph1-4\">\n",
       "<path style=\"stroke:none;\" d=\"M 0.320313 -2.488281 C 0.316406 -3.40625 0.570313 -4.089844 1.085938 -4.539063 C 1.511719 -4.902344 2.035156 -5.085938 2.652344 -5.089844 C 3.335938 -5.085938 3.894531 -4.863281 4.332031 -4.417969 C 4.761719 -3.96875 4.980469 -3.347656 4.984375 -2.558594 C 4.980469 -1.914063 4.882813 -1.410156 4.695313 -1.046875 C 4.5 -0.675781 4.222656 -0.390625 3.855469 -0.191406 C 3.488281 0.0117188 3.085938 0.109375 2.652344 0.113281 C 1.953125 0.109375 1.390625 -0.109375 0.964844 -0.554688 C 0.53125 -1 0.316406 -1.644531 0.320313 -2.488281 Z M 1.1875 -2.488281 C 1.183594 -1.847656 1.320313 -1.371094 1.601563 -1.054688 C 1.875 -0.738281 2.226563 -0.578125 2.652344 -0.582031 C 3.070313 -0.578125 3.417969 -0.738281 3.699219 -1.058594 C 3.972656 -1.375 4.113281 -1.859375 4.117188 -2.515625 C 4.113281 -3.128906 3.972656 -3.597656 3.695313 -3.914063 C 3.414063 -4.230469 3.066406 -4.386719 2.652344 -4.390625 C 2.226563 -4.386719 1.875 -4.230469 1.601563 -3.917969 C 1.320313 -3.601563 1.183594 -3.125 1.1875 -2.488281 Z M 1.1875 -2.488281 \"/>\n",
       "</symbol>\n",
       "<symbol overflow=\"visible\" id=\"glyph1-5\">\n",
       "<path style=\"stroke:none;\" d=\"M 0.625 0 L 0.625 -4.976563 L 1.382813 -4.976563 L 1.382813 -4.222656 C 1.574219 -4.574219 1.75 -4.808594 1.917969 -4.921875 C 2.078125 -5.03125 2.261719 -5.085938 2.460938 -5.089844 C 2.742188 -5.085938 3.03125 -4.996094 3.328125 -4.820313 L 3.039063 -4.035156 C 2.828125 -4.15625 2.621094 -4.21875 2.417969 -4.21875 C 2.230469 -4.21875 2.066406 -4.160156 1.921875 -4.050781 C 1.773438 -3.9375 1.667969 -3.785156 1.609375 -3.589844 C 1.511719 -3.289063 1.464844 -2.960938 1.46875 -2.605469 L 1.46875 0 Z M 0.625 0 \"/>\n",
       "</symbol>\n",
       "<symbol overflow=\"visible\" id=\"glyph1-6\">\n",
       "<path style=\"stroke:none;\" d=\"M 0.742188 0 L 0.742188 -6.871094 L 3.109375 -6.871094 C 3.640625 -6.867188 4.046875 -6.835938 4.332031 -6.773438 C 4.722656 -6.679688 5.058594 -6.515625 5.339844 -6.28125 C 5.699219 -5.972656 5.972656 -5.578125 6.152344 -5.105469 C 6.332031 -4.625 6.421875 -4.082031 6.421875 -3.472656 C 6.421875 -2.949219 6.359375 -2.488281 6.238281 -2.085938 C 6.113281 -1.679688 5.957031 -1.34375 5.769531 -1.082031 C 5.578125 -0.816406 5.371094 -0.609375 5.144531 -0.460938 C 4.917969 -0.308594 4.644531 -0.195313 4.324219 -0.117188 C 4.003906 -0.0390625 3.632813 0 3.21875 0 Z M 1.648438 -0.8125 L 3.117188 -0.8125 C 3.570313 -0.808594 3.925781 -0.851563 4.183594 -0.9375 C 4.441406 -1.019531 4.644531 -1.136719 4.800781 -1.292969 C 5.011719 -1.507813 5.179688 -1.796875 5.304688 -2.164063 C 5.421875 -2.523438 5.484375 -2.964844 5.484375 -3.488281 C 5.484375 -4.203125 5.363281 -4.757813 5.128906 -5.144531 C 4.890625 -5.527344 4.605469 -5.785156 4.269531 -5.921875 C 4.023438 -6.011719 3.632813 -6.058594 3.09375 -6.0625 L 1.648438 -6.0625 Z M 1.648438 -0.8125 \"/>\n",
       "</symbol>\n",
       "<symbol overflow=\"visible\" id=\"glyph1-7\">\n",
       "<path style=\"stroke:none;\" d=\"M 0.429688 -2.207031 L 1.289063 -2.28125 C 1.328125 -1.933594 1.421875 -1.652344 1.574219 -1.433594 C 1.71875 -1.210938 1.949219 -1.035156 2.265625 -0.902344 C 2.574219 -0.765625 2.925781 -0.695313 3.320313 -0.699219 C 3.664063 -0.695313 3.96875 -0.746094 4.238281 -0.851563 C 4.5 -0.953125 4.699219 -1.097656 4.828125 -1.277344 C 4.957031 -1.457031 5.019531 -1.652344 5.023438 -1.867188 C 5.019531 -2.078125 4.957031 -2.265625 4.835938 -2.429688 C 4.707031 -2.589844 4.503906 -2.726563 4.21875 -2.835938 C 4.03125 -2.90625 3.621094 -3.015625 2.992188 -3.171875 C 2.359375 -3.320313 1.917969 -3.464844 1.667969 -3.601563 C 1.335938 -3.769531 1.089844 -3.980469 0.933594 -4.238281 C 0.769531 -4.488281 0.691406 -4.773438 0.695313 -5.09375 C 0.691406 -5.4375 0.789063 -5.761719 0.988281 -6.066406 C 1.183594 -6.363281 1.472656 -6.59375 1.851563 -6.753906 C 2.226563 -6.90625 2.644531 -6.984375 3.113281 -6.988281 C 3.617188 -6.984375 4.066406 -6.902344 4.457031 -6.742188 C 4.84375 -6.574219 5.144531 -6.332031 5.355469 -6.015625 C 5.566406 -5.695313 5.679688 -5.335938 5.695313 -4.9375 L 4.824219 -4.871094 C 4.773438 -5.300781 4.617188 -5.628906 4.347656 -5.855469 C 4.074219 -6.074219 3.671875 -6.1875 3.148438 -6.1875 C 2.59375 -6.1875 2.195313 -6.085938 1.945313 -5.882813 C 1.695313 -5.679688 1.570313 -5.4375 1.570313 -5.15625 C 1.570313 -4.90625 1.65625 -4.703125 1.835938 -4.546875 C 2.007813 -4.386719 2.464844 -4.222656 3.207031 -4.054688 C 3.941406 -3.886719 4.449219 -3.738281 4.730469 -3.617188 C 5.125 -3.429688 5.421875 -3.199219 5.613281 -2.917969 C 5.804688 -2.632813 5.898438 -2.304688 5.902344 -1.941406 C 5.898438 -1.570313 5.792969 -1.226563 5.585938 -0.90625 C 5.375 -0.582031 5.074219 -0.332031 4.683594 -0.152344 C 4.289063 0.0273438 3.847656 0.117188 3.359375 0.117188 C 2.734375 0.117188 2.214844 0.0273438 1.796875 -0.152344 C 1.375 -0.332031 1.046875 -0.605469 0.808594 -0.972656 C 0.566406 -1.335938 0.4375 -1.746094 0.429688 -2.207031 Z M 0.429688 -2.207031 \"/>\n",
       "</symbol>\n",
       "<symbol overflow=\"visible\" id=\"glyph1-8\">\n",
       "<path style=\"stroke:none;\" d=\"M 0.730469 0 L 0.730469 -6.871094 L 1.664063 -6.871094 L 5.273438 -1.476563 L 5.273438 -6.871094 L 6.144531 -6.871094 L 6.144531 0 L 5.210938 0 L 1.601563 -5.398438 L 1.601563 0 Z M 0.730469 0 \"/>\n",
       "</symbol>\n",
       "<symbol overflow=\"visible\" id=\"glyph1-9\">\n",
       "<path style=\"stroke:none;\" d=\"M 0.632813 0 L 0.632813 -4.976563 L 1.390625 -4.976563 L 1.390625 -4.269531 C 1.753906 -4.8125 2.285156 -5.085938 2.976563 -5.089844 C 3.273438 -5.085938 3.546875 -5.03125 3.800781 -4.925781 C 4.050781 -4.816406 4.238281 -4.675781 4.367188 -4.503906 C 4.488281 -4.328125 4.578125 -4.121094 4.632813 -3.882813 C 4.660156 -3.722656 4.675781 -3.449219 4.679688 -3.0625 L 4.679688 0 L 3.835938 0 L 3.835938 -3.027344 C 3.832031 -3.367188 3.796875 -3.625 3.734375 -3.796875 C 3.664063 -3.96875 3.550781 -4.105469 3.386719 -4.207031 C 3.21875 -4.308594 3.019531 -4.359375 2.796875 -4.359375 C 2.433594 -4.359375 2.125 -4.242188 1.867188 -4.015625 C 1.605469 -3.785156 1.476563 -3.355469 1.476563 -2.71875 L 1.476563 0 Z M 0.632813 0 \"/>\n",
       "</symbol>\n",
       "<symbol overflow=\"visible\" id=\"glyph1-10\">\n",
       "<path style=\"stroke:none;\" d=\"M 0.304688 -2.0625 L 0.304688 -2.910156 L 2.898438 -2.910156 L 2.898438 -2.0625 Z M 0.304688 -2.0625 \"/>\n",
       "</symbol>\n",
       "<symbol overflow=\"visible\" id=\"glyph1-11\">\n",
       "<path style=\"stroke:none;\" d=\"M 0.703125 0 L 0.703125 -6.871094 L 3.28125 -6.871094 C 3.804688 -6.867188 4.222656 -6.796875 4.542969 -6.660156 C 4.855469 -6.519531 5.105469 -6.304688 5.289063 -6.019531 C 5.464844 -5.726563 5.554688 -5.425781 5.558594 -5.113281 C 5.554688 -4.816406 5.476563 -4.539063 5.320313 -4.28125 C 5.160156 -4.019531 4.917969 -3.8125 4.597656 -3.65625 C 5.011719 -3.53125 5.332031 -3.320313 5.554688 -3.03125 C 5.777344 -2.734375 5.886719 -2.390625 5.890625 -1.992188 C 5.886719 -1.667969 5.820313 -1.367188 5.6875 -1.09375 C 5.550781 -0.816406 5.382813 -0.601563 5.183594 -0.453125 C 4.980469 -0.300781 4.730469 -0.1875 4.429688 -0.113281 C 4.128906 -0.0351563 3.757813 0 3.324219 0 Z M 1.613281 -3.984375 L 3.097656 -3.984375 C 3.5 -3.984375 3.789063 -4.007813 3.964844 -4.0625 C 4.195313 -4.128906 4.371094 -4.246094 4.488281 -4.40625 C 4.605469 -4.5625 4.664063 -4.761719 4.664063 -5.007813 C 4.664063 -5.230469 4.609375 -5.429688 4.5 -5.605469 C 4.390625 -5.777344 4.234375 -5.898438 4.03125 -5.964844 C 3.828125 -6.027344 3.476563 -6.058594 2.984375 -6.0625 L 1.613281 -6.0625 Z M 1.613281 -0.8125 L 3.324219 -0.8125 C 3.613281 -0.808594 3.820313 -0.820313 3.941406 -0.84375 C 4.148438 -0.878906 4.324219 -0.941406 4.46875 -1.03125 C 4.605469 -1.117188 4.71875 -1.242188 4.8125 -1.414063 C 4.898438 -1.578125 4.945313 -1.773438 4.949219 -1.992188 C 4.945313 -2.246094 4.878906 -2.46875 4.75 -2.660156 C 4.617188 -2.847656 4.4375 -2.980469 4.207031 -3.058594 C 3.972656 -3.132813 3.636719 -3.167969 3.203125 -3.171875 L 1.613281 -3.171875 Z M 1.613281 -0.8125 \"/>\n",
       "</symbol>\n",
       "<symbol overflow=\"visible\" id=\"glyph1-12\">\n",
       "<path style=\"stroke:none;\" d=\"M 4.039063 -1.601563 L 4.914063 -1.496094 C 4.773438 -0.980469 4.519531 -0.585938 4.148438 -0.308594 C 3.773438 -0.0273438 3.296875 0.109375 2.722656 0.113281 C 1.992188 0.109375 1.414063 -0.109375 0.992188 -0.558594 C 0.5625 -1.003906 0.351563 -1.632813 0.351563 -2.445313 C 0.351563 -3.28125 0.566406 -3.933594 0.996094 -4.394531 C 1.425781 -4.855469 1.984375 -5.085938 2.675781 -5.089844 C 3.339844 -5.085938 3.882813 -4.859375 4.308594 -4.410156 C 4.726563 -3.953125 4.9375 -3.316406 4.941406 -2.5 C 4.9375 -2.445313 4.9375 -2.371094 4.9375 -2.273438 L 1.222656 -2.273438 C 1.25 -1.726563 1.40625 -1.304688 1.6875 -1.015625 C 1.964844 -0.722656 2.308594 -0.578125 2.726563 -0.582031 C 3.03125 -0.578125 3.296875 -0.660156 3.519531 -0.824219 C 3.734375 -0.984375 3.90625 -1.242188 4.039063 -1.601563 Z M 1.269531 -2.96875 L 4.050781 -2.96875 C 4.007813 -3.382813 3.902344 -3.695313 3.730469 -3.910156 C 3.460938 -4.230469 3.113281 -4.394531 2.6875 -4.398438 C 2.296875 -4.394531 1.96875 -4.265625 1.707031 -4.007813 C 1.441406 -3.746094 1.296875 -3.398438 1.269531 -2.96875 Z M 1.269531 -2.96875 \"/>\n",
       "</symbol>\n",
       "<symbol overflow=\"visible\" id=\"glyph1-13\">\n",
       "<path style=\"stroke:none;\" d=\"M 3.882813 -0.613281 C 3.566406 -0.34375 3.265625 -0.15625 2.980469 -0.0507813 C 2.6875 0.0585938 2.375 0.109375 2.046875 0.113281 C 1.496094 0.109375 1.078125 -0.0195313 0.785156 -0.285156 C 0.492188 -0.550781 0.34375 -0.894531 0.347656 -1.3125 C 0.34375 -1.554688 0.398438 -1.777344 0.511719 -1.980469 C 0.621094 -2.179688 0.769531 -2.339844 0.949219 -2.464844 C 1.128906 -2.585938 1.328125 -2.679688 1.554688 -2.742188 C 1.71875 -2.785156 1.96875 -2.824219 2.304688 -2.867188 C 2.984375 -2.945313 3.488281 -3.042969 3.8125 -3.160156 C 3.8125 -3.269531 3.8125 -3.34375 3.816406 -3.378906 C 3.8125 -3.71875 3.734375 -3.960938 3.578125 -4.105469 C 3.359375 -4.292969 3.039063 -4.386719 2.617188 -4.390625 C 2.214844 -4.386719 1.921875 -4.320313 1.734375 -4.183594 C 1.546875 -4.042969 1.40625 -3.796875 1.316406 -3.445313 L 0.492188 -3.558594 C 0.566406 -3.90625 0.6875 -4.191406 0.863281 -4.410156 C 1.03125 -4.625 1.28125 -4.792969 1.605469 -4.914063 C 1.929688 -5.027344 2.304688 -5.085938 2.738281 -5.089844 C 3.160156 -5.085938 3.507813 -5.035156 3.773438 -4.9375 C 4.039063 -4.835938 4.234375 -4.710938 4.359375 -4.5625 C 4.484375 -4.410156 4.570313 -4.21875 4.621094 -3.988281 C 4.648438 -3.84375 4.664063 -3.585938 4.664063 -3.210938 L 4.664063 -2.085938 C 4.664063 -1.300781 4.679688 -0.804688 4.71875 -0.597656 C 4.75 -0.386719 4.820313 -0.1875 4.929688 0 L 4.050781 0 C 3.957031 -0.171875 3.902344 -0.375 3.882813 -0.613281 Z M 3.8125 -2.5 C 3.503906 -2.371094 3.042969 -2.265625 2.433594 -2.179688 C 2.082031 -2.128906 1.835938 -2.070313 1.695313 -2.011719 C 1.546875 -1.945313 1.4375 -1.855469 1.363281 -1.734375 C 1.28125 -1.613281 1.242188 -1.480469 1.246094 -1.335938 C 1.242188 -1.109375 1.328125 -0.921875 1.5 -0.773438 C 1.671875 -0.621094 1.921875 -0.542969 2.25 -0.546875 C 2.574219 -0.542969 2.863281 -0.617188 3.117188 -0.761719 C 3.367188 -0.902344 3.550781 -1.09375 3.675781 -1.34375 C 3.761719 -1.53125 3.808594 -1.8125 3.8125 -2.1875 Z M 3.8125 -2.5 \"/>\n",
       "</symbol>\n",
       "<symbol overflow=\"visible\" id=\"glyph1-14\">\n",
       "<path style=\"stroke:none;\" d=\"M 0.296875 -1.484375 L 1.128906 -1.617188 C 1.171875 -1.28125 1.300781 -1.023438 1.519531 -0.847656 C 1.730469 -0.667969 2.03125 -0.578125 2.417969 -0.582031 C 2.804688 -0.578125 3.09375 -0.65625 3.28125 -0.816406 C 3.46875 -0.972656 3.5625 -1.160156 3.5625 -1.375 C 3.5625 -1.5625 3.476563 -1.710938 3.3125 -1.824219 C 3.195313 -1.894531 2.910156 -1.992188 2.453125 -2.109375 C 1.832031 -2.265625 1.402344 -2.398438 1.164063 -2.515625 C 0.921875 -2.625 0.742188 -2.785156 0.621094 -2.988281 C 0.496094 -3.1875 0.433594 -3.410156 0.4375 -3.65625 C 0.433594 -3.875 0.484375 -4.078125 0.589844 -4.269531 C 0.6875 -4.457031 0.824219 -4.613281 1.003906 -4.742188 C 1.128906 -4.835938 1.308594 -4.917969 1.539063 -4.988281 C 1.761719 -5.050781 2.003906 -5.085938 2.269531 -5.089844 C 2.65625 -5.085938 3 -5.03125 3.296875 -4.921875 C 3.589844 -4.808594 3.808594 -4.65625 3.953125 -4.464844 C 4.089844 -4.269531 4.1875 -4.011719 4.242188 -3.695313 L 3.417969 -3.582031 C 3.375 -3.832031 3.265625 -4.03125 3.089844 -4.179688 C 2.90625 -4.320313 2.652344 -4.394531 2.328125 -4.398438 C 1.9375 -4.394531 1.664063 -4.328125 1.5 -4.203125 C 1.332031 -4.070313 1.246094 -3.921875 1.25 -3.753906 C 1.246094 -3.640625 1.28125 -3.542969 1.355469 -3.460938 C 1.417969 -3.367188 1.527344 -3.292969 1.679688 -3.234375 C 1.761719 -3.203125 2.007813 -3.128906 2.421875 -3.019531 C 3.015625 -2.855469 3.433594 -2.726563 3.671875 -2.628906 C 3.90625 -2.523438 4.089844 -2.375 4.226563 -2.183594 C 4.359375 -1.988281 4.429688 -1.746094 4.429688 -1.460938 C 4.429688 -1.175781 4.347656 -0.914063 4.183594 -0.667969 C 4.019531 -0.417969 3.78125 -0.222656 3.472656 -0.0898438 C 3.160156 0.046875 2.808594 0.109375 2.421875 0.113281 C 1.773438 0.109375 1.28125 -0.0195313 0.945313 -0.289063 C 0.601563 -0.554688 0.386719 -0.953125 0.296875 -1.484375 Z M 0.296875 -1.484375 \"/>\n",
       "</symbol>\n",
       "<symbol overflow=\"visible\" id=\"glyph1-15\">\n",
       "<path style=\"stroke:none;\" d=\"M 2.476563 -0.753906 L 2.597656 -0.0078125 C 2.355469 0.0429688 2.144531 0.0625 1.960938 0.0664063 C 1.652344 0.0625 1.414063 0.0195313 1.246094 -0.078125 C 1.074219 -0.171875 0.957031 -0.300781 0.890625 -0.460938 C 0.820313 -0.617188 0.785156 -0.949219 0.789063 -1.457031 L 0.789063 -4.320313 L 0.167969 -4.320313 L 0.167969 -4.976563 L 0.789063 -4.976563 L 0.789063 -6.210938 L 1.625 -6.71875 L 1.625 -4.976563 L 2.476563 -4.976563 L 2.476563 -4.320313 L 1.625 -4.320313 L 1.625 -1.410156 C 1.621094 -1.167969 1.636719 -1.011719 1.667969 -0.945313 C 1.695313 -0.875 1.746094 -0.820313 1.816406 -0.78125 C 1.882813 -0.738281 1.976563 -0.71875 2.105469 -0.722656 C 2.195313 -0.71875 2.320313 -0.730469 2.476563 -0.753906 Z M 2.476563 -0.753906 \"/>\n",
       "</symbol>\n",
       "<symbol overflow=\"visible\" id=\"glyph1-16\">\n",
       "<path style=\"stroke:none;\" d=\"M 0.613281 0 L 0.613281 -6.871094 L 1.457031 -6.871094 L 1.457031 0 Z M 0.613281 0 \"/>\n",
       "</symbol>\n",
       "<symbol overflow=\"visible\" id=\"glyph1-17\">\n",
       "<path style=\"stroke:none;\" d=\"M 0.636719 -5.902344 L 0.636719 -6.871094 L 1.480469 -6.871094 L 1.480469 -5.902344 Z M 0.636719 0 L 0.636719 -4.976563 L 1.480469 -4.976563 L 1.480469 0 Z M 0.636719 0 \"/>\n",
       "</symbol>\n",
       "<symbol overflow=\"visible\" id=\"glyph1-18\">\n",
       "<path style=\"stroke:none;\" d=\"M 3.863281 0 L 3.863281 -0.628906 C 3.542969 -0.132813 3.078125 0.109375 2.46875 0.113281 C 2.070313 0.109375 1.707031 0.00390625 1.375 -0.214844 C 1.039063 -0.429688 0.78125 -0.734375 0.601563 -1.128906 C 0.417969 -1.519531 0.328125 -1.972656 0.328125 -2.484375 C 0.328125 -2.980469 0.410156 -3.429688 0.574219 -3.835938 C 0.738281 -4.238281 0.984375 -4.546875 1.320313 -4.765625 C 1.648438 -4.976563 2.019531 -5.085938 2.433594 -5.089844 C 2.730469 -5.085938 3 -5.023438 3.234375 -4.898438 C 3.46875 -4.773438 3.65625 -4.609375 3.804688 -4.40625 L 3.804688 -6.871094 L 4.644531 -6.871094 L 4.644531 0 Z M 1.195313 -2.484375 C 1.195313 -1.84375 1.328125 -1.367188 1.597656 -1.054688 C 1.863281 -0.738281 2.179688 -0.578125 2.550781 -0.582031 C 2.914063 -0.578125 3.226563 -0.730469 3.488281 -1.03125 C 3.742188 -1.332031 3.871094 -1.792969 3.875 -2.414063 C 3.871094 -3.09375 3.742188 -3.59375 3.480469 -3.914063 C 3.21875 -4.230469 2.894531 -4.386719 2.511719 -4.390625 C 2.132813 -4.386719 1.820313 -4.234375 1.570313 -3.929688 C 1.320313 -3.621094 1.195313 -3.140625 1.195313 -2.484375 Z M 1.195313 -2.484375 \"/>\n",
       "</symbol>\n",
       "<symbol overflow=\"visible\" id=\"glyph1-19\">\n",
       "<path style=\"stroke:none;\" d=\"M 3.578125 0 L 2.734375 0 L 2.734375 -5.375 C 2.527344 -5.179688 2.261719 -4.988281 1.933594 -4.792969 C 1.601563 -4.597656 1.304688 -4.453125 1.046875 -4.359375 L 1.046875 -5.175781 C 1.515625 -5.394531 1.925781 -5.664063 2.28125 -5.980469 C 2.632813 -6.292969 2.882813 -6.597656 3.03125 -6.898438 L 3.578125 -6.898438 Z M 3.578125 0 \"/>\n",
       "</symbol>\n",
       "<symbol overflow=\"visible\" id=\"glyph1-20\">\n",
       "<path style=\"stroke:none;\" d=\"M 0.398438 -3.390625 C 0.398438 -4.199219 0.480469 -4.851563 0.648438 -5.351563 C 0.8125 -5.84375 1.0625 -6.226563 1.394531 -6.496094 C 1.722656 -6.761719 2.136719 -6.894531 2.640625 -6.898438 C 3.003906 -6.894531 3.328125 -6.820313 3.609375 -6.675781 C 3.886719 -6.523438 4.113281 -6.3125 4.296875 -6.035156 C 4.476563 -5.753906 4.621094 -5.410156 4.722656 -5.011719 C 4.824219 -4.605469 4.875 -4.066406 4.878906 -3.390625 C 4.875 -2.582031 4.792969 -1.929688 4.628906 -1.4375 C 4.464844 -0.9375 4.214844 -0.554688 3.886719 -0.289063 C 3.554688 -0.015625 3.140625 0.117188 2.640625 0.117188 C 1.972656 0.117188 1.453125 -0.117188 1.078125 -0.59375 C 0.625 -1.164063 0.398438 -2.097656 0.398438 -3.390625 Z M 1.265625 -3.390625 C 1.265625 -2.257813 1.394531 -1.507813 1.660156 -1.136719 C 1.921875 -0.761719 2.25 -0.574219 2.640625 -0.578125 C 3.023438 -0.574219 3.347656 -0.761719 3.613281 -1.140625 C 3.875 -1.511719 4.007813 -2.261719 4.011719 -3.390625 C 4.007813 -4.519531 3.875 -5.269531 3.613281 -5.644531 C 3.347656 -6.011719 3.019531 -6.199219 2.628906 -6.203125 C 2.238281 -6.199219 1.929688 -6.035156 1.703125 -5.710938 C 1.410156 -5.289063 1.265625 -4.515625 1.265625 -3.390625 Z M 1.265625 -3.390625 \"/>\n",
       "</symbol>\n",
       "<symbol overflow=\"visible\" id=\"glyph1-21\">\n",
       "<path style=\"stroke:none;\" d=\"M 4.832031 -0.8125 L 4.832031 0 L 0.289063 0 C 0.28125 -0.203125 0.316406 -0.398438 0.390625 -0.585938 C 0.503906 -0.894531 0.6875 -1.199219 0.945313 -1.5 C 1.195313 -1.796875 1.5625 -2.140625 2.046875 -2.539063 C 2.789063 -3.148438 3.296875 -3.636719 3.5625 -3.996094 C 3.824219 -4.351563 3.953125 -4.6875 3.957031 -5.011719 C 3.953125 -5.339844 3.835938 -5.621094 3.597656 -5.855469 C 3.355469 -6.082031 3.042969 -6.199219 2.664063 -6.203125 C 2.253906 -6.199219 1.929688 -6.078125 1.6875 -5.835938 C 1.441406 -5.589844 1.316406 -5.25 1.316406 -4.824219 L 0.449219 -4.914063 C 0.507813 -5.558594 0.730469 -6.050781 1.121094 -6.390625 C 1.503906 -6.726563 2.023438 -6.894531 2.679688 -6.898438 C 3.335938 -6.894531 3.859375 -6.714844 4.246094 -6.351563 C 4.628906 -5.984375 4.820313 -5.53125 4.824219 -4.992188 C 4.820313 -4.714844 4.765625 -4.441406 4.652344 -4.179688 C 4.539063 -3.910156 4.351563 -3.632813 4.09375 -3.339844 C 3.832031 -3.046875 3.398438 -2.644531 2.792969 -2.132813 C 2.285156 -1.707031 1.960938 -1.417969 1.816406 -1.265625 C 1.671875 -1.113281 1.550781 -0.960938 1.460938 -0.8125 Z M 4.832031 -0.8125 \"/>\n",
       "</symbol>\n",
       "<symbol overflow=\"visible\" id=\"glyph1-22\">\n",
       "<path style=\"stroke:none;\" d=\"M 3.101563 0 L 3.101563 -1.644531 L 0.121094 -1.644531 L 0.121094 -2.417969 L 3.257813 -6.871094 L 3.945313 -6.871094 L 3.945313 -2.417969 L 4.875 -2.417969 L 4.875 -1.644531 L 3.945313 -1.644531 L 3.945313 0 Z M 3.101563 -2.417969 L 3.101563 -5.515625 L 0.953125 -2.417969 Z M 3.101563 -2.417969 \"/>\n",
       "</symbol>\n",
       "<symbol overflow=\"visible\" id=\"glyph1-23\">\n",
       "<path style=\"stroke:none;\" d=\"M 1.695313 -3.726563 C 1.34375 -3.851563 1.085938 -4.03125 0.917969 -4.273438 C 0.746094 -4.507813 0.660156 -4.792969 0.664063 -5.128906 C 0.660156 -5.625 0.839844 -6.046875 1.203125 -6.386719 C 1.558594 -6.726563 2.039063 -6.894531 2.640625 -6.898438 C 3.238281 -6.894531 3.71875 -6.722656 4.085938 -6.375 C 4.449219 -6.027344 4.632813 -5.601563 4.636719 -5.105469 C 4.632813 -4.78125 4.550781 -4.503906 4.382813 -4.269531 C 4.214844 -4.03125 3.960938 -3.851563 3.625 -3.726563 C 4.042969 -3.585938 4.363281 -3.363281 4.585938 -3.058594 C 4.804688 -2.753906 4.914063 -2.386719 4.917969 -1.964844 C 4.914063 -1.371094 4.707031 -0.878906 4.292969 -0.480469 C 3.875 -0.0820313 3.328125 0.117188 2.652344 0.117188 C 1.972656 0.117188 1.425781 -0.0820313 1.011719 -0.484375 C 0.59375 -0.882813 0.386719 -1.382813 0.390625 -1.988281 C 0.386719 -2.429688 0.5 -2.804688 0.730469 -3.109375 C 0.953125 -3.410156 1.273438 -3.617188 1.695313 -3.726563 Z M 1.527344 -5.15625 C 1.523438 -4.828125 1.628906 -4.5625 1.839844 -4.359375 C 2.050781 -4.152344 2.320313 -4.046875 2.65625 -4.050781 C 2.976563 -4.046875 3.246094 -4.148438 3.457031 -4.355469 C 3.664063 -4.558594 3.765625 -4.8125 3.769531 -5.109375 C 3.765625 -5.417969 3.660156 -5.675781 3.445313 -5.890625 C 3.230469 -6.097656 2.964844 -6.203125 2.648438 -6.207031 C 2.324219 -6.203125 2.054688 -6.101563 1.84375 -5.894531 C 1.628906 -5.6875 1.523438 -5.441406 1.527344 -5.15625 Z M 1.257813 -1.984375 C 1.253906 -1.738281 1.308594 -1.503906 1.425781 -1.28125 C 1.535156 -1.054688 1.707031 -0.882813 1.933594 -0.761719 C 2.160156 -0.636719 2.402344 -0.574219 2.664063 -0.578125 C 3.0625 -0.574219 3.394531 -0.703125 3.660156 -0.964844 C 3.921875 -1.222656 4.054688 -1.550781 4.054688 -1.953125 C 4.054688 -2.355469 3.917969 -2.691406 3.648438 -2.960938 C 3.375 -3.222656 3.035156 -3.355469 2.632813 -3.359375 C 2.234375 -3.355469 1.90625 -3.226563 1.648438 -2.964844 C 1.382813 -2.703125 1.253906 -2.375 1.257813 -1.984375 Z M 1.257813 -1.984375 \"/>\n",
       "</symbol>\n",
       "<symbol overflow=\"visible\" id=\"glyph1-24\">\n",
       "<path style=\"stroke:none;\" d=\"M 4.777344 -5.1875 L 3.9375 -5.125 C 3.859375 -5.453125 3.75 -5.691406 3.617188 -5.84375 C 3.386719 -6.082031 3.105469 -6.203125 2.773438 -6.207031 C 2.5 -6.203125 2.265625 -6.128906 2.066406 -5.980469 C 1.796875 -5.785156 1.585938 -5.503906 1.4375 -5.132813 C 1.28125 -4.757813 1.203125 -4.226563 1.199219 -3.542969 C 1.398438 -3.851563 1.648438 -4.082031 1.945313 -4.230469 C 2.238281 -4.378906 2.542969 -4.453125 2.867188 -4.457031 C 3.425781 -4.453125 3.90625 -4.246094 4.304688 -3.835938 C 4.699219 -3.417969 4.898438 -2.882813 4.898438 -2.230469 C 4.898438 -1.796875 4.804688 -1.394531 4.617188 -1.027344 C 4.429688 -0.652344 4.171875 -0.371094 3.851563 -0.175781 C 3.523438 0.0195313 3.15625 0.117188 2.746094 0.117188 C 2.039063 0.117188 1.464844 -0.140625 1.023438 -0.65625 C 0.578125 -1.171875 0.355469 -2.023438 0.359375 -3.214844 C 0.355469 -4.539063 0.601563 -5.503906 1.097656 -6.113281 C 1.519531 -6.632813 2.097656 -6.894531 2.828125 -6.898438 C 3.363281 -6.894531 3.804688 -6.746094 4.152344 -6.445313 C 4.496094 -6.140625 4.703125 -5.71875 4.777344 -5.1875 Z M 1.332031 -2.226563 C 1.328125 -1.933594 1.390625 -1.652344 1.515625 -1.390625 C 1.636719 -1.121094 1.808594 -0.921875 2.035156 -0.785156 C 2.253906 -0.644531 2.488281 -0.574219 2.734375 -0.578125 C 3.085938 -0.574219 3.390625 -0.71875 3.648438 -1.007813 C 3.902344 -1.292969 4.03125 -1.683594 4.035156 -2.179688 C 4.03125 -2.652344 3.90625 -3.023438 3.65625 -3.300781 C 3.402344 -3.570313 3.082031 -3.707031 2.699219 -3.710938 C 2.316406 -3.707031 1.992188 -3.570313 1.730469 -3.300781 C 1.460938 -3.023438 1.328125 -2.667969 1.332031 -2.226563 Z M 1.332031 -2.226563 \"/>\n",
       "</symbol>\n",
       "<symbol overflow=\"visible\" id=\"glyph2-0\">\n",
       "<path style=\"stroke:none;\" d=\"M 7.054688 -3.011719 L 8.191406 -2.726563 C 7.953125 -1.789063 7.523438 -1.078125 6.90625 -0.585938 C 6.285156 -0.0976563 5.527344 0.144531 4.632813 0.148438 C 3.707031 0.144531 2.953125 -0.0390625 2.375 -0.417969 C 1.792969 -0.792969 1.351563 -1.339844 1.050781 -2.054688 C 0.746094 -2.769531 0.597656 -3.539063 0.597656 -4.359375 C 0.597656 -5.253906 0.765625 -6.03125 1.109375 -6.699219 C 1.449219 -7.363281 1.9375 -7.871094 2.570313 -8.214844 C 3.199219 -8.558594 3.894531 -8.730469 4.652344 -8.734375 C 5.511719 -8.730469 6.234375 -8.511719 6.820313 -8.078125 C 7.40625 -7.636719 7.8125 -7.023438 8.046875 -6.234375 L 6.925781 -5.96875 C 6.722656 -6.589844 6.433594 -7.046875 6.058594 -7.335938 C 5.679688 -7.621094 5.203125 -7.761719 4.628906 -7.765625 C 3.96875 -7.761719 3.414063 -7.605469 2.972656 -7.289063 C 2.527344 -6.96875 2.21875 -6.542969 2.039063 -6.011719 C 1.859375 -5.480469 1.769531 -4.929688 1.769531 -4.367188 C 1.769531 -3.632813 1.875 -2.996094 2.085938 -2.449219 C 2.296875 -1.902344 2.628906 -1.496094 3.082031 -1.230469 C 3.53125 -0.960938 4.015625 -0.824219 4.539063 -0.828125 C 5.175781 -0.824219 5.714844 -1.007813 6.15625 -1.378906 C 6.597656 -1.742188 6.898438 -2.289063 7.054688 -3.011719 Z M 7.054688 -3.011719 \"/>\n",
       "</symbol>\n",
       "<symbol overflow=\"visible\" id=\"glyph2-1\">\n",
       "<path style=\"stroke:none;\" d=\"M 0.742188 2.398438 L 0.625 1.40625 C 0.855469 1.46875 1.058594 1.5 1.230469 1.5 C 1.464844 1.5 1.652344 1.460938 1.792969 1.382813 C 1.933594 1.304688 2.046875 1.195313 2.140625 1.054688 C 2.203125 0.949219 2.3125 0.6875 2.460938 0.269531 C 2.480469 0.207031 2.511719 0.121094 2.554688 0.0117188 L 0.195313 -6.222656 L 1.328125 -6.222656 L 2.625 -2.617188 C 2.789063 -2.160156 2.9375 -1.679688 3.078125 -1.179688 C 3.195313 -1.660156 3.339844 -2.132813 3.507813 -2.59375 L 4.839844 -6.222656 L 5.894531 -6.222656 L 3.527344 0.105469 C 3.273438 0.789063 3.074219 1.257813 2.9375 1.515625 C 2.746094 1.863281 2.53125 2.117188 2.292969 2.28125 C 2.046875 2.4375 1.757813 2.519531 1.421875 2.523438 C 1.214844 2.519531 0.988281 2.476563 0.742188 2.398438 Z M 0.742188 2.398438 \"/>\n",
       "</symbol>\n",
       "<symbol overflow=\"visible\" id=\"glyph2-2\">\n",
       "<path style=\"stroke:none;\" d=\"M 4.851563 -2.28125 L 5.890625 -2.144531 C 5.773438 -1.425781 5.484375 -0.863281 5.019531 -0.464844 C 4.550781 -0.0585938 3.976563 0.140625 3.296875 0.140625 C 2.445313 0.140625 1.761719 -0.136719 1.246094 -0.695313 C 0.726563 -1.25 0.46875 -2.046875 0.46875 -3.085938 C 0.46875 -3.753906 0.578125 -4.34375 0.800781 -4.851563 C 1.023438 -5.355469 1.363281 -5.730469 1.816406 -5.984375 C 2.269531 -6.234375 2.765625 -6.363281 3.304688 -6.363281 C 3.980469 -6.363281 4.53125 -6.191406 4.964844 -5.847656 C 5.390625 -5.503906 5.667969 -5.019531 5.789063 -4.394531 L 4.765625 -4.234375 C 4.664063 -4.652344 4.492188 -4.96875 4.246094 -5.179688 C 3.996094 -5.390625 3.695313 -5.496094 3.34375 -5.496094 C 2.808594 -5.496094 2.378906 -5.304688 2.050781 -4.921875 C 1.71875 -4.539063 1.550781 -3.9375 1.554688 -3.117188 C 1.550781 -2.28125 1.710938 -1.671875 2.035156 -1.292969 C 2.351563 -0.914063 2.769531 -0.726563 3.289063 -0.726563 C 3.695313 -0.726563 4.042969 -0.851563 4.324219 -1.105469 C 4.601563 -1.359375 4.777344 -1.75 4.851563 -2.28125 Z M 4.851563 -2.28125 \"/>\n",
       "</symbol>\n",
       "<symbol overflow=\"visible\" id=\"glyph2-3\">\n",
       "<path style=\"stroke:none;\" d=\"M 0.765625 0 L 0.765625 -8.589844 L 1.820313 -8.589844 L 1.820313 0 Z M 0.765625 0 \"/>\n",
       "</symbol>\n",
       "<symbol overflow=\"visible\" id=\"glyph2-4\">\n",
       "<path style=\"stroke:none;\" d=\"M 0.398438 -3.109375 C 0.398438 -4.261719 0.71875 -5.117188 1.359375 -5.671875 C 1.894531 -6.132813 2.546875 -6.363281 3.316406 -6.363281 C 4.171875 -6.363281 4.871094 -6.082031 5.414063 -5.519531 C 5.953125 -4.957031 6.222656 -4.183594 6.226563 -3.199219 C 6.222656 -2.398438 6.101563 -1.765625 5.867188 -1.308594 C 5.625 -0.847656 5.277344 -0.492188 4.820313 -0.238281 C 4.359375 0.015625 3.859375 0.140625 3.316406 0.140625 C 2.441406 0.140625 1.734375 -0.136719 1.203125 -0.695313 C 0.664063 -1.253906 0.398438 -2.058594 0.398438 -3.109375 Z M 1.484375 -3.109375 C 1.480469 -2.308594 1.65625 -1.710938 2.003906 -1.320313 C 2.347656 -0.921875 2.785156 -0.726563 3.316406 -0.726563 C 3.839844 -0.726563 4.273438 -0.925781 4.621094 -1.324219 C 4.96875 -1.722656 5.144531 -2.328125 5.144531 -3.148438 C 5.144531 -3.914063 4.96875 -4.496094 4.617188 -4.894531 C 4.265625 -5.289063 3.832031 -5.488281 3.316406 -5.492188 C 2.785156 -5.488281 2.347656 -5.292969 2.003906 -4.898438 C 1.65625 -4.5 1.480469 -3.902344 1.484375 -3.109375 Z M 1.484375 -3.109375 \"/>\n",
       "</symbol>\n",
       "<symbol overflow=\"visible\" id=\"glyph2-5\">\n",
       "<path style=\"stroke:none;\" d=\"M 0.789063 2.382813 L 0.789063 -6.222656 L 1.75 -6.222656 L 1.75 -5.414063 C 1.976563 -5.730469 2.234375 -5.964844 2.519531 -6.125 C 2.800781 -6.28125 3.144531 -6.363281 3.554688 -6.363281 C 4.082031 -6.363281 4.550781 -6.226563 4.960938 -5.953125 C 5.363281 -5.679688 5.671875 -5.292969 5.882813 -4.792969 C 6.089844 -4.292969 6.191406 -3.746094 6.195313 -3.15625 C 6.191406 -2.519531 6.078125 -1.945313 5.851563 -1.4375 C 5.621094 -0.921875 5.289063 -0.53125 4.855469 -0.265625 C 4.417969 0.0078125 3.960938 0.140625 3.480469 0.140625 C 3.128906 0.140625 2.8125 0.0664063 2.535156 -0.0820313 C 2.253906 -0.230469 2.023438 -0.417969 1.84375 -0.644531 L 1.84375 2.382813 Z M 1.746094 -3.078125 C 1.746094 -2.273438 1.90625 -1.683594 2.230469 -1.300781 C 2.554688 -0.917969 2.949219 -0.726563 3.410156 -0.726563 C 3.878906 -0.726563 4.277344 -0.921875 4.613281 -1.320313 C 4.945313 -1.710938 5.113281 -2.328125 5.117188 -3.164063 C 5.113281 -3.953125 4.949219 -4.546875 4.625 -4.945313 C 4.296875 -5.339844 3.910156 -5.535156 3.457031 -5.539063 C 3.003906 -5.535156 2.605469 -5.324219 2.261719 -4.90625 C 1.917969 -4.484375 1.746094 -3.875 1.746094 -3.078125 Z M 1.746094 -3.078125 \"/>\n",
       "</symbol>\n",
       "<symbol overflow=\"visible\" id=\"glyph2-6\">\n",
       "<path style=\"stroke:none;\" d=\"M 0.789063 0 L 0.789063 -8.589844 L 1.84375 -8.589844 L 1.84375 -5.507813 C 2.335938 -6.078125 2.957031 -6.363281 3.710938 -6.363281 C 4.164063 -6.363281 4.566406 -6.269531 4.910156 -6.089844 C 5.25 -5.90625 5.492188 -5.65625 5.640625 -5.339844 C 5.785156 -5.015625 5.859375 -4.550781 5.859375 -3.945313 L 5.859375 0 L 4.804688 0 L 4.804688 -3.945313 C 4.804688 -4.46875 4.6875 -4.851563 4.460938 -5.09375 C 4.226563 -5.328125 3.90625 -5.449219 3.492188 -5.453125 C 3.179688 -5.449219 2.882813 -5.367188 2.609375 -5.210938 C 2.328125 -5.046875 2.132813 -4.828125 2.019531 -4.550781 C 1.898438 -4.273438 1.839844 -3.890625 1.84375 -3.40625 L 1.84375 0 Z M 0.789063 0 \"/>\n",
       "</symbol>\n",
       "<symbol overflow=\"visible\" id=\"glyph2-7\">\n",
       "<path style=\"stroke:none;\" d=\"M 0.367188 -1.859375 L 1.414063 -2.023438 C 1.46875 -1.601563 1.632813 -1.28125 1.902344 -1.058594 C 2.167969 -0.835938 2.542969 -0.726563 3.023438 -0.726563 C 3.507813 -0.726563 3.867188 -0.824219 4.101563 -1.023438 C 4.335938 -1.21875 4.453125 -1.449219 4.453125 -1.71875 C 4.453125 -1.953125 4.347656 -2.140625 4.140625 -2.28125 C 3.996094 -2.371094 3.636719 -2.492188 3.0625 -2.636719 C 2.289063 -2.832031 1.753906 -3 1.457031 -3.144531 C 1.15625 -3.285156 0.929688 -3.480469 0.777344 -3.734375 C 0.621094 -3.984375 0.542969 -4.265625 0.546875 -4.570313 C 0.542969 -4.84375 0.605469 -5.097656 0.734375 -5.339844 C 0.859375 -5.574219 1.035156 -5.773438 1.253906 -5.929688 C 1.417969 -6.046875 1.640625 -6.148438 1.925781 -6.234375 C 2.207031 -6.320313 2.511719 -6.363281 2.835938 -6.363281 C 3.324219 -6.363281 3.75 -6.292969 4.121094 -6.152344 C 4.488281 -6.011719 4.761719 -5.820313 4.9375 -5.578125 C 5.113281 -5.335938 5.234375 -5.015625 5.304688 -4.617188 L 4.273438 -4.476563 C 4.222656 -4.796875 4.085938 -5.046875 3.863281 -5.226563 C 3.636719 -5.40625 3.320313 -5.496094 2.914063 -5.496094 C 2.425781 -5.496094 2.082031 -5.414063 1.875 -5.253906 C 1.664063 -5.09375 1.558594 -4.90625 1.5625 -4.695313 C 1.558594 -4.554688 1.601563 -4.433594 1.695313 -4.324219 C 1.773438 -4.210938 1.910156 -4.117188 2.097656 -4.042969 C 2.203125 -4.003906 2.511719 -3.914063 3.03125 -3.773438 C 3.773438 -3.574219 4.292969 -3.410156 4.589844 -3.285156 C 4.878906 -3.15625 5.113281 -2.972656 5.285156 -2.730469 C 5.453125 -2.488281 5.535156 -2.1875 5.539063 -1.828125 C 5.535156 -1.476563 5.433594 -1.144531 5.230469 -0.832031 C 5.023438 -0.519531 4.726563 -0.277344 4.339844 -0.113281 C 3.953125 0.0585938 3.515625 0.140625 3.03125 0.140625 C 2.21875 0.140625 1.601563 -0.0273438 1.179688 -0.363281 C 0.753906 -0.699219 0.484375 -1.195313 0.367188 -1.859375 Z M 0.367188 -1.859375 \"/>\n",
       "</symbol>\n",
       "<symbol overflow=\"visible\" id=\"glyph2-8\">\n",
       "<path style=\"stroke:none;\" d=\"M 4.851563 -0.765625 C 4.460938 -0.433594 4.082031 -0.199219 3.722656 -0.0625 C 3.355469 0.0742188 2.96875 0.140625 2.5625 0.140625 C 1.875 0.140625 1.351563 -0.0234375 0.984375 -0.359375 C 0.617188 -0.6875 0.433594 -1.117188 0.433594 -1.640625 C 0.433594 -1.945313 0.5 -2.222656 0.640625 -2.472656 C 0.777344 -2.722656 0.960938 -2.925781 1.1875 -3.082031 C 1.410156 -3.234375 1.664063 -3.347656 1.945313 -3.429688 C 2.152344 -3.476563 2.464844 -3.53125 2.882813 -3.585938 C 3.734375 -3.6875 4.359375 -3.808594 4.765625 -3.949219 C 4.765625 -4.089844 4.769531 -4.179688 4.769531 -4.226563 C 4.769531 -4.648438 4.667969 -4.953125 4.46875 -5.132813 C 4.199219 -5.371094 3.800781 -5.488281 3.269531 -5.492188 C 2.769531 -5.488281 2.402344 -5.402344 2.167969 -5.230469 C 1.933594 -5.054688 1.757813 -4.746094 1.648438 -4.304688 L 0.617188 -4.445313 C 0.707031 -4.886719 0.863281 -5.242188 1.078125 -5.515625 C 1.289063 -5.78125 1.597656 -5.992188 2.007813 -6.140625 C 2.410156 -6.289063 2.882813 -6.363281 3.421875 -6.363281 C 3.953125 -6.363281 4.382813 -6.300781 4.714844 -6.175781 C 5.046875 -6.050781 5.292969 -5.890625 5.449219 -5.703125 C 5.605469 -5.511719 5.714844 -5.273438 5.777344 -4.984375 C 5.808594 -4.804688 5.824219 -4.480469 5.828125 -4.015625 L 5.828125 -2.609375 C 5.824219 -1.625 5.847656 -1.003906 5.894531 -0.746094 C 5.941406 -0.484375 6.03125 -0.238281 6.164063 0 L 5.0625 0 C 4.953125 -0.21875 4.882813 -0.472656 4.851563 -0.765625 Z M 4.765625 -3.125 C 4.375 -2.964844 3.800781 -2.832031 3.039063 -2.726563 C 2.605469 -2.660156 2.300781 -2.589844 2.121094 -2.515625 C 1.941406 -2.433594 1.800781 -2.320313 1.703125 -2.171875 C 1.605469 -2.019531 1.558594 -1.851563 1.558594 -1.671875 C 1.558594 -1.386719 1.664063 -1.152344 1.875 -0.96875 C 2.085938 -0.777344 2.398438 -0.683594 2.8125 -0.6875 C 3.21875 -0.683594 3.578125 -0.773438 3.894531 -0.953125 C 4.210938 -1.128906 4.445313 -1.371094 4.59375 -1.679688 C 4.707031 -1.917969 4.761719 -2.269531 4.765625 -2.734375 Z M 4.765625 -3.125 \"/>\n",
       "</symbol>\n",
       "<symbol overflow=\"visible\" id=\"glyph2-9\">\n",
       "<path style=\"stroke:none;\" d=\"M 0.789063 0 L 0.789063 -6.222656 L 1.734375 -6.222656 L 1.734375 -5.351563 C 1.929688 -5.648438 2.1875 -5.894531 2.511719 -6.082031 C 2.835938 -6.269531 3.207031 -6.363281 3.621094 -6.363281 C 4.082031 -6.363281 4.457031 -6.265625 4.753906 -6.074219 C 5.042969 -5.882813 5.253906 -5.617188 5.378906 -5.273438 C 5.871094 -6 6.511719 -6.363281 7.300781 -6.363281 C 7.917969 -6.363281 8.390625 -6.191406 8.722656 -5.847656 C 9.054688 -5.503906 9.222656 -4.976563 9.222656 -4.273438 L 9.222656 0 L 8.171875 0 L 8.171875 -3.921875 C 8.167969 -4.339844 8.132813 -4.644531 8.070313 -4.832031 C 8 -5.015625 7.878906 -5.164063 7.699219 -5.277344 C 7.519531 -5.390625 7.308594 -5.449219 7.066406 -5.449219 C 6.628906 -5.449219 6.265625 -5.300781 5.976563 -5.011719 C 5.6875 -4.71875 5.542969 -4.253906 5.542969 -3.617188 L 5.542969 0 L 4.488281 0 L 4.488281 -4.042969 C 4.488281 -4.511719 4.402344 -4.863281 4.230469 -5.097656 C 4.058594 -5.332031 3.777344 -5.449219 3.386719 -5.449219 C 3.089844 -5.449219 2.8125 -5.371094 2.5625 -5.214844 C 2.308594 -5.058594 2.128906 -4.828125 2.015625 -4.527344 C 1.898438 -4.226563 1.839844 -3.792969 1.84375 -3.226563 L 1.84375 0 Z M 0.789063 0 \"/>\n",
       "</symbol>\n",
       "<symbol overflow=\"visible\" id=\"glyph2-10\">\n",
       "<path style=\"stroke:none;\" d=\"M 0.796875 -7.375 L 0.796875 -8.589844 L 1.851563 -8.589844 L 1.851563 -7.375 Z M 0.796875 0 L 0.796875 -6.222656 L 1.851563 -6.222656 L 1.851563 0 Z M 0.796875 0 \"/>\n",
       "</symbol>\n",
       "<symbol overflow=\"visible\" id=\"glyph2-11\">\n",
       "<path style=\"stroke:none;\" d=\"M 4.828125 0 L 4.828125 -0.785156 C 4.429688 -0.167969 3.847656 0.140625 3.085938 0.140625 C 2.589844 0.140625 2.132813 0.00390625 1.71875 -0.269531 C 1.296875 -0.542969 0.976563 -0.921875 0.75 -1.414063 C 0.523438 -1.898438 0.410156 -2.464844 0.410156 -3.105469 C 0.410156 -3.726563 0.511719 -4.289063 0.71875 -4.796875 C 0.925781 -5.300781 1.238281 -5.6875 1.652344 -5.957031 C 2.066406 -6.226563 2.527344 -6.363281 3.039063 -6.363281 C 3.410156 -6.363281 3.746094 -6.28125 4.042969 -6.125 C 4.335938 -5.964844 4.574219 -5.761719 4.757813 -5.507813 L 4.757813 -8.589844 L 5.804688 -8.589844 L 5.804688 0 Z M 1.492188 -3.105469 C 1.488281 -2.308594 1.65625 -1.710938 1.996094 -1.316406 C 2.328125 -0.921875 2.726563 -0.726563 3.1875 -0.726563 C 3.648438 -0.726563 4.039063 -0.914063 4.359375 -1.292969 C 4.679688 -1.667969 4.839844 -2.242188 4.84375 -3.015625 C 4.839844 -3.867188 4.675781 -4.492188 4.351563 -4.894531 C 4.019531 -5.289063 3.617188 -5.488281 3.140625 -5.492188 C 2.671875 -5.488281 2.277344 -5.296875 1.964844 -4.917969 C 1.644531 -4.53125 1.488281 -3.929688 1.492188 -3.105469 Z M 1.492188 -3.105469 \"/>\n",
       "</symbol>\n",
       "<symbol overflow=\"visible\" id=\"glyph2-12\">\n",
       "<path style=\"stroke:none;\" d=\"M 5.050781 -2.003906 L 6.140625 -1.867188 C 5.96875 -1.230469 5.648438 -0.738281 5.183594 -0.386719 C 4.71875 -0.0351563 4.125 0.140625 3.40625 0.140625 C 2.492188 0.140625 1.769531 -0.136719 1.238281 -0.699219 C 0.699219 -1.253906 0.433594 -2.042969 0.4375 -3.058594 C 0.433594 -4.105469 0.703125 -4.917969 1.246094 -5.496094 C 1.78125 -6.074219 2.480469 -6.363281 3.34375 -6.363281 C 4.175781 -6.363281 4.855469 -6.078125 5.382813 -5.511719 C 5.910156 -4.945313 6.175781 -4.148438 6.175781 -3.125 C 6.175781 -3.058594 6.171875 -2.964844 6.171875 -2.84375 L 1.53125 -2.84375 C 1.5625 -2.15625 1.757813 -1.632813 2.109375 -1.269531 C 2.457031 -0.90625 2.890625 -0.726563 3.410156 -0.726563 C 3.796875 -0.726563 4.125 -0.828125 4.402344 -1.03125 C 4.671875 -1.234375 4.890625 -1.558594 5.050781 -2.003906 Z M 1.585938 -3.710938 L 5.0625 -3.710938 C 5.015625 -4.226563 4.882813 -4.621094 4.664063 -4.886719 C 4.328125 -5.292969 3.890625 -5.496094 3.359375 -5.496094 C 2.871094 -5.496094 2.464844 -5.332031 2.136719 -5.007813 C 1.804688 -4.683594 1.621094 -4.25 1.585938 -3.710938 Z M 1.585938 -3.710938 \"/>\n",
       "</symbol>\n",
       "<symbol overflow=\"visible\" id=\"glyph2-13\">\n",
       "<path style=\"stroke:none;\" d=\"\"/>\n",
       "</symbol>\n",
       "<symbol overflow=\"visible\" id=\"glyph2-14\">\n",
       "<path style=\"stroke:none;\" d=\"M 4.867188 0 L 4.867188 -0.914063 C 4.378906 -0.210938 3.722656 0.140625 2.894531 0.140625 C 2.527344 0.140625 2.183594 0.0703125 1.867188 -0.0703125 C 1.546875 -0.210938 1.308594 -0.386719 1.15625 -0.601563 C 1 -0.8125 0.894531 -1.074219 0.832031 -1.382813 C 0.785156 -1.589844 0.761719 -1.917969 0.765625 -2.367188 L 0.765625 -6.222656 L 1.820313 -6.222656 L 1.820313 -2.773438 C 1.816406 -2.21875 1.839844 -1.847656 1.886719 -1.65625 C 1.949219 -1.378906 2.089844 -1.160156 2.308594 -1.003906 C 2.523438 -0.839844 2.789063 -0.761719 3.105469 -0.765625 C 3.417969 -0.761719 3.714844 -0.84375 3.996094 -1.007813 C 4.273438 -1.171875 4.46875 -1.390625 4.585938 -1.671875 C 4.699219 -1.949219 4.757813 -2.355469 4.757813 -2.890625 L 4.757813 -6.222656 L 5.8125 -6.222656 L 5.8125 0 Z M 4.867188 0 \"/>\n",
       "</symbol>\n",
       "<symbol overflow=\"visible\" id=\"glyph2-15\">\n",
       "<path style=\"stroke:none;\" d=\"M 3.09375 -0.945313 L 3.246094 -0.0117188 C 2.949219 0.0507813 2.683594 0.0820313 2.449219 0.0820313 C 2.066406 0.0820313 1.769531 0.0234375 1.558594 -0.0976563 C 1.347656 -0.21875 1.199219 -0.378906 1.113281 -0.578125 C 1.027344 -0.773438 0.984375 -1.1875 0.984375 -1.820313 L 0.984375 -5.402344 L 0.210938 -5.402344 L 0.210938 -6.222656 L 0.984375 -6.222656 L 0.984375 -7.765625 L 2.03125 -8.398438 L 2.03125 -6.222656 L 3.09375 -6.222656 L 3.09375 -5.402344 L 2.03125 -5.402344 L 2.03125 -1.765625 C 2.027344 -1.460938 2.046875 -1.269531 2.085938 -1.183594 C 2.125 -1.097656 2.183594 -1.027344 2.269531 -0.976563 C 2.351563 -0.925781 2.472656 -0.902344 2.632813 -0.902344 C 2.742188 -0.902344 2.898438 -0.914063 3.09375 -0.945313 Z M 3.09375 -0.945313 \"/>\n",
       "</symbol>\n",
       "<symbol overflow=\"visible\" id=\"glyph2-16\">\n",
       "<path style=\"stroke:none;\" d=\"M 2.519531 0 L 0.152344 -6.222656 L 1.265625 -6.222656 L 2.601563 -2.496094 C 2.746094 -2.089844 2.878906 -1.671875 3 -1.242188 C 3.09375 -1.570313 3.222656 -1.964844 3.390625 -2.425781 L 4.773438 -6.222656 L 5.859375 -6.222656 L 3.503906 0 Z M 2.519531 0 \"/>\n",
       "</symbol>\n",
       "<symbol overflow=\"visible\" id=\"glyph3-0\">\n",
       "<path style=\"stroke:none;\" d=\"M 0 -0.945313 L -8.589844 -0.945313 L -8.589844 -4.753906 C -8.589844 -5.515625 -8.511719 -6.097656 -8.355469 -6.5 C -8.199219 -6.894531 -7.925781 -7.214844 -7.539063 -7.453125 C -7.144531 -7.691406 -6.714844 -7.808594 -6.246094 -7.8125 C -5.636719 -7.808594 -5.121094 -7.613281 -4.703125 -7.21875 C -4.285156 -6.820313 -4.019531 -6.210938 -3.90625 -5.390625 C -3.761719 -5.691406 -3.621094 -5.917969 -3.480469 -6.078125 C -3.175781 -6.40625 -2.792969 -6.722656 -2.335938 -7.019531 L 0 -8.515625 L 0 -7.085938 L -1.785156 -5.945313 C -2.296875 -5.613281 -2.691406 -5.339844 -2.96875 -5.125 C -3.238281 -4.910156 -3.429688 -4.71875 -3.542969 -4.550781 C -3.648438 -4.378906 -3.726563 -4.207031 -3.773438 -4.03125 C -3.796875 -3.902344 -3.808594 -3.691406 -3.8125 -3.398438 L -3.8125 -2.082031 L 0 -2.078125 Z M -4.796875 -2.082031 L -4.796875 -4.523438 C -4.792969 -5.042969 -4.847656 -5.449219 -4.957031 -5.742188 C -5.066406 -6.03125 -5.238281 -6.253906 -5.472656 -6.410156 C -5.707031 -6.5625 -5.964844 -6.636719 -6.246094 -6.640625 C -6.652344 -6.636719 -6.984375 -6.488281 -7.246094 -6.195313 C -7.507813 -5.898438 -7.640625 -5.433594 -7.640625 -4.800781 L -7.640625 -2.082031 Z M -4.796875 -2.082031 \"/>\n",
       "</symbol>\n",
       "<symbol overflow=\"visible\" id=\"glyph3-1\">\n",
       "<path style=\"stroke:none;\" d=\"M -0.765625 -4.851563 C -0.433594 -4.460938 -0.199219 -4.082031 -0.0625 -3.722656 C 0.0742188 -3.355469 0.140625 -2.96875 0.140625 -2.5625 C 0.140625 -1.875 -0.0234375 -1.351563 -0.359375 -0.984375 C -0.6875 -0.617188 -1.117188 -0.433594 -1.640625 -0.433594 C -1.945313 -0.433594 -2.222656 -0.5 -2.472656 -0.640625 C -2.722656 -0.777344 -2.925781 -0.960938 -3.082031 -1.1875 C -3.234375 -1.410156 -3.347656 -1.664063 -3.429688 -1.945313 C -3.476563 -2.152344 -3.53125 -2.464844 -3.585938 -2.882813 C -3.6875 -3.734375 -3.808594 -4.359375 -3.949219 -4.765625 C -4.089844 -4.765625 -4.179688 -4.769531 -4.226563 -4.769531 C -4.648438 -4.769531 -4.953125 -4.667969 -5.132813 -4.46875 C -5.371094 -4.199219 -5.488281 -3.800781 -5.492188 -3.269531 C -5.488281 -2.773438 -5.402344 -2.40625 -5.230469 -2.171875 C -5.054688 -1.933594 -4.746094 -1.757813 -4.304688 -1.648438 L -4.445313 -0.617188 C -4.886719 -0.707031 -5.242188 -0.863281 -5.515625 -1.078125 C -5.78125 -1.292969 -5.992188 -1.601563 -6.140625 -2.011719 C -6.289063 -2.414063 -6.363281 -2.886719 -6.363281 -3.421875 C -6.363281 -3.953125 -6.300781 -4.382813 -6.175781 -4.714844 C -6.050781 -5.046875 -5.890625 -5.292969 -5.703125 -5.449219 C -5.511719 -5.605469 -5.273438 -5.714844 -4.984375 -5.777344 C -4.804688 -5.808594 -4.480469 -5.824219 -4.015625 -5.828125 L -2.605469 -5.828125 C -1.625 -5.824219 -1.003906 -5.847656 -0.746094 -5.894531 C -0.480469 -5.941406 -0.234375 -6.03125 0 -6.164063 L 0 -5.0625 C -0.21875 -4.953125 -0.472656 -4.882813 -0.765625 -4.851563 Z M -3.121094 -4.765625 C -2.960938 -4.375 -2.828125 -3.800781 -2.726563 -3.039063 C -2.660156 -2.605469 -2.589844 -2.300781 -2.515625 -2.121094 C -2.433594 -1.941406 -2.320313 -1.800781 -2.171875 -1.703125 C -2.019531 -1.605469 -1.851563 -1.558594 -1.671875 -1.558594 C -1.386719 -1.558594 -1.152344 -1.664063 -0.964844 -1.875 C -0.773438 -2.085938 -0.679688 -2.398438 -0.683594 -2.8125 C -0.679688 -3.21875 -0.769531 -3.578125 -0.949219 -3.894531 C -1.128906 -4.210938 -1.371094 -4.445313 -1.679688 -4.59375 C -1.917969 -4.707031 -2.269531 -4.761719 -2.734375 -4.765625 Z M -3.121094 -4.765625 \"/>\n",
       "</symbol>\n",
       "<symbol overflow=\"visible\" id=\"glyph3-2\">\n",
       "<path style=\"stroke:none;\" d=\"M -0.941406 -3.09375 L -0.0117188 -3.246094 C 0.0507813 -2.949219 0.0820313 -2.683594 0.0820313 -2.449219 C 0.0820313 -2.066406 0.0234375 -1.769531 -0.0976563 -1.558594 C -0.21875 -1.347656 -0.378906 -1.199219 -0.574219 -1.113281 C -0.769531 -1.027344 -1.183594 -0.984375 -1.820313 -0.984375 L -5.402344 -0.984375 L -5.402344 -0.210938 L -6.222656 -0.210938 L -6.222656 -0.984375 L -7.765625 -0.984375 L -8.398438 -2.035156 L -6.222656 -2.035156 L -6.222656 -3.09375 L -5.402344 -3.09375 L -5.402344 -2.035156 L -1.761719 -2.03125 C -1.460938 -2.027344 -1.269531 -2.046875 -1.183594 -2.085938 C -1.097656 -2.125 -1.027344 -2.183594 -0.976563 -2.269531 C -0.925781 -2.351563 -0.902344 -2.472656 -0.902344 -2.632813 C -0.902344 -2.742188 -0.914063 -2.898438 -0.941406 -3.09375 Z M -0.941406 -3.09375 \"/>\n",
       "</symbol>\n",
       "<symbol overflow=\"visible\" id=\"glyph3-3\">\n",
       "<path style=\"stroke:none;\" d=\"M -2.003906 -5.050781 L -1.867188 -6.140625 C -1.230469 -5.96875 -0.738281 -5.648438 -0.386719 -5.183594 C -0.0351563 -4.71875 0.140625 -4.125 0.140625 -3.40625 C 0.140625 -2.492188 -0.136719 -1.769531 -0.699219 -1.238281 C -1.253906 -0.703125 -2.042969 -0.4375 -3.058594 -0.441406 C -4.105469 -0.4375 -4.917969 -0.707031 -5.496094 -1.25 C -6.074219 -1.785156 -6.363281 -2.484375 -6.363281 -3.347656 C -6.363281 -4.175781 -6.078125 -4.855469 -5.511719 -5.382813 C -4.945313 -5.910156 -4.148438 -6.175781 -3.121094 -6.175781 C -3.054688 -6.175781 -2.960938 -6.171875 -2.839844 -6.171875 L -2.84375 -1.53125 C -2.15625 -1.566406 -1.632813 -1.761719 -1.269531 -2.109375 C -0.90625 -2.457031 -0.726563 -2.890625 -0.726563 -3.410156 C -0.726563 -3.796875 -0.828125 -4.125 -1.03125 -4.402344 C -1.234375 -4.671875 -1.558594 -4.890625 -2.003906 -5.050781 Z M -3.710938 -1.589844 L -3.707031 -5.0625 C -4.226563 -5.015625 -4.621094 -4.882813 -4.886719 -4.664063 C -5.292969 -4.328125 -5.496094 -3.890625 -5.496094 -3.359375 C -5.496094 -2.871094 -5.332031 -2.464844 -5.007813 -2.136719 C -4.683594 -1.804688 -4.25 -1.621094 -3.710938 -1.589844 Z M -3.710938 -1.589844 \"/>\n",
       "</symbol>\n",
       "<symbol overflow=\"visible\" id=\"glyph3-4\">\n",
       "<path style=\"stroke:none;\" d=\"\"/>\n",
       "</symbol>\n",
       "<symbol overflow=\"visible\" id=\"glyph3-5\">\n",
       "<path style=\"stroke:none;\" d=\"M 2.382813 -0.789063 L -6.222656 -0.792969 L -6.222656 -1.753906 L -5.414063 -1.753906 C -5.730469 -1.976563 -5.964844 -2.234375 -6.125 -2.519531 C -6.28125 -2.804688 -6.363281 -3.148438 -6.363281 -3.558594 C -6.363281 -4.082031 -6.226563 -4.550781 -5.953125 -4.960938 C -5.679688 -5.363281 -5.292969 -5.671875 -4.792969 -5.882813 C -4.292969 -6.089844 -3.746094 -6.191406 -3.15625 -6.195313 C -2.519531 -6.191406 -1.945313 -6.078125 -1.4375 -5.851563 C -0.921875 -5.621094 -0.53125 -5.289063 -0.265625 -4.855469 C 0.0078125 -4.417969 0.140625 -3.960938 0.140625 -3.480469 C 0.140625 -3.128906 0.0664063 -2.8125 -0.0820313 -2.535156 C -0.230469 -2.253906 -0.417969 -2.023438 -0.644531 -1.84375 L 2.382813 -1.84375 Z M -3.078125 -1.746094 C -2.273438 -1.746094 -1.683594 -1.90625 -1.300781 -2.230469 C -0.917969 -2.554688 -0.726563 -2.949219 -0.726563 -3.410156 C -0.726563 -3.878906 -0.921875 -4.277344 -1.320313 -4.613281 C -1.710938 -4.945313 -2.328125 -5.113281 -3.164063 -5.117188 C -3.953125 -5.113281 -4.546875 -4.949219 -4.945313 -4.625 C -5.339844 -4.296875 -5.535156 -3.910156 -5.539063 -3.457031 C -5.535156 -3.007813 -5.324219 -2.609375 -4.90625 -2.265625 C -4.484375 -1.917969 -3.875 -1.746094 -3.078125 -1.746094 Z M -3.078125 -1.746094 \"/>\n",
       "</symbol>\n",
       "<symbol overflow=\"visible\" id=\"glyph3-6\">\n",
       "<path style=\"stroke:none;\" d=\"M 0 -0.78125 L -6.222656 -0.78125 L -6.222656 -1.730469 L -5.28125 -1.730469 C -5.71875 -1.96875 -6.011719 -2.191406 -6.152344 -2.398438 C -6.292969 -2.601563 -6.363281 -2.828125 -6.363281 -3.078125 C -6.363281 -3.429688 -6.25 -3.792969 -6.023438 -4.160156 L -5.046875 -3.796875 C -5.195313 -3.539063 -5.273438 -3.28125 -5.273438 -3.023438 C -5.273438 -2.792969 -5.203125 -2.585938 -5.066406 -2.402344 C -4.925781 -2.21875 -4.734375 -2.085938 -4.488281 -2.011719 C -4.113281 -1.890625 -3.703125 -1.832031 -3.257813 -1.835938 L 0 -1.835938 Z M 0 -0.78125 \"/>\n",
       "</symbol>\n",
       "<symbol overflow=\"visible\" id=\"glyph3-7\">\n",
       "<path style=\"stroke:none;\" d=\"M 0 -4.46875 L 0 -3.414063 L -6.71875 -3.417969 C -6.476563 -3.160156 -6.234375 -2.828125 -5.996094 -2.417969 C -5.75 -2.003906 -5.570313 -1.632813 -5.449219 -1.308594 L -6.46875 -1.308594 C -6.742188 -1.894531 -7.078125 -2.410156 -7.476563 -2.851563 C -7.871094 -3.292969 -8.253906 -3.605469 -8.625 -3.792969 L -8.625 -4.472656 Z M 0 -4.46875 \"/>\n",
       "</symbol>\n",
       "<symbol overflow=\"visible\" id=\"glyph3-8\">\n",
       "<path style=\"stroke:none;\" d=\"M -4.234375 -0.5 C -5.246094 -0.496094 -6.0625 -0.601563 -6.6875 -0.8125 C -7.304688 -1.019531 -7.785156 -1.328125 -8.121094 -1.742188 C -8.457031 -2.152344 -8.625 -2.671875 -8.625 -3.300781 C -8.625 -3.757813 -8.53125 -4.164063 -8.347656 -4.511719 C -8.160156 -4.859375 -7.890625 -5.144531 -7.542969 -5.371094 C -7.191406 -5.59375 -6.765625 -5.773438 -6.265625 -5.90625 C -5.761719 -6.035156 -5.085938 -6.097656 -4.234375 -6.101563 C -3.222656 -6.097656 -2.410156 -5.996094 -1.792969 -5.789063 C -1.175781 -5.578125 -0.695313 -5.265625 -0.359375 -4.859375 C -0.0195313 -4.445313 0.144531 -3.925781 0.148438 -3.296875 C 0.144531 -2.464844 -0.148438 -1.816406 -0.742188 -1.347656 C -1.457031 -0.78125 -2.621094 -0.496094 -4.234375 -0.5 Z M -4.234375 -1.582031 C -2.824219 -1.582031 -1.886719 -1.746094 -1.417969 -2.074219 C -0.949219 -2.402344 -0.714844 -2.808594 -0.71875 -3.296875 C -0.714844 -3.777344 -0.949219 -4.183594 -1.421875 -4.519531 C -1.886719 -4.847656 -2.824219 -5.015625 -4.234375 -5.015625 C -5.648438 -5.015625 -6.589844 -4.847656 -7.054688 -4.519531 C -7.515625 -4.1875 -7.746094 -3.777344 -7.75 -3.289063 C -7.746094 -2.800781 -7.542969 -2.414063 -7.136719 -2.128906 C -6.613281 -1.761719 -5.644531 -1.582031 -4.234375 -1.582031 Z M -4.234375 -1.582031 \"/>\n",
       "</symbol>\n",
       "<symbol overflow=\"visible\" id=\"glyph3-9\">\n",
       "<path style=\"stroke:none;\" d=\"M 0 -1.066406 L -1.203125 -1.066406 L -1.199219 -2.265625 L 0 -2.265625 C 0.441406 -2.261719 0.796875 -2.183594 1.070313 -2.03125 C 1.339844 -1.871094 1.550781 -1.625 1.699219 -1.289063 L 1.25 -0.996094 C 1.148438 -1.214844 1.003906 -1.378906 0.816406 -1.488281 C 0.625 -1.59375 0.355469 -1.652344 0 -1.664063 Z M 0 -1.066406 \"/>\n",
       "</symbol>\n",
       "<symbol overflow=\"visible\" id=\"glyph3-10\">\n",
       "<path style=\"stroke:none;\" d=\"M -1.859375 -0.371094 L -2.023438 -1.414063 C -1.601563 -1.46875 -1.28125 -1.632813 -1.058594 -1.902344 C -0.835938 -2.167969 -0.726563 -2.542969 -0.726563 -3.023438 C -0.726563 -3.507813 -0.824219 -3.867188 -1.019531 -4.101563 C -1.214844 -4.335938 -1.445313 -4.453125 -1.714844 -4.453125 C -1.953125 -4.453125 -2.140625 -4.347656 -2.277344 -4.140625 C -2.367188 -3.996094 -2.488281 -3.636719 -2.636719 -3.0625 C -2.832031 -2.289063 -3 -1.753906 -3.144531 -1.457031 C -3.285156 -1.15625 -3.480469 -0.929688 -3.734375 -0.777344 C -3.984375 -0.621094 -4.265625 -0.542969 -4.570313 -0.546875 C -4.84375 -0.542969 -5.097656 -0.605469 -5.339844 -0.734375 C -5.574219 -0.859375 -5.773438 -1.035156 -5.929688 -1.253906 C -6.046875 -1.417969 -6.148438 -1.640625 -6.234375 -1.925781 C -6.320313 -2.207031 -6.363281 -2.511719 -6.363281 -2.835938 C -6.363281 -3.324219 -6.292969 -3.75 -6.152344 -4.121094 C -6.011719 -4.488281 -5.820313 -4.761719 -5.578125 -4.9375 C -5.335938 -5.113281 -5.015625 -5.234375 -4.617188 -5.304688 L -4.476563 -4.273438 C -4.796875 -4.222656 -5.046875 -4.085938 -5.226563 -3.863281 C -5.40625 -3.636719 -5.496094 -3.320313 -5.496094 -2.914063 C -5.496094 -2.425781 -5.414063 -2.082031 -5.253906 -1.875 C -5.09375 -1.667969 -4.90625 -1.5625 -4.695313 -1.566406 C -4.554688 -1.5625 -4.433594 -1.605469 -4.324219 -1.695313 C -4.210938 -1.777344 -4.117188 -1.914063 -4.042969 -2.097656 C -4.003906 -2.203125 -3.914063 -2.511719 -3.773438 -3.03125 C -3.570313 -3.773438 -3.40625 -4.292969 -3.28125 -4.589844 C -3.15625 -4.878906 -2.972656 -5.113281 -2.730469 -5.285156 C -2.488281 -5.453125 -2.1875 -5.535156 -1.828125 -5.539063 C -1.476563 -5.535156 -1.144531 -5.433594 -0.832031 -5.230469 C -0.519531 -5.023438 -0.277344 -4.726563 -0.113281 -4.339844 C 0.0585938 -3.953125 0.140625 -3.515625 0.140625 -3.03125 C 0.140625 -2.21875 -0.0273438 -1.601563 -0.363281 -1.179688 C -0.699219 -0.753906 -1.195313 -0.484375 -1.859375 -0.371094 Z M -1.859375 -0.371094 \"/>\n",
       "</symbol>\n",
       "<symbol overflow=\"visible\" id=\"glyph3-11\">\n",
       "<path style=\"stroke:none;\" d=\"M -3.109375 -0.398438 C -4.261719 -0.398438 -5.117188 -0.71875 -5.671875 -1.359375 C -6.132813 -1.894531 -6.363281 -2.546875 -6.363281 -3.316406 C -6.363281 -4.171875 -6.082031 -4.871094 -5.519531 -5.414063 C -4.957031 -5.953125 -4.183594 -6.222656 -3.199219 -6.226563 C -2.394531 -6.222656 -1.761719 -6.101563 -1.308594 -5.867188 C -0.847656 -5.625 -0.492188 -5.277344 -0.238281 -4.820313 C 0.015625 -4.359375 0.140625 -3.859375 0.140625 -3.316406 C 0.140625 -2.441406 -0.136719 -1.734375 -0.695313 -1.203125 C -1.253906 -0.664063 -2.058594 -0.398438 -3.109375 -0.398438 Z M -3.109375 -1.484375 C -2.308594 -1.480469 -1.710938 -1.65625 -1.320313 -2.003906 C -0.921875 -2.347656 -0.726563 -2.785156 -0.726563 -3.316406 C -0.726563 -3.839844 -0.925781 -4.273438 -1.324219 -4.621094 C -1.722656 -4.96875 -2.328125 -5.144531 -3.144531 -5.144531 C -3.914063 -5.144531 -4.496094 -4.96875 -4.894531 -4.617188 C -5.289063 -4.265625 -5.488281 -3.832031 -5.492188 -3.316406 C -5.488281 -2.789063 -5.292969 -2.351563 -4.898438 -2.003906 C -4.5 -1.65625 -3.902344 -1.480469 -3.109375 -1.484375 Z M -3.109375 -1.484375 \"/>\n",
       "</symbol>\n",
       "<symbol overflow=\"visible\" id=\"glyph3-12\">\n",
       "<path style=\"stroke:none;\" d=\"M 0 -0.789063 L -6.222656 -0.792969 L -6.222656 -1.742188 L -5.335938 -1.742188 C -6.019531 -2.195313 -6.363281 -2.855469 -6.363281 -3.722656 C -6.363281 -4.089844 -6.292969 -4.433594 -6.160156 -4.753906 C -6.023438 -5.066406 -5.847656 -5.304688 -5.632813 -5.460938 C -5.410156 -5.617188 -5.152344 -5.726563 -4.851563 -5.789063 C -4.65625 -5.828125 -4.3125 -5.847656 -3.824219 -5.847656 L 0 -5.847656 L 0 -4.792969 L -3.785156 -4.792969 C -4.214844 -4.792969 -4.535156 -4.75 -4.75 -4.667969 C -4.960938 -4.585938 -5.128906 -4.441406 -5.257813 -4.234375 C -5.382813 -4.023438 -5.449219 -3.777344 -5.449219 -3.5 C -5.449219 -3.046875 -5.304688 -2.660156 -5.019531 -2.335938 C -4.734375 -2.007813 -4.195313 -1.84375 -3.398438 -1.847656 L 0 -1.84375 Z M 0 -0.789063 \"/>\n",
       "</symbol>\n",
       "<symbol overflow=\"visible\" id=\"glyph3-13\">\n",
       "<path style=\"stroke:none;\" d=\"M -2.578125 -0.382813 L -3.640625 -0.382813 L -3.640625 -3.621094 L -2.578125 -3.621094 Z M -2.578125 -0.382813 \"/>\n",
       "</symbol>\n",
       "<symbol overflow=\"visible\" id=\"glyph3-14\">\n",
       "<path style=\"stroke:none;\" d=\"M 2.398438 -0.742188 L 1.40625 -0.625 C 1.46875 -0.855469 1.5 -1.058594 1.5 -1.230469 C 1.5 -1.464844 1.460938 -1.652344 1.382813 -1.792969 C 1.304688 -1.933594 1.195313 -2.046875 1.054688 -2.140625 C 0.949219 -2.203125 0.6875 -2.3125 0.269531 -2.460938 C 0.210938 -2.480469 0.125 -2.511719 0.0117188 -2.554688 L -6.222656 -0.195313 L -6.222656 -1.332031 L -2.617188 -2.625 C -2.160156 -2.789063 -1.679688 -2.9375 -1.175781 -3.078125 C -1.65625 -3.195313 -2.128906 -3.339844 -2.59375 -3.507813 L -6.222656 -4.839844 L -6.222656 -5.894531 L 0.105469 -3.527344 C 0.789063 -3.273438 1.257813 -3.074219 1.519531 -2.9375 C 1.863281 -2.746094 2.117188 -2.53125 2.28125 -2.289063 C 2.4375 -2.042969 2.519531 -1.753906 2.523438 -1.421875 C 2.519531 -1.214844 2.476563 -0.988281 2.398438 -0.742188 Z M 2.398438 -0.742188 \"/>\n",
       "</symbol>\n",
       "</g>\n",
       "<clipPath id=\"clip1\">\n",
       "  <path d=\"M 46.757813 28.78125 L 490.601563 28.78125 L 490.601563 239.773438 L 46.757813 239.773438 Z M 46.757813 28.78125 \"/>\n",
       "</clipPath>\n",
       "<clipPath id=\"clip2\">\n",
       "  <path d=\"M 46.757813 256.75 L 490.601563 256.75 L 490.601563 467.742188 L 46.757813 467.742188 Z M 46.757813 256.75 \"/>\n",
       "</clipPath>\n",
       "</defs>\n",
       "<g id=\"surface1\">\n",
       "<rect x=\"0\" y=\"0\" width=\"504\" height=\"504\" style=\"fill:rgb(100%,100%,100%);fill-opacity:1;stroke:none;\"/>\n",
       "<rect x=\"0\" y=\"0\" width=\"504\" height=\"504\" style=\"fill:rgb(100%,100%,100%);fill-opacity:1;stroke:none;\"/>\n",
       "<path style=\"fill:none;stroke-width:1.062992;stroke-linecap:round;stroke-linejoin:round;stroke:rgb(100%,100%,100%);stroke-opacity:1;stroke-miterlimit:10;\" d=\"M 0 504 L 504 504 L 504 0 L 0 0 Z M 0 504 \"/>\n",
       "<g clip-path=\"url(#clip1)\" clip-rule=\"nonzero\">\n",
       "<path style=\" stroke:none;fill-rule:nonzero;fill:rgb(100%,100%,100%);fill-opacity:1;\" d=\"M 46.757813 238.773438 L 489.601563 238.773438 L 489.601563 28.78125 L 46.757813 28.78125 Z M 46.757813 238.773438 \"/>\n",
       "<path style=\"fill:none;stroke-width:1.062992;stroke-linecap:butt;stroke-linejoin:round;stroke:rgb(98.039216%,98.039216%,98.039216%);stroke-opacity:1;stroke-miterlimit:10;\" d=\"M 46.757813 164.253906 L 489.601563 164.253906 \"/>\n",
       "<path style=\"fill:none;stroke-width:1.062992;stroke-linecap:butt;stroke-linejoin:round;stroke:rgb(98.039216%,98.039216%,98.039216%);stroke-opacity:1;stroke-miterlimit:10;\" d=\"M 46.757813 83.140625 L 489.601563 83.140625 \"/>\n",
       "<path style=\"fill:none;stroke-width:1.062992;stroke-linecap:butt;stroke-linejoin:round;stroke:rgb(98.039216%,98.039216%,98.039216%);stroke-opacity:1;stroke-miterlimit:10;\" d=\"M 132.507813 238.773438 L 132.507813 28.78125 \"/>\n",
       "<path style=\"fill:none;stroke-width:1.062992;stroke-linecap:butt;stroke-linejoin:round;stroke:rgb(98.039216%,98.039216%,98.039216%);stroke-opacity:1;stroke-miterlimit:10;\" d=\"M 233.152344 238.773438 L 233.152344 28.78125 \"/>\n",
       "<path style=\"fill:none;stroke-width:1.062992;stroke-linecap:butt;stroke-linejoin:round;stroke:rgb(98.039216%,98.039216%,98.039216%);stroke-opacity:1;stroke-miterlimit:10;\" d=\"M 333.800781 238.773438 L 333.800781 28.78125 \"/>\n",
       "<path style=\"fill:none;stroke-width:1.062992;stroke-linecap:butt;stroke-linejoin:round;stroke:rgb(98.039216%,98.039216%,98.039216%);stroke-opacity:1;stroke-miterlimit:10;\" d=\"M 434.445313 238.773438 L 434.445313 28.78125 \"/>\n",
       "<path style=\"fill:none;stroke-width:0.425197;stroke-linecap:butt;stroke-linejoin:round;stroke:rgb(89.803922%,89.803922%,89.803922%);stroke-opacity:1;stroke-miterlimit:10;\" d=\"M 46.757813 204.808594 L 489.601563 204.808594 \"/>\n",
       "<path style=\"fill:none;stroke-width:0.425197;stroke-linecap:butt;stroke-linejoin:round;stroke:rgb(89.803922%,89.803922%,89.803922%);stroke-opacity:1;stroke-miterlimit:10;\" d=\"M 46.757813 123.695313 L 489.601563 123.695313 \"/>\n",
       "<path style=\"fill:none;stroke-width:0.425197;stroke-linecap:butt;stroke-linejoin:round;stroke:rgb(89.803922%,89.803922%,89.803922%);stroke-opacity:1;stroke-miterlimit:10;\" d=\"M 46.757813 42.582031 L 489.601563 42.582031 \"/>\n",
       "<path style=\"fill:none;stroke-width:0.425197;stroke-linecap:butt;stroke-linejoin:round;stroke:rgb(89.803922%,89.803922%,89.803922%);stroke-opacity:1;stroke-miterlimit:10;\" d=\"M 82.183594 238.773438 L 82.183594 28.78125 \"/>\n",
       "<path style=\"fill:none;stroke-width:0.425197;stroke-linecap:butt;stroke-linejoin:round;stroke:rgb(89.803922%,89.803922%,89.803922%);stroke-opacity:1;stroke-miterlimit:10;\" d=\"M 182.832031 238.773438 L 182.832031 28.78125 \"/>\n",
       "<path style=\"fill:none;stroke-width:0.425197;stroke-linecap:butt;stroke-linejoin:round;stroke:rgb(89.803922%,89.803922%,89.803922%);stroke-opacity:1;stroke-miterlimit:10;\" d=\"M 283.476563 238.773438 L 283.476563 28.78125 \"/>\n",
       "<path style=\"fill:none;stroke-width:0.425197;stroke-linecap:butt;stroke-linejoin:round;stroke:rgb(89.803922%,89.803922%,89.803922%);stroke-opacity:1;stroke-miterlimit:10;\" d=\"M 384.121094 238.773438 L 384.121094 28.78125 \"/>\n",
       "<path style=\"fill:none;stroke-width:0.425197;stroke-linecap:butt;stroke-linejoin:round;stroke:rgb(89.803922%,89.803922%,89.803922%);stroke-opacity:1;stroke-miterlimit:10;\" d=\"M 484.769531 238.773438 L 484.769531 28.78125 \"/>\n",
       "<path style=\" stroke:none;fill-rule:nonzero;fill:rgb(0%,0%,0%);fill-opacity:0.501961;\" d=\"M 313.511719 121.171875 C 313.511719 125.921875 306.390625 125.921875 306.390625 121.171875 C 306.390625 116.425781 313.511719 116.425781 313.511719 121.171875 \"/>\n",
       "<path style=\" stroke:none;fill-rule:nonzero;fill:rgb(0%,0%,0%);fill-opacity:0.501961;\" d=\"M 313.511719 89.8125 C 313.511719 94.558594 306.390625 94.558594 306.390625 89.8125 C 306.390625 85.0625 313.511719 85.0625 313.511719 89.8125 \"/>\n",
       "<path style=\" stroke:none;fill-rule:nonzero;fill:rgb(0%,0%,0%);fill-opacity:0.501961;\" d=\"M 414.15625 97.585938 C 414.15625 102.332031 407.035156 102.332031 407.035156 97.585938 C 407.035156 92.835938 414.15625 92.835938 414.15625 97.585938 \"/>\n",
       "<path style=\" stroke:none;fill-rule:nonzero;fill:rgb(0%,0%,0%);fill-opacity:0.501961;\" d=\"M 387.394531 38.324219 C 387.394531 40.28125 384.460938 40.28125 384.460938 38.324219 C 384.460938 36.371094 387.394531 36.371094 387.394531 38.324219 \"/>\n",
       "<path style=\" stroke:none;fill-rule:nonzero;fill:rgb(0%,0%,0%);fill-opacity:0.501961;\" d=\"M 110.199219 229.226563 C 110.199219 231.28125 107.117188 231.28125 107.117188 229.226563 C 107.117188 227.171875 110.199219 227.171875 110.199219 229.226563 \"/>\n",
       "<path style=\" stroke:none;fill-rule:nonzero;fill:rgb(0%,0%,0%);fill-opacity:0.501961;\" d=\"M 110.199219 229.226563 C 110.199219 231.28125 107.117188 231.28125 107.117188 229.226563 C 107.117188 227.171875 110.199219 227.171875 110.199219 229.226563 \"/>\n",
       "<path style=\" stroke:none;fill-rule:nonzero;fill:rgb(0%,0%,0%);fill-opacity:0.501961;\" d=\"M 284.996094 229.226563 C 284.996094 231.253906 281.957031 231.253906 281.957031 229.226563 C 281.957031 227.199219 284.996094 227.199219 284.996094 229.226563 \"/>\n",
       "<path style=\" stroke:none;fill-rule:nonzero;fill:rgb(0%,0%,0%);fill-opacity:0.501961;\" d=\"M 358.546875 99.5625 C 358.546875 101.53125 355.589844 101.53125 355.589844 99.5625 C 355.589844 97.59375 358.546875 97.59375 358.546875 99.5625 \"/>\n",
       "<path style=\" stroke:none;fill-rule:nonzero;fill:rgb(0%,0%,0%);fill-opacity:0.501961;\" d=\"M 211.589844 111.160156 C 211.589844 114.207031 207.019531 114.207031 207.019531 111.160156 C 207.019531 108.113281 211.589844 108.113281 211.589844 111.160156 \"/>\n",
       "<path style=\" stroke:none;fill-rule:nonzero;fill:rgb(0%,0%,0%);fill-opacity:0.501961;\" d=\"M 211.621094 97.921875 C 211.621094 101.011719 206.988281 101.011719 206.988281 97.921875 C 206.988281 94.832031 211.621094 94.832031 211.621094 97.921875 \"/>\n",
       "<path style=\" stroke:none;fill-rule:nonzero;fill:rgb(0%,0%,0%);fill-opacity:0.501961;\" d=\"M 211.640625 88.558594 C 211.640625 91.675781 206.964844 91.675781 206.964844 88.558594 C 206.964844 85.441406 211.640625 85.441406 211.640625 88.558594 \"/>\n",
       "<path style=\" stroke:none;fill-rule:nonzero;fill:rgb(0%,0%,0%);fill-opacity:0.501961;\" d=\"M 211.621094 111.921875 C 211.621094 115.011719 206.988281 115.011719 206.988281 111.921875 C 206.988281 108.832031 211.621094 108.832031 211.621094 111.921875 \"/>\n",
       "<path style=\" stroke:none;fill-rule:nonzero;fill:rgb(0%,0%,0%);fill-opacity:0.501961;\" d=\"M 270.878906 229.226563 C 270.878906 232.828125 265.476563 232.828125 265.476563 229.226563 C 265.476563 225.625 270.878906 225.625 270.878906 229.226563 \"/>\n",
       "<path style=\" stroke:none;fill-rule:nonzero;fill:rgb(0%,0%,0%);fill-opacity:0.501961;\" d=\"M 270.898438 229.226563 C 270.898438 232.855469 265.457031 232.855469 265.457031 229.226563 C 265.457031 225.597656 270.898438 225.597656 270.898438 229.226563 \"/>\n",
       "<path style=\" stroke:none;fill-rule:nonzero;fill:rgb(0%,0%,0%);fill-opacity:0.501961;\" d=\"M 214.949219 132.300781 C 214.949219 135.417969 212.421875 137.945313 209.304688 137.945313 C 206.1875 137.945313 203.660156 135.417969 203.660156 132.300781 C 203.660156 129.183594 206.1875 126.65625 209.304688 126.65625 C 212.421875 126.65625 214.949219 129.183594 214.949219 132.300781 \"/>\n",
       "<path style=\" stroke:none;fill-rule:nonzero;fill:rgb(0%,0%,0%);fill-opacity:0.501961;\" d=\"M 211.152344 229.226563 C 211.152344 231.691406 207.453125 231.691406 207.453125 229.226563 C 207.453125 226.761719 211.152344 226.761719 211.152344 229.226563 \"/>\n",
       "<path style=\" stroke:none;fill-rule:nonzero;fill:rgb(0%,0%,0%);fill-opacity:0.501961;\" d=\"M 211.175781 229.226563 C 211.175781 231.722656 207.433594 231.722656 207.433594 229.226563 C 207.433594 226.730469 211.175781 226.730469 211.175781 229.226563 \"/>\n",
       "<path style=\" stroke:none;fill-rule:nonzero;fill:rgb(0%,0%,0%);fill-opacity:0.501961;\" d=\"M 215.339844 125.613281 C 215.339844 128.945313 212.636719 131.648438 209.304688 131.648438 C 205.96875 131.648438 203.265625 128.945313 203.265625 125.613281 C 203.265625 122.277344 205.96875 119.574219 209.304688 119.574219 C 212.636719 119.574219 215.339844 122.277344 215.339844 125.613281 \"/>\n",
       "<path style=\" stroke:none;fill-rule:nonzero;fill:rgb(0%,0%,0%);fill-opacity:0.501961;\" d=\"M 215.40625 126.019531 C 215.40625 129.386719 212.671875 132.121094 209.304688 132.121094 C 205.933594 132.121094 203.203125 129.386719 203.203125 126.019531 C 203.203125 122.648438 205.933594 119.917969 209.304688 119.917969 C 212.671875 119.917969 215.40625 122.648438 215.40625 126.019531 \"/>\n",
       "<path style=\" stroke:none;fill-rule:nonzero;fill:rgb(0%,0%,0%);fill-opacity:0.501961;\" d=\"M 215.257813 167.101563 C 215.257813 170.390625 212.589844 173.054688 209.304688 173.054688 C 206.015625 173.054688 203.351563 170.390625 203.351563 167.101563 C 203.351563 163.816406 206.015625 161.152344 209.304688 161.152344 C 212.589844 161.152344 215.257813 163.816406 215.257813 167.101563 \"/>\n",
       "<path style=\" stroke:none;fill-rule:nonzero;fill:rgb(0%,0%,0%);fill-opacity:0.501961;\" d=\"M 215.265625 132.742188 C 215.265625 136.035156 212.597656 138.707031 209.304688 138.707031 C 206.011719 138.707031 203.339844 136.035156 203.339844 132.742188 C 203.339844 129.449219 206.011719 126.777344 209.304688 126.777344 C 212.597656 126.777344 215.265625 129.449219 215.265625 132.742188 \"/>\n",
       "<path style=\" stroke:none;fill-rule:nonzero;fill:rgb(0%,0%,0%);fill-opacity:0.501961;\" d=\"M 245.785156 138.742188 C 245.785156 144.183594 237.621094 144.183594 237.621094 138.742188 C 237.621094 133.296875 245.785156 133.296875 245.785156 138.742188 \"/>\n",
       "<path style=\" stroke:none;fill-rule:nonzero;fill:rgb(0%,0%,0%);fill-opacity:0.501961;\" d=\"M 145.160156 172.613281 C 145.160156 178.085938 136.957031 178.085938 136.957031 172.613281 C 136.957031 167.144531 145.160156 167.144531 145.160156 172.613281 \"/>\n",
       "<path style=\" stroke:none;fill-rule:nonzero;fill:rgb(0%,0%,0%);fill-opacity:0.501961;\" d=\"M 243.023438 229.226563 C 243.023438 230.984375 240.386719 230.984375 240.386719 229.226563 C 240.386719 227.46875 243.023438 227.46875 243.023438 229.226563 \"/>\n",
       "<path style=\" stroke:none;fill-rule:nonzero;fill:rgb(0%,0%,0%);fill-opacity:0.501961;\" d=\"M 142.335938 124.40625 C 142.335938 126.109375 139.78125 126.109375 139.78125 124.40625 C 139.78125 122.707031 142.335938 122.707031 142.335938 124.40625 \"/>\n",
       "<path style=\" stroke:none;fill-rule:nonzero;fill:rgb(0%,0%,0%);fill-opacity:0.501961;\" d=\"M 142.324219 146.746094 C 142.324219 148.433594 139.792969 148.433594 139.792969 146.746094 C 139.792969 145.0625 142.324219 145.0625 142.324219 146.746094 \"/>\n",
       "<path style=\" stroke:none;fill-rule:nonzero;fill:rgb(0%,0%,0%);fill-opacity:0.501961;\" d=\"M 243.109375 136.027344 C 243.109375 137.898438 240.300781 137.898438 240.300781 136.027344 C 240.300781 134.15625 243.109375 134.15625 243.109375 136.027344 \"/>\n",
       "<path style=\" stroke:none;fill-rule:nonzero;fill:rgb(0%,0%,0%);fill-opacity:0.501961;\" d=\"M 212.578125 148.003906 C 212.578125 152.371094 206.03125 152.371094 206.03125 148.003906 C 206.03125 143.640625 212.578125 143.640625 212.578125 148.003906 \"/>\n",
       "<path style=\" stroke:none;fill-rule:nonzero;fill:rgb(0%,0%,0%);fill-opacity:0.501961;\" d=\"M 212.566406 168.925781 C 212.566406 173.277344 206.039063 173.277344 206.039063 168.925781 C 206.039063 164.574219 212.566406 164.574219 212.566406 168.925781 \"/>\n",
       "<path style=\" stroke:none;fill-rule:nonzero;fill:rgb(0%,0%,0%);fill-opacity:0.501961;\" d=\"M 313.246094 135.082031 C 313.246094 139.476563 306.65625 139.476563 306.65625 135.082031 C 306.65625 130.691406 313.246094 130.691406 313.246094 135.082031 \"/>\n",
       "<path style=\" stroke:none;fill-rule:nonzero;fill:rgb(0%,0%,0%);fill-opacity:0.501961;\" d=\"M 244.90625 130.285156 C 244.90625 134.550781 238.503906 134.550781 238.503906 130.285156 C 238.503906 126.019531 244.90625 126.019531 244.90625 130.285156 \"/>\n",
       "<path style=\" stroke:none;fill-rule:nonzero;fill:rgb(0%,0%,0%);fill-opacity:0.501961;\" d=\"M 244.90625 165.015625 C 244.90625 169.28125 238.503906 169.28125 238.503906 165.015625 C 238.503906 160.75 244.90625 160.75 244.90625 165.015625 \"/>\n",
       "<path style=\" stroke:none;fill-rule:nonzero;fill:rgb(0%,0%,0%);fill-opacity:0.501961;\" d=\"M 374.988281 117.699219 C 374.988281 121.105469 372.230469 123.863281 368.824219 123.863281 C 365.417969 123.863281 362.660156 121.105469 362.660156 117.699219 C 362.660156 114.292969 365.417969 111.535156 368.824219 111.535156 C 372.230469 111.535156 374.988281 114.292969 374.988281 117.699219 \"/>\n",
       "<path style=\" stroke:none;fill-rule:nonzero;fill:rgb(0%,0%,0%);fill-opacity:0.501961;\" d=\"M 374.765625 111.417969 C 374.765625 114.699219 372.105469 117.359375 368.824219 117.359375 C 365.542969 117.359375 362.882813 114.699219 362.882813 111.417969 C 362.882813 108.136719 365.542969 105.476563 368.824219 105.476563 C 372.105469 105.476563 374.765625 108.136719 374.765625 111.417969 \"/>\n",
       "<path style=\" stroke:none;fill-rule:nonzero;fill:rgb(0%,0%,0%);fill-opacity:0.501961;\" d=\"M 243.234375 151.625 C 243.234375 153.667969 240.175781 153.667969 240.175781 151.625 C 240.175781 149.585938 243.234375 149.585938 243.234375 151.625 \"/>\n",
       "<path style=\" stroke:none;fill-rule:nonzero;fill:rgb(0%,0%,0%);fill-opacity:0.501961;\" d=\"M 243.226563 151.042969 C 243.226563 153.066406 240.183594 153.066406 240.183594 151.042969 C 240.183594 149.015625 243.226563 149.015625 243.226563 151.042969 \"/>\n",
       "<path style=\" stroke:none;fill-rule:nonzero;fill:rgb(0%,0%,0%);fill-opacity:0.501961;\" d=\"M 215.683594 169.3125 C 215.683594 172.835938 212.828125 175.691406 209.304688 175.691406 C 205.78125 175.691406 202.925781 172.835938 202.925781 169.3125 C 202.925781 165.789063 205.78125 162.933594 209.304688 162.933594 C 212.828125 162.933594 215.683594 165.789063 215.683594 169.3125 \"/>\n",
       "<path style=\" stroke:none;fill-rule:nonzero;fill:rgb(0%,0%,0%);fill-opacity:0.501961;\" d=\"M 248.082031 148.265625 C 248.082031 151.789063 245.226563 154.644531 241.703125 154.644531 C 238.183594 154.644531 235.328125 151.789063 235.328125 148.265625 C 235.328125 144.746094 238.183594 141.890625 241.703125 141.890625 C 245.226563 141.890625 248.082031 144.746094 248.082031 148.265625 \"/>\n",
       "<path style=\" stroke:none;fill-rule:nonzero;fill:rgb(0%,0%,0%);fill-opacity:0.501961;\" d=\"M 186.753906 172.625 C 186.753906 177.855469 178.90625 177.855469 178.90625 172.625 C 178.90625 167.394531 186.753906 167.394531 186.753906 172.625 \"/>\n",
       "<path style=\" stroke:none;fill-rule:nonzero;fill:rgb(0%,0%,0%);fill-opacity:0.501961;\" d=\"M 245.710938 152.675781 C 245.710938 158.019531 237.699219 158.019531 237.699219 152.675781 C 237.699219 147.332031 245.710938 147.332031 245.710938 152.675781 \"/>\n",
       "<path style=\" stroke:none;fill-rule:nonzero;fill:rgb(0%,0%,0%);fill-opacity:0.501961;\" d=\"M 68.417969 114.042969 C 68.417969 116.085938 65.355469 116.085938 65.355469 114.042969 C 65.355469 112.003906 68.417969 112.003906 68.417969 114.042969 \"/>\n",
       "<path style=\" stroke:none;fill-rule:nonzero;fill:rgb(0%,0%,0%);fill-opacity:0.501961;\" d=\"M 210.8125 99.441406 C 210.8125 101.453125 207.792969 101.453125 207.792969 99.441406 C 207.792969 97.429688 210.8125 97.429688 210.8125 99.441406 \"/>\n",
       "<path style=\" stroke:none;fill-rule:nonzero;fill:rgb(0%,0%,0%);fill-opacity:0.501961;\" d=\"M 242.875 126.996094 C 242.875 128.554688 240.535156 128.554688 240.535156 126.996094 C 240.535156 125.4375 242.875 125.4375 242.875 126.996094 \"/>\n",
       "<path style=\" stroke:none;fill-rule:nonzero;fill:rgb(0%,0%,0%);fill-opacity:0.501961;\" d=\"M 213.777344 180.730469 C 213.777344 186.695313 204.828125 186.695313 204.828125 180.730469 C 204.828125 174.761719 213.777344 174.761719 213.777344 180.730469 \"/>\n",
       "<path style=\" stroke:none;fill-rule:nonzero;fill:rgb(0%,0%,0%);fill-opacity:0.501961;\" d=\"M 271.453125 119.699219 C 271.453125 124.066406 264.902344 124.066406 264.902344 119.699219 C 264.902344 115.335938 271.453125 115.335938 271.453125 119.699219 \"/>\n",
       "<path style=\" stroke:none;fill-rule:nonzero;fill:rgb(0%,0%,0%);fill-opacity:0.501961;\" d=\"M 247.964844 139.984375 C 247.964844 143.441406 245.164063 146.246094 241.703125 146.246094 C 238.246094 146.246094 235.445313 143.441406 235.445313 139.984375 C 235.445313 136.527344 238.246094 133.722656 241.703125 133.722656 C 245.164063 133.722656 247.964844 136.527344 247.964844 139.984375 \"/>\n",
       "<path style=\" stroke:none;fill-rule:nonzero;fill:rgb(0%,0%,0%);fill-opacity:0.501961;\" d=\"M 215.597656 124.636719 C 215.597656 128.113281 212.78125 130.929688 209.304688 130.929688 C 205.828125 130.929688 203.011719 128.113281 203.011719 124.636719 C 203.011719 121.160156 205.828125 118.34375 209.304688 118.34375 C 212.78125 118.34375 215.597656 121.160156 215.597656 124.636719 \"/>\n",
       "<path style=\" stroke:none;fill-rule:nonzero;fill:rgb(0%,0%,0%);fill-opacity:0.501961;\" d=\"M 215.574219 113.789063 C 215.574219 117.253906 212.769531 120.0625 209.304688 120.0625 C 205.839844 120.0625 203.03125 117.253906 203.03125 113.789063 C 203.03125 110.324219 205.839844 107.519531 209.304688 107.519531 C 212.769531 107.519531 215.574219 110.324219 215.574219 113.789063 \"/>\n",
       "<path style=\" stroke:none;fill-rule:nonzero;fill:rgb(0%,0%,0%);fill-opacity:0.501961;\" d=\"M 213.320313 150.597656 C 213.320313 155.957031 205.285156 155.957031 205.285156 150.597656 C 205.285156 145.242188 213.320313 145.242188 213.320313 150.597656 \"/>\n",
       "<path style=\" stroke:none;fill-rule:nonzero;fill:rgb(0%,0%,0%);fill-opacity:0.501961;\" d=\"M 245.085938 229.226563 C 245.085938 233.734375 238.324219 233.734375 238.324219 229.226563 C 238.324219 224.71875 245.085938 224.71875 245.085938 229.226563 \"/>\n",
       "<path style=\"fill:none;stroke-width:1.062992;stroke-linecap:butt;stroke-linejoin:round;stroke:rgb(20%,40%,100%);stroke-opacity:1;stroke-dasharray:1.062992,3.188976;stroke-miterlimit:1;\" d=\"M 66.886719 185.902344 L 71.238281 184.917969 L 75.585938 183.9375 L 79.9375 182.953125 L 84.289063 181.972656 L 92.992188 180.003906 L 97.339844 179.023438 L 101.691406 178.039063 L 106.042969 177.058594 L 110.394531 176.074219 L 114.746094 175.09375 L 119.09375 174.109375 L 123.445313 173.128906 L 127.796875 172.144531 L 132.148438 171.164063 L 136.496094 170.179688 L 140.847656 169.195313 L 145.199219 168.214844 L 149.550781 167.230469 L 153.902344 166.25 L 158.25 165.265625 L 162.601563 164.285156 L 166.953125 163.300781 L 171.304688 162.320313 L 175.65625 161.335938 L 180.003906 160.355469 L 188.707031 158.386719 L 193.058594 157.40625 L 197.410156 156.421875 L 201.757813 155.441406 L 206.109375 154.457031 L 210.460938 153.476563 L 214.8125 152.492188 L 219.164063 151.511719 L 223.511719 150.527344 L 227.863281 149.546875 L 232.214844 148.5625 L 236.566406 147.582031 L 240.917969 146.597656 L 245.265625 145.613281 L 249.617188 144.632813 L 253.96875 143.648438 L 258.320313 142.667969 L 262.671875 141.683594 L 267.019531 140.703125 L 271.371094 139.71875 L 275.722656 138.738281 L 280.074219 137.753906 L 284.425781 136.773438 L 288.773438 135.789063 L 293.125 134.804688 L 297.476563 133.824219 L 301.828125 132.839844 L 306.179688 131.859375 L 310.527344 130.875 L 314.878906 129.894531 L 319.230469 128.910156 L 323.582031 127.929688 L 327.933594 126.945313 L 332.28125 125.964844 L 340.984375 123.996094 L 345.335938 123.015625 L 349.6875 122.03125 L 354.035156 121.050781 L 358.386719 120.066406 L 362.738281 119.085938 L 367.089844 118.101563 L 371.441406 117.121094 L 375.789063 116.136719 L 380.140625 115.15625 L 388.84375 113.1875 L 393.195313 112.207031 L 397.542969 111.222656 L 401.894531 110.242188 L 406.246094 109.257813 L 410.597656 108.277344 \"/>\n",
       "<path style=\"fill:none;stroke-width:1.062992;stroke-linecap:butt;stroke-linejoin:round;stroke:rgb(100%,0%,0%);stroke-opacity:1;stroke-miterlimit:1;\" d=\"M 66.886719 161.375 L 209.304688 161.375 L 209.304688 139.085938 L 410.597656 139.085938 \"/>\n",
       "<g style=\"fill:rgb(0%,0%,100%);fill-opacity:1;\">\n",
       "  <use xlink:href=\"#glyph0-0\" x=\"430.097656\" y=\"209.882813\"/>\n",
       "  <use xlink:href=\"#glyph0-1\" x=\"437.98013\" y=\"209.882813\"/>\n",
       "  <use xlink:href=\"#glyph0-2\" x=\"441.917907\" y=\"209.882813\"/>\n",
       "  <use xlink:href=\"#glyph0-1\" x=\"450.194851\" y=\"209.882813\"/>\n",
       "  <use xlink:href=\"#glyph0-3\" x=\"454.132628\" y=\"209.882813\"/>\n",
       "  <use xlink:href=\"#glyph0-4\" x=\"462.015102\" y=\"209.882813\"/>\n",
       "  <use xlink:href=\"#glyph0-3\" x=\"465.952879\" y=\"209.882813\"/>\n",
       "  <use xlink:href=\"#glyph0-3\" x=\"473.835353\" y=\"209.882813\"/>\n",
       "  <use xlink:href=\"#glyph0-5\" x=\"481.717827\" y=\"209.882813\"/>\n",
       "</g>\n",
       "<g style=\"fill:rgb(100%,0%,0%);fill-opacity:1;\">\n",
       "  <use xlink:href=\"#glyph0-0\" x=\"430.097656\" y=\"195.597656\"/>\n",
       "  <use xlink:href=\"#glyph0-1\" x=\"437.98013\" y=\"195.597656\"/>\n",
       "  <use xlink:href=\"#glyph0-6\" x=\"441.917907\" y=\"195.597656\"/>\n",
       "  <use xlink:href=\"#glyph0-1\" x=\"450.194851\" y=\"195.597656\"/>\n",
       "  <use xlink:href=\"#glyph0-3\" x=\"454.132628\" y=\"195.597656\"/>\n",
       "  <use xlink:href=\"#glyph0-4\" x=\"462.015102\" y=\"195.597656\"/>\n",
       "  <use xlink:href=\"#glyph0-7\" x=\"465.952879\" y=\"195.597656\"/>\n",
       "  <use xlink:href=\"#glyph0-8\" x=\"473.835353\" y=\"195.597656\"/>\n",
       "  <use xlink:href=\"#glyph0-9\" x=\"481.717827\" y=\"195.597656\"/>\n",
       "</g>\n",
       "<path style=\"fill:none;stroke-width:1.062992;stroke-linecap:round;stroke-linejoin:round;stroke:rgb(49.803922%,49.803922%,49.803922%);stroke-opacity:1;stroke-miterlimit:10;\" d=\"M 46.757813 238.773438 L 489.601563 238.773438 L 489.601563 28.78125 L 46.757813 28.78125 Z M 46.757813 238.773438 \"/>\n",
       "</g>\n",
       "<g clip-path=\"url(#clip2)\" clip-rule=\"nonzero\">\n",
       "<path style=\" stroke:none;fill-rule:nonzero;fill:rgb(100%,100%,100%);fill-opacity:1;\" d=\"M 46.757813 466.742188 L 489.601563 466.742188 L 489.601563 256.75 L 46.757813 256.75 Z M 46.757813 466.742188 \"/>\n",
       "<path style=\"fill:none;stroke-width:1.062992;stroke-linecap:butt;stroke-linejoin:round;stroke:rgb(98.039216%,98.039216%,98.039216%);stroke-opacity:1;stroke-miterlimit:10;\" d=\"M 46.757813 392.222656 L 489.601563 392.222656 \"/>\n",
       "<path style=\"fill:none;stroke-width:1.062992;stroke-linecap:butt;stroke-linejoin:round;stroke:rgb(98.039216%,98.039216%,98.039216%);stroke-opacity:1;stroke-miterlimit:10;\" d=\"M 46.757813 311.109375 L 489.601563 311.109375 \"/>\n",
       "<path style=\"fill:none;stroke-width:1.062992;stroke-linecap:butt;stroke-linejoin:round;stroke:rgb(98.039216%,98.039216%,98.039216%);stroke-opacity:1;stroke-miterlimit:10;\" d=\"M 132.507813 466.742188 L 132.507813 256.75 \"/>\n",
       "<path style=\"fill:none;stroke-width:1.062992;stroke-linecap:butt;stroke-linejoin:round;stroke:rgb(98.039216%,98.039216%,98.039216%);stroke-opacity:1;stroke-miterlimit:10;\" d=\"M 233.152344 466.742188 L 233.152344 256.75 \"/>\n",
       "<path style=\"fill:none;stroke-width:1.062992;stroke-linecap:butt;stroke-linejoin:round;stroke:rgb(98.039216%,98.039216%,98.039216%);stroke-opacity:1;stroke-miterlimit:10;\" d=\"M 333.800781 466.742188 L 333.800781 256.75 \"/>\n",
       "<path style=\"fill:none;stroke-width:1.062992;stroke-linecap:butt;stroke-linejoin:round;stroke:rgb(98.039216%,98.039216%,98.039216%);stroke-opacity:1;stroke-miterlimit:10;\" d=\"M 434.445313 466.742188 L 434.445313 256.75 \"/>\n",
       "<path style=\"fill:none;stroke-width:0.425197;stroke-linecap:butt;stroke-linejoin:round;stroke:rgb(89.803922%,89.803922%,89.803922%);stroke-opacity:1;stroke-miterlimit:10;\" d=\"M 46.757813 432.78125 L 489.601563 432.78125 \"/>\n",
       "<path style=\"fill:none;stroke-width:0.425197;stroke-linecap:butt;stroke-linejoin:round;stroke:rgb(89.803922%,89.803922%,89.803922%);stroke-opacity:1;stroke-miterlimit:10;\" d=\"M 46.757813 351.667969 L 489.601563 351.667969 \"/>\n",
       "<path style=\"fill:none;stroke-width:0.425197;stroke-linecap:butt;stroke-linejoin:round;stroke:rgb(89.803922%,89.803922%,89.803922%);stroke-opacity:1;stroke-miterlimit:10;\" d=\"M 46.757813 270.554688 L 489.601563 270.554688 \"/>\n",
       "<path style=\"fill:none;stroke-width:0.425197;stroke-linecap:butt;stroke-linejoin:round;stroke:rgb(89.803922%,89.803922%,89.803922%);stroke-opacity:1;stroke-miterlimit:10;\" d=\"M 82.183594 466.742188 L 82.183594 256.75 \"/>\n",
       "<path style=\"fill:none;stroke-width:0.425197;stroke-linecap:butt;stroke-linejoin:round;stroke:rgb(89.803922%,89.803922%,89.803922%);stroke-opacity:1;stroke-miterlimit:10;\" d=\"M 182.832031 466.742188 L 182.832031 256.75 \"/>\n",
       "<path style=\"fill:none;stroke-width:0.425197;stroke-linecap:butt;stroke-linejoin:round;stroke:rgb(89.803922%,89.803922%,89.803922%);stroke-opacity:1;stroke-miterlimit:10;\" d=\"M 283.476563 466.742188 L 283.476563 256.75 \"/>\n",
       "<path style=\"fill:none;stroke-width:0.425197;stroke-linecap:butt;stroke-linejoin:round;stroke:rgb(89.803922%,89.803922%,89.803922%);stroke-opacity:1;stroke-miterlimit:10;\" d=\"M 384.121094 466.742188 L 384.121094 256.75 \"/>\n",
       "<path style=\"fill:none;stroke-width:0.425197;stroke-linecap:butt;stroke-linejoin:round;stroke:rgb(89.803922%,89.803922%,89.803922%);stroke-opacity:1;stroke-miterlimit:10;\" d=\"M 484.769531 466.742188 L 484.769531 256.75 \"/>\n",
       "<path style=\" stroke:none;fill-rule:nonzero;fill:rgb(0%,0%,0%);fill-opacity:0.501961;\" d=\"M 470.535156 339.136719 C 470.535156 340.554688 468.40625 340.554688 468.40625 339.136719 C 468.40625 337.71875 470.535156 337.71875 470.535156 339.136719 \"/>\n",
       "<path style=\" stroke:none;fill-rule:nonzero;fill:rgb(0%,0%,0%);fill-opacity:0.501961;\" d=\"M 387.394531 304.6875 C 387.394531 306.644531 384.460938 306.644531 384.460938 304.6875 C 384.460938 302.730469 387.394531 302.730469 387.394531 304.6875 \"/>\n",
       "<path style=\" stroke:none;fill-rule:nonzero;fill:rgb(0%,0%,0%);fill-opacity:0.501961;\" d=\"M 110.199219 345.4375 C 110.199219 347.492188 107.117188 347.492188 107.117188 345.4375 C 107.117188 343.382813 110.199219 343.382813 110.199219 345.4375 \"/>\n",
       "<path style=\" stroke:none;fill-rule:nonzero;fill:rgb(0%,0%,0%);fill-opacity:0.501961;\" d=\"M 110.199219 345.4375 C 110.199219 347.492188 107.117188 347.492188 107.117188 345.4375 C 107.117188 343.382813 110.199219 343.382813 110.199219 345.4375 \"/>\n",
       "<path style=\" stroke:none;fill-rule:nonzero;fill:rgb(0%,0%,0%);fill-opacity:0.501961;\" d=\"M 284.996094 329.113281 C 284.996094 331.140625 281.957031 331.140625 281.957031 329.113281 C 281.957031 327.085938 284.996094 327.085938 284.996094 329.113281 \"/>\n",
       "<path style=\" stroke:none;fill-rule:nonzero;fill:rgb(0%,0%,0%);fill-opacity:0.501961;\" d=\"M 358.546875 303.5625 C 358.546875 305.53125 355.589844 305.53125 355.589844 303.5625 C 355.589844 301.59375 358.546875 301.59375 358.546875 303.5625 \"/>\n",
       "<path style=\" stroke:none;fill-rule:nonzero;fill:rgb(0%,0%,0%);fill-opacity:0.501961;\" d=\"M 211.589844 315.335938 C 211.589844 318.382813 207.019531 318.382813 207.019531 315.335938 C 207.019531 312.289063 211.589844 312.289063 211.589844 315.335938 \"/>\n",
       "<path style=\" stroke:none;fill-rule:nonzero;fill:rgb(0%,0%,0%);fill-opacity:0.501961;\" d=\"M 211.621094 284.082031 C 211.621094 287.171875 206.988281 287.171875 206.988281 284.082031 C 206.988281 280.992188 211.621094 280.992188 211.621094 284.082031 \"/>\n",
       "<path style=\" stroke:none;fill-rule:nonzero;fill:rgb(0%,0%,0%);fill-opacity:0.501961;\" d=\"M 211.640625 340.304688 C 211.640625 343.421875 206.964844 343.421875 206.964844 340.304688 C 206.964844 337.1875 211.640625 337.1875 211.640625 340.304688 \"/>\n",
       "<path style=\" stroke:none;fill-rule:nonzero;fill:rgb(0%,0%,0%);fill-opacity:0.501961;\" d=\"M 211.621094 284.222656 C 211.621094 287.3125 206.988281 287.3125 206.988281 284.222656 C 206.988281 281.132813 211.621094 281.132813 211.621094 284.222656 \"/>\n",
       "<path style=\" stroke:none;fill-rule:nonzero;fill:rgb(0%,0%,0%);fill-opacity:0.501961;\" d=\"M 270.878906 315.949219 C 270.878906 319.550781 265.476563 319.550781 265.476563 315.949219 C 265.476563 312.351563 270.878906 312.351563 270.878906 315.949219 \"/>\n",
       "<path style=\" stroke:none;fill-rule:nonzero;fill:rgb(0%,0%,0%);fill-opacity:0.501961;\" d=\"M 270.898438 322.992188 C 270.898438 326.621094 265.457031 326.621094 265.457031 322.992188 C 265.457031 319.367188 270.898438 319.367188 270.898438 322.992188 \"/>\n",
       "<path style=\" stroke:none;fill-rule:nonzero;fill:rgb(0%,0%,0%);fill-opacity:0.501961;\" d=\"M 244.179688 317.308594 C 244.179688 320.609375 239.226563 320.609375 239.226563 317.308594 C 239.226563 314.003906 244.179688 314.003906 244.179688 317.308594 \"/>\n",
       "<path style=\" stroke:none;fill-rule:nonzero;fill:rgb(0%,0%,0%);fill-opacity:0.501961;\" d=\"M 244.117188 296.144531 C 244.117188 299.363281 239.292969 299.363281 239.292969 296.144531 C 239.292969 292.929688 244.117188 292.929688 244.117188 296.144531 \"/>\n",
       "<path style=\" stroke:none;fill-rule:nonzero;fill:rgb(0%,0%,0%);fill-opacity:0.501961;\" d=\"M 211.152344 324.976563 C 211.152344 327.441406 207.453125 327.441406 207.453125 324.976563 C 207.453125 322.511719 211.152344 322.511719 211.152344 324.976563 \"/>\n",
       "<path style=\" stroke:none;fill-rule:nonzero;fill:rgb(0%,0%,0%);fill-opacity:0.501961;\" d=\"M 211.175781 325.730469 C 211.175781 328.226563 207.433594 328.226563 207.433594 325.730469 C 207.433594 323.238281 211.175781 323.238281 211.175781 325.730469 \"/>\n",
       "<path style=\" stroke:none;fill-rule:nonzero;fill:rgb(0%,0%,0%);fill-opacity:0.501961;\" d=\"M 243.023438 323.398438 C 243.023438 325.15625 240.386719 325.15625 240.386719 323.398438 C 240.386719 321.640625 243.023438 321.640625 243.023438 323.398438 \"/>\n",
       "<path style=\" stroke:none;fill-rule:nonzero;fill:rgb(0%,0%,0%);fill-opacity:0.501961;\" d=\"M 142.335938 328.871094 C 142.335938 330.574219 139.78125 330.574219 139.78125 328.871094 C 139.78125 327.171875 142.335938 327.171875 142.335938 328.871094 \"/>\n",
       "<path style=\" stroke:none;fill-rule:nonzero;fill:rgb(0%,0%,0%);fill-opacity:0.501961;\" d=\"M 142.324219 352.039063 C 142.324219 353.726563 139.792969 353.726563 139.792969 352.039063 C 139.792969 350.351563 142.324219 350.351563 142.324219 352.039063 \"/>\n",
       "<path style=\" stroke:none;fill-rule:nonzero;fill:rgb(0%,0%,0%);fill-opacity:0.501961;\" d=\"M 311.160156 321.585938 C 311.160156 323.203125 308.738281 323.203125 308.738281 321.585938 C 308.738281 319.96875 311.160156 319.96875 311.160156 321.585938 \"/>\n",
       "<path style=\" stroke:none;fill-rule:nonzero;fill:rgb(0%,0%,0%);fill-opacity:0.501961;\" d=\"M 374.988281 299.335938 C 374.988281 302.738281 372.230469 305.5 368.824219 305.5 C 365.417969 305.5 362.660156 302.738281 362.660156 299.335938 C 362.660156 295.929688 365.417969 293.167969 368.824219 293.167969 C 372.230469 293.167969 374.988281 295.929688 374.988281 299.335938 \"/>\n",
       "<path style=\" stroke:none;fill-rule:nonzero;fill:rgb(0%,0%,0%);fill-opacity:0.501961;\" d=\"M 374.765625 297.167969 C 374.765625 300.449219 372.105469 303.109375 368.824219 303.109375 C 365.542969 303.109375 362.882813 300.449219 362.882813 297.167969 C 362.882813 293.886719 365.542969 291.226563 368.824219 291.226563 C 372.105469 291.226563 374.765625 293.886719 374.765625 297.167969 \"/>\n",
       "<path style=\" stroke:none;fill-rule:nonzero;fill:rgb(0%,0%,0%);fill-opacity:0.501961;\" d=\"M 243.234375 305.835938 C 243.234375 307.878906 240.175781 307.878906 240.175781 305.835938 C 240.175781 303.796875 243.234375 303.796875 243.234375 305.835938 \"/>\n",
       "<path style=\" stroke:none;fill-rule:nonzero;fill:rgb(0%,0%,0%);fill-opacity:0.501961;\" d=\"M 243.226563 295.171875 C 243.226563 297.199219 240.183594 297.199219 240.183594 295.171875 C 240.183594 293.148438 243.226563 293.148438 243.226563 295.171875 \"/>\n",
       "<path style=\" stroke:none;fill-rule:nonzero;fill:rgb(0%,0%,0%);fill-opacity:0.501961;\" d=\"M 186.753906 330.109375 C 186.753906 335.339844 178.90625 335.339844 178.90625 330.109375 C 178.90625 324.878906 186.753906 324.878906 186.753906 330.109375 \"/>\n",
       "<path style=\" stroke:none;fill-rule:nonzero;fill:rgb(0%,0%,0%);fill-opacity:0.501961;\" d=\"M 245.710938 327.3125 C 245.710938 332.65625 237.699219 332.65625 237.699219 327.3125 C 237.699219 321.972656 245.710938 321.972656 245.710938 327.3125 \"/>\n",
       "<path style=\" stroke:none;fill-rule:nonzero;fill:rgb(0%,0%,0%);fill-opacity:0.501961;\" d=\"M 242.875 317.578125 C 242.875 319.140625 240.535156 319.140625 240.535156 317.578125 C 240.535156 316.019531 242.875 316.019531 242.875 317.578125 \"/>\n",
       "<path style=\" stroke:none;fill-rule:nonzero;fill:rgb(0%,0%,0%);fill-opacity:0.501961;\" d=\"M 213.320313 328.65625 C 213.320313 334.015625 205.285156 334.015625 205.285156 328.65625 C 205.285156 323.300781 213.320313 323.300781 213.320313 328.65625 \"/>\n",
       "<path style=\" stroke:none;fill-rule:nonzero;fill:rgb(0%,0%,0%);fill-opacity:0.501961;\" d=\"M 245.085938 349.175781 C 245.085938 353.679688 238.324219 353.679688 238.324219 349.175781 C 238.324219 344.667969 245.085938 344.667969 245.085938 349.175781 \"/>\n",
       "<path style=\"fill:none;stroke-width:1.062992;stroke-linecap:butt;stroke-linejoin:round;stroke:rgb(20%,40%,100%);stroke-opacity:1;stroke-dasharray:1.062992,3.188976;stroke-miterlimit:1;\" d=\"M 108.65625 330.535156 L 113.226563 330.175781 L 126.925781 329.097656 L 131.492188 328.742188 L 136.0625 328.382813 L 145.195313 327.664063 L 149.761719 327.308594 L 154.332031 326.949219 L 168.03125 325.871094 L 172.597656 325.515625 L 177.167969 325.15625 L 190.867188 324.078125 L 195.433594 323.722656 L 200.003906 323.363281 L 213.703125 322.285156 L 218.273438 321.929688 L 236.539063 320.492188 L 241.109375 320.136719 L 254.808594 319.058594 L 259.378906 318.699219 L 263.945313 318.34375 L 277.644531 317.265625 L 282.214844 316.90625 L 286.78125 316.550781 L 300.480469 315.472656 L 305.050781 315.113281 L 309.617188 314.757813 L 318.75 314.039063 L 323.320313 313.679688 L 327.886719 313.320313 L 332.453125 312.964844 L 341.585938 312.246094 L 346.15625 311.886719 L 350.722656 311.527344 L 355.289063 311.171875 L 359.855469 310.8125 L 364.425781 310.453125 L 373.558594 309.734375 L 378.125 309.378906 L 382.691406 309.019531 L 387.261719 308.660156 L 396.394531 307.941406 L 400.960938 307.585938 L 405.527344 307.226563 L 410.097656 306.867188 L 419.230469 306.148438 L 423.796875 305.792969 L 428.367188 305.433594 L 442.066406 304.355469 L 446.632813 304 L 451.203125 303.640625 L 464.902344 302.5625 L 469.472656 302.207031 \"/>\n",
       "<path style=\"fill:none;stroke-width:1.062992;stroke-linecap:butt;stroke-linejoin:round;stroke:rgb(100%,0%,0%);stroke-opacity:1;stroke-miterlimit:1;\" d=\"M 108.65625 338.792969 L 209.304688 338.792969 L 209.304688 313.921875 L 469.472656 313.921875 \"/>\n",
       "<g style=\"fill:rgb(0%,0%,100%);fill-opacity:1;\">\n",
       "  <use xlink:href=\"#glyph0-0\" x=\"430.097656\" y=\"437.855469\"/>\n",
       "  <use xlink:href=\"#glyph0-1\" x=\"437.98013\" y=\"437.855469\"/>\n",
       "  <use xlink:href=\"#glyph0-6\" x=\"441.917907\" y=\"437.855469\"/>\n",
       "  <use xlink:href=\"#glyph0-1\" x=\"450.194851\" y=\"437.855469\"/>\n",
       "  <use xlink:href=\"#glyph0-3\" x=\"454.132628\" y=\"437.855469\"/>\n",
       "  <use xlink:href=\"#glyph0-4\" x=\"462.015102\" y=\"437.855469\"/>\n",
       "  <use xlink:href=\"#glyph0-8\" x=\"465.952879\" y=\"437.855469\"/>\n",
       "  <use xlink:href=\"#glyph0-10\" x=\"473.835353\" y=\"437.855469\"/>\n",
       "  <use xlink:href=\"#glyph0-10\" x=\"481.717827\" y=\"437.855469\"/>\n",
       "</g>\n",
       "<g style=\"fill:rgb(100%,0%,0%);fill-opacity:1;\">\n",
       "  <use xlink:href=\"#glyph0-0\" x=\"430.097656\" y=\"423.570313\"/>\n",
       "  <use xlink:href=\"#glyph0-1\" x=\"437.98013\" y=\"423.570313\"/>\n",
       "  <use xlink:href=\"#glyph0-6\" x=\"441.917907\" y=\"423.570313\"/>\n",
       "  <use xlink:href=\"#glyph0-1\" x=\"450.194851\" y=\"423.570313\"/>\n",
       "  <use xlink:href=\"#glyph0-3\" x=\"454.132628\" y=\"423.570313\"/>\n",
       "  <use xlink:href=\"#glyph0-4\" x=\"462.015102\" y=\"423.570313\"/>\n",
       "  <use xlink:href=\"#glyph0-3\" x=\"465.952879\" y=\"423.570313\"/>\n",
       "  <use xlink:href=\"#glyph0-7\" x=\"473.835353\" y=\"423.570313\"/>\n",
       "  <use xlink:href=\"#glyph0-7\" x=\"481.717827\" y=\"423.570313\"/>\n",
       "</g>\n",
       "<path style=\"fill:none;stroke-width:1.062992;stroke-linecap:round;stroke-linejoin:round;stroke:rgb(49.803922%,49.803922%,49.803922%);stroke-opacity:1;stroke-miterlimit:10;\" d=\"M 46.757813 466.742188 L 489.601563 466.742188 L 489.601563 256.75 L 46.757813 256.75 Z M 46.757813 466.742188 \"/>\n",
       "</g>\n",
       "<path style=\"fill-rule:nonzero;fill:rgb(80%,80%,80%);fill-opacity:1;stroke-width:0.425197;stroke-linecap:round;stroke-linejoin:round;stroke:rgb(49.803922%,49.803922%,49.803922%);stroke-opacity:1;stroke-miterlimit:10;\" d=\"M 46.757813 28.78125 L 489.601563 28.78125 L 489.601563 14.402344 L 46.757813 14.402344 Z M 46.757813 28.78125 \"/>\n",
       "<g style=\"fill:rgb(0%,0%,0%);fill-opacity:1;\">\n",
       "  <use xlink:href=\"#glyph1-0\" x=\"240.707031\" y=\"25.027344\"/>\n",
       "  <use xlink:href=\"#glyph1-1\" x=\"247.110156\" y=\"25.027344\"/>\n",
       "  <use xlink:href=\"#glyph1-2\" x=\"255.107031\" y=\"25.027344\"/>\n",
       "  <use xlink:href=\"#glyph1-3\" x=\"260.446094\" y=\"25.027344\"/>\n",
       "  <use xlink:href=\"#glyph1-4\" x=\"263.113281\" y=\"25.027344\"/>\n",
       "  <use xlink:href=\"#glyph1-5\" x=\"268.452344\" y=\"25.027344\"/>\n",
       "  <use xlink:href=\"#glyph1-3\" x=\"271.649219\" y=\"25.027344\"/>\n",
       "  <use xlink:href=\"#glyph1-1\" x=\"274.316406\" y=\"25.027344\"/>\n",
       "  <use xlink:href=\"#glyph1-6\" x=\"282.313281\" y=\"25.027344\"/>\n",
       "  <use xlink:href=\"#glyph1-7\" x=\"289.246094\" y=\"25.027344\"/>\n",
       "</g>\n",
       "<path style=\"fill-rule:nonzero;fill:rgb(80%,80%,80%);fill-opacity:1;stroke-width:0.425197;stroke-linecap:round;stroke-linejoin:round;stroke:rgb(49.803922%,49.803922%,49.803922%);stroke-opacity:1;stroke-miterlimit:10;\" d=\"M 46.757813 256.75 L 489.601563 256.75 L 489.601563 242.371094 L 46.757813 242.371094 Z M 46.757813 256.75 \"/>\n",
       "<g style=\"fill:rgb(0%,0%,0%);fill-opacity:1;\">\n",
       "  <use xlink:href=\"#glyph1-8\" x=\"231.894531\" y=\"252.996094\"/>\n",
       "  <use xlink:href=\"#glyph1-4\" x=\"238.827344\" y=\"252.996094\"/>\n",
       "  <use xlink:href=\"#glyph1-9\" x=\"244.166406\" y=\"252.996094\"/>\n",
       "  <use xlink:href=\"#glyph1-10\" x=\"249.505469\" y=\"252.996094\"/>\n",
       "  <use xlink:href=\"#glyph1-11\" x=\"252.702344\" y=\"252.996094\"/>\n",
       "  <use xlink:href=\"#glyph1-5\" x=\"259.105469\" y=\"252.996094\"/>\n",
       "  <use xlink:href=\"#glyph1-12\" x=\"262.302344\" y=\"252.996094\"/>\n",
       "  <use xlink:href=\"#glyph1-13\" x=\"267.641406\" y=\"252.996094\"/>\n",
       "  <use xlink:href=\"#glyph1-14\" x=\"272.980469\" y=\"252.996094\"/>\n",
       "  <use xlink:href=\"#glyph1-15\" x=\"277.780469\" y=\"252.996094\"/>\n",
       "  <use xlink:href=\"#glyph1-3\" x=\"280.447656\" y=\"252.996094\"/>\n",
       "  <use xlink:href=\"#glyph1-7\" x=\"283.114844\" y=\"252.996094\"/>\n",
       "  <use xlink:href=\"#glyph1-4\" x=\"289.517969\" y=\"252.996094\"/>\n",
       "  <use xlink:href=\"#glyph1-16\" x=\"294.857031\" y=\"252.996094\"/>\n",
       "  <use xlink:href=\"#glyph1-17\" x=\"296.989844\" y=\"252.996094\"/>\n",
       "  <use xlink:href=\"#glyph1-18\" x=\"299.122656\" y=\"252.996094\"/>\n",
       "</g>\n",
       "<g style=\"fill:rgb(0%,0%,0%);fill-opacity:1;\">\n",
       "  <use xlink:href=\"#glyph1-19\" x=\"34.328125\" y=\"208.246094\"/>\n",
       "</g>\n",
       "<g style=\"fill:rgb(0%,0%,0%);fill-opacity:1;\">\n",
       "  <use xlink:href=\"#glyph1-19\" x=\"28.988281\" y=\"127.132813\"/>\n",
       "  <use xlink:href=\"#glyph1-20\" x=\"34.327344\" y=\"127.132813\"/>\n",
       "</g>\n",
       "<g style=\"fill:rgb(0%,0%,0%);fill-opacity:1;\">\n",
       "  <use xlink:href=\"#glyph1-19\" x=\"23.652344\" y=\"46.019531\"/>\n",
       "  <use xlink:href=\"#glyph1-20\" x=\"28.991406\" y=\"46.019531\"/>\n",
       "  <use xlink:href=\"#glyph1-20\" x=\"34.330469\" y=\"46.019531\"/>\n",
       "</g>\n",
       "<path style=\"fill:none;stroke-width:1.062992;stroke-linecap:butt;stroke-linejoin:round;stroke:rgb(0%,0%,0%);stroke-opacity:1;stroke-miterlimit:10;\" d=\"M 42.503906 204.808594 L 46.757813 204.808594 \"/>\n",
       "<path style=\"fill:none;stroke-width:1.062992;stroke-linecap:butt;stroke-linejoin:round;stroke:rgb(0%,0%,0%);stroke-opacity:1;stroke-miterlimit:10;\" d=\"M 42.503906 123.695313 L 46.757813 123.695313 \"/>\n",
       "<path style=\"fill:none;stroke-width:1.062992;stroke-linecap:butt;stroke-linejoin:round;stroke:rgb(0%,0%,0%);stroke-opacity:1;stroke-miterlimit:10;\" d=\"M 42.503906 42.582031 L 46.757813 42.582031 \"/>\n",
       "<g style=\"fill:rgb(0%,0%,0%);fill-opacity:1;\">\n",
       "  <use xlink:href=\"#glyph1-19\" x=\"34.328125\" y=\"436.214844\"/>\n",
       "</g>\n",
       "<g style=\"fill:rgb(0%,0%,0%);fill-opacity:1;\">\n",
       "  <use xlink:href=\"#glyph1-19\" x=\"28.988281\" y=\"355.101563\"/>\n",
       "  <use xlink:href=\"#glyph1-20\" x=\"34.327344\" y=\"355.101563\"/>\n",
       "</g>\n",
       "<g style=\"fill:rgb(0%,0%,0%);fill-opacity:1;\">\n",
       "  <use xlink:href=\"#glyph1-19\" x=\"23.652344\" y=\"273.988281\"/>\n",
       "  <use xlink:href=\"#glyph1-20\" x=\"28.991406\" y=\"273.988281\"/>\n",
       "  <use xlink:href=\"#glyph1-20\" x=\"34.330469\" y=\"273.988281\"/>\n",
       "</g>\n",
       "<path style=\"fill:none;stroke-width:1.062992;stroke-linecap:butt;stroke-linejoin:round;stroke:rgb(0%,0%,0%);stroke-opacity:1;stroke-miterlimit:10;\" d=\"M 42.503906 432.78125 L 46.757813 432.78125 \"/>\n",
       "<path style=\"fill:none;stroke-width:1.062992;stroke-linecap:butt;stroke-linejoin:round;stroke:rgb(0%,0%,0%);stroke-opacity:1;stroke-miterlimit:10;\" d=\"M 42.503906 351.667969 L 46.757813 351.667969 \"/>\n",
       "<path style=\"fill:none;stroke-width:1.062992;stroke-linecap:butt;stroke-linejoin:round;stroke:rgb(0%,0%,0%);stroke-opacity:1;stroke-miterlimit:10;\" d=\"M 42.503906 270.554688 L 46.757813 270.554688 \"/>\n",
       "<path style=\"fill:none;stroke-width:1.062992;stroke-linecap:butt;stroke-linejoin:round;stroke:rgb(0%,0%,0%);stroke-opacity:1;stroke-miterlimit:10;\" d=\"M 82.183594 470.996094 L 82.183594 466.742188 \"/>\n",
       "<path style=\"fill:none;stroke-width:1.062992;stroke-linecap:butt;stroke-linejoin:round;stroke:rgb(0%,0%,0%);stroke-opacity:1;stroke-miterlimit:10;\" d=\"M 182.832031 470.996094 L 182.832031 466.742188 \"/>\n",
       "<path style=\"fill:none;stroke-width:1.062992;stroke-linecap:butt;stroke-linejoin:round;stroke:rgb(0%,0%,0%);stroke-opacity:1;stroke-miterlimit:10;\" d=\"M 283.476563 470.996094 L 283.476563 466.742188 \"/>\n",
       "<path style=\"fill:none;stroke-width:1.062992;stroke-linecap:butt;stroke-linejoin:round;stroke:rgb(0%,0%,0%);stroke-opacity:1;stroke-miterlimit:10;\" d=\"M 384.121094 470.996094 L 384.121094 466.742188 \"/>\n",
       "<path style=\"fill:none;stroke-width:1.062992;stroke-linecap:butt;stroke-linejoin:round;stroke:rgb(0%,0%,0%);stroke-opacity:1;stroke-miterlimit:10;\" d=\"M 484.769531 470.996094 L 484.769531 466.742188 \"/>\n",
       "<g style=\"fill:rgb(0%,0%,0%);fill-opacity:1;\">\n",
       "  <use xlink:href=\"#glyph1-19\" x=\"71.503906\" y=\"480.703125\"/>\n",
       "  <use xlink:href=\"#glyph1-20\" x=\"76.842969\" y=\"480.703125\"/>\n",
       "  <use xlink:href=\"#glyph1-20\" x=\"82.182031\" y=\"480.703125\"/>\n",
       "  <use xlink:href=\"#glyph1-20\" x=\"87.521094\" y=\"480.703125\"/>\n",
       "</g>\n",
       "<g style=\"fill:rgb(0%,0%,0%);fill-opacity:1;\">\n",
       "  <use xlink:href=\"#glyph1-21\" x=\"172.152344\" y=\"480.703125\"/>\n",
       "  <use xlink:href=\"#glyph1-20\" x=\"177.491406\" y=\"480.703125\"/>\n",
       "  <use xlink:href=\"#glyph1-20\" x=\"182.830469\" y=\"480.703125\"/>\n",
       "  <use xlink:href=\"#glyph1-20\" x=\"188.169531\" y=\"480.703125\"/>\n",
       "</g>\n",
       "<g style=\"fill:rgb(0%,0%,0%);fill-opacity:1;\">\n",
       "  <use xlink:href=\"#glyph1-22\" x=\"272.796875\" y=\"480.703125\"/>\n",
       "  <use xlink:href=\"#glyph1-20\" x=\"278.135938\" y=\"480.703125\"/>\n",
       "  <use xlink:href=\"#glyph1-20\" x=\"283.475\" y=\"480.703125\"/>\n",
       "  <use xlink:href=\"#glyph1-20\" x=\"288.814063\" y=\"480.703125\"/>\n",
       "</g>\n",
       "<g style=\"fill:rgb(0%,0%,0%);fill-opacity:1;\">\n",
       "  <use xlink:href=\"#glyph1-23\" x=\"373.441406\" y=\"480.703125\"/>\n",
       "  <use xlink:href=\"#glyph1-20\" x=\"378.780469\" y=\"480.703125\"/>\n",
       "  <use xlink:href=\"#glyph1-20\" x=\"384.119531\" y=\"480.703125\"/>\n",
       "  <use xlink:href=\"#glyph1-20\" x=\"389.458594\" y=\"480.703125\"/>\n",
       "</g>\n",
       "<g style=\"fill:rgb(0%,0%,0%);fill-opacity:1;\">\n",
       "  <use xlink:href=\"#glyph1-19\" x=\"471.421875\" y=\"480.703125\"/>\n",
       "  <use xlink:href=\"#glyph1-24\" x=\"476.760938\" y=\"480.703125\"/>\n",
       "  <use xlink:href=\"#glyph1-20\" x=\"482.1\" y=\"480.703125\"/>\n",
       "  <use xlink:href=\"#glyph1-20\" x=\"487.439063\" y=\"480.703125\"/>\n",
       "  <use xlink:href=\"#glyph1-20\" x=\"492.778125\" y=\"480.703125\"/>\n",
       "</g>\n",
       "<g style=\"fill:rgb(0%,0%,0%);fill-opacity:1;\">\n",
       "  <use xlink:href=\"#glyph2-0\" x=\"172.125\" y=\"493.199219\"/>\n",
       "  <use xlink:href=\"#glyph2-1\" x=\"180.791016\" y=\"493.199219\"/>\n",
       "  <use xlink:href=\"#glyph2-2\" x=\"186.791016\" y=\"493.199219\"/>\n",
       "  <use xlink:href=\"#glyph2-3\" x=\"192.791016\" y=\"493.199219\"/>\n",
       "  <use xlink:href=\"#glyph2-4\" x=\"195.457031\" y=\"493.199219\"/>\n",
       "  <use xlink:href=\"#glyph2-5\" x=\"202.130859\" y=\"493.199219\"/>\n",
       "  <use xlink:href=\"#glyph2-6\" x=\"208.804688\" y=\"493.199219\"/>\n",
       "  <use xlink:href=\"#glyph2-4\" x=\"215.478516\" y=\"493.199219\"/>\n",
       "  <use xlink:href=\"#glyph2-7\" x=\"222.152344\" y=\"493.199219\"/>\n",
       "  <use xlink:href=\"#glyph2-5\" x=\"228.152344\" y=\"493.199219\"/>\n",
       "  <use xlink:href=\"#glyph2-6\" x=\"234.826172\" y=\"493.199219\"/>\n",
       "  <use xlink:href=\"#glyph2-8\" x=\"241.5\" y=\"493.199219\"/>\n",
       "  <use xlink:href=\"#glyph2-9\" x=\"248.173828\" y=\"493.199219\"/>\n",
       "  <use xlink:href=\"#glyph2-10\" x=\"258.169922\" y=\"493.199219\"/>\n",
       "  <use xlink:href=\"#glyph2-11\" x=\"260.835938\" y=\"493.199219\"/>\n",
       "  <use xlink:href=\"#glyph2-12\" x=\"267.509766\" y=\"493.199219\"/>\n",
       "  <use xlink:href=\"#glyph2-13\" x=\"274.183594\" y=\"493.199219\"/>\n",
       "  <use xlink:href=\"#glyph2-2\" x=\"277.517578\" y=\"493.199219\"/>\n",
       "  <use xlink:href=\"#glyph2-14\" x=\"283.517578\" y=\"493.199219\"/>\n",
       "  <use xlink:href=\"#glyph2-9\" x=\"290.191406\" y=\"493.199219\"/>\n",
       "  <use xlink:href=\"#glyph2-14\" x=\"300.1875\" y=\"493.199219\"/>\n",
       "  <use xlink:href=\"#glyph2-3\" x=\"306.861328\" y=\"493.199219\"/>\n",
       "  <use xlink:href=\"#glyph2-8\" x=\"309.527344\" y=\"493.199219\"/>\n",
       "  <use xlink:href=\"#glyph2-15\" x=\"316.201172\" y=\"493.199219\"/>\n",
       "  <use xlink:href=\"#glyph2-10\" x=\"319.535156\" y=\"493.199219\"/>\n",
       "  <use xlink:href=\"#glyph2-16\" x=\"322.201172\" y=\"493.199219\"/>\n",
       "  <use xlink:href=\"#glyph2-12\" x=\"328.201172\" y=\"493.199219\"/>\n",
       "  <use xlink:href=\"#glyph2-13\" x=\"334.875\" y=\"493.199219\"/>\n",
       "  <use xlink:href=\"#glyph2-11\" x=\"338.208984\" y=\"493.199219\"/>\n",
       "  <use xlink:href=\"#glyph2-4\" x=\"344.882813\" y=\"493.199219\"/>\n",
       "  <use xlink:href=\"#glyph2-7\" x=\"351.556641\" y=\"493.199219\"/>\n",
       "  <use xlink:href=\"#glyph2-12\" x=\"357.556641\" y=\"493.199219\"/>\n",
       "</g>\n",
       "<g style=\"fill:rgb(0%,0%,0%);fill-opacity:1;\">\n",
       "  <use xlink:href=\"#glyph3-0\" x=\"19.390625\" y=\"327.476563\"/>\n",
       "  <use xlink:href=\"#glyph3-1\" x=\"19.390625\" y=\"318.810547\"/>\n",
       "  <use xlink:href=\"#glyph3-2\" x=\"19.390625\" y=\"312.136719\"/>\n",
       "  <use xlink:href=\"#glyph3-3\" x=\"19.390625\" y=\"308.802734\"/>\n",
       "  <use xlink:href=\"#glyph3-4\" x=\"19.390625\" y=\"302.128906\"/>\n",
       "  <use xlink:href=\"#glyph3-5\" x=\"19.390625\" y=\"298.794922\"/>\n",
       "  <use xlink:href=\"#glyph3-3\" x=\"19.390625\" y=\"292.121094\"/>\n",
       "  <use xlink:href=\"#glyph3-6\" x=\"19.390625\" y=\"285.447266\"/>\n",
       "  <use xlink:href=\"#glyph3-4\" x=\"19.390625\" y=\"281.451172\"/>\n",
       "  <use xlink:href=\"#glyph3-7\" x=\"19.390625\" y=\"278.117188\"/>\n",
       "  <use xlink:href=\"#glyph3-8\" x=\"19.390625\" y=\"271.443359\"/>\n",
       "  <use xlink:href=\"#glyph3-9\" x=\"19.390625\" y=\"264.769531\"/>\n",
       "  <use xlink:href=\"#glyph3-8\" x=\"19.390625\" y=\"261.435547\"/>\n",
       "  <use xlink:href=\"#glyph3-8\" x=\"19.390625\" y=\"254.761719\"/>\n",
       "  <use xlink:href=\"#glyph3-8\" x=\"19.390625\" y=\"248.087891\"/>\n",
       "  <use xlink:href=\"#glyph3-4\" x=\"19.390625\" y=\"241.414063\"/>\n",
       "  <use xlink:href=\"#glyph3-5\" x=\"19.390625\" y=\"238.080078\"/>\n",
       "  <use xlink:href=\"#glyph3-3\" x=\"19.390625\" y=\"231.40625\"/>\n",
       "  <use xlink:href=\"#glyph3-6\" x=\"19.390625\" y=\"224.732422\"/>\n",
       "  <use xlink:href=\"#glyph3-10\" x=\"19.390625\" y=\"220.736328\"/>\n",
       "  <use xlink:href=\"#glyph3-11\" x=\"19.390625\" y=\"214.736328\"/>\n",
       "  <use xlink:href=\"#glyph3-12\" x=\"19.390625\" y=\"208.0625\"/>\n",
       "  <use xlink:href=\"#glyph3-13\" x=\"19.390625\" y=\"201.388672\"/>\n",
       "  <use xlink:href=\"#glyph3-14\" x=\"19.390625\" y=\"197.392578\"/>\n",
       "  <use xlink:href=\"#glyph3-3\" x=\"19.390625\" y=\"191.392578\"/>\n",
       "  <use xlink:href=\"#glyph3-1\" x=\"19.390625\" y=\"184.71875\"/>\n",
       "  <use xlink:href=\"#glyph3-6\" x=\"19.390625\" y=\"178.044922\"/>\n",
       "  <use xlink:href=\"#glyph3-10\" x=\"19.390625\" y=\"174.048828\"/>\n",
       "</g>\n",
       "</g>\n",
       "</svg>\n"
      ],
      "text/plain": [
       "plot without title"
      ]
     },
     "metadata": {
      "image/svg+xml": {
       "isolated": true
      }
     },
     "output_type": "display_data"
    }
   ],
   "source": [
    "library(metafor)\n",
    "D2 <- D1[isCyclo == TRUE,\n",
    "         .(id = factor(id),\n",
    "           authorYear,\n",
    "           isCyclo,\n",
    "           x = cyclophosphamideCumulDose,\n",
    "           xHighDose = cyclophosphamideCumulDose >= 2400,\n",
    "           nITT,\n",
    "           medianFU,\n",
    "           malType,\n",
    "           malN,\n",
    "           py,\n",
    "           rate)]\n",
    "M1 <- metareg(D2[malType == \"AML or MDS\"      ])\n",
    "M2 <- metareg(D2[malType == \"Non-Breast Solid\"])\n",
    "pvalues <- c(M1$pvalueLin, M1$pvalueBin, M2$pvalueLin, M2$pvalueBin)\n",
    "yhat1 <- unique(data.table(malType = \"AML or MDS\",\n",
    "                           xHighDose = as.logical(M1$rma.glmmBin$X[, \"mods\"]),\n",
    "                           yhat = invLogit(predict(M1$rma.glmmBin)[[\"pred\"]]) * 10000))\n",
    "yhat2 <- unique(data.table(malType = \"Non-Breast Solid\",\n",
    "                           xHighDose = as.logical(M2$rma.glmmBin$X[, \"mods\"]),\n",
    "                           yhat = invLogit(predict(M2$rma.glmmBin)[[\"pred\"]]) * 10000))\n",
    "yhat <- rbind(yhat1, yhat2)\n",
    "plotreg(D2,\n",
    "        \"Cyclophosphamide cumulative dose\",\n",
    "        1000 * c(0.5, 1, 2, 4, 8, 16),\n",
    "        pvalues,\n",
    "        yhat)"
   ]
  },
  {
   "cell_type": "markdown",
   "metadata": {},
   "source": [
    "## Study Characteristics and Outcomes\n",
    "\n",
    "Populate Appendix Table 1.\n",
    "Need columns for\n",
    "\n",
    "* Study\n",
    "* Country\n",
    "* Median follow-up (months)\n",
    "* Regimen name\n",
    "* Cumulative dose\n",
    "    * Anthracyclines\n",
    "    * Cyclophosphamide\n",
    "    * Taxanes\n",
    "* N\n",
    "* AML/MDS incidence\n",
    "\n",
    "Output to an Excel workbook, [appendixTableStudyCharacteristicsAndOutcomes.xlsx](appendixTableStudyCharacteristicsAndOutcomes.xlsx)."
   ]
  },
  {
   "cell_type": "code",
   "execution_count": 18,
   "metadata": {
    "collapsed": false,
    "scrolled": false
   },
   "outputs": [
    {
     "name": "stderr",
     "output_type": "stream",
     "text": [
      "Loading required package: rJava\n",
      "Loading required package: xlsxjars\n",
      "\n",
      "Attaching package: 'xlsx'\n",
      "\n",
      "The following objects are masked from 'package:openxlsx':\n",
      "\n",
      "    createWorkbook, loadWorkbook, read.xlsx, saveWorkbook, write.xlsx\n",
      "\n",
      "\n",
      "Attaching package: 'xtable'\n",
      "\n",
      "The following object is masked from 'package:IRdisplay':\n",
      "\n",
      "    display\n",
      "\n"
     ]
    },
    {
     "data": {
      "text/html": [
       "<table>\n",
       "<thead><tr><th></th><th scope=col>size</th><th scope=col>isdir</th><th scope=col>mode</th><th scope=col>mtime</th><th scope=col>ctime</th><th scope=col>atime</th><th scope=col>exe</th></tr></thead>\n",
       "<tbody>\n",
       "\t<tr><th scope=row>appendixTableStudyCharacteristicsAndOutcomes.xlsx</th><td>7690</td><td>FALSE</td><td>666</td><td>2016-06-08 13:08:51</td><td>2016-06-08 12:57:03</td><td>2016-06-08 12:57:03</td><td>no</td></tr>\n",
       "</tbody>\n",
       "</table>\n"
      ],
      "text/latex": [
       "\\begin{tabular}{r|lllllll}\n",
       "  & size & isdir & mode & mtime & ctime & atime & exe\\\\\n",
       "\\hline\n",
       "\tappendixTableStudyCharacteristicsAndOutcomes.xlsx & 7690 & FALSE & 666 & 2016-06-08 13:08:51 & 2016-06-08 12:57:03 & 2016-06-08 12:57:03 & no\\\\\n",
       "\\end{tabular}\n"
      ],
      "text/plain": [
       "                                                  size isdir mode\n",
       "appendixTableStudyCharacteristicsAndOutcomes.xlsx 7690 FALSE  666\n",
       "                                                                mtime\n",
       "appendixTableStudyCharacteristicsAndOutcomes.xlsx 2016-06-08 13:08:51\n",
       "                                                                ctime\n",
       "appendixTableStudyCharacteristicsAndOutcomes.xlsx 2016-06-08 12:57:03\n",
       "                                                                atime exe\n",
       "appendixTableStudyCharacteristicsAndOutcomes.xlsx 2016-06-08 12:57:03  no"
      ]
     },
     "execution_count": 18,
     "metadata": {},
     "output_type": "execute_result"
    },
    {
     "data": {
      "text/html": [
       "<!-- html table generated in R 3.2.2 by xtable 1.7-4 package --><!-- Wed Jun 08 13:08:51 2016 --><table border=1><tr> <th>  </th> <th> study </th> <th> country </th> <th> medianFU </th> <th> regimen </th> <th> anthrCumulDose </th> <th> cycloCumulaDose </th> <th> taxaneCumulDose </th> <th> nITT </th> <th> incidenceAMLOrMDS </th>  </tr>  <tr> <td align=\"right\"> 1 </td> <td> Fisher (1990) NSABP B-15 </td> <td>  </td> <td align=\"right\"> 26 </td> <td> AC </td> <td align=\"right\"> 240 </td> <td align=\"right\"> 2400 </td> <td align=\"right\">  </td> <td align=\"right\"> 734 </td> <td align=\"right\">  </td> </tr>  <tr> <td align=\"right\"> 2 </td> <td> Fisher (1990) NSABP B-15 </td> <td>  </td> <td align=\"right\"> 26 </td> <td> AC-CMF </td> <td align=\"right\"> 240 </td> <td align=\"right\"> 2400 </td> <td align=\"right\">  </td> <td align=\"right\"> 728 </td> <td align=\"right\">  </td> </tr>  <tr> <td align=\"right\"> 3 </td> <td> Fisher (1990) NSABP B-15 </td> <td>  </td> <td align=\"right\"> 26 </td> <td> CMF </td> <td align=\"right\">  </td> <td align=\"right\">  </td> <td align=\"right\">  </td> <td align=\"right\"> 732 </td> <td align=\"right\">  </td> </tr>  <tr> <td align=\"right\"> 4 </td> <td> Misset (1996) NA </td> <td>  </td> <td align=\"right\"> 191 </td> <td> CMF </td> <td align=\"right\">  </td> <td align=\"right\">  </td> <td align=\"right\">  </td> <td align=\"right\"> 112 </td> <td align=\"right\">  </td> </tr>  <tr> <td align=\"right\"> 5 </td> <td> Misset (1996) NA </td> <td>  </td> <td align=\"right\"> 191 </td> <td> AVCF </td> <td align=\"right\"> 360 </td> <td align=\"right\"> 14400 </td> <td align=\"right\">  </td> <td align=\"right\"> 137 </td> <td align=\"right\">  </td> </tr>  <tr> <td align=\"right\"> 6 </td> <td> Fisher (1999) NSABP B-25 </td> <td>  </td> <td align=\"right\"> 55 </td> <td> AC </td> <td align=\"right\"> 240 </td> <td align=\"right\"> 4800 </td> <td align=\"right\">  </td> <td align=\"right\"> 849 </td> <td align=\"right\"> 0.85 </td> </tr>  <tr> <td align=\"right\"> 7 </td> <td> Fisher (1999) NSABP B-25 </td> <td>  </td> <td align=\"right\"> 55 </td> <td> AC </td> <td align=\"right\"> 240 </td> <td align=\"right\"> 4800 </td> <td align=\"right\">  </td> <td align=\"right\"> 847 </td> <td align=\"right\"> 2.10 </td> </tr>  <tr> <td align=\"right\"> 8 </td> <td> Fisher (1999) NSABP B-25 </td> <td>  </td> <td align=\"right\"> 55 </td> <td> AC </td> <td align=\"right\"> 240 </td> <td align=\"right\"> 9600 </td> <td align=\"right\">  </td> <td align=\"right\"> 849 </td> <td align=\"right\"> 1.70 </td> </tr>  <tr> <td align=\"right\"> 9 </td> <td> Bergh (2000) SBG 9401 </td> <td>  </td> <td align=\"right\"> 38 </td> <td> FECTailored </td> <td align=\"right\"> 675 </td> <td align=\"right\"> 8100 </td> <td align=\"right\">  </td> <td align=\"right\"> 251 </td> <td align=\"right\"> 9.40 </td> </tr>  <tr> <td align=\"right\"> 10 </td> <td> Bergh (2000) SBG 9401 </td> <td>  </td> <td align=\"right\"> 38 </td> <td> FECCTCb </td> <td align=\"right\"> 180 </td> <td align=\"right\"> 1200 </td> <td align=\"right\">  </td> <td align=\"right\"> 274 </td> <td align=\"right\"> 0.00 </td> </tr>  <tr> <td align=\"right\"> 11 </td> <td> Bergh (2000) SBG 9401 </td> <td>  </td> <td align=\"right\"> 38 </td> <td> FECCTCb </td> <td align=\"right\"> 180 </td> <td align=\"right\"> 1200 </td> <td align=\"right\">  </td> <td align=\"right\"> 274 </td> <td align=\"right\"> 0.00 </td> </tr>  <tr> <td align=\"right\"> 12 </td> <td> Bernard-Marty (2003) NA </td> <td>  </td> <td align=\"right\"> 73 </td> <td> CMF </td> <td align=\"right\">  </td> <td align=\"right\">  </td> <td align=\"right\">  </td> <td align=\"right\"> 255 </td> <td align=\"right\"> 0.00 </td> </tr>  <tr> <td align=\"right\"> 13 </td> <td> Bernard-Marty (2003) NA </td> <td>  </td> <td align=\"right\"> 73 </td> <td> EC </td> <td align=\"right\"> 480 </td> <td align=\"right\"> 4000 </td> <td align=\"right\">  </td> <td align=\"right\"> 267 </td> <td align=\"right\"> 0.00 </td> </tr>  <tr> <td align=\"right\"> 14 </td> <td> Bernard-Marty (2003) NA </td> <td>  </td> <td align=\"right\"> 73 </td> <td> EC </td> <td align=\"right\"> 800 </td> <td align=\"right\"> 6640 </td> <td align=\"right\">  </td> <td align=\"right\"> 255 </td> <td align=\"right\"> 1.60 </td> </tr>  <tr> <td align=\"right\"> 15 </td> <td> Citron (2003) Intergroup C9741 </td> <td>  </td> <td align=\"right\"> 36 </td> <td> A-T-C </td> <td align=\"right\"> 240 </td> <td align=\"right\"> 2400 </td> <td align=\"right\"> 700 </td> <td align=\"right\"> 484 </td> <td align=\"right\"> 1.10 </td> </tr>  <tr> <td align=\"right\"> 16 </td> <td> Citron (2003) Intergroup C9741 </td> <td>  </td> <td align=\"right\"> 36 </td> <td> A-T-C </td> <td align=\"right\"> 240 </td> <td align=\"right\"> 2400 </td> <td align=\"right\"> 700 </td> <td align=\"right\"> 493 </td> <td align=\"right\"> 1.70 </td> </tr>  <tr> <td align=\"right\"> 17 </td> <td> Citron (2003) Intergroup C9741 </td> <td>  </td> <td align=\"right\"> 36 </td> <td> AC-T </td> <td align=\"right\"> 240 </td> <td align=\"right\"> 2400 </td> <td align=\"right\"> 700 </td> <td align=\"right\"> 501 </td> <td align=\"right\"> 2.20 </td> </tr>  <tr> <td align=\"right\"> 18 </td> <td> Citron (2003) Intergroup C9741 </td> <td>  </td> <td align=\"right\"> 36 </td> <td> AC-T </td> <td align=\"right\"> 240 </td> <td align=\"right\"> 2400 </td> <td align=\"right\"> 700 </td> <td align=\"right\"> 495 </td> <td align=\"right\"> 1.10 </td> </tr>  <tr> <td align=\"right\"> 19 </td> <td> Venturini (2005) NA </td> <td>  </td> <td align=\"right\"> 125 </td> <td> FEC </td> <td align=\"right\"> 360 </td> <td align=\"right\"> 3600 </td> <td align=\"right\">  </td> <td align=\"right\"> 604 </td> <td align=\"right\"> 0.00 </td> </tr>  <tr> <td align=\"right\"> 20 </td> <td> Venturini (2005) NA </td> <td>  </td> <td align=\"right\"> 125 </td> <td> FEC </td> <td align=\"right\"> 360 </td> <td align=\"right\"> 3600 </td> <td align=\"right\">  </td> <td align=\"right\"> 610 </td> <td align=\"right\"> 0.00 </td> </tr>  <tr> <td align=\"right\"> 21 </td> <td> Francis (2008) BIG 02-98 </td> <td>  </td> <td align=\"right\"> 62 </td> <td> A-CMF </td> <td align=\"right\"> 300 </td> <td align=\"right\">  </td> <td align=\"right\">  </td> <td align=\"right\"> 481 </td> <td align=\"right\">  </td> </tr>  <tr> <td align=\"right\"> 22 </td> <td> Francis (2008) BIG 02-98 </td> <td>  </td> <td align=\"right\"> 62 </td> <td> AC-CMF </td> <td align=\"right\"> 240 </td> <td align=\"right\"> 2400 </td> <td align=\"right\">  </td> <td align=\"right\"> 847 </td> <td align=\"right\">  </td> </tr>  <tr> <td align=\"right\"> 23 </td> <td> Francis (2008) BIG 02-98 </td> <td>  </td> <td align=\"right\"> 62 </td> <td> A-T-CMF </td> <td align=\"right\"> 225 </td> <td align=\"right\">  </td> <td align=\"right\"> 300 </td> <td align=\"right\"> 960 </td> <td align=\"right\">  </td> </tr>  <tr> <td align=\"right\"> 24 </td> <td> Francis (2008) BIG 02-98 </td> <td>  </td> <td align=\"right\"> 62 </td> <td> AT-CMF </td> <td align=\"right\"> 200 </td> <td align=\"right\">  </td> <td align=\"right\"> 300 </td> <td align=\"right\"> 959 </td> <td align=\"right\">  </td> </tr>  <tr> <td align=\"right\"> 25 </td> <td> Goldstein (2008) Intergroup E2197 </td> <td>  </td> <td align=\"right\"> 80 </td> <td> AT </td> <td align=\"right\"> 240 </td> <td align=\"right\">  </td> <td align=\"right\"> 240 </td> <td align=\"right\"> 1441 </td> <td align=\"right\"> 0.61 </td> </tr>  <tr> <td align=\"right\"> 26 </td> <td> Goldstein (2008) Intergroup E2197 </td> <td>  </td> <td align=\"right\"> 80 </td> <td> AC </td> <td align=\"right\"> 240 </td> <td align=\"right\"> 2400 </td> <td align=\"right\">  </td> <td align=\"right\"> 1441 </td> <td align=\"right\"> 0.61 </td> </tr>  <tr> <td align=\"right\"> 27 </td> <td> Martin (2010) GEICAM 9805 </td> <td>  </td> <td align=\"right\"> 77 </td> <td> TAC </td> <td align=\"right\"> 300 </td> <td align=\"right\"> 3000 </td> <td align=\"right\"> 450 </td> <td align=\"right\"> 539 </td> <td align=\"right\">  </td> </tr>  <tr> <td align=\"right\"> 28 </td> <td> Martin (2010) GEICAM 9805 </td> <td>  </td> <td align=\"right\"> 77 </td> <td> FAC </td> <td align=\"right\"> 300 </td> <td align=\"right\"> 3000 </td> <td align=\"right\">  </td> <td align=\"right\"> 521 </td> <td align=\"right\">  </td> </tr>  <tr> <td align=\"right\"> 29 </td> <td> Vici (2012) GIOM 9902 </td> <td>  </td> <td align=\"right\"> 64 </td> <td> EC </td> <td align=\"right\"> 480 </td> <td align=\"right\"> 2400 </td> <td align=\"right\">  </td> <td align=\"right\"> 360 </td> <td align=\"right\"> 0.00 </td> </tr>  <tr> <td align=\"right\"> 30 </td> <td> Vici (2012) GIOM 9902 </td> <td>  </td> <td align=\"right\"> 64 </td> <td> T-EC </td> <td align=\"right\"> 480 </td> <td align=\"right\"> 2400 </td> <td align=\"right\"> 400 </td> <td align=\"right\"> 368 </td> <td align=\"right\"> 0.00 </td> </tr>  <tr> <td align=\"right\"> 31 </td> <td> Henderson (2003) NA </td> <td>  </td> <td align=\"right\"> 69 </td> <td> AC </td> <td align=\"right\"> 300 </td> <td align=\"right\"> 2400 </td> <td align=\"right\">  </td> <td align=\"right\"> 1551 </td> <td align=\"right\"> 0.75 </td> </tr>  <tr> <td align=\"right\"> 32 </td> <td> Henderson (2003) NA </td> <td>  </td> <td align=\"right\"> 69 </td> <td> AC-T </td> <td align=\"right\"> 300 </td> <td align=\"right\"> 2400 </td> <td align=\"right\">  </td> <td align=\"right\"> 1570 </td> <td align=\"right\"> 0.74 </td> </tr>  <tr> <td align=\"right\"> 33 </td> <td> Fountzilas (2005) NA </td> <td>  </td> <td align=\"right\"> 62 </td> <td> E-T-CMF </td> <td align=\"right\"> 330 </td> <td align=\"right\">  </td> <td align=\"right\"> 750 </td> <td align=\"right\"> 297 </td> <td align=\"right\"> 0.00 </td> </tr>  <tr> <td align=\"right\"> 34 </td> <td> Fountzilas (2005) NA </td> <td>  </td> <td align=\"right\"> 62 </td> <td> E-CMF </td> <td align=\"right\"> 440 </td> <td align=\"right\">  </td> <td align=\"right\">  </td> <td align=\"right\"> 290 </td> <td align=\"right\"> 0.56 </td> </tr>  <tr> <td align=\"right\"> 35 </td> <td> Mamounas (2005) NSABP B-28 </td> <td>  </td> <td align=\"right\"> 65 </td> <td> AC </td> <td align=\"right\"> 240 </td> <td align=\"right\"> 2400 </td> <td align=\"right\">  </td> <td align=\"right\"> 1528 </td> <td align=\"right\"> 0.20 </td> </tr>  <tr> <td align=\"right\"> 36 </td> <td> Mamounas (2005) NSABP B-28 </td> <td>  </td> <td align=\"right\"> 65 </td> <td> AC-T </td> <td align=\"right\"> 240 </td> <td align=\"right\"> 2400 </td> <td align=\"right\"> 900 </td> <td align=\"right\"> 1531 </td> <td align=\"right\"> 0.60 </td> </tr>  <tr> <td align=\"right\"> 37 </td> <td> Roche (2006) PACS 01 </td> <td>  </td> <td align=\"right\"> 60 </td> <td> FEC </td> <td align=\"right\"> 600 </td> <td align=\"right\"> 3000 </td> <td align=\"right\">  </td> <td align=\"right\"> 996 </td> <td align=\"right\"> 0.50 </td> </tr>  <tr> <td align=\"right\"> 38 </td> <td> Roche (2006) PACS 01 </td> <td>  </td> <td align=\"right\"> 60 </td> <td> FEC-T </td> <td align=\"right\"> 300 </td> <td align=\"right\"> 1500 </td> <td align=\"right\"> 300 </td> <td align=\"right\"> 1003 </td> <td align=\"right\"> 0.17 </td> </tr>  <tr> <td align=\"right\"> 39 </td> <td> Fumoleu (2003) FASG 01 </td> <td>  </td> <td align=\"right\"> 131 </td> <td> FEC 50 </td> <td align=\"right\"> 300 </td> <td align=\"right\"> 3000 </td> <td align=\"right\">  </td> <td align=\"right\"> 210 </td> <td align=\"right\"> 0.00 </td> </tr>  <tr> <td align=\"right\"> 40 </td> <td> Fumoleu (2003) FASG 01 </td> <td>  </td> <td align=\"right\"> 131 </td> <td> 3 FEC 50 </td> <td align=\"right\"> 150 </td> <td align=\"right\"> 1500 </td> <td align=\"right\">  </td> <td align=\"right\"> 197 </td> <td align=\"right\"> 0.77 </td> </tr>  <tr> <td align=\"right\"> 41 </td> <td> Fumoleu (2003) FASG 01 </td> <td>  </td> <td align=\"right\"> 131 </td> <td> FEC 75 </td> <td align=\"right\"> 225 </td> <td align=\"right\"> 1500 </td> <td align=\"right\">  </td> <td align=\"right\"> 195 </td> <td align=\"right\"> 0.39 </td> </tr>  <tr> <td align=\"right\"> 42 </td> <td> Fargeot (2004) FASG 08 </td> <td>  </td> <td align=\"right\"> 72 </td> <td> Tamoxifen </td> <td align=\"right\">  </td> <td align=\"right\">  </td> <td align=\"right\">  </td> <td align=\"right\"> 155 </td> <td align=\"right\"> 0.00 </td> </tr>  <tr> <td align=\"right\"> 43 </td> <td> Fargeot (2004) FASG 08 </td> <td>  </td> <td align=\"right\"> 72 </td> <td> EPI-Tam </td> <td align=\"right\"> 540 </td> <td align=\"right\">  </td> <td align=\"right\">  </td> <td align=\"right\"> 163 </td> <td align=\"right\"> 0.00 </td> </tr>  <tr> <td align=\"right\"> 44 </td> <td> Kerbrat (2007) FASG 09 </td> <td>  </td> <td align=\"right\"> 78 </td> <td> FEC </td> <td align=\"right\"> 600 </td> <td align=\"right\"> 3000 </td> <td align=\"right\">  </td> <td align=\"right\"> 235 </td> <td align=\"right\"> 0.55 </td> </tr>  <tr> <td align=\"right\"> 45 </td> <td> Kerbrat (2007) FASG 09 </td> <td>  </td> <td align=\"right\"> 78 </td> <td> E+Vnr </td> <td align=\"right\"> 300 </td> <td align=\"right\">  </td> <td align=\"right\">  </td> <td align=\"right\"> 236 </td> <td align=\"right\"> 0.00 </td> </tr>  <tr> <td align=\"right\"> 46 </td> <td> Wils (1999) ICCG 4-87 </td> <td>  </td> <td align=\"right\"> 58 </td> <td> EPI-Tam </td> <td align=\"right\"> 600 </td> <td align=\"right\">  </td> <td align=\"right\">  </td> <td align=\"right\"> 303 </td> <td align=\"right\"> 1.10 </td> </tr>  <tr> <td align=\"right\"> 47 </td> <td> Wils (1999) ICCG 4-87 </td> <td>  </td> <td align=\"right\"> 58 </td> <td> Tamoxifen </td> <td align=\"right\">  </td> <td align=\"right\">  </td> <td align=\"right\">  </td> <td align=\"right\"> 301 </td> <td align=\"right\"> 0.00 </td> </tr>  <tr> <td align=\"right\"> 48 </td> <td> Coombes (1996) ICCG 6-89/2-84 </td> <td>  </td> <td align=\"right\"> 58 </td> <td> CMF </td> <td align=\"right\">  </td> <td align=\"right\">  </td> <td align=\"right\">  </td> <td align=\"right\"> 180 </td> <td align=\"right\">  </td> </tr>  <tr> <td align=\"right\"> 49 </td> <td> Coombes (1996) ICCG 6-89/2-84 </td> <td>  </td> <td align=\"right\"> 58 </td> <td> CMF </td> <td align=\"right\">  </td> <td align=\"right\">  </td> <td align=\"right\">  </td> <td align=\"right\"> 199 </td> <td align=\"right\">  </td> </tr>  <tr> <td align=\"right\"> 50 </td> <td> Coombes (1996) ICCG 6-89/2-84 </td> <td>  </td> <td align=\"right\"> 58 </td> <td> FEC </td> <td align=\"right\"> 400 </td> <td align=\"right\"> 4800 </td> <td align=\"right\">  </td> <td align=\"right\"> 180 </td> <td align=\"right\">  </td> </tr>  <tr> <td align=\"right\"> 51 </td> <td> Coombes (1996) ICCG 6-89/2-84 </td> <td>  </td> <td align=\"right\"> 58 </td> <td> FEC </td> <td align=\"right\"> 300 </td> <td align=\"right\"> 7200 </td> <td align=\"right\">  </td> <td align=\"right\"> 200 </td> <td align=\"right\">  </td> </tr>  <tr> <td align=\"right\"> 52 </td> <td> Fisher (1997) NSABP B-22 </td> <td>  </td> <td align=\"right\"> 69 </td> <td> AC </td> <td align=\"right\"> 240 </td> <td align=\"right\"> 2400 </td> <td align=\"right\">  </td> <td align=\"right\"> 767 </td> <td align=\"right\"> 0.38 </td> </tr>  <tr> <td align=\"right\"> 53 </td> <td> Fisher (1997) NSABP B-22 </td> <td>  </td> <td align=\"right\"> 69 </td> <td> AC </td> <td align=\"right\"> 240 </td> <td align=\"right\"> 2400 </td> <td align=\"right\">  </td> <td align=\"right\"> 763 </td> <td align=\"right\"> 0.19 </td> </tr>  <tr> <td align=\"right\"> 54 </td> <td> Fisher (1997) NSABP B-22 </td> <td>  </td> <td align=\"right\"> 69 </td> <td> AC </td> <td align=\"right\"> 240 </td> <td align=\"right\"> 4800 </td> <td align=\"right\">  </td> <td align=\"right\"> 771 </td> <td align=\"right\"> 0.56 </td> </tr>  <tr> <td align=\"right\"> 55 </td> <td> Mackey (2013) BCIRG 001 </td> <td>  </td> <td align=\"right\"> 124 </td> <td> TAC </td> <td align=\"right\"> 300 </td> <td align=\"right\"> 3000 </td> <td align=\"right\"> 450 </td> <td align=\"right\"> 745 </td> <td align=\"right\"> 0.65 </td> </tr>  <tr> <td align=\"right\"> 56 </td> <td> Mackey (2013) BCIRG 001 </td> <td>  </td> <td align=\"right\"> 124 </td> <td> FAC </td> <td align=\"right\"> 300 </td> <td align=\"right\"> 3000 </td> <td align=\"right\">  </td> <td align=\"right\"> 746 </td> <td align=\"right\"> 0.22 </td> </tr>  <tr> <td align=\"right\"> 57 </td> <td> Joensuu (2012) FinXX </td> <td>  </td> <td align=\"right\"> 59 </td> <td> TX-CEX </td> <td align=\"right\"> 225 </td> <td align=\"right\"> 1800 </td> <td align=\"right\"> 180 </td> <td align=\"right\"> 751 </td> <td align=\"right\">  </td> </tr>  <tr> <td align=\"right\"> 58 </td> <td> Joensuu (2012) FinXX </td> <td>  </td> <td align=\"right\"> 59 </td> <td> T-FEC </td> <td align=\"right\"> 225 </td> <td align=\"right\"> 1800 </td> <td align=\"right\"> 240 </td> <td align=\"right\"> 745 </td> <td align=\"right\">  </td> </tr>  <tr> <td align=\"right\"> 59 </td> <td> Linden (2007) INT-0137 </td> <td>  </td> <td align=\"right\"> 86 </td> <td> AC </td> <td align=\"right\"> 324 </td> <td align=\"right\"> 7200 </td> <td align=\"right\">  </td> <td align=\"right\"> 1590 </td> <td align=\"right\"> 0.95 </td> </tr>  <tr> <td align=\"right\"> 60 </td> <td> Linden (2007) INT-0137 </td> <td>  </td> <td align=\"right\"> 86 </td> <td> A-C </td> <td align=\"right\"> 324 </td> <td align=\"right\"> 7200 </td> <td align=\"right\">  </td> <td align=\"right\"> 1524 </td> <td align=\"right\"> 1.10 </td> </tr>  <tr> <td align=\"right\"> 61 </td> <td> Bonneterre (2005) FASG 05 </td> <td>  </td> <td align=\"right\"> 110 </td> <td> FEC 50 </td> <td align=\"right\"> 300 </td> <td align=\"right\"> 3000 </td> <td align=\"right\">  </td> <td align=\"right\"> 271 </td> <td align=\"right\"> 0.34 </td> </tr>  <tr> <td align=\"right\"> 62 </td> <td> Bonneterre (2005) FASG 05 </td> <td>  </td> <td align=\"right\"> 110 </td> <td> FEC 100 </td> <td align=\"right\"> 600 </td> <td align=\"right\"> 3000 </td> <td align=\"right\">  </td> <td align=\"right\"> 266 </td> <td align=\"right\"> 0.34 </td> </tr>  <tr> <td align=\"right\"> 63 </td> <td> Colleoni (2009) IBCSG 15-95 </td> <td>  </td> <td align=\"right\"> 100 </td> <td> AC-CMF </td> <td align=\"right\"> 300 </td> <td align=\"right\"> 2400 </td> <td align=\"right\">  </td> <td align=\"right\"> 171 </td> <td align=\"right\">  </td> </tr>  <tr> <td align=\"right\"> 64 </td> <td> Colleoni (2009) IBCSG 15-95 </td> <td>  </td> <td align=\"right\"> 100 </td> <td> EC </td> <td align=\"right\"> 600 </td> <td align=\"right\">  </td> <td align=\"right\">  </td> <td align=\"right\"> 173 </td> <td align=\"right\">  </td> </tr>  <tr> <td align=\"right\"> 65 </td> <td> Eiermann (2011) BCIRG 005 </td> <td>  </td> <td align=\"right\"> 65 </td> <td> AC-T </td> <td align=\"right\"> 240 </td> <td align=\"right\"> 2400 </td> <td align=\"right\"> 400 </td> <td align=\"right\"> 1649 </td> <td align=\"right\"> 0.19 </td> </tr>  <tr> <td align=\"right\"> 66 </td> <td> Eiermann (2011) BCIRG 005 </td> <td>  </td> <td align=\"right\"> 65 </td> <td> TAC </td> <td align=\"right\"> 300 </td> <td align=\"right\"> 3000 </td> <td align=\"right\"> 450 </td> <td align=\"right\"> 1649 </td> <td align=\"right\"> 0.37 </td> </tr>  <tr> <td align=\"right\"> 67 </td> <td> Fisher (2001) NSABP B-23 </td> <td>  </td> <td align=\"right\"> 60 </td> <td> CMF </td> <td align=\"right\">  </td> <td align=\"right\">  </td> <td align=\"right\">  </td> <td align=\"right\"> 498 </td> <td align=\"right\">  </td> </tr>  <tr> <td align=\"right\"> 68 </td> <td> Fisher (2001) NSABP B-23 </td> <td>  </td> <td align=\"right\"> 60 </td> <td> CMF-Tam </td> <td align=\"right\">  </td> <td align=\"right\">  </td> <td align=\"right\">  </td> <td align=\"right\"> 496 </td> <td align=\"right\">  </td> </tr>  <tr> <td align=\"right\"> 69 </td> <td> Fisher (2001) NSABP B-23 </td> <td>  </td> <td align=\"right\"> 60 </td> <td> AC </td> <td align=\"right\"> 240 </td> <td align=\"right\"> 2400 </td> <td align=\"right\">  </td> <td align=\"right\"> 494 </td> <td align=\"right\">  </td> </tr>  <tr> <td align=\"right\"> 70 </td> <td> Fisher (2001) NSABP B-23 </td> <td>  </td> <td align=\"right\"> 60 </td> <td> AC-Tam </td> <td align=\"right\"> 240 </td> <td align=\"right\"> 2400 </td> <td align=\"right\">  </td> <td align=\"right\"> 494 </td> <td align=\"right\">  </td> </tr>  <tr> <td align=\"right\"> 71 </td> <td> Martin (2013) GEICAM 2003-02 </td> <td>  </td> <td align=\"right\"> 63 </td> <td> FAC-T </td> <td align=\"right\"> 200 </td> <td align=\"right\"> 2000 </td> <td align=\"right\"> 800 </td> <td align=\"right\"> 951 </td> <td align=\"right\"> 0.17 </td> </tr>  <tr> <td align=\"right\"> 72 </td> <td> Martin (2013) GEICAM 2003-02 </td> <td>  </td> <td align=\"right\"> 63 </td> <td> FAC </td> <td align=\"right\"> 300 </td> <td align=\"right\"> 3000 </td> <td align=\"right\">  </td> <td align=\"right\"> 974 </td> <td align=\"right\"> 0.32 </td> </tr>  <tr> <td align=\"right\"> 73 </td> <td> Moore (2007) SWOG 9623 </td> <td>  </td> <td align=\"right\"> 70 </td> <td> ACT </td> <td align=\"right\"> 240 </td> <td align=\"right\"> 900 </td> <td align=\"right\"> 600 </td> <td align=\"right\"> 271 </td> <td align=\"right\"> 1.10 </td> </tr>  <tr> <td align=\"right\"> 74 </td> <td> Moore (2007) SWOG 9623 </td> <td>  </td> <td align=\"right\"> 70 </td> <td> AC </td> <td align=\"right\"> 320 </td> <td align=\"right\"> 2400 </td> <td align=\"right\">  </td> <td align=\"right\"> 265 </td> <td align=\"right\"> 1.60 </td> </tr>  <tr> <td align=\"right\"> 75 </td> <td> Roche (2006) FASG 06 </td> <td>  </td> <td align=\"right\"> 83 </td> <td> Tamoxifen </td> <td align=\"right\">  </td> <td align=\"right\">  </td> <td align=\"right\">  </td> <td align=\"right\"> 163 </td> <td align=\"right\"> 0.00 </td> </tr>  <tr> <td align=\"right\"> 76 </td> <td> Roche (2006) FASG 06 </td> <td>  </td> <td align=\"right\"> 83 </td> <td> FEC </td> <td align=\"right\"> 300 </td> <td align=\"right\"> 3000 </td> <td align=\"right\">  </td> <td align=\"right\"> 168 </td> <td align=\"right\"> 0.72 </td> </tr>  <tr> <td align=\"right\"> 77 </td> <td> Perez (2011) NCCTG N9831 </td> <td>  </td> <td align=\"right\">  </td> <td> AC-T </td> <td align=\"right\">  </td> <td align=\"right\">  </td> <td align=\"right\">  </td> <td align=\"right\">  </td> <td align=\"right\">  </td> </tr>  <tr> <td align=\"right\"> 78 </td> <td> Perez (2011) NCCTG N9831 </td> <td>  </td> <td align=\"right\">  </td> <td> AC-T+Trast </td> <td align=\"right\">  </td> <td align=\"right\">  </td> <td align=\"right\">  </td> <td align=\"right\">  </td> <td align=\"right\">  </td> </tr>  <tr> <td align=\"right\"> 79 </td> <td> Perez (2011) NCCTG N9831 </td> <td>  </td> <td align=\"right\">  </td> <td> AC-T-Trast </td> <td align=\"right\">  </td> <td align=\"right\">  </td> <td align=\"right\">  </td> <td align=\"right\">  </td> <td align=\"right\">  </td> </tr>  <tr> <td align=\"right\"> 80 </td> <td> Romond (2005) NSABP B-31 &amp; N9831 </td> <td>  </td> <td align=\"right\"> 29 </td> <td> AC-T </td> <td align=\"right\"> 240 </td> <td align=\"right\"> 2400 </td> <td align=\"right\"> 700 </td> <td align=\"right\"> 872 </td> <td align=\"right\">  </td> </tr>  <tr> <td align=\"right\"> 81 </td> <td> Romond (2005) NSABP B-31 &amp; N9831 </td> <td>  </td> <td align=\"right\"> 29 </td> <td> ACT-T-Trast </td> <td align=\"right\"> 240 </td> <td align=\"right\"> 2400 </td> <td align=\"right\"> 700 </td> <td align=\"right\"> 864 </td> <td align=\"right\">  </td> </tr>  <tr> <td align=\"right\"> 82 </td> <td> Shulman (2014) CALGB 40101 </td> <td>  </td> <td align=\"right\"> 73 </td> <td> AC </td> <td align=\"right\"> 240 </td> <td align=\"right\"> 2400 </td> <td align=\"right\">  </td> <td align=\"right\"> 1107 </td> <td align=\"right\"> 0.12 </td> </tr>  <tr> <td align=\"right\"> 83 </td> <td> Shulman (2014) CALGB 40101 </td> <td>  </td> <td align=\"right\"> 73 </td> <td> AC </td> <td align=\"right\"> 360 </td> <td align=\"right\"> 3600 </td> <td align=\"right\">  </td> <td align=\"right\"> 766 </td> <td align=\"right\"> 0.89 </td> </tr>  <tr> <td align=\"right\"> 84 </td> <td> Shulman (2014) CALGB 40101 </td> <td>  </td> <td align=\"right\"> 73 </td> <td> T </td> <td align=\"right\">  </td> <td align=\"right\">  </td> <td align=\"right\"> 320 </td> <td align=\"right\"> 1119 </td> <td align=\"right\"> 0.00 </td> </tr>  <tr> <td align=\"right\"> 85 </td> <td> Shulman (2014) CALGB 40101 </td> <td>  </td> <td align=\"right\"> 73 </td> <td> T </td> <td align=\"right\">  </td> <td align=\"right\">  </td> <td align=\"right\"> 480 </td> <td align=\"right\"> 782 </td> <td align=\"right\"> 0.00 </td> </tr>  <tr> <td align=\"right\"> 86 </td> <td> Swain (2013) NSABP B-38 </td> <td>  </td> <td align=\"right\"> 64 </td> <td> ACT </td> <td align=\"right\"> 300 </td> <td align=\"right\"> 3000 </td> <td align=\"right\"> 450 </td> <td align=\"right\"> 1617 </td> <td align=\"right\"> 0.48 </td> </tr>  <tr> <td align=\"right\"> 87 </td> <td> Swain (2013) NSABP B-38 </td> <td>  </td> <td align=\"right\"> 64 </td> <td> AC-T </td> <td align=\"right\"> 240 </td> <td align=\"right\"> 2400 </td> <td align=\"right\"> 700 </td> <td align=\"right\"> 1624 </td> <td align=\"right\"> 0.77 </td> </tr>  <tr> <td align=\"right\"> 88 </td> <td> Swain (2013) NSABP B-38 </td> <td>  </td> <td align=\"right\"> 64 </td> <td> AC-TG </td> <td align=\"right\"> 240 </td> <td align=\"right\"> 2400 </td> <td align=\"right\"> 700 </td> <td align=\"right\"> 1618 </td> <td align=\"right\"> 1.10 </td> </tr>  <tr> <td align=\"right\"> 89 </td> <td> Del Mastro (2015) NA </td> <td>  </td> <td align=\"right\"> 84 </td> <td> EC-T </td> <td align=\"right\"> 360 </td> <td align=\"right\"> 2400 </td> <td align=\"right\"> 700 </td> <td align=\"right\"> 545 </td> <td align=\"right\">  </td> </tr>  <tr> <td align=\"right\"> 90 </td> <td> Del Mastro (2015) NA </td> <td>  </td> <td align=\"right\"> 84 </td> <td> FEC-T </td> <td align=\"right\"> 360 </td> <td align=\"right\"> 2400 </td> <td align=\"right\"> 700 </td> <td align=\"right\"> 544 </td> <td align=\"right\">  </td> </tr>  <tr> <td align=\"right\"> 91 </td> <td> Del Mastro (2015) NA </td> <td>  </td> <td align=\"right\"> 84 </td> <td> EC-T </td> <td align=\"right\"> 360 </td> <td align=\"right\"> 2400 </td> <td align=\"right\"> 700 </td> <td align=\"right\"> 502 </td> <td align=\"right\">  </td> </tr>  <tr> <td align=\"right\"> 92 </td> <td> Del Mastro (2015) NA </td> <td>  </td> <td align=\"right\"> 84 </td> <td> FEC-T </td> <td align=\"right\"> 360 </td> <td align=\"right\"> 2400 </td> <td align=\"right\"> 700 </td> <td align=\"right\"> 500 </td> <td align=\"right\">  </td> </tr>  <tr> <td align=\"right\"> 93 </td> <td> Nitz (2014 NA </td> <td>  </td> <td align=\"right\"> 59 </td> <td> EC-T </td> <td align=\"right\"> 360 </td> <td align=\"right\"> 2400 </td> <td align=\"right\"> 400 </td> <td align=\"right\"> 978 </td> <td align=\"right\"> 0.35 </td> </tr>  <tr> <td align=\"right\"> 94 </td> <td> Nitz (2014 NA </td> <td>  </td> <td align=\"right\"> 59 </td> <td> FEC </td> <td align=\"right\"> 600 </td> <td align=\"right\"> 3000 </td> <td align=\"right\">  </td> <td align=\"right\"> 795 </td> <td align=\"right\"> 0.00 </td> </tr>  <tr> <td align=\"right\"> 95 </td> <td> Nitz (2014 NA </td> <td>  </td> <td align=\"right\"> 59 </td> <td> CMF </td> <td align=\"right\">  </td> <td align=\"right\">  </td> <td align=\"right\">  </td> <td align=\"right\"> 177 </td> <td align=\"right\"> 0.00 </td> </tr>  <tr> <td align=\"right\"> 96 </td> <td> Wolmark, 2001 NSABP B-18 </td> <td>  </td> <td align=\"right\"> 108 </td> <td> AC </td> <td align=\"right\"> 240 </td> <td align=\"right\"> 2400 </td> <td align=\"right\">  </td> <td align=\"right\"> 751 </td> <td align=\"right\">  </td> </tr>  <tr> <td align=\"right\"> 97 </td> <td> Wolmark, 2001 NSABP B-18 </td> <td>  </td> <td align=\"right\"> 108 </td> <td> Neo-AC </td> <td align=\"right\"> 240 </td> <td align=\"right\"> 2400 </td> <td align=\"right\">  </td> <td align=\"right\"> 742 </td> <td align=\"right\">  </td> </tr>   </table>"
      ]
     },
     "metadata": {},
     "output_type": "display_data"
    }
   ],
   "source": [
    "library(xlsx)\n",
    "library(IRdisplay)\n",
    "library(xtable)\n",
    "T <- D[,\n",
    "       .(study = paste(authorYear, trial),\n",
    "         country = NA,\n",
    "         medianFU = round(medianFU),\n",
    "         regimen,\n",
    "         anthrCumulDose = round(anthracyclineCumulDose),\n",
    "         cycloCumulaDose = round(cyclophosphamideCumulDose),\n",
    "         taxaneCumulDose = round(taxaneCumulDose),\n",
    "         nITT,\n",
    "         incidenceAMLOrMDS = signif(malAMLOrMDSTotal / (nITT * medianFU) * 10000, digits=2))]\n",
    "write.xlsx(T,\n",
    "           \"appendixTableStudyCharacteristicsAndOutcomes.xlsx\",\n",
    "           row.names=FALSE,\n",
    "           showNA=FALSE)\n",
    "file.info(\"appendixTableStudyCharacteristicsAndOutcomes.xlsx\")\n",
    "T <- xtable(T, digits=c(rep(0, ncol(T)), 2))\n",
    "display_html(paste(capture.output(print(T, type = 'html')), collapse=\"\", sep=\"\"))"
   ]
  }
 ],
 "metadata": {
  "kernelspec": {
   "display_name": "R",
   "language": "R",
   "name": "ir"
  },
  "language_info": {
   "codemirror_mode": "r",
   "file_extension": ".r",
   "mimetype": "text/x-r-source",
   "name": "R",
   "pygments_lexer": "r",
   "version": "3.2.2"
  }
 },
 "nbformat": 4,
 "nbformat_minor": 0
}
